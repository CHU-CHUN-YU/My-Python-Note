{
 "cells": [
  {
   "cell_type": "markdown",
   "metadata": {},
   "source": [
    "【臺北大學】Python程式設計<br>\n",
    "【授課老師】[陳祥輝 (Email : HsiangHui.Chen@gmail.com)](mailto:HsiangHui.Chen@gmail.com)<br>\n",
    "【facebook】[陳祥輝老師的臉書 (歡迎加好友)](https://goo.gl/osivhx)<br>\n",
    "【參考書籍】[從零開始學Python程式設計（適用Python 3.5以上）](http://www.drmaster.com.tw/Bookinfo.asp?BookID=MP31821)<br>\n",
    "【主要議題】讀、寫檔案與匯入、匯出資料檔案"
   ]
  },
  {
   "cell_type": "markdown",
   "metadata": {},
   "source": [
    "【重點提要】\n",
    "1. os module\n",
    "2. glob module\n",
    "3. 基本的純文字檔open/read/write/close\n",
    "4. 序列檔案的讀、寫 pickle\n",
    "5. 匯入/匯出 csv 檔案格式\n",
    "    * 使用 pandas module，讀入 DataFrame\n",
    "6. 匯入/匯出 excel 檔案格式 (使用 pandas & csv module)"
   ]
  },
  {
   "cell_type": "markdown",
   "metadata": {},
   "source": [
    "### <font color=#0000FF>ODBC的下載與安裝</font>\n",
    "* [下載 ODBC Driver for SQL Server](https://docs.microsoft.com/zh-tw/sql/connect/odbc/download-odbc-driver-for-sql-server?view=sql-server-2017)\n",
    "* [Microsoft® ODBC Driver 17 for SQL Server® - Windows, Linux, & macOS](https://www.microsoft.com/en-us/download/details.aspx?id=56567)\n",
    "\n",
    "### <font color=#0000FF>安裝pymssql</font>\n",
    "* pip install pymssql"
   ]
  },
  {
   "cell_type": "code",
   "execution_count": 1,
   "metadata": {
    "scrolled": true
   },
   "outputs": [
    {
     "name": "stdout",
     "output_type": "stream",
     "text": [
      "【日期時間】2019/06/16 09:46:51\n",
      "【工作目錄】E:\\annie\\3下課程\\MyPython\n",
      "【主機名稱】LAPTOP-7TNGIFIP (127.0.0.1)\n"
     ]
    }
   ],
   "source": [
    "# -*- coding: utf-8 -*-\n",
    "\n",
    "import os, time, glob, pickle, socket\n",
    "\n",
    "print(\"【日期時間】{}\".format(time.strftime(\"%Y/%m/%d %H:%M:%S\")))\n",
    "print(\"【工作目錄】{}\".format(os.getcwd()))\n",
    "print(\"【主機名稱】{} ({})\".format(socket.gethostname(),socket.gethostbyname(socket.gethostname())))"
   ]
  },
  {
   "cell_type": "code",
   "execution_count": 2,
   "metadata": {
    "scrolled": false
   },
   "outputs": [
    {
     "name": "stdout",
     "output_type": "stream",
     "text": [
      "+0800 Sun Sunday Jun June Sun Jun 16 09:47:04 2019 09 AM\n"
     ]
    }
   ],
   "source": [
    "print(time.strftime('%z %a %A %b %B %c %I %p')) #記得import"
   ]
  },
  {
   "cell_type": "markdown",
   "metadata": {},
   "source": [
    "#### time.strftime()\n",
    "* %Y : Year with century as a decimal number.\n",
    "* %m : Month as a decimal number [01,12].\n",
    "* %d : Day of the month as a decimal number [01,31].\n",
    "* %H : Hour (24-hour clock) as a decimal number [00,23].\n",
    "* %M : Minute as a decimal number [00,59].\n",
    "* %S : Second as a decimal number [00,61].\n",
    "---\n",
    "* %z : Time zone offset from UTC.\n",
    "* %a : Locale's abbreviated weekday name.\n",
    "* %A : Locale's full weekday name.\n",
    "* %b : Locale's abbreviated month name.\n",
    "* %B : Locale's full month name.\n",
    "* %c : Locale's appropriate date and time representation.\n",
    "* %I : Hour (12-hour clock) as a decimal number [01,12].\n",
    "* %p : Locale's equivalent of either AM or PM."
   ]
  },
  {
   "cell_type": "markdown",
   "metadata": {},
   "source": [
    "### <font color=#0000FF>os 模組</font>\n",
    "* os.getcwd()\n",
    "* os.chdir(path)\n",
    "* os.path.exists(path)\n",
    "* os.mkdir(path)\n",
    "* os.makedirs(name)\n",
    "* os.remove(path)\n",
    "* os.removedirs()"
   ]
  },
  {
   "cell_type": "code",
   "execution_count": 3,
   "metadata": {
    "scrolled": true
   },
   "outputs": [],
   "source": [
    "import os"
   ]
  },
  {
   "cell_type": "code",
   "execution_count": 4,
   "metadata": {
    "scrolled": true
   },
   "outputs": [
    {
     "data": {
      "text/plain": [
       "'E:\\\\annie\\\\3下課程\\\\MyPython'"
      ]
     },
     "execution_count": 4,
     "metadata": {},
     "output_type": "execute_result"
    }
   ],
   "source": [
    "os.getcwd() #現在的位置"
   ]
  },
  {
   "cell_type": "code",
   "execution_count": null,
   "metadata": {
    "scrolled": true
   },
   "outputs": [],
   "source": [
    "#os.chdir(\"C:\\\\Data\") #換新的路徑"
   ]
  },
  {
   "cell_type": "code",
   "execution_count": null,
   "metadata": {
    "scrolled": true
   },
   "outputs": [],
   "source": [
    "#os.chdir(\"C:/Data\")"
   ]
  },
  {
   "cell_type": "code",
   "execution_count": null,
   "metadata": {
    "scrolled": true
   },
   "outputs": [],
   "source": [
    "#os.chdir(r\"C:\\Data\") \n",
    "# r : raw string \n",
    "# b : byte \n",
    "# u : unicode\n",
    "# raw string : 代表後面的字串中每一個都是一般字元，沒有特殊字元，像 \\ 就是特殊字元，跳脫字元(escape character)\n",
    "# 加 r 只要一個 \\"
   ]
  },
  {
   "cell_type": "markdown",
   "metadata": {
    "collapsed": true
   },
   "source": [
    "### <font color=#0000FF>glob 模組 — Unix style pathname pattern expansion</font>\n",
    "* glob.glob(pathname, *, recursive=False)\n",
    "    * If recursive is true, the pattern '**' will match any files and zero or more directories and subdirectories."
   ]
  },
  {
   "cell_type": "code",
   "execution_count": 5,
   "metadata": {
    "scrolled": true
   },
   "outputs": [],
   "source": [
    "import glob"
   ]
  },
  {
   "cell_type": "code",
   "execution_count": 9,
   "metadata": {
    "scrolled": true
   },
   "outputs": [
    {
     "name": "stdout",
     "output_type": "stream",
     "text": [
      "37\n"
     ]
    },
    {
     "data": {
      "text/plain": [
       "['E:\\\\annie\\\\3下課程\\\\MyPython\\\\PyImages\\\\水果\\\\水果05.jpg',\n",
       " 'E:\\\\annie\\\\3下課程\\\\MyPython\\\\PyImages\\\\水果\\\\水果06.jpg',\n",
       " 'E:\\\\annie\\\\3下課程\\\\MyPython\\\\PyImages\\\\水果\\\\水果07.jpg',\n",
       " 'E:\\\\annie\\\\3下課程\\\\MyPython\\\\PyImages\\\\水果\\\\水果08.jpg',\n",
       " 'E:\\\\annie\\\\3下課程\\\\MyPython\\\\PyImages\\\\水果\\\\水果09.jpg',\n",
       " 'E:\\\\annie\\\\3下課程\\\\MyPython\\\\PyImages\\\\水果\\\\水果10.jpg',\n",
       " 'E:\\\\annie\\\\3下課程\\\\MyPython\\\\PyImages\\\\水果\\\\水果12.jpg',\n",
       " 'E:\\\\annie\\\\3下課程\\\\MyPython\\\\PyImages\\\\蔬菜水果\\\\蔬菜水果01.jpg',\n",
       " 'E:\\\\annie\\\\3下課程\\\\MyPython\\\\PyImages\\\\蔬菜水果\\\\蔬菜水果02.jpg',\n",
       " 'E:\\\\annie\\\\3下課程\\\\MyPython\\\\PyImages\\\\蔬菜水果\\\\蔬菜水果03.jpg',\n",
       " 'E:\\\\annie\\\\3下課程\\\\MyPython\\\\PyImages\\\\蔬菜水果\\\\蔬菜水果04.jpg']"
      ]
     },
     "execution_count": 9,
     "metadata": {},
     "output_type": "execute_result"
    }
   ],
   "source": [
    "path = r\"E:\\annie\\3下課程\\MyPython\\PyImages\"\n",
    "files = glob.glob(path + r\"\\**\\*.jpg\", recursive=True) \n",
    "\n",
    "#**glob獨用 \n",
    "#recursive=True 就繼續往下讀取--png就繼續\n",
    "#pattern : regular expression (正規表示式 or 正則表示式)\n",
    "\n",
    "\n",
    "print(len(files))\n",
    "files[10:21]"
   ]
  },
  {
   "cell_type": "markdown",
   "metadata": {},
   "source": [
    "### <font color=#0000FF>基本的純文字檔open/read/write/close</font>"
   ]
  },
  {
   "cell_type": "markdown",
   "metadata": {},
   "source": [
    "檔案的模式(mode) :\n",
    "\n",
    "1. r : read only (唯獨) \n",
    "2. w : write (寫入)\n",
    "3. a : append (附加資料)\n",
    "---\n",
    "4. t : text mode (文字模式)\n",
    "5. b : binary mode (二進位模式)"
   ]
  },
  {
   "cell_type": "code",
   "execution_count": 9,
   "metadata": {
    "scrolled": true
   },
   "outputs": [],
   "source": [
    "os.chdir(r\"E:\\annie\\3下課程\\MyPython\")   #換路徑  #記得import #有 r \\ ---沒有 r\\\\"
   ]
  },
  {
   "cell_type": "code",
   "execution_count": 56,
   "metadata": {
    "scrolled": true
   },
   "outputs": [],
   "source": [
    "os.chdir(r\"E:\\annie\\3下課程\\MyPython\")\n",
    "outf = open(file=\"test.txt\", mode=\"at\")  # mode : a 會不斷附加資料到檔案的最後面\n",
    "                                         #t :    text mode (文字模式)  \n",
    "outf.write(\"Hello Python 101\\n\")\n",
    "outf.write(\"Hello Python 102\\n\")\n",
    "outf.write(\"Hello Python 103\\n\")         # 寫入\n",
    "outf.flush()                             # 強制將 buffer (緩衝區) 內的資料寫入硬碟\n",
    "outf.close()"
   ]
  },
  {
   "cell_type": "code",
   "execution_count": 10,
   "metadata": {
    "scrolled": true
   },
   "outputs": [],
   "source": [
    "#新增一個 TEXT2.TXT 內容如下\n",
    "outf = open(file=\"test2.txt\", mode=\"at\")  # mode : a 會不斷附加資料到檔案的最後面\n",
    "outf.write(\"Hello Python 101\\n\")          # t :    text mode (文字模式) \n",
    "outf.write(\"Hello Python 102\\n\")\n",
    "outf.write(\"Hello Python 103\\n\")\n",
    "outf.flush()                             # 強制將 buffer (緩衝區) 內的資料寫入硬碟\n",
    "outf.close()"
   ]
  },
  {
   "cell_type": "code",
   "execution_count": 12,
   "metadata": {
    "scrolled": true
   },
   "outputs": [],
   "source": [
    "ou = open(file=\"test3.txt\", mode=\"at\")  # mode : a 會不斷附加資料到檔案的最後面\n",
    "                                        #t :    text mode (文字模式) \n",
    "ou.write(\"Hello Python 101\\n\")          #ou 是自己命名的\n",
    "ou.write(\"Hello Python 102\\n\")\n",
    "ou.write(\"Hello Python 103\\n\")\n",
    "ou.flush()                             # 強制將 buffer (緩衝區) 內的資料寫入硬碟\n",
    "ou.close()"
   ]
  },
  {
   "cell_type": "markdown",
   "metadata": {},
   "source": [
    " <font color=#0000FF>整篇文章逐行讀入</font>"
   ]
  },
  {
   "cell_type": "code",
   "execution_count": 24,
   "metadata": {
    "scrolled": false
   },
   "outputs": [
    {
     "name": "stdout",
     "output_type": "stream",
     "text": [
      "Hello Python 101\n",
      "Hello Python 102\n",
      "Hello Python 103\n",
      "<class 'str'>\n"
     ]
    }
   ],
   "source": [
    "inpf = open(file=\"test.txt\", mode=\"rt\") # inpf是自己另的 \n",
    "                                        # r : read only (唯獨) \n",
    "                                        # t : text mode (文字模式)\n",
    "\n",
    "msg = inpf.readline()      #先讀第一行  #一行 一行讀  #readline()--從文件中讀取整行,包括\"\\n\"\n",
    "while msg != \"\" :          #判斷(哪一行不是空的=有東西)\n",
    "    print(msg, end=\"\")     #就印出來  遇到 \"\" end\n",
    "    msg = inpf.readline()   #獨第二航\n",
    "    \n",
    "inpf.close()\n",
    "\n",
    "print(type(msg))"
   ]
  },
  {
   "cell_type": "markdown",
   "metadata": {},
   "source": [
    " <font color=#0000FF>整篇文章讀進來成為一個 str</font>"
   ]
  },
  {
   "cell_type": "code",
   "execution_count": 25,
   "metadata": {
    "scrolled": false
   },
   "outputs": [
    {
     "name": "stdout",
     "output_type": "stream",
     "text": [
      "Hello Python 101\n",
      "Hello Python 102\n",
      "Hello Python 103\n",
      "\n",
      "<class 'str'>\n"
     ]
    }
   ],
   "source": [
    "inpf = open(file=\"test.txt\", mode=\"rt\") # inpf是自己另的 \n",
    "                                        # r : read only (唯獨) \n",
    "                                        # t : text mode (文字模式)\n",
    "\n",
    "msg = inpf.read()  #一次讀全部\n",
    "print(msg)\n",
    "print(type(msg))    #是str\n",
    "\n",
    "inpf.close()"
   ]
  },
  {
   "cell_type": "markdown",
   "metadata": {},
   "source": [
    " <font color=#0000FF>一次將多行讀入，每一行成為一個list內的元素</font>"
   ]
  },
  {
   "cell_type": "code",
   "execution_count": 30,
   "metadata": {
    "scrolled": true
   },
   "outputs": [
    {
     "name": "stdout",
     "output_type": "stream",
     "text": [
      "['Hello Python 01111\\n', 'Hello Python 02\\n', 'Hello Python 03\\n']\n",
      "<class 'list'>\n"
     ]
    }
   ],
   "source": [
    "inpf = open(file=\"test2.txt\", mode=\"rt\") # inpf是自己另的 \n",
    "                                        # r : read only (唯獨) \n",
    "                                        # t : text mode (文字模式)\n",
    "\n",
    "msg = inpf.readlines()                    #inpf.readline()      #先讀第一行  #一行 一行讀\n",
    "print(msg)\n",
    "print(type(msg))                         # 是list\n",
    "\n",
    "inpf.close()"
   ]
  },
  {
   "cell_type": "markdown",
   "metadata": {},
   "source": [
    " <font color=#0000FF>使用 with 來開啟檔案，離開 with 區塊自動會關閉檔案</font>"
   ]
  },
  {
   "cell_type": "code",
   "execution_count": 34,
   "metadata": {
    "scrolled": true
   },
   "outputs": [
    {
     "data": {
      "text/plain": [
       "'E:\\\\annie\\\\3下課程\\\\MyPython'"
      ]
     },
     "execution_count": 34,
     "metadata": {},
     "output_type": "execute_result"
    }
   ],
   "source": [
    "os.chdir(r'E:\\annie\\3下課程\\MyPython') #切換路進\n",
    "os.getcwd() #現在的路進"
   ]
  },
  {
   "cell_type": "code",
   "execution_count": 35,
   "metadata": {
    "scrolled": true
   },
   "outputs": [],
   "source": [
    "#方法1                                     # w : write (寫入)\n",
    "                                           # t : text mode (文字模式)\n",
    "\n",
    "outf = open(file=\"test2.txt\", mode=\"wt\")  # mode : w 會開新檔，會將存在的檔案清空  #如果檔名一樣的話\n",
    "outf.write(\"Hello Python 01111\\n\") \n",
    "outf.write(\"Hello Python 02\\n\")\n",
    "outf.write(\"Hello Python 03\\n\")\n",
    "outf.flush()                             # 強制將 buffer (緩衝區) 內的資料寫入硬碟\n",
    "outf.close()"
   ]
  },
  {
   "cell_type": "code",
   "execution_count": 36,
   "metadata": {
    "scrolled": true
   },
   "outputs": [],
   "source": [
    "#方法2--step1 加一個test.txt  python裡叫outf\n",
    "with open(file=\"test.txt\", mode=\"wt\") as outf :# w : write (寫入)\n",
    "                                               # t : text mode (文字模式)\n",
    "    outf.write(\"Hello Python 01\\n\")\n",
    "    outf.write(\"Hello Python 02\\n\")\n",
    "    outf.write(\"Hello Python 03\\n\")"
   ]
  },
  {
   "cell_type": "code",
   "execution_count": 37,
   "metadata": {
    "scrolled": true
   },
   "outputs": [
    {
     "name": "stdout",
     "output_type": "stream",
     "text": [
      "Hello Python 01\n",
      "Hello Python 02\n",
      "Hello Python 03\n",
      "\n"
     ]
    }
   ],
   "source": [
    "#方法2--step2 讀test.txt  python裡叫 intf\n",
    "with open(file=\"test.txt\", mode=\"rt\") as intf : # r : read only (唯獨) \n",
    "                                                # t : text mode (文字模式)\n",
    "    msg = intf.read()\n",
    "    print(msg)"
   ]
  },
  {
   "cell_type": "markdown",
   "metadata": {},
   "source": [
    "### <font color=#0000FF>序列檔案(二進位檔案)的讀、寫 pickle</font>"
   ]
  },
  {
   "cell_type": "code",
   "execution_count": 44,
   "metadata": {
    "scrolled": true
   },
   "outputs": [
    {
     "name": "stdout",
     "output_type": "stream",
     "text": [
      "[[3, 6, 9, 12, 15, 18, 21, 24, 27, 30, 33, 36, 39, 42, 45, 48, 51, 54, 57, 60, 63, 66, 69, 72, 75, 78, 81, 84, 87, 90, 93, 96, 99], [5, 10, 15, 20, 25, 30, 35, 40, 45, 50, 55, 60, 65, 70, 75, 80, 85, 90, 95, 100], [9, 18, 27, 36, 45, 54, 63, 72, 81, 90, 99], [11, 22, 33, 44, 55, 66, 77, 88, 99]]\n"
     ]
    }
   ],
   "source": [
    "factors = [3,5,9,11]\n",
    "n = len(factors)\n",
    "range(n)\n",
    "lst = [[] for _ in range(n)]    #lst[ [lst1],[lst2],[lst3],[lst4]  ] \n",
    "\n",
    "for i in range(n):\n",
    "    lst[i] = [j for j in range(1,101) if j%factors[i]==0]  #整除\n",
    "print(lst)   "
   ]
  },
  {
   "cell_type": "markdown",
   "metadata": {
    "collapsed": true
   },
   "source": [
    "以下純欣賞，切勿模仿"
   ]
  },
  {
   "cell_type": "code",
   "execution_count": 1,
   "metadata": {
    "scrolled": true
   },
   "outputs": [
    {
     "name": "stdout",
     "output_type": "stream",
     "text": [
      "[[3, 6, 9, 12, 15, 18, 21, 24, 27, 30, 33, 36, 39, 42, 45, 48, 51, 54, 57, 60, 63, 66, 69, 72, 75, 78, 81, 84, 87, 90, 93, 96, 99], [5, 10, 15, 20, 25, 30, 35, 40, 45, 50, 55, 60, 65, 70, 75, 80, 85, 90, 95, 100], [9, 18, 27, 36, 45, 54, 63, 72, 81, 90, 99], [11, 22, 33, 44, 55, 66, 77, 88, 99]]\n"
     ]
    }
   ],
   "source": [
    "factors = [3,5,9,11]\n",
    "n = len(factors)\n",
    "# lst = [[] for _ in range(n)]\n",
    "# for i in range(n):\n",
    "#     lst[i] = [j for j in range(1,101) if j%factors[i]==0]\n",
    "lst = [[j for j in range(1,101) if j%factors[i]==0] for i in range(n)]    \n",
    "print(lst) "
   ]
  },
  {
   "cell_type": "code",
   "execution_count": 45,
   "metadata": {
    "scrolled": true
   },
   "outputs": [],
   "source": [
    "#把計算結果存成list 匯出去存起來                    #w---寫出去                          \n",
    "with open(file=\"myList.lst\",mode=\"wb\") as outf:     #outf自己命的名字 --python裡的檔名 \n",
    "                                                    #mode預設是rb--要真的有檔案才能開 r-read b-二進位檔\n",
    "    pickle.dump(lst, outf)        #dump() 寫出去    #這裡是要匯出去\n",
    "                                                   #把物件lst會出成檔案\n",
    "                                                   #前面已經有開位置了 所以直接命名檔名即可    \n",
    "                                                   # os.chdir(r'F:\\annie\\3下課程\\MyPython\\20190402') \n",
    "                                                   #記得import"
   ]
  },
  {
   "cell_type": "code",
   "execution_count": 42,
   "metadata": {
    "scrolled": true
   },
   "outputs": [],
   "source": [
    "del lst   #刪除lst物件"
   ]
  },
  {
   "cell_type": "code",
   "execution_count": 48,
   "metadata": {
    "scrolled": true
   },
   "outputs": [],
   "source": [
    "with open(file=\"myList.lst\",mode=\"rb\") as inpf :  #把已存在的檔案叫進來 存成物件 \n",
    "    lst2 = pickle.load(file=inpf)                 #load() 載入\n",
    "                                                  #inpf 自己命名\n",
    "                                                  #r-讀進來\n",
    "                                                  #b-二進位檔"
   ]
  },
  {
   "cell_type": "code",
   "execution_count": 49,
   "metadata": {
    "scrolled": false
   },
   "outputs": [
    {
     "name": "stdout",
     "output_type": "stream",
     "text": [
      "[[3, 6, 9, 12, 15, 18, 21, 24, 27, 30, 33, 36, 39, 42, 45, 48, 51, 54, 57, 60, 63, 66, 69, 72, 75, 78, 81, 84, 87, 90, 93, 96, 99], [5, 10, 15, 20, 25, 30, 35, 40, 45, 50, 55, 60, 65, 70, 75, 80, 85, 90, 95, 100], [9, 18, 27, 36, 45, 54, 63, 72, 81, 90, 99], [11, 22, 33, 44, 55, 66, 77, 88, 99]]\n"
     ]
    }
   ],
   "source": [
    "print(lst2)"
   ]
  },
  {
   "cell_type": "markdown",
   "metadata": {},
   "source": [
    "### <font color=#0000FF>讀入一篇中文新聞，並計算每一個字出現的次數</font>\n",
    "請先至上課資料內下載以下檔案，放置於C:\\Data\n",
    "1. 中文新聞.txt\n",
    "2. 英文新聞.txt"
   ]
  },
  {
   "cell_type": "markdown",
   "metadata": {},
   "source": [
    "<font color=#0000FF>1. 載入檔案</font>"
   ]
  },
  {
   "cell_type": "code",
   "execution_count": 54,
   "metadata": {
    "scrolled": true
   },
   "outputs": [
    {
     "name": "stdout",
     "output_type": "stream",
     "text": [
      "中央氣象局預報員張承傳今天指出，南方雲系北移，\n",
      "今天南部和東南部持續有雨；關島附近有一熱帶性低氣壓，最快下周一\n",
      "（16日）發展成今年第9號颱風山神（Son Tinh）。\n",
      "張承傳說，今天南方雲系北移影響，暖濕的東南風配合地形抬升，東南部地\n",
      "區及恆春半島整天不定時有陣雨，並有局部大雨發生的機率；東部、東北部地區及南\n",
      "部山區也有局部短暫陣雨，午後因熱對流西半部地區有局部短暫雷陣雨，北部平地天氣大致晴朗穩定。\n",
      "氣溫方面，白天西半部高溫約攝氏34至35度，較為悶熱，尤其桃園、大台北與高屏\n",
      "地區有機會出現36度，而雲量多、易下雨的東部及東南部高溫約32至33度。\n",
      "他補充，位在關島附近有一個熱帶性低氣壓，最快16日發展為今年第9\n",
      "號颱風山神，至於對台灣影響還要持續觀察。\n",
      "中央大學大氣科學系兼任副教授吳德榮今天在「三立準氣象．老大洩天機」專欄中說，目前關島\n",
      "西北方海面和帛琉群島北方都有熱帶擾動，都在季風低壓環流內蘊釀發展，由於兩者可能相互影響，\n",
      "加上季風低壓環境對熱帶擾動的導引作用及太平洋高壓勢力等因素，因此預報困難度大增，\n",
      "目前無法判斷是否影響台灣。\n"
     ]
    }
   ],
   "source": [
    "with open(file=\"中文新聞.txt\",mode=\"rt\") as inpf :\n",
    "    news = inpf.read()#讀整篇\n",
    "print(news)\n"
   ]
  },
  {
   "cell_type": "code",
   "execution_count": null,
   "metadata": {
    "scrolled": true
   },
   "outputs": [],
   "source": [
    "str.replace()    #S.replace(old, new[, count]) -> str\n",
    "\n",
    "                 #Return a copy of S with all occurrences of substring"
   ]
  },
  {
   "cell_type": "code",
   "execution_count": 53,
   "metadata": {
    "scrolled": true
   },
   "outputs": [
    {
     "name": "stdout",
     "output_type": "stream",
     "text": [
      "中央氣象局預報員張承傳今天指出，南方雲系北移，\n",
      "今天南部和東南部持續有雨；關島附近有一熱帶性低氣壓，最快下周一\n",
      "（16日）發展成今年第9號颱風山神（Son Tinh）。\n",
      "張承傳說，今天南方雲系北移影響，暖濕的東南風配合地形抬升，東南部地\n",
      "區及恆春半島整天不定時有陣雨，並有局部大雨發生的機率；東部、東北部地區及南\n",
      "部山區也有局部短暫陣雨，午後因熱對流西半部地區有局部短暫雷陣雨，北部平地天氣大致晴朗穩定。\n",
      "氣溫方面，白天西半部高溫約攝氏34至35度，較為悶熱，尤其桃園、大台北與高屏\n",
      "地區有機會出現36度，而雲量多、易下雨的東部及東南部高溫約32至33度。\n",
      "他補充，位在關島附近有一個熱帶性低氣壓，最快16日發展為今年第9\n",
      "號颱風山神，至於對台灣影響還要持續觀察。\n",
      "中央大學大氣科學系兼任副教授吳德榮今天在「三立準氣象．老大洩天機」專欄中說，目前關島\n",
      "西北方海面和帛琉群島北方都有熱帶擾動，都在季風低壓環流內蘊釀發展，由於兩者可能相互影響，\n",
      "加上季風低壓環境對熱帶擾動的導引作用及太平洋高壓勢力等因素，因此預報困難度大增，\n",
      "目前無法判斷是否影響台灣。\n"
     ]
    }
   ],
   "source": [
    "with open(file=\"中文新聞.txt\",mode=\"rt\") as inpf :\n",
    "    news = inpf.read()\n",
    "    news.replace(\"\\n\",\"\") #不會把自己改變掉--自己在另一個 news=news.replace(\"\\n\",\"\")\n",
    "print(news)"
   ]
  },
  {
   "cell_type": "code",
   "execution_count": 55,
   "metadata": {
    "scrolled": true
   },
   "outputs": [
    {
     "name": "stdout",
     "output_type": "stream",
     "text": [
      "中央氣象局預報員張承傳今天指出，南方雲系北移，今天南部和東南部持續有雨；關島附近有一熱帶性低氣壓，最快下周一（16日）發展成今年第9號颱風山神（Son Tinh）。張承傳說，今天南方雲系北移影響，暖濕的東南風配合地形抬升，東南部地區及恆春半島整天不定時有陣雨，並有局部大雨發生的機率；東部、東北部地區及南部山區也有局部短暫陣雨，午後因熱對流西半部地區有局部短暫雷陣雨，北部平地天氣大致晴朗穩定。氣溫方面，白天西半部高溫約攝氏34至35度，較為悶熱，尤其桃園、大台北與高屏地區有機會出現36度，而雲量多、易下雨的東部及東南部高溫約32至33度。他補充，位在關島附近有一個熱帶性低氣壓，最快16日發展為今年第9號颱風山神，至於對台灣影響還要持續觀察。中央大學大氣科學系兼任副教授吳德榮今天在「三立準氣象．老大洩天機」專欄中說，目前關島西北方海面和帛琉群島北方都有熱帶擾動，都在季風低壓環流內蘊釀發展，由於兩者可能相互影響，加上季風低壓環境對熱帶擾動的導引作用及太平洋高壓勢力等因素，因此預報困難度大增，目前無法判斷是否影響台灣。\n"
     ]
    }
   ],
   "source": [
    "with open(file=\"中文新聞.txt\",mode=\"rt\") as inpf :\n",
    "    news = inpf.read()\n",
    "    news = news.replace(\"\\n\",\"\") #\n",
    "print(news)"
   ]
  },
  {
   "cell_type": "markdown",
   "metadata": {},
   "source": [
    "<font color=#0000FF>2. 計算每個字的次數</font>\n"
   ]
  },
  {
   "cell_type": "markdown",
   "metadata": {},
   "source": [
    "* d[key]\n",
    "    * Return the item of d with key key. Raises a KeyError if key is not in the map.\n",
    "    * 回應key對應的value\n",
    "* d[key] = value\n",
    "    * Set (or update) d[key] to value.\n",
    "    * 新增或重建將 key與value配對\n",
    " * key in d\n",
    "    * Return True if d has a key key, else False.\n",
    "    * 判斷建[key]是否在字典中\n",
    "*  get(key[, default])\n",
    "    * Return the value for key if key is in the dictionary, else default. \n",
    "    * If default is not given, it defaults to None, so that this method never raises a KeyError.   "
   ]
  },
  {
   "cell_type": "code",
   "execution_count": 46,
   "metadata": {
    "scrolled": true
   },
   "outputs": [
    {
     "name": "stdout",
     "output_type": "stream",
     "text": [
      "dict_items([('a', 2), ('b', 1)])\n"
     ]
    }
   ],
   "source": [
    "# 小範例\n",
    "d = dict()\n",
    "words = ['a','b','a']\n",
    "for w in words :\n",
    "    if d.get(w) == None: #第一次讀到a時一定是none(因為d是空的)--所以記住 \"a\"--1\n",
    "        d[w] = 1\n",
    "    else :\n",
    "        d[w] = d.get(w) + 1 #如果有第2個a近來 d.get(a)+1\n",
    "print(d.items())     "
   ]
  },
  {
   "cell_type": "code",
   "execution_count": 57,
   "metadata": {
    "scrolled": true
   },
   "outputs": [
    {
     "name": "stdout",
     "output_type": "stream",
     "text": [
      "a\n",
      "b\n",
      "a\n"
     ]
    }
   ],
   "source": [
    "d = dict()\n",
    "words = ['a','b','a']\n",
    "for w in words :\n",
    "    print(w)     "
   ]
  },
  {
   "cell_type": "code",
   "execution_count": 55,
   "metadata": {},
   "outputs": [
    {
     "name": "stdout",
     "output_type": "stream",
     "text": [
      "None\n"
     ]
    }
   ],
   "source": [
    "print(d.get(w) )"
   ]
  },
  {
   "cell_type": "code",
   "execution_count": 51,
   "metadata": {
    "scrolled": true
   },
   "outputs": [
    {
     "name": "stdout",
     "output_type": "stream",
     "text": [
      "中\n",
      "央\n",
      "氣\n",
      "象\n",
      "局\n",
      "預\n",
      "報\n",
      "員\n",
      "張\n",
      "承\n",
      "傳\n",
      "今\n",
      "天\n",
      "指\n",
      "出\n",
      "，\n",
      "南\n",
      "方\n",
      "雲\n",
      "系\n",
      "北\n",
      "移\n",
      "，\n",
      "今\n",
      "天\n",
      "南\n",
      "部\n",
      "和\n",
      "東\n",
      "南\n",
      "部\n",
      "持\n",
      "續\n",
      "有\n",
      "雨\n",
      "；\n",
      "關\n",
      "島\n",
      "附\n",
      "近\n",
      "有\n",
      "一\n",
      "熱\n",
      "帶\n",
      "性\n",
      "低\n",
      "氣\n",
      "壓\n",
      "，\n",
      "最\n",
      "快\n",
      "下\n",
      "周\n",
      "一\n",
      "（\n",
      "1\n",
      "6\n",
      "日\n",
      "）\n",
      "發\n",
      "展\n",
      "成\n",
      "今\n",
      "年\n",
      "第\n",
      "9\n",
      "號\n",
      "颱\n",
      "風\n",
      "山\n",
      "神\n",
      "（\n",
      "S\n",
      "o\n",
      "n\n",
      " \n",
      "T\n",
      "i\n",
      "n\n",
      "h\n",
      "）\n",
      "。\n",
      "張\n",
      "承\n",
      "傳\n",
      "說\n",
      "，\n",
      "今\n",
      "天\n",
      "南\n",
      "方\n",
      "雲\n",
      "系\n",
      "北\n",
      "移\n",
      "影\n",
      "響\n",
      "，\n",
      "暖\n",
      "濕\n",
      "的\n",
      "東\n",
      "南\n",
      "風\n",
      "配\n",
      "合\n",
      "地\n",
      "形\n",
      "抬\n",
      "升\n",
      "，\n",
      "東\n",
      "南\n",
      "部\n",
      "地\n",
      "區\n",
      "及\n",
      "恆\n",
      "春\n",
      "半\n",
      "島\n",
      "整\n",
      "天\n",
      "不\n",
      "定\n",
      "時\n",
      "有\n",
      "陣\n",
      "雨\n",
      "，\n",
      "並\n",
      "有\n",
      "局\n",
      "部\n",
      "大\n",
      "雨\n",
      "發\n",
      "生\n",
      "的\n",
      "機\n",
      "率\n",
      "；\n",
      "東\n",
      "部\n",
      "、\n",
      "東\n",
      "北\n",
      "部\n",
      "地\n",
      "區\n",
      "及\n",
      "南\n",
      "部\n",
      "山\n",
      "區\n",
      "也\n",
      "有\n",
      "局\n",
      "部\n",
      "短\n",
      "暫\n",
      "陣\n",
      "雨\n",
      "，\n",
      "午\n",
      "後\n",
      "因\n",
      "熱\n",
      "對\n",
      "流\n",
      "西\n",
      "半\n",
      "部\n",
      "地\n",
      "區\n",
      "有\n",
      "局\n",
      "部\n",
      "短\n",
      "暫\n",
      "雷\n",
      "陣\n",
      "雨\n",
      "，\n",
      "北\n",
      "部\n",
      "平\n",
      "地\n",
      "天\n",
      "氣\n",
      "大\n",
      "致\n",
      "晴\n",
      "朗\n",
      "穩\n",
      "定\n",
      "。\n",
      "氣\n",
      "溫\n",
      "方\n",
      "面\n",
      "，\n",
      "白\n",
      "天\n",
      "西\n",
      "半\n",
      "部\n",
      "高\n",
      "溫\n",
      "約\n",
      "攝\n",
      "氏\n",
      "3\n",
      "4\n",
      "至\n",
      "3\n",
      "5\n",
      "度\n",
      "，\n",
      "較\n",
      "為\n",
      "悶\n",
      "熱\n",
      "，\n",
      "尤\n",
      "其\n",
      "桃\n",
      "園\n",
      "、\n",
      "大\n",
      "台\n",
      "北\n",
      "與\n",
      "高\n",
      "屏\n",
      "地\n",
      "區\n",
      "有\n",
      "機\n",
      "會\n",
      "出\n",
      "現\n",
      "3\n",
      "6\n",
      "度\n",
      "，\n",
      "而\n",
      "雲\n",
      "量\n",
      "多\n",
      "、\n",
      "易\n",
      "下\n",
      "雨\n",
      "的\n",
      "東\n",
      "部\n",
      "及\n",
      "東\n",
      "南\n",
      "部\n",
      "高\n",
      "溫\n",
      "約\n",
      "3\n",
      "2\n",
      "至\n",
      "3\n",
      "3\n",
      "度\n",
      "。\n",
      "他\n",
      "補\n",
      "充\n",
      "，\n",
      "位\n",
      "在\n",
      "關\n",
      "島\n",
      "附\n",
      "近\n",
      "有\n",
      "一\n",
      "個\n",
      "熱\n",
      "帶\n",
      "性\n",
      "低\n",
      "氣\n",
      "壓\n",
      "，\n",
      "最\n",
      "快\n",
      "1\n",
      "6\n",
      "日\n",
      "發\n",
      "展\n",
      "為\n",
      "今\n",
      "年\n",
      "第\n",
      "9\n",
      "號\n",
      "颱\n",
      "風\n",
      "山\n",
      "神\n",
      "，\n",
      "至\n",
      "於\n",
      "對\n",
      "台\n",
      "灣\n",
      "影\n",
      "響\n",
      "還\n",
      "要\n",
      "持\n",
      "續\n",
      "觀\n",
      "察\n",
      "。\n",
      "中\n",
      "央\n",
      "大\n",
      "學\n",
      "大\n",
      "氣\n",
      "科\n",
      "學\n",
      "系\n",
      "兼\n",
      "任\n",
      "副\n",
      "教\n",
      "授\n",
      "吳\n",
      "德\n",
      "榮\n",
      "今\n",
      "天\n",
      "在\n",
      "「\n",
      "三\n",
      "立\n",
      "準\n",
      "氣\n",
      "象\n",
      "．\n",
      "老\n",
      "大\n",
      "洩\n",
      "天\n",
      "機\n",
      "」\n",
      "專\n",
      "欄\n",
      "中\n",
      "說\n",
      "，\n",
      "目\n",
      "前\n",
      "關\n",
      "島\n",
      "西\n",
      "北\n",
      "方\n",
      "海\n",
      "面\n",
      "和\n",
      "帛\n",
      "琉\n",
      "群\n",
      "島\n",
      "北\n",
      "方\n",
      "都\n",
      "有\n",
      "熱\n",
      "帶\n",
      "擾\n",
      "動\n",
      "，\n",
      "都\n",
      "在\n",
      "季\n",
      "風\n",
      "低\n",
      "壓\n",
      "環\n",
      "流\n",
      "內\n",
      "蘊\n",
      "釀\n",
      "發\n",
      "展\n",
      "，\n",
      "由\n",
      "於\n",
      "兩\n",
      "者\n",
      "可\n",
      "能\n",
      "相\n",
      "互\n",
      "影\n",
      "響\n",
      "，\n",
      "加\n",
      "上\n",
      "季\n",
      "風\n",
      "低\n",
      "壓\n",
      "環\n",
      "境\n",
      "對\n",
      "熱\n",
      "帶\n",
      "擾\n",
      "動\n",
      "的\n",
      "導\n",
      "引\n",
      "作\n",
      "用\n",
      "及\n",
      "太\n",
      "平\n",
      "洋\n",
      "高\n",
      "壓\n",
      "勢\n",
      "力\n",
      "等\n",
      "因\n",
      "素\n",
      "，\n",
      "因\n",
      "此\n",
      "預\n",
      "報\n",
      "困\n",
      "難\n",
      "度\n",
      "大\n",
      "增\n",
      "，\n",
      "目\n",
      "前\n",
      "無\n",
      "法\n",
      "判\n",
      "斷\n",
      "是\n",
      "否\n",
      "影\n",
      "響\n",
      "台\n",
      "灣\n",
      "。\n"
     ]
    }
   ],
   "source": [
    "d = dict()\n",
    "for w in news:\n",
    "    print(w) "
   ]
  },
  {
   "cell_type": "code",
   "execution_count": 58,
   "metadata": {
    "scrolled": true
   },
   "outputs": [
    {
     "name": "stdout",
     "output_type": "stream",
     "text": [
      "dict_items([('中', 3), ('央', 2), ('氣', 7), ('象', 2), ('局', 4), ('預', 2), ('報', 2), ('員', 1), ('張', 2), ('承', 2), ('傳', 2), ('今', 6), ('天', 8), ('指', 1), ('出', 2), ('，', 22), ('南', 8), ('方', 5), ('雲', 3), ('系', 3), ('北', 7), ('移', 2), ('部', 14), ('和', 2), ('東', 7), ('持', 2), ('續', 2), ('有', 9), ('雨', 6), ('；', 2), ('關', 3), ('島', 5), ('附', 2), ('近', 2), ('一', 3), ('熱', 6), ('帶', 4), ('性', 2), ('低', 4), ('壓', 5), ('最', 2), ('快', 2), ('下', 2), ('周', 1), ('（', 2), ('1', 2), ('6', 3), ('日', 2), ('）', 2), ('發', 4), ('展', 3), ('成', 1), ('年', 2), ('第', 2), ('9', 2), ('號', 2), ('颱', 2), ('風', 5), ('山', 3), ('神', 2), ('S', 1), ('o', 1), ('n', 2), (' ', 1), ('T', 1), ('i', 1), ('h', 1), ('。', 5), ('說', 2), ('影', 4), ('響', 4), ('暖', 1), ('濕', 1), ('的', 4), ('配', 1), ('合', 1), ('地', 6), ('形', 1), ('抬', 1), ('升', 1), ('區', 5), ('及', 4), ('恆', 1), ('春', 1), ('半', 3), ('整', 1), ('不', 1), ('定', 2), ('時', 1), ('陣', 3), ('並', 1), ('大', 7), ('生', 1), ('機', 3), ('率', 1), ('、', 3), ('也', 1), ('短', 2), ('暫', 2), ('午', 1), ('後', 1), ('因', 3), ('對', 3), ('流', 2), ('西', 3), ('雷', 1), ('平', 2), ('致', 1), ('晴', 1), ('朗', 1), ('穩', 1), ('溫', 3), ('面', 2), ('白', 1), ('高', 4), ('約', 2), ('攝', 1), ('氏', 1), ('3', 6), ('4', 1), ('至', 3), ('5', 1), ('度', 4), ('較', 1), ('為', 2), ('悶', 1), ('尤', 1), ('其', 1), ('桃', 1), ('園', 1), ('台', 3), ('與', 1), ('屏', 1), ('會', 1), ('現', 1), ('而', 1), ('量', 1), ('多', 1), ('易', 1), ('2', 1), ('他', 1), ('補', 1), ('充', 1), ('位', 1), ('在', 3), ('個', 1), ('於', 2), ('灣', 2), ('還', 1), ('要', 1), ('觀', 1), ('察', 1), ('學', 2), ('科', 1), ('兼', 1), ('任', 1), ('副', 1), ('教', 1), ('授', 1), ('吳', 1), ('德', 1), ('榮', 1), ('「', 1), ('三', 1), ('立', 1), ('準', 1), ('．', 1), ('老', 1), ('洩', 1), ('」', 1), ('專', 1), ('欄', 1), ('目', 2), ('前', 2), ('海', 1), ('帛', 1), ('琉', 1), ('群', 1), ('都', 2), ('擾', 2), ('動', 2), ('季', 2), ('環', 2), ('內', 1), ('蘊', 1), ('釀', 1), ('由', 1), ('兩', 1), ('者', 1), ('可', 1), ('能', 1), ('相', 1), ('互', 1), ('加', 1), ('上', 1), ('境', 1), ('導', 1), ('引', 1), ('作', 1), ('用', 1), ('太', 1), ('洋', 1), ('勢', 1), ('力', 1), ('等', 1), ('素', 1), ('此', 1), ('困', 1), ('難', 1), ('增', 1), ('無', 1), ('法', 1), ('判', 1), ('斷', 1), ('是', 1), ('否', 1)])\n"
     ]
    }
   ],
   "source": [
    "d = dict()\n",
    "for w in news:\n",
    "    if d.get(w) == None :\n",
    "        d[w] = 1\n",
    "    else :\n",
    "        d[w] = d.get(w) + 1\n",
    "print(d.items())  "
   ]
  },
  {
   "cell_type": "code",
   "execution_count": 60,
   "metadata": {
    "scrolled": true
   },
   "outputs": [
    {
     "name": "stdout",
     "output_type": "stream",
     "text": [
      "dict_items([('中', 3), ('央', 2), ('氣', 7), ('象', 2), ('局', 4), ('預', 2), ('報', 2), ('員', 1), ('張', 2), ('承', 2), ('傳', 2), ('今', 6), ('天', 8), ('指', 1), ('出', 2), ('，', 22), ('南', 8), ('方', 5), ('雲', 3), ('系', 3), ('北', 7), ('移', 2), ('部', 14), ('和', 2), ('東', 7), ('持', 2), ('續', 2), ('有', 9), ('雨', 6), ('；', 2), ('關', 3), ('島', 5), ('附', 2), ('近', 2), ('一', 3), ('熱', 6), ('帶', 4), ('性', 2), ('低', 4), ('壓', 5), ('最', 2), ('快', 2), ('下', 2), ('周', 1), ('（', 2), ('1', 2), ('6', 3), ('日', 2), ('）', 2), ('發', 4), ('展', 3), ('成', 1), ('年', 2), ('第', 2), ('9', 2), ('號', 2), ('颱', 2), ('風', 5), ('山', 3), ('神', 2), ('S', 1), ('o', 1), ('n', 2), (' ', 1), ('T', 1), ('i', 1), ('h', 1), ('。', 5), ('說', 2), ('影', 4), ('響', 4), ('暖', 1), ('濕', 1), ('的', 4), ('配', 1), ('合', 1), ('地', 6), ('形', 1), ('抬', 1), ('升', 1), ('區', 5), ('及', 4), ('恆', 1), ('春', 1), ('半', 3), ('整', 1), ('不', 1), ('定', 2), ('時', 1), ('陣', 3), ('並', 1), ('大', 7), ('生', 1), ('機', 3), ('率', 1), ('、', 3), ('也', 1), ('短', 2), ('暫', 2), ('午', 1), ('後', 1), ('因', 3), ('對', 3), ('流', 2), ('西', 3), ('雷', 1), ('平', 2), ('致', 1), ('晴', 1), ('朗', 1), ('穩', 1), ('溫', 3), ('面', 2), ('白', 1), ('高', 4), ('約', 2), ('攝', 1), ('氏', 1), ('3', 6), ('4', 1), ('至', 3), ('5', 1), ('度', 4), ('較', 1), ('為', 2), ('悶', 1), ('尤', 1), ('其', 1), ('桃', 1), ('園', 1), ('台', 3), ('與', 1), ('屏', 1), ('會', 1), ('現', 1), ('而', 1), ('量', 1), ('多', 1), ('易', 1), ('2', 1), ('他', 1), ('補', 1), ('充', 1), ('位', 1), ('在', 3), ('個', 1), ('於', 2), ('灣', 2), ('還', 1), ('要', 1), ('觀', 1), ('察', 1), ('學', 2), ('科', 1), ('兼', 1), ('任', 1), ('副', 1), ('教', 1), ('授', 1), ('吳', 1), ('德', 1), ('榮', 1), ('「', 1), ('三', 1), ('立', 1), ('準', 1), ('．', 1), ('老', 1), ('洩', 1), ('」', 1), ('專', 1), ('欄', 1), ('目', 2), ('前', 2), ('海', 1), ('帛', 1), ('琉', 1), ('群', 1), ('都', 2), ('擾', 2), ('動', 2), ('季', 2), ('環', 2), ('內', 1), ('蘊', 1), ('釀', 1), ('由', 1), ('兩', 1), ('者', 1), ('可', 1), ('能', 1), ('相', 1), ('互', 1), ('加', 1), ('上', 1), ('境', 1), ('導', 1), ('引', 1), ('作', 1), ('用', 1), ('太', 1), ('洋', 1), ('勢', 1), ('力', 1), ('等', 1), ('素', 1), ('此', 1), ('困', 1), ('難', 1), ('增', 1), ('無', 1), ('法', 1), ('判', 1), ('斷', 1), ('是', 1), ('否', 1)])\n"
     ]
    }
   ],
   "source": [
    "d = dict()\n",
    "for w in news:\n",
    "    d[w] = 1 if d.get(w) == None else d.get(w) + 1\n",
    "print(d.items()) "
   ]
  },
  {
   "cell_type": "markdown",
   "metadata": {},
   "source": [
    "<font color=#0000FF>去除不要的文字 stop_words</font>"
   ]
  },
  {
   "cell_type": "code",
   "execution_count": 57,
   "metadata": {
    "scrolled": true
   },
   "outputs": [
    {
     "name": "stdout",
     "output_type": "stream",
     "text": [
      "dict_items([('中', 3), ('央', 2), ('氣', 7), ('象', 2), ('局', 4), ('預', 2), ('報', 2), ('員', 1), ('張', 2), ('承', 2), ('傳', 2), ('今', 6), ('天', 8), ('指', 1), ('出', 2), ('南', 8), ('方', 5), ('雲', 3), ('系', 3), ('北', 7), ('移', 2), ('部', 14), ('和', 2), ('東', 7), ('持', 2), ('續', 2), ('有', 9), ('雨', 6), ('關', 3), ('島', 5), ('附', 2), ('近', 2), ('一', 3), ('熱', 6), ('帶', 4), ('性', 2), ('低', 4), ('壓', 5), ('最', 2), ('快', 2), ('下', 2), ('周', 1), ('1', 2), ('6', 3), ('日', 2), ('發', 4), ('展', 3), ('成', 1), ('年', 2), ('第', 2), ('9', 2), ('號', 2), ('颱', 2), ('風', 5), ('山', 3), ('神', 2), ('S', 1), ('o', 1), ('n', 2), ('T', 1), ('i', 1), ('h', 1), ('說', 2), ('影', 4), ('響', 4), ('暖', 1), ('濕', 1), ('的', 4), ('配', 1), ('合', 1), ('地', 6), ('形', 1), ('抬', 1), ('升', 1), ('區', 5), ('及', 4), ('恆', 1), ('春', 1), ('半', 3), ('整', 1), ('不', 1), ('定', 2), ('時', 1), ('陣', 3), ('並', 1), ('大', 7), ('生', 1), ('機', 3), ('率', 1), ('、', 3), ('也', 1), ('短', 2), ('暫', 2), ('午', 1), ('後', 1), ('因', 3), ('對', 3), ('流', 2), ('西', 3), ('雷', 1), ('平', 2), ('致', 1), ('晴', 1), ('朗', 1), ('穩', 1), ('溫', 3), ('面', 2), ('白', 1), ('高', 4), ('約', 2), ('攝', 1), ('氏', 1), ('3', 6), ('4', 1), ('至', 3), ('5', 1), ('度', 4), ('較', 1), ('為', 2), ('悶', 1), ('尤', 1), ('其', 1), ('桃', 1), ('園', 1), ('台', 3), ('與', 1), ('屏', 1), ('會', 1), ('現', 1), ('而', 1), ('量', 1), ('多', 1), ('易', 1), ('2', 1), ('他', 1), ('補', 1), ('充', 1), ('位', 1), ('在', 3), ('個', 1), ('於', 2), ('灣', 2), ('還', 1), ('要', 1), ('觀', 1), ('察', 1), ('學', 2), ('科', 1), ('兼', 1), ('任', 1), ('副', 1), ('教', 1), ('授', 1), ('吳', 1), ('德', 1), ('榮', 1), ('三', 1), ('立', 1), ('準', 1), ('老', 1), ('洩', 1), ('專', 1), ('欄', 1), ('目', 2), ('前', 2), ('海', 1), ('帛', 1), ('琉', 1), ('群', 1), ('都', 2), ('擾', 2), ('動', 2), ('季', 2), ('環', 2), ('內', 1), ('蘊', 1), ('釀', 1), ('由', 1), ('兩', 1), ('者', 1), ('可', 1), ('能', 1), ('相', 1), ('互', 1), ('加', 1), ('上', 1), ('境', 1), ('導', 1), ('引', 1), ('作', 1), ('用', 1), ('太', 1), ('洋', 1), ('勢', 1), ('力', 1), ('等', 1), ('素', 1), ('此', 1), ('困', 1), ('難', 1), ('增', 1), ('無', 1), ('法', 1), ('判', 1), ('斷', 1), ('是', 1), ('否', 1)])\n"
     ]
    }
   ],
   "source": [
    "d = dict()\n",
    "stopWords = ['「','」','；','。','．',' ','）','（','，']\n",
    "for w in news:\n",
    "    if w not in stopWords :\n",
    "        d[w] = 1 if d.get(w) == None else d.get(w) + 1\n",
    "print(d.items())"
   ]
  },
  {
   "cell_type": "markdown",
   "metadata": {},
   "source": [
    "<font color=#0000FF>3. 改寫成函數</font>"
   ]
  },
  {
   "cell_type": "code",
   "execution_count": 62,
   "metadata": {
    "scrolled": true
   },
   "outputs": [],
   "source": [
    "def countChtWords(fileName, stopWords) :\n",
    "    d = dict()\n",
    "#     stopWords = ['「','」','；','。','．',' ','）','（','，','\\n']\n",
    "    \n",
    "    with open(file=fileName,mode=\"rt\") as inpf :\n",
    "        news = inpf.read()\n",
    "    for w in news:\n",
    "        if w not in stopWords :\n",
    "            d[w] = 1 if d.get(w) == None else d.get(w) + 1        \n",
    "    return d   "
   ]
  },
  {
   "cell_type": "code",
   "execution_count": 63,
   "metadata": {
    "scrolled": false
   },
   "outputs": [],
   "source": [
    "fname = '中文新聞.txt'\n",
    "sw = ['「','」','；','。','．',' ','）','（','，','\\n']\n",
    "myDict = countChtWords(fileName=fname, stopWords=sw)"
   ]
  },
  {
   "cell_type": "code",
   "execution_count": 60,
   "metadata": {
    "scrolled": true
   },
   "outputs": [
    {
     "name": "stdout",
     "output_type": "stream",
     "text": [
      "[('部', 14), ('有', 9), ('天', 8), ('南', 8), ('氣', 7), ('北', 7), ('東', 7), ('大', 7), ('今', 6), ('雨', 6), ('熱', 6), ('地', 6), ('3', 6), ('方', 5), ('島', 5), ('壓', 5), ('風', 5), ('區', 5), ('局', 4), ('帶', 4), ('低', 4), ('發', 4), ('影', 4), ('響', 4), ('的', 4), ('及', 4), ('高', 4), ('度', 4), ('中', 3), ('雲', 3), ('系', 3), ('關', 3), ('一', 3), ('6', 3), ('展', 3), ('山', 3), ('半', 3), ('陣', 3), ('機', 3), ('、', 3), ('因', 3), ('對', 3), ('西', 3), ('溫', 3), ('至', 3), ('台', 3), ('在', 3), ('央', 2), ('象', 2), ('預', 2), ('報', 2), ('張', 2), ('承', 2), ('傳', 2), ('出', 2), ('移', 2), ('和', 2), ('持', 2), ('續', 2), ('附', 2), ('近', 2), ('性', 2), ('最', 2), ('快', 2), ('下', 2), ('1', 2), ('日', 2), ('年', 2), ('第', 2), ('9', 2), ('號', 2), ('颱', 2), ('神', 2), ('n', 2), ('說', 2), ('定', 2), ('短', 2), ('暫', 2), ('流', 2), ('平', 2), ('面', 2), ('約', 2), ('為', 2), ('於', 2), ('灣', 2), ('學', 2), ('目', 2), ('前', 2), ('都', 2), ('擾', 2), ('動', 2), ('季', 2), ('環', 2), ('員', 1), ('指', 1), ('周', 1), ('成', 1), ('S', 1), ('o', 1), ('T', 1), ('i', 1), ('h', 1), ('暖', 1), ('濕', 1), ('配', 1), ('合', 1), ('形', 1), ('抬', 1), ('升', 1), ('恆', 1), ('春', 1), ('整', 1), ('不', 1), ('時', 1), ('並', 1), ('生', 1), ('率', 1), ('也', 1), ('午', 1), ('後', 1), ('雷', 1), ('致', 1), ('晴', 1), ('朗', 1), ('穩', 1), ('白', 1), ('攝', 1), ('氏', 1), ('4', 1), ('5', 1), ('較', 1), ('悶', 1), ('尤', 1), ('其', 1), ('桃', 1), ('園', 1), ('與', 1), ('屏', 1), ('會', 1), ('現', 1), ('而', 1), ('量', 1), ('多', 1), ('易', 1), ('2', 1), ('他', 1), ('補', 1), ('充', 1), ('位', 1), ('個', 1), ('還', 1), ('要', 1), ('觀', 1), ('察', 1), ('科', 1), ('兼', 1), ('任', 1), ('副', 1), ('教', 1), ('授', 1), ('吳', 1), ('德', 1), ('榮', 1), ('三', 1), ('立', 1), ('準', 1), ('老', 1), ('洩', 1), ('專', 1), ('欄', 1), ('海', 1), ('帛', 1), ('琉', 1), ('群', 1), ('內', 1), ('蘊', 1), ('釀', 1), ('由', 1), ('兩', 1), ('者', 1), ('可', 1), ('能', 1), ('相', 1), ('互', 1), ('加', 1), ('上', 1), ('境', 1), ('導', 1), ('引', 1), ('作', 1), ('用', 1), ('太', 1), ('洋', 1), ('勢', 1), ('力', 1), ('等', 1), ('素', 1), ('此', 1), ('困', 1), ('難', 1), ('增', 1), ('無', 1), ('法', 1), ('判', 1), ('斷', 1), ('是', 1), ('否', 1)]\n"
     ]
    }
   ],
   "source": [
    "sorted(myDict.items(), key=lambda x:x[0]) #用 keyword 排序\n",
    "sorted(myDict.items(), key=lambda x:x[1])  #用value 排序 預設遞增\n",
    "sorted(myDict.items(), key=lambda x:x[1], reverse=True)\n",
    "print(sorted(myDict.items(), key=lambda x:x[1], reverse=True))#遞減 #print減少空間\n",
    "\n",
    "\n",
    "\n"
   ]
  },
  {
   "cell_type": "markdown",
   "metadata": {},
   "source": [
    "英文"
   ]
  },
  {
   "cell_type": "code",
   "execution_count": 61,
   "metadata": {
    "scrolled": false
   },
   "outputs": [
    {
     "name": "stdout",
     "output_type": "stream",
     "text": [
      "European leaders at a summit in Brussels have been discussing the Greek economy \n",
      "and have agreed to help the country with its financial crisis. \n",
      "The aim is to protect the economies of countries using the euro.\n",
      "This summit was supposed to be a chance for Europe's prime ministers \n",
      "and presidents to discuss ways to promote growth and jobs, but with the \n",
      "euro single currency facing its worst ever crisis, the original agenda has \n",
      "long since been scrapped. Instead, all the focus will be on how to shore up Greece's \n",
      "precarious finances. Though the Greek economy is relatively small, its membership of the \n",
      "euro zone means its fate is wedded to that of the stronger currencies in the single currency.\n",
      "For years Greek governments have spent more than they earned in taxes and borrowed to \n",
      "make up the shortfall. That public debt now threatens to engulf the economy. Greece's \n",
      "new socialist government has introduced some drastic austerity measures, such as a \n",
      "public sector pay freeze and fuel price increases to try to reduce the deficit, but \n",
      "the prospect of a default has prompted huge falls on the Greek stock market. \n",
      "The uncertainty has spread to other big euro debtors like Spain and Portugal. \n",
      "It's this contagion that most worries euro zone leaders as it risks destroying \n",
      "confidence in the euro as a whole.\n",
      "So what to do? By underwriting the Greeks' debts they hope to stop the financial \n",
      "turbulence spreading and protect themselves in the process. But such largesse \n",
      "is not without risk. If they do end up having to pay Greece's debts, the leaders \n",
      "meeting here know it will be both expensive and unpopular with the voters back home.\n"
     ]
    }
   ],
   "source": [
    "with open(file=\"英文新聞.txt\",mode=\"rt\") as inpf :\n",
    "    news = inpf.read()\n",
    "print(news)"
   ]
  },
  {
   "cell_type": "code",
   "execution_count": 65,
   "metadata": {
    "scrolled": true
   },
   "outputs": [
    {
     "name": "stdout",
     "output_type": "stream",
     "text": [
      "European leaders at a summit in Brussels have been discussing the Greek economy and have agreed to help the country with its financial crisis. The aim is to protect the economies of countries using the euro.This summit was supposed to be a chance for Europe's prime ministers and presidents to discuss ways to promote growth and jobs, but with the euro single currency facing its worst ever crisis, the original agenda has long since been scrapped. Instead, all the focus will be on how to shore up Greece's precarious finances. Though the Greek economy is relatively small, its membership of the euro zone means its fate is wedded to that of the stronger currencies in the single currency.For years Greek governments have spent more than they earned in taxes and borrowed to make up the shortfall. That public debt now threatens to engulf the economy. Greece's new socialist government has introduced some drastic austerity measures, such as a public sector pay freeze and fuel price increases to try to reduce the deficit, but the prospect of a default has prompted huge falls on the Greek stock market. The uncertainty has spread to other big euro debtors like Spain and Portugal. It's this contagion that most worries euro zone leaders as it risks destroying confidence in the euro as a whole.So what to do? By underwriting the Greeks' debts they hope to stop the financial turbulence spreading and protect themselves in the process. But such largesse is not without risk. If they do end up having to pay Greece's debts, the leaders meeting here know it will be both expensive and unpopular with the voters back home.\n"
     ]
    }
   ],
   "source": [
    "with open(file=\"英文新聞.txt\",mode=\"rt\") as inpf :\n",
    "    news = inpf.read()\n",
    "    news = news.replace(\"\\n\",\"\") #自己令一個\n",
    "print(news)"
   ]
  },
  {
   "cell_type": "code",
   "execution_count": 67,
   "metadata": {
    "scrolled": false
   },
   "outputs": [
    {
     "name": "stdout",
     "output_type": "stream",
     "text": [
      "['European', 'leaders', 'at', 'a', 'summit', 'in', 'Brussels', 'have', 'been', 'discussing', 'the', 'Greek', 'economy', 'and', 'have', 'agreed', 'to', 'help', 'the', 'country', 'with', 'its', 'financial', 'crisis.', 'The', 'aim', 'is', 'to', 'protect', 'the', 'economies', 'of', 'countries', 'using', 'the', 'euro.This', 'summit', 'was', 'supposed', 'to', 'be', 'a', 'chance', 'for', \"Europe's\", 'prime', 'ministers', 'and', 'presidents', 'to', 'discuss', 'ways', 'to', 'promote', 'growth', 'and', 'jobs,', 'but', 'with', 'the', 'euro', 'single', 'currency', 'facing', 'its', 'worst', 'ever', 'crisis,', 'the', 'original', 'agenda', 'has', 'long', 'since', 'been', 'scrapped.', 'Instead,', 'all', 'the', 'focus', 'will', 'be', 'on', 'how', 'to', 'shore', 'up', \"Greece's\", 'precarious', 'finances.', 'Though', 'the', 'Greek', 'economy', 'is', 'relatively', 'small,', 'its', 'membership', 'of', 'the', 'euro', 'zone', 'means', 'its', 'fate', 'is', 'wedded', 'to', 'that', 'of', 'the', 'stronger', 'currencies', 'in', 'the', 'single', 'currency.For', 'years', 'Greek', 'governments', 'have', 'spent', 'more', 'than', 'they', 'earned', 'in', 'taxes', 'and', 'borrowed', 'to', 'make', 'up', 'the', 'shortfall.', 'That', 'public', 'debt', 'now', 'threatens', 'to', 'engulf', 'the', 'economy.', \"Greece's\", 'new', 'socialist', 'government', 'has', 'introduced', 'some', 'drastic', 'austerity', 'measures,', 'such', 'as', 'a', 'public', 'sector', 'pay', 'freeze', 'and', 'fuel', 'price', 'increases', 'to', 'try', 'to', 'reduce', 'the', 'deficit,', 'but', 'the', 'prospect', 'of', 'a', 'default', 'has', 'prompted', 'huge', 'falls', 'on', 'the', 'Greek', 'stock', 'market.', 'The', 'uncertainty', 'has', 'spread', 'to', 'other', 'big', 'euro', 'debtors', 'like', 'Spain', 'and', 'Portugal.', \"It's\", 'this', 'contagion', 'that', 'most', 'worries', 'euro', 'zone', 'leaders', 'as', 'it', 'risks', 'destroying', 'confidence', 'in', 'the', 'euro', 'as', 'a', 'whole.So', 'what', 'to', 'do?', 'By', 'underwriting', 'the', \"Greeks'\", 'debts', 'they', 'hope', 'to', 'stop', 'the', 'financial', 'turbulence', 'spreading', 'and', 'protect', 'themselves', 'in', 'the', 'process.', 'But', 'such', 'largesse', 'is', 'not', 'without', 'risk.', 'If', 'they', 'do', 'end', 'up', 'having', 'to', 'pay', \"Greece's\", 'debts,', 'the', 'leaders', 'meeting', 'here', 'know', 'it', 'will', 'be', 'both', 'expensive', 'and', 'unpopular', 'with', 'the', 'voters', 'back', 'home.']\n"
     ]
    },
    {
     "data": {
      "text/plain": [
       "list"
      ]
     },
     "execution_count": 67,
     "metadata": {},
     "output_type": "execute_result"
    }
   ],
   "source": [
    "a = news.split() #用空格切\n",
    "print(a)  \n",
    "type(a)"
   ]
  },
  {
   "cell_type": "code",
   "execution_count": 68,
   "metadata": {
    "scrolled": true
   },
   "outputs": [
    {
     "name": "stdout",
     "output_type": "stream",
     "text": [
      "[('the', 22), ('to', 15), ('and', 8), ('a', 5), ('in', 5), ('euro', 5), ('Greek', 4), ('its', 4), ('is', 4), ('of', 4), ('has', 4), ('leaders', 3), ('have', 3), ('with', 3), ('be', 3), ('up', 3), (\"Greece's\", 3), ('they', 3), ('as', 3), ('summit', 2), ('been', 2), ('economy', 2), ('financial', 2), ('The', 2), ('protect', 2), ('but', 2), ('single', 2), ('will', 2), ('on', 2), ('zone', 2), ('that', 2), ('public', 2), ('such', 2), ('pay', 2), ('it', 2), ('European', 1), ('at', 1), ('Brussels', 1), ('discussing', 1), ('agreed', 1), ('help', 1), ('country', 1), ('crisis.', 1), ('aim', 1), ('economies', 1), ('countries', 1), ('using', 1), ('euro.This', 1), ('was', 1), ('supposed', 1), ('chance', 1), ('for', 1), (\"Europe's\", 1), ('prime', 1), ('ministers', 1), ('presidents', 1), ('discuss', 1), ('ways', 1), ('promote', 1), ('growth', 1), ('jobs,', 1), ('currency', 1), ('facing', 1), ('worst', 1), ('ever', 1), ('crisis,', 1), ('original', 1), ('agenda', 1), ('long', 1), ('since', 1), ('scrapped.', 1), ('Instead,', 1), ('all', 1), ('focus', 1), ('how', 1), ('shore', 1), ('precarious', 1), ('finances.', 1), ('Though', 1), ('relatively', 1), ('small,', 1), ('membership', 1), ('means', 1), ('fate', 1), ('wedded', 1), ('stronger', 1), ('currencies', 1), ('currency.For', 1), ('years', 1), ('governments', 1), ('spent', 1), ('more', 1), ('than', 1), ('earned', 1), ('taxes', 1), ('borrowed', 1), ('make', 1), ('shortfall.', 1), ('That', 1), ('debt', 1), ('now', 1), ('threatens', 1), ('engulf', 1), ('economy.', 1), ('new', 1), ('socialist', 1), ('government', 1), ('introduced', 1), ('some', 1), ('drastic', 1), ('austerity', 1), ('measures,', 1), ('sector', 1), ('freeze', 1), ('fuel', 1), ('price', 1), ('increases', 1), ('try', 1), ('reduce', 1), ('deficit,', 1), ('prospect', 1), ('default', 1), ('prompted', 1), ('huge', 1), ('falls', 1), ('stock', 1), ('market.', 1), ('uncertainty', 1), ('spread', 1), ('other', 1), ('big', 1), ('debtors', 1), ('like', 1), ('Spain', 1), ('Portugal.', 1), (\"It's\", 1), ('this', 1), ('contagion', 1), ('most', 1), ('worries', 1), ('risks', 1), ('destroying', 1), ('confidence', 1), ('whole.So', 1), ('what', 1), ('do?', 1), ('By', 1), ('underwriting', 1), (\"Greeks'\", 1), ('debts', 1), ('hope', 1), ('stop', 1), ('turbulence', 1), ('spreading', 1), ('themselves', 1), ('process.', 1), ('But', 1), ('largesse', 1), ('not', 1), ('without', 1), ('risk.', 1), ('If', 1), ('do', 1), ('end', 1), ('having', 1), ('debts,', 1), ('meeting', 1), ('here', 1), ('know', 1), ('both', 1), ('expensive', 1), ('unpopular', 1), ('voters', 1), ('back', 1), ('home.', 1)]\n"
     ]
    }
   ],
   "source": [
    "#d = news.split()\n",
    "a=news.split()\n",
    "d=dict()\n",
    "for w in a:\n",
    "    if d.get(w) == None :\n",
    "        d[w] = 1\n",
    "    else :\n",
    "        d[w] = d.get(w) + 1\n",
    "print(sorted(d.items(),key=lambda x:x[1], reverse=True))  "
   ]
  },
  {
   "cell_type": "markdown",
   "metadata": {},
   "source": [
    "### <font color=#0000FF>匯入/匯出 csv 檔案格式 (使用 pandas module)</font>\n",
    "\n",
    "Signature: <br>\n",
    "pd.read_csv(filepath_or_buffer, sep=',', delimiter=None, header='infer', names=None, index_col=None, usecols=None, squeeze=False, prefix=None, mangle_dupe_cols=True, dtype=None, engine=None, converters=None, true_values=None, false_values=None, skipinitialspace=False, skiprows=None, nrows=None, na_values=None, keep_default_na=True, na_filter=True, verbose=False, skip_blank_lines=True, parse_dates=False, infer_datetime_format=False, keep_date_col=False, date_parser=None, dayfirst=False, iterator=False, chunksize=None, compression='infer', thousands=None, decimal=b'.', lineterminator=None, quotechar='\"', quoting=0, escapechar=None, comment=None, encoding=None, dialect=None, tupleize_cols=False, error_bad_lines=True, warn_bad_lines=True, skipfooter=0, skip_footer=0, doublequote=True, delim_whitespace=False, as_recarray=False, compact_ints=False, use_unsigned=False, low_memory=True, buffer_lines=None, memory_map=False, float_precision=None)"
   ]
  },
  {
   "cell_type": "code",
   "execution_count": 69,
   "metadata": {
    "scrolled": true
   },
   "outputs": [],
   "source": [
    "import pandas as pd"
   ]
  },
  {
   "cell_type": "code",
   "execution_count": 70,
   "metadata": {
    "scrolled": true
   },
   "outputs": [],
   "source": [
    "os.chdir(r'E:\\annie\\3下課程\\MyPython\\PyData')"
   ]
  },
  {
   "cell_type": "code",
   "execution_count": 71,
   "metadata": {
    "scrolled": true
   },
   "outputs": [],
   "source": [
    "airQty = pd.read_csv('AirQty2016-06-01.csv',sep=',',engine='python')"
   ]
  },
  {
   "cell_type": "code",
   "execution_count": 72,
   "metadata": {
    "scrolled": true
   },
   "outputs": [
    {
     "name": "stdout",
     "output_type": "stream",
     "text": [
      "<class 'pandas.core.frame.DataFrame'>\n"
     ]
    }
   ],
   "source": [
    "print(type(airQty))"
   ]
  },
  {
   "cell_type": "code",
   "execution_count": 73,
   "metadata": {
    "scrolled": true
   },
   "outputs": [
    {
     "data": {
      "text/plain": [
       "1292"
      ]
     },
     "execution_count": 73,
     "metadata": {},
     "output_type": "execute_result"
    }
   ],
   "source": [
    "airQty.size"
   ]
  },
  {
   "cell_type": "code",
   "execution_count": 74,
   "metadata": {
    "scrolled": true
   },
   "outputs": [
    {
     "data": {
      "text/plain": [
       "(76, 17)"
      ]
     },
     "execution_count": 74,
     "metadata": {},
     "output_type": "execute_result"
    }
   ],
   "source": [
    "airQty.shape"
   ]
  },
  {
   "cell_type": "code",
   "execution_count": 75,
   "metadata": {
    "scrolled": true
   },
   "outputs": [
    {
     "data": {
      "text/html": [
       "<div>\n",
       "<style scoped>\n",
       "    .dataframe tbody tr th:only-of-type {\n",
       "        vertical-align: middle;\n",
       "    }\n",
       "\n",
       "    .dataframe tbody tr th {\n",
       "        vertical-align: top;\n",
       "    }\n",
       "\n",
       "    .dataframe thead th {\n",
       "        text-align: right;\n",
       "    }\n",
       "</style>\n",
       "<table border=\"1\" class=\"dataframe\">\n",
       "  <thead>\n",
       "    <tr style=\"text-align: right;\">\n",
       "      <th></th>\n",
       "      <th>SiteName</th>\n",
       "      <th>County</th>\n",
       "      <th>PSI</th>\n",
       "      <th>MajorPollutant</th>\n",
       "      <th>Status</th>\n",
       "      <th>SO2</th>\n",
       "      <th>CO</th>\n",
       "      <th>O3</th>\n",
       "      <th>PM10</th>\n",
       "      <th>PM2.5</th>\n",
       "      <th>NO2</th>\n",
       "      <th>WindSpeed</th>\n",
       "      <th>WindDirec</th>\n",
       "      <th>FPMI</th>\n",
       "      <th>NOx</th>\n",
       "      <th>NO</th>\n",
       "      <th>PublishTime</th>\n",
       "    </tr>\n",
       "  </thead>\n",
       "  <tbody>\n",
       "    <tr>\n",
       "      <th>0</th>\n",
       "      <td>麥寮</td>\n",
       "      <td>雲林縣</td>\n",
       "      <td>36</td>\n",
       "      <td>NaN</td>\n",
       "      <td>良好</td>\n",
       "      <td>1.2</td>\n",
       "      <td>0.11</td>\n",
       "      <td>10.0</td>\n",
       "      <td>35.0</td>\n",
       "      <td>7</td>\n",
       "      <td>4.5</td>\n",
       "      <td>2.2</td>\n",
       "      <td>182.0</td>\n",
       "      <td>1</td>\n",
       "      <td>6.78</td>\n",
       "      <td>2.30</td>\n",
       "      <td>2016/6/1 02:00</td>\n",
       "    </tr>\n",
       "    <tr>\n",
       "      <th>1</th>\n",
       "      <td>關山</td>\n",
       "      <td>臺東縣</td>\n",
       "      <td>23</td>\n",
       "      <td>NaN</td>\n",
       "      <td>良好</td>\n",
       "      <td>1.2</td>\n",
       "      <td>NaN</td>\n",
       "      <td>5.1</td>\n",
       "      <td>21.0</td>\n",
       "      <td>7</td>\n",
       "      <td>3.6</td>\n",
       "      <td>0.7</td>\n",
       "      <td>232.0</td>\n",
       "      <td>1</td>\n",
       "      <td>4.89</td>\n",
       "      <td>1.32</td>\n",
       "      <td>2016/6/1 02:00</td>\n",
       "    </tr>\n",
       "    <tr>\n",
       "      <th>2</th>\n",
       "      <td>馬公</td>\n",
       "      <td>澎湖縣</td>\n",
       "      <td>16</td>\n",
       "      <td>NaN</td>\n",
       "      <td>良好</td>\n",
       "      <td>0.8</td>\n",
       "      <td>0.09</td>\n",
       "      <td>20.0</td>\n",
       "      <td>5.0</td>\n",
       "      <td>2</td>\n",
       "      <td>1.7</td>\n",
       "      <td>2.5</td>\n",
       "      <td>173.0</td>\n",
       "      <td>1</td>\n",
       "      <td>3.26</td>\n",
       "      <td>1.53</td>\n",
       "      <td>2016/6/1 02:00</td>\n",
       "    </tr>\n",
       "    <tr>\n",
       "      <th>3</th>\n",
       "      <td>金門</td>\n",
       "      <td>金門縣</td>\n",
       "      <td>32</td>\n",
       "      <td>NaN</td>\n",
       "      <td>良好</td>\n",
       "      <td>1.4</td>\n",
       "      <td>0.08</td>\n",
       "      <td>20.0</td>\n",
       "      <td>25.0</td>\n",
       "      <td>2</td>\n",
       "      <td>3.8</td>\n",
       "      <td>4.9</td>\n",
       "      <td>220.0</td>\n",
       "      <td>1</td>\n",
       "      <td>4.23</td>\n",
       "      <td>0.48</td>\n",
       "      <td>2016/6/1 02:00</td>\n",
       "    </tr>\n",
       "    <tr>\n",
       "      <th>4</th>\n",
       "      <td>馬祖</td>\n",
       "      <td>連江縣</td>\n",
       "      <td>39</td>\n",
       "      <td>NaN</td>\n",
       "      <td>良好</td>\n",
       "      <td>2.8</td>\n",
       "      <td>0.08</td>\n",
       "      <td>17.0</td>\n",
       "      <td>29.0</td>\n",
       "      <td>11</td>\n",
       "      <td>6.2</td>\n",
       "      <td>6.5</td>\n",
       "      <td>200.0</td>\n",
       "      <td>2</td>\n",
       "      <td>7.74</td>\n",
       "      <td>1.55</td>\n",
       "      <td>2016/6/1 02:00</td>\n",
       "    </tr>\n",
       "  </tbody>\n",
       "</table>\n",
       "</div>"
      ],
      "text/plain": [
       "  SiteName County  PSI MajorPollutant Status  SO2    CO    O3  PM10  PM2.5  \\\n",
       "0       麥寮    雲林縣   36            NaN     良好  1.2  0.11  10.0  35.0      7   \n",
       "1       關山    臺東縣   23            NaN     良好  1.2   NaN   5.1  21.0      7   \n",
       "2       馬公    澎湖縣   16            NaN     良好  0.8  0.09  20.0   5.0      2   \n",
       "3       金門    金門縣   32            NaN     良好  1.4  0.08  20.0  25.0      2   \n",
       "4       馬祖    連江縣   39            NaN     良好  2.8  0.08  17.0  29.0     11   \n",
       "\n",
       "   NO2  WindSpeed  WindDirec  FPMI   NOx    NO     PublishTime  \n",
       "0  4.5        2.2      182.0     1  6.78  2.30  2016/6/1 02:00  \n",
       "1  3.6        0.7      232.0     1  4.89  1.32  2016/6/1 02:00  \n",
       "2  1.7        2.5      173.0     1  3.26  1.53  2016/6/1 02:00  \n",
       "3  3.8        4.9      220.0     1  4.23  0.48  2016/6/1 02:00  \n",
       "4  6.2        6.5      200.0     2  7.74  1.55  2016/6/1 02:00  "
      ]
     },
     "execution_count": 75,
     "metadata": {},
     "output_type": "execute_result"
    }
   ],
   "source": [
    "airQty.head()"
   ]
  },
  {
   "cell_type": "code",
   "execution_count": 77,
   "metadata": {
    "scrolled": true
   },
   "outputs": [
    {
     "data": {
      "text/html": [
       "<div>\n",
       "<style scoped>\n",
       "    .dataframe tbody tr th:only-of-type {\n",
       "        vertical-align: middle;\n",
       "    }\n",
       "\n",
       "    .dataframe tbody tr th {\n",
       "        vertical-align: top;\n",
       "    }\n",
       "\n",
       "    .dataframe thead th {\n",
       "        text-align: right;\n",
       "    }\n",
       "</style>\n",
       "<table border=\"1\" class=\"dataframe\">\n",
       "  <thead>\n",
       "    <tr style=\"text-align: right;\">\n",
       "      <th></th>\n",
       "      <th>SiteName</th>\n",
       "      <th>County</th>\n",
       "      <th>PSI</th>\n",
       "      <th>MajorPollutant</th>\n",
       "      <th>Status</th>\n",
       "      <th>SO2</th>\n",
       "      <th>CO</th>\n",
       "      <th>O3</th>\n",
       "      <th>PM10</th>\n",
       "      <th>PM2.5</th>\n",
       "      <th>NO2</th>\n",
       "      <th>WindSpeed</th>\n",
       "      <th>WindDirec</th>\n",
       "      <th>FPMI</th>\n",
       "      <th>NOx</th>\n",
       "      <th>NO</th>\n",
       "      <th>PublishTime</th>\n",
       "    </tr>\n",
       "  </thead>\n",
       "  <tbody>\n",
       "    <tr>\n",
       "      <th>0</th>\n",
       "      <td>麥寮</td>\n",
       "      <td>雲林縣</td>\n",
       "      <td>36</td>\n",
       "      <td>NaN</td>\n",
       "      <td>良好</td>\n",
       "      <td>1.2</td>\n",
       "      <td>0.11</td>\n",
       "      <td>10.0</td>\n",
       "      <td>35.0</td>\n",
       "      <td>7</td>\n",
       "      <td>4.5</td>\n",
       "      <td>2.2</td>\n",
       "      <td>182.0</td>\n",
       "      <td>1</td>\n",
       "      <td>6.78</td>\n",
       "      <td>2.30</td>\n",
       "      <td>2016/6/1 02:00</td>\n",
       "    </tr>\n",
       "    <tr>\n",
       "      <th>1</th>\n",
       "      <td>關山</td>\n",
       "      <td>臺東縣</td>\n",
       "      <td>23</td>\n",
       "      <td>NaN</td>\n",
       "      <td>良好</td>\n",
       "      <td>1.2</td>\n",
       "      <td>NaN</td>\n",
       "      <td>5.1</td>\n",
       "      <td>21.0</td>\n",
       "      <td>7</td>\n",
       "      <td>3.6</td>\n",
       "      <td>0.7</td>\n",
       "      <td>232.0</td>\n",
       "      <td>1</td>\n",
       "      <td>4.89</td>\n",
       "      <td>1.32</td>\n",
       "      <td>2016/6/1 02:00</td>\n",
       "    </tr>\n",
       "    <tr>\n",
       "      <th>2</th>\n",
       "      <td>馬公</td>\n",
       "      <td>澎湖縣</td>\n",
       "      <td>16</td>\n",
       "      <td>NaN</td>\n",
       "      <td>良好</td>\n",
       "      <td>0.8</td>\n",
       "      <td>0.09</td>\n",
       "      <td>20.0</td>\n",
       "      <td>5.0</td>\n",
       "      <td>2</td>\n",
       "      <td>1.7</td>\n",
       "      <td>2.5</td>\n",
       "      <td>173.0</td>\n",
       "      <td>1</td>\n",
       "      <td>3.26</td>\n",
       "      <td>1.53</td>\n",
       "      <td>2016/6/1 02:00</td>\n",
       "    </tr>\n",
       "  </tbody>\n",
       "</table>\n",
       "</div>"
      ],
      "text/plain": [
       "  SiteName County  PSI MajorPollutant Status  SO2    CO    O3  PM10  PM2.5  \\\n",
       "0       麥寮    雲林縣   36            NaN     良好  1.2  0.11  10.0  35.0      7   \n",
       "1       關山    臺東縣   23            NaN     良好  1.2   NaN   5.1  21.0      7   \n",
       "2       馬公    澎湖縣   16            NaN     良好  0.8  0.09  20.0   5.0      2   \n",
       "\n",
       "   NO2  WindSpeed  WindDirec  FPMI   NOx    NO     PublishTime  \n",
       "0  4.5        2.2      182.0     1  6.78  2.30  2016/6/1 02:00  \n",
       "1  3.6        0.7      232.0     1  4.89  1.32  2016/6/1 02:00  \n",
       "2  1.7        2.5      173.0     1  3.26  1.53  2016/6/1 02:00  "
      ]
     },
     "execution_count": 77,
     "metadata": {},
     "output_type": "execute_result"
    }
   ],
   "source": [
    "airQty.head(n=3)"
   ]
  },
  {
   "cell_type": "code",
   "execution_count": 76,
   "metadata": {
    "scrolled": true
   },
   "outputs": [
    {
     "data": {
      "text/plain": [
       "0      7\n",
       "1      7\n",
       "2      2\n",
       "3      2\n",
       "4     11\n",
       "5     10\n",
       "6      1\n",
       "7     11\n",
       "8      8\n",
       "9      5\n",
       "10    18\n",
       "11     9\n",
       "12    14\n",
       "13    10\n",
       "14    11\n",
       "15     9\n",
       "16     1\n",
       "17    11\n",
       "18    18\n",
       "19     0\n",
       "20     3\n",
       "21    15\n",
       "22     9\n",
       "23    15\n",
       "24     5\n",
       "25     0\n",
       "26     0\n",
       "27     7\n",
       "28     7\n",
       "29     6\n",
       "      ..\n",
       "46     2\n",
       "47    10\n",
       "48    13\n",
       "49     5\n",
       "50    16\n",
       "51     7\n",
       "52     5\n",
       "53    13\n",
       "54     8\n",
       "55    21\n",
       "56    13\n",
       "57    19\n",
       "58     6\n",
       "59    15\n",
       "60    13\n",
       "61    13\n",
       "62    12\n",
       "63    10\n",
       "64    23\n",
       "65    14\n",
       "66    12\n",
       "67    14\n",
       "68    18\n",
       "69    29\n",
       "70     7\n",
       "71    18\n",
       "72    14\n",
       "73    15\n",
       "74    18\n",
       "75    16\n",
       "Name: PM2.5, Length: 76, dtype: int64"
      ]
     },
     "execution_count": 76,
     "metadata": {},
     "output_type": "execute_result"
    }
   ],
   "source": [
    "airQty['PM2.5'] #名稱不要有."
   ]
  },
  {
   "cell_type": "code",
   "execution_count": 77,
   "metadata": {
    "scrolled": true
   },
   "outputs": [
    {
     "name": "stdout",
     "output_type": "stream",
     "text": [
      "0     雲林縣\n",
      "1     臺東縣\n",
      "2     澎湖縣\n",
      "3     金門縣\n",
      "4     連江縣\n",
      "5     南投縣\n",
      "6     高雄市\n",
      "7     新北市\n",
      "8     南投縣\n",
      "9     桃園市\n",
      "10    新北市\n",
      "11    宜蘭縣\n",
      "12    宜蘭縣\n",
      "13    臺北市\n",
      "14    花蓮縣\n",
      "15    臺東縣\n",
      "16    屏東縣\n",
      "17    屏東縣\n",
      "18    屏東縣\n",
      "19    高雄市\n",
      "20    高雄市\n",
      "21    高雄市\n",
      "22    高雄市\n",
      "23    高雄市\n",
      "24    高雄市\n",
      "25    高雄市\n",
      "26    高雄市\n",
      "27    高雄市\n",
      "28    高雄市\n",
      "29    高雄市\n",
      "     ... \n",
      "46    臺中市\n",
      "47    臺中市\n",
      "48    臺中市\n",
      "49    苗栗縣\n",
      "50    苗栗縣\n",
      "51    苗栗縣\n",
      "52    新竹市\n",
      "53    新竹縣\n",
      "54    新竹縣\n",
      "55    桃園市\n",
      "56    桃園市\n",
      "57    桃園市\n",
      "58    桃園市\n",
      "59    桃園市\n",
      "60    臺北市\n",
      "61    臺北市\n",
      "62    臺北市\n",
      "63    臺北市\n",
      "64    臺北市\n",
      "65    臺北市\n",
      "66    新北市\n",
      "67    新北市\n",
      "68    新北市\n",
      "69    新北市\n",
      "70    新北市\n",
      "71    新北市\n",
      "72    新北市\n",
      "73    新北市\n",
      "74    新北市\n",
      "75    基隆市\n",
      "Name: County, Length: 76, dtype: object\n",
      "0     雲林縣\n",
      "1     臺東縣\n",
      "2     澎湖縣\n",
      "3     金門縣\n",
      "4     連江縣\n",
      "5     南投縣\n",
      "6     高雄市\n",
      "7     新北市\n",
      "8     南投縣\n",
      "9     桃園市\n",
      "10    新北市\n",
      "11    宜蘭縣\n",
      "12    宜蘭縣\n",
      "13    臺北市\n",
      "14    花蓮縣\n",
      "15    臺東縣\n",
      "16    屏東縣\n",
      "17    屏東縣\n",
      "18    屏東縣\n",
      "19    高雄市\n",
      "20    高雄市\n",
      "21    高雄市\n",
      "22    高雄市\n",
      "23    高雄市\n",
      "24    高雄市\n",
      "25    高雄市\n",
      "26    高雄市\n",
      "27    高雄市\n",
      "28    高雄市\n",
      "29    高雄市\n",
      "     ... \n",
      "46    臺中市\n",
      "47    臺中市\n",
      "48    臺中市\n",
      "49    苗栗縣\n",
      "50    苗栗縣\n",
      "51    苗栗縣\n",
      "52    新竹市\n",
      "53    新竹縣\n",
      "54    新竹縣\n",
      "55    桃園市\n",
      "56    桃園市\n",
      "57    桃園市\n",
      "58    桃園市\n",
      "59    桃園市\n",
      "60    臺北市\n",
      "61    臺北市\n",
      "62    臺北市\n",
      "63    臺北市\n",
      "64    臺北市\n",
      "65    臺北市\n",
      "66    新北市\n",
      "67    新北市\n",
      "68    新北市\n",
      "69    新北市\n",
      "70    新北市\n",
      "71    新北市\n",
      "72    新北市\n",
      "73    新北市\n",
      "74    新北市\n",
      "75    基隆市\n",
      "Name: County, Length: 76, dtype: object\n"
     ]
    }
   ],
   "source": [
    "#一樣的意思\n",
    "print(airQty.County)\n",
    "print(airQty['County'])"
   ]
  },
  {
   "cell_type": "code",
   "execution_count": 78,
   "metadata": {
    "scrolled": true
   },
   "outputs": [
    {
     "data": {
      "text/plain": [
       "Index(['SiteName', 'County', 'PSI', 'MajorPollutant', 'Status', 'SO2', 'CO',\n",
       "       'O3', 'PM10', 'PM2.5', 'NO2', 'WindSpeed', 'WindDirec', 'FPMI', 'NOx',\n",
       "       'NO', 'PublishTime'],\n",
       "      dtype='object')"
      ]
     },
     "execution_count": 78,
     "metadata": {},
     "output_type": "execute_result"
    }
   ],
   "source": [
    "airQty.columns#列出 DataFrame 的所有 columns Name"
   ]
  },
  {
   "cell_type": "code",
   "execution_count": 79,
   "metadata": {
    "scrolled": true
   },
   "outputs": [
    {
     "data": {
      "text/html": [
       "<div>\n",
       "<style scoped>\n",
       "    .dataframe tbody tr th:only-of-type {\n",
       "        vertical-align: middle;\n",
       "    }\n",
       "\n",
       "    .dataframe tbody tr th {\n",
       "        vertical-align: top;\n",
       "    }\n",
       "\n",
       "    .dataframe thead th {\n",
       "        text-align: right;\n",
       "    }\n",
       "</style>\n",
       "<table border=\"1\" class=\"dataframe\">\n",
       "  <thead>\n",
       "    <tr style=\"text-align: right;\">\n",
       "      <th></th>\n",
       "      <th>SiteName</th>\n",
       "      <th>County</th>\n",
       "      <th>PSI</th>\n",
       "    </tr>\n",
       "  </thead>\n",
       "  <tbody>\n",
       "    <tr>\n",
       "      <th>0</th>\n",
       "      <td>麥寮</td>\n",
       "      <td>雲林縣</td>\n",
       "      <td>36</td>\n",
       "    </tr>\n",
       "    <tr>\n",
       "      <th>1</th>\n",
       "      <td>關山</td>\n",
       "      <td>臺東縣</td>\n",
       "      <td>23</td>\n",
       "    </tr>\n",
       "    <tr>\n",
       "      <th>2</th>\n",
       "      <td>馬公</td>\n",
       "      <td>澎湖縣</td>\n",
       "      <td>16</td>\n",
       "    </tr>\n",
       "    <tr>\n",
       "      <th>3</th>\n",
       "      <td>金門</td>\n",
       "      <td>金門縣</td>\n",
       "      <td>32</td>\n",
       "    </tr>\n",
       "    <tr>\n",
       "      <th>4</th>\n",
       "      <td>馬祖</td>\n",
       "      <td>連江縣</td>\n",
       "      <td>39</td>\n",
       "    </tr>\n",
       "    <tr>\n",
       "      <th>5</th>\n",
       "      <td>埔里</td>\n",
       "      <td>南投縣</td>\n",
       "      <td>28</td>\n",
       "    </tr>\n",
       "    <tr>\n",
       "      <th>6</th>\n",
       "      <td>復興</td>\n",
       "      <td>高雄市</td>\n",
       "      <td>20</td>\n",
       "    </tr>\n",
       "    <tr>\n",
       "      <th>7</th>\n",
       "      <td>永和</td>\n",
       "      <td>新北市</td>\n",
       "      <td>37</td>\n",
       "    </tr>\n",
       "    <tr>\n",
       "      <th>8</th>\n",
       "      <td>竹山</td>\n",
       "      <td>南投縣</td>\n",
       "      <td>25</td>\n",
       "    </tr>\n",
       "    <tr>\n",
       "      <th>9</th>\n",
       "      <td>中壢</td>\n",
       "      <td>桃園市</td>\n",
       "      <td>50</td>\n",
       "    </tr>\n",
       "    <tr>\n",
       "      <th>10</th>\n",
       "      <td>三重</td>\n",
       "      <td>新北市</td>\n",
       "      <td>52</td>\n",
       "    </tr>\n",
       "    <tr>\n",
       "      <th>11</th>\n",
       "      <td>冬山</td>\n",
       "      <td>宜蘭縣</td>\n",
       "      <td>31</td>\n",
       "    </tr>\n",
       "    <tr>\n",
       "      <th>12</th>\n",
       "      <td>宜蘭</td>\n",
       "      <td>宜蘭縣</td>\n",
       "      <td>34</td>\n",
       "    </tr>\n",
       "    <tr>\n",
       "      <th>13</th>\n",
       "      <td>陽明</td>\n",
       "      <td>臺北市</td>\n",
       "      <td>17</td>\n",
       "    </tr>\n",
       "    <tr>\n",
       "      <th>14</th>\n",
       "      <td>花蓮</td>\n",
       "      <td>花蓮縣</td>\n",
       "      <td>29</td>\n",
       "    </tr>\n",
       "    <tr>\n",
       "      <th>15</th>\n",
       "      <td>臺東</td>\n",
       "      <td>臺東縣</td>\n",
       "      <td>23</td>\n",
       "    </tr>\n",
       "    <tr>\n",
       "      <th>16</th>\n",
       "      <td>恆春</td>\n",
       "      <td>屏東縣</td>\n",
       "      <td>20</td>\n",
       "    </tr>\n",
       "    <tr>\n",
       "      <th>17</th>\n",
       "      <td>潮州</td>\n",
       "      <td>屏東縣</td>\n",
       "      <td>35</td>\n",
       "    </tr>\n",
       "    <tr>\n",
       "      <th>18</th>\n",
       "      <td>屏東</td>\n",
       "      <td>屏東縣</td>\n",
       "      <td>34</td>\n",
       "    </tr>\n",
       "    <tr>\n",
       "      <th>19</th>\n",
       "      <td>小港</td>\n",
       "      <td>高雄市</td>\n",
       "      <td>22</td>\n",
       "    </tr>\n",
       "    <tr>\n",
       "      <th>20</th>\n",
       "      <td>前鎮</td>\n",
       "      <td>高雄市</td>\n",
       "      <td>18</td>\n",
       "    </tr>\n",
       "    <tr>\n",
       "      <th>21</th>\n",
       "      <td>前金</td>\n",
       "      <td>高雄市</td>\n",
       "      <td>24</td>\n",
       "    </tr>\n",
       "    <tr>\n",
       "      <th>22</th>\n",
       "      <td>左營</td>\n",
       "      <td>高雄市</td>\n",
       "      <td>27</td>\n",
       "    </tr>\n",
       "    <tr>\n",
       "      <th>23</th>\n",
       "      <td>楠梓</td>\n",
       "      <td>高雄市</td>\n",
       "      <td>40</td>\n",
       "    </tr>\n",
       "    <tr>\n",
       "      <th>24</th>\n",
       "      <td>林園</td>\n",
       "      <td>高雄市</td>\n",
       "      <td>17</td>\n",
       "    </tr>\n",
       "    <tr>\n",
       "      <th>25</th>\n",
       "      <td>大寮</td>\n",
       "      <td>高雄市</td>\n",
       "      <td>29</td>\n",
       "    </tr>\n",
       "    <tr>\n",
       "      <th>26</th>\n",
       "      <td>鳳山</td>\n",
       "      <td>高雄市</td>\n",
       "      <td>33</td>\n",
       "    </tr>\n",
       "    <tr>\n",
       "      <th>27</th>\n",
       "      <td>仁武</td>\n",
       "      <td>高雄市</td>\n",
       "      <td>29</td>\n",
       "    </tr>\n",
       "    <tr>\n",
       "      <th>28</th>\n",
       "      <td>橋頭</td>\n",
       "      <td>高雄市</td>\n",
       "      <td>24</td>\n",
       "    </tr>\n",
       "    <tr>\n",
       "      <th>29</th>\n",
       "      <td>美濃</td>\n",
       "      <td>高雄市</td>\n",
       "      <td>17</td>\n",
       "    </tr>\n",
       "    <tr>\n",
       "      <th>...</th>\n",
       "      <td>...</td>\n",
       "      <td>...</td>\n",
       "      <td>...</td>\n",
       "    </tr>\n",
       "    <tr>\n",
       "      <th>46</th>\n",
       "      <td>大里</td>\n",
       "      <td>臺中市</td>\n",
       "      <td>43</td>\n",
       "    </tr>\n",
       "    <tr>\n",
       "      <th>47</th>\n",
       "      <td>沙鹿</td>\n",
       "      <td>臺中市</td>\n",
       "      <td>18</td>\n",
       "    </tr>\n",
       "    <tr>\n",
       "      <th>48</th>\n",
       "      <td>豐原</td>\n",
       "      <td>臺中市</td>\n",
       "      <td>15</td>\n",
       "    </tr>\n",
       "    <tr>\n",
       "      <th>49</th>\n",
       "      <td>三義</td>\n",
       "      <td>苗栗縣</td>\n",
       "      <td>19</td>\n",
       "    </tr>\n",
       "    <tr>\n",
       "      <th>50</th>\n",
       "      <td>苗栗</td>\n",
       "      <td>苗栗縣</td>\n",
       "      <td>31</td>\n",
       "    </tr>\n",
       "    <tr>\n",
       "      <th>51</th>\n",
       "      <td>頭份</td>\n",
       "      <td>苗栗縣</td>\n",
       "      <td>29</td>\n",
       "    </tr>\n",
       "    <tr>\n",
       "      <th>52</th>\n",
       "      <td>新竹</td>\n",
       "      <td>新竹市</td>\n",
       "      <td>25</td>\n",
       "    </tr>\n",
       "    <tr>\n",
       "      <th>53</th>\n",
       "      <td>竹東</td>\n",
       "      <td>新竹縣</td>\n",
       "      <td>33</td>\n",
       "    </tr>\n",
       "    <tr>\n",
       "      <th>54</th>\n",
       "      <td>湖口</td>\n",
       "      <td>新竹縣</td>\n",
       "      <td>22</td>\n",
       "    </tr>\n",
       "    <tr>\n",
       "      <th>55</th>\n",
       "      <td>龍潭</td>\n",
       "      <td>桃園市</td>\n",
       "      <td>45</td>\n",
       "    </tr>\n",
       "    <tr>\n",
       "      <th>56</th>\n",
       "      <td>平鎮</td>\n",
       "      <td>桃園市</td>\n",
       "      <td>37</td>\n",
       "    </tr>\n",
       "    <tr>\n",
       "      <th>57</th>\n",
       "      <td>觀音</td>\n",
       "      <td>桃園市</td>\n",
       "      <td>33</td>\n",
       "    </tr>\n",
       "    <tr>\n",
       "      <th>58</th>\n",
       "      <td>大園</td>\n",
       "      <td>桃園市</td>\n",
       "      <td>28</td>\n",
       "    </tr>\n",
       "    <tr>\n",
       "      <th>59</th>\n",
       "      <td>桃園</td>\n",
       "      <td>桃園市</td>\n",
       "      <td>36</td>\n",
       "    </tr>\n",
       "    <tr>\n",
       "      <th>60</th>\n",
       "      <td>大同</td>\n",
       "      <td>臺北市</td>\n",
       "      <td>46</td>\n",
       "    </tr>\n",
       "    <tr>\n",
       "      <th>61</th>\n",
       "      <td>松山</td>\n",
       "      <td>臺北市</td>\n",
       "      <td>34</td>\n",
       "    </tr>\n",
       "    <tr>\n",
       "      <th>62</th>\n",
       "      <td>古亭</td>\n",
       "      <td>臺北市</td>\n",
       "      <td>35</td>\n",
       "    </tr>\n",
       "    <tr>\n",
       "      <th>63</th>\n",
       "      <td>萬華</td>\n",
       "      <td>臺北市</td>\n",
       "      <td>39</td>\n",
       "    </tr>\n",
       "    <tr>\n",
       "      <th>64</th>\n",
       "      <td>中山</td>\n",
       "      <td>臺北市</td>\n",
       "      <td>42</td>\n",
       "    </tr>\n",
       "    <tr>\n",
       "      <th>65</th>\n",
       "      <td>士林</td>\n",
       "      <td>臺北市</td>\n",
       "      <td>28</td>\n",
       "    </tr>\n",
       "    <tr>\n",
       "      <th>66</th>\n",
       "      <td>淡水</td>\n",
       "      <td>新北市</td>\n",
       "      <td>39</td>\n",
       "    </tr>\n",
       "    <tr>\n",
       "      <th>67</th>\n",
       "      <td>林口</td>\n",
       "      <td>新北市</td>\n",
       "      <td>34</td>\n",
       "    </tr>\n",
       "    <tr>\n",
       "      <th>68</th>\n",
       "      <td>菜寮</td>\n",
       "      <td>新北市</td>\n",
       "      <td>41</td>\n",
       "    </tr>\n",
       "    <tr>\n",
       "      <th>69</th>\n",
       "      <td>新莊</td>\n",
       "      <td>新北市</td>\n",
       "      <td>37</td>\n",
       "    </tr>\n",
       "    <tr>\n",
       "      <th>70</th>\n",
       "      <td>板橋</td>\n",
       "      <td>新北市</td>\n",
       "      <td>44</td>\n",
       "    </tr>\n",
       "    <tr>\n",
       "      <th>71</th>\n",
       "      <td>土城</td>\n",
       "      <td>新北市</td>\n",
       "      <td>37</td>\n",
       "    </tr>\n",
       "    <tr>\n",
       "      <th>72</th>\n",
       "      <td>新店</td>\n",
       "      <td>新北市</td>\n",
       "      <td>36</td>\n",
       "    </tr>\n",
       "    <tr>\n",
       "      <th>73</th>\n",
       "      <td>萬里</td>\n",
       "      <td>新北市</td>\n",
       "      <td>35</td>\n",
       "    </tr>\n",
       "    <tr>\n",
       "      <th>74</th>\n",
       "      <td>汐止</td>\n",
       "      <td>新北市</td>\n",
       "      <td>39</td>\n",
       "    </tr>\n",
       "    <tr>\n",
       "      <th>75</th>\n",
       "      <td>基隆</td>\n",
       "      <td>基隆市</td>\n",
       "      <td>36</td>\n",
       "    </tr>\n",
       "  </tbody>\n",
       "</table>\n",
       "<p>76 rows × 3 columns</p>\n",
       "</div>"
      ],
      "text/plain": [
       "   SiteName County  PSI\n",
       "0        麥寮    雲林縣   36\n",
       "1        關山    臺東縣   23\n",
       "2        馬公    澎湖縣   16\n",
       "3        金門    金門縣   32\n",
       "4        馬祖    連江縣   39\n",
       "5        埔里    南投縣   28\n",
       "6        復興    高雄市   20\n",
       "7        永和    新北市   37\n",
       "8        竹山    南投縣   25\n",
       "9        中壢    桃園市   50\n",
       "10       三重    新北市   52\n",
       "11       冬山    宜蘭縣   31\n",
       "12       宜蘭    宜蘭縣   34\n",
       "13       陽明    臺北市   17\n",
       "14       花蓮    花蓮縣   29\n",
       "15       臺東    臺東縣   23\n",
       "16       恆春    屏東縣   20\n",
       "17       潮州    屏東縣   35\n",
       "18       屏東    屏東縣   34\n",
       "19       小港    高雄市   22\n",
       "20       前鎮    高雄市   18\n",
       "21       前金    高雄市   24\n",
       "22       左營    高雄市   27\n",
       "23       楠梓    高雄市   40\n",
       "24       林園    高雄市   17\n",
       "25       大寮    高雄市   29\n",
       "26       鳳山    高雄市   33\n",
       "27       仁武    高雄市   29\n",
       "28       橋頭    高雄市   24\n",
       "29       美濃    高雄市   17\n",
       "..      ...    ...  ...\n",
       "46       大里    臺中市   43\n",
       "47       沙鹿    臺中市   18\n",
       "48       豐原    臺中市   15\n",
       "49       三義    苗栗縣   19\n",
       "50       苗栗    苗栗縣   31\n",
       "51       頭份    苗栗縣   29\n",
       "52       新竹    新竹市   25\n",
       "53       竹東    新竹縣   33\n",
       "54       湖口    新竹縣   22\n",
       "55       龍潭    桃園市   45\n",
       "56       平鎮    桃園市   37\n",
       "57       觀音    桃園市   33\n",
       "58       大園    桃園市   28\n",
       "59       桃園    桃園市   36\n",
       "60       大同    臺北市   46\n",
       "61       松山    臺北市   34\n",
       "62       古亭    臺北市   35\n",
       "63       萬華    臺北市   39\n",
       "64       中山    臺北市   42\n",
       "65       士林    臺北市   28\n",
       "66       淡水    新北市   39\n",
       "67       林口    新北市   34\n",
       "68       菜寮    新北市   41\n",
       "69       新莊    新北市   37\n",
       "70       板橋    新北市   44\n",
       "71       土城    新北市   37\n",
       "72       新店    新北市   36\n",
       "73       萬里    新北市   35\n",
       "74       汐止    新北市   39\n",
       "75       基隆    基隆市   36\n",
       "\n",
       "[76 rows x 3 columns]"
      ]
     },
     "execution_count": 79,
     "metadata": {},
     "output_type": "execute_result"
    }
   ],
   "source": [
    "airQty[['SiteName', 'County', 'PSI']] #欲列出多個 columns 時，要加上 [ ]"
   ]
  },
  {
   "cell_type": "markdown",
   "metadata": {},
   "source": [
    "### <font color=#0000FF>匯入/匯出 excel 檔案格式</font>\n",
    "\n",
    "Signature: <br>\n",
    "pd.read_excel(io, sheetname=0, header=0, skiprows=None, skip_footer=0, index_col=None, names=None, parse_cols=None, parse_dates=False, date_parser=None, na_values=None, thousands=None, convert_float=True, has_index_names=None, converters=None, dtype=None, true_values=None, false_values=None, engine=None, squeeze=False, **kwds)"
   ]
  },
  {
   "cell_type": "code",
   "execution_count": 80,
   "metadata": {
    "scrolled": true
   },
   "outputs": [],
   "source": [
    "airQty = pd.read_excel(\"AirQty2016-06-01.xlsx\",sheet_name='2016-06-01')"
   ]
  },
  {
   "cell_type": "code",
   "execution_count": 81,
   "metadata": {
    "scrolled": true
   },
   "outputs": [
    {
     "data": {
      "text/html": [
       "<div>\n",
       "<style scoped>\n",
       "    .dataframe tbody tr th:only-of-type {\n",
       "        vertical-align: middle;\n",
       "    }\n",
       "\n",
       "    .dataframe tbody tr th {\n",
       "        vertical-align: top;\n",
       "    }\n",
       "\n",
       "    .dataframe thead th {\n",
       "        text-align: right;\n",
       "    }\n",
       "</style>\n",
       "<table border=\"1\" class=\"dataframe\">\n",
       "  <thead>\n",
       "    <tr style=\"text-align: right;\">\n",
       "      <th></th>\n",
       "      <th>SiteName</th>\n",
       "      <th>County</th>\n",
       "      <th>PSI</th>\n",
       "      <th>MajorPollutant</th>\n",
       "      <th>Status</th>\n",
       "      <th>SO2</th>\n",
       "      <th>CO</th>\n",
       "      <th>O3</th>\n",
       "      <th>PM10</th>\n",
       "      <th>PM2.5</th>\n",
       "      <th>NO2</th>\n",
       "      <th>WindSpeed</th>\n",
       "      <th>WindDirec</th>\n",
       "      <th>FPMI</th>\n",
       "      <th>NOx</th>\n",
       "      <th>NO</th>\n",
       "      <th>PublishTime</th>\n",
       "    </tr>\n",
       "  </thead>\n",
       "  <tbody>\n",
       "    <tr>\n",
       "      <th>0</th>\n",
       "      <td>麥寮</td>\n",
       "      <td>雲林縣</td>\n",
       "      <td>36</td>\n",
       "      <td>NaN</td>\n",
       "      <td>良好</td>\n",
       "      <td>1.2</td>\n",
       "      <td>0.11</td>\n",
       "      <td>10.0</td>\n",
       "      <td>35.0</td>\n",
       "      <td>7</td>\n",
       "      <td>4.5</td>\n",
       "      <td>2.2</td>\n",
       "      <td>182.0</td>\n",
       "      <td>1</td>\n",
       "      <td>6.78</td>\n",
       "      <td>2.30</td>\n",
       "      <td>2016-06-01 02:00:00</td>\n",
       "    </tr>\n",
       "    <tr>\n",
       "      <th>1</th>\n",
       "      <td>關山</td>\n",
       "      <td>臺東縣</td>\n",
       "      <td>23</td>\n",
       "      <td>NaN</td>\n",
       "      <td>良好</td>\n",
       "      <td>1.2</td>\n",
       "      <td>NaN</td>\n",
       "      <td>5.1</td>\n",
       "      <td>21.0</td>\n",
       "      <td>7</td>\n",
       "      <td>3.6</td>\n",
       "      <td>0.7</td>\n",
       "      <td>232.0</td>\n",
       "      <td>1</td>\n",
       "      <td>4.89</td>\n",
       "      <td>1.32</td>\n",
       "      <td>2016-06-01 02:00:00</td>\n",
       "    </tr>\n",
       "    <tr>\n",
       "      <th>2</th>\n",
       "      <td>馬公</td>\n",
       "      <td>澎湖縣</td>\n",
       "      <td>16</td>\n",
       "      <td>NaN</td>\n",
       "      <td>良好</td>\n",
       "      <td>0.8</td>\n",
       "      <td>0.09</td>\n",
       "      <td>20.0</td>\n",
       "      <td>5.0</td>\n",
       "      <td>2</td>\n",
       "      <td>1.7</td>\n",
       "      <td>2.5</td>\n",
       "      <td>173.0</td>\n",
       "      <td>1</td>\n",
       "      <td>3.26</td>\n",
       "      <td>1.53</td>\n",
       "      <td>2016-06-01 02:00:00</td>\n",
       "    </tr>\n",
       "  </tbody>\n",
       "</table>\n",
       "</div>"
      ],
      "text/plain": [
       "  SiteName County  PSI MajorPollutant Status  SO2    CO    O3  PM10  PM2.5  \\\n",
       "0       麥寮    雲林縣   36            NaN     良好  1.2  0.11  10.0  35.0      7   \n",
       "1       關山    臺東縣   23            NaN     良好  1.2   NaN   5.1  21.0      7   \n",
       "2       馬公    澎湖縣   16            NaN     良好  0.8  0.09  20.0   5.0      2   \n",
       "\n",
       "   NO2  WindSpeed  WindDirec  FPMI   NOx    NO         PublishTime  \n",
       "0  4.5        2.2      182.0     1  6.78  2.30 2016-06-01 02:00:00  \n",
       "1  3.6        0.7      232.0     1  4.89  1.32 2016-06-01 02:00:00  \n",
       "2  1.7        2.5      173.0     1  3.26  1.53 2016-06-01 02:00:00  "
      ]
     },
     "execution_count": 81,
     "metadata": {},
     "output_type": "execute_result"
    }
   ],
   "source": [
    "airQty.head(n=3)"
   ]
  },
  {
   "cell_type": "code",
   "execution_count": 82,
   "metadata": {
    "scrolled": true
   },
   "outputs": [],
   "source": [
    "airQty = pd.read_excel(\"AirQty2016-06-01.xlsx\",sheet_name=0)"
   ]
  },
  {
   "cell_type": "code",
   "execution_count": 83,
   "metadata": {
    "scrolled": true
   },
   "outputs": [
    {
     "data": {
      "text/html": [
       "<div>\n",
       "<style scoped>\n",
       "    .dataframe tbody tr th:only-of-type {\n",
       "        vertical-align: middle;\n",
       "    }\n",
       "\n",
       "    .dataframe tbody tr th {\n",
       "        vertical-align: top;\n",
       "    }\n",
       "\n",
       "    .dataframe thead th {\n",
       "        text-align: right;\n",
       "    }\n",
       "</style>\n",
       "<table border=\"1\" class=\"dataframe\">\n",
       "  <thead>\n",
       "    <tr style=\"text-align: right;\">\n",
       "      <th></th>\n",
       "      <th>SiteName</th>\n",
       "      <th>County</th>\n",
       "      <th>PSI</th>\n",
       "      <th>MajorPollutant</th>\n",
       "      <th>Status</th>\n",
       "      <th>SO2</th>\n",
       "      <th>CO</th>\n",
       "      <th>O3</th>\n",
       "      <th>PM10</th>\n",
       "      <th>PM2.5</th>\n",
       "      <th>NO2</th>\n",
       "      <th>WindSpeed</th>\n",
       "      <th>WindDirec</th>\n",
       "      <th>FPMI</th>\n",
       "      <th>NOx</th>\n",
       "      <th>NO</th>\n",
       "      <th>PublishTime</th>\n",
       "    </tr>\n",
       "  </thead>\n",
       "  <tbody>\n",
       "    <tr>\n",
       "      <th>73</th>\n",
       "      <td>萬里</td>\n",
       "      <td>新北市</td>\n",
       "      <td>35</td>\n",
       "      <td>NaN</td>\n",
       "      <td>良好</td>\n",
       "      <td>2.6</td>\n",
       "      <td>0.27</td>\n",
       "      <td>8.7</td>\n",
       "      <td>28.0</td>\n",
       "      <td>15</td>\n",
       "      <td>8.8</td>\n",
       "      <td>2.4</td>\n",
       "      <td>212.0</td>\n",
       "      <td>2</td>\n",
       "      <td>9.84</td>\n",
       "      <td>1.05</td>\n",
       "      <td>2016-06-01 02:00:00</td>\n",
       "    </tr>\n",
       "    <tr>\n",
       "      <th>74</th>\n",
       "      <td>汐止</td>\n",
       "      <td>新北市</td>\n",
       "      <td>39</td>\n",
       "      <td>NaN</td>\n",
       "      <td>良好</td>\n",
       "      <td>2.2</td>\n",
       "      <td>0.41</td>\n",
       "      <td>0.9</td>\n",
       "      <td>37.0</td>\n",
       "      <td>18</td>\n",
       "      <td>15.0</td>\n",
       "      <td>0.6</td>\n",
       "      <td>331.0</td>\n",
       "      <td>2</td>\n",
       "      <td>21.52</td>\n",
       "      <td>6.42</td>\n",
       "      <td>2016-06-01 02:00:00</td>\n",
       "    </tr>\n",
       "    <tr>\n",
       "      <th>75</th>\n",
       "      <td>基隆</td>\n",
       "      <td>基隆市</td>\n",
       "      <td>36</td>\n",
       "      <td>NaN</td>\n",
       "      <td>良好</td>\n",
       "      <td>3.4</td>\n",
       "      <td>0.30</td>\n",
       "      <td>3.7</td>\n",
       "      <td>32.0</td>\n",
       "      <td>16</td>\n",
       "      <td>16.0</td>\n",
       "      <td>1.1</td>\n",
       "      <td>276.0</td>\n",
       "      <td>2</td>\n",
       "      <td>19.35</td>\n",
       "      <td>3.04</td>\n",
       "      <td>2016-06-01 02:00:00</td>\n",
       "    </tr>\n",
       "  </tbody>\n",
       "</table>\n",
       "</div>"
      ],
      "text/plain": [
       "   SiteName County  PSI MajorPollutant Status  SO2    CO   O3  PM10  PM2.5  \\\n",
       "73       萬里    新北市   35            NaN     良好  2.6  0.27  8.7  28.0     15   \n",
       "74       汐止    新北市   39            NaN     良好  2.2  0.41  0.9  37.0     18   \n",
       "75       基隆    基隆市   36            NaN     良好  3.4  0.30  3.7  32.0     16   \n",
       "\n",
       "     NO2  WindSpeed  WindDirec  FPMI    NOx    NO         PublishTime  \n",
       "73   8.8        2.4      212.0     2   9.84  1.05 2016-06-01 02:00:00  \n",
       "74  15.0        0.6      331.0     2  21.52  6.42 2016-06-01 02:00:00  \n",
       "75  16.0        1.1      276.0     2  19.35  3.04 2016-06-01 02:00:00  "
      ]
     },
     "execution_count": 83,
     "metadata": {},
     "output_type": "execute_result"
    }
   ],
   "source": [
    "airQty.tail(n=3)"
   ]
  },
  {
   "cell_type": "markdown",
   "metadata": {},
   "source": [
    "### <font color=#0000FF>JSON (<u>J</u>ava<u>S</u>cript <u>O</u>bject <u>N</u>otation，JavaScript物件表示法)</font>\n",
    "- key:value \n",
    "- { } : 物件\n",
    "- \\[ \\] : 陣列，元素之間用 , 隔開"
   ]
  },
  {
   "cell_type": "markdown",
   "metadata": {},
   "source": [
    "【JSON On-Line Parser】\n",
    "- [JSON Editor Online - view, edit and format JSON online](https://jsoneditoronline.org/)\n",
    "- [Best JSON Editor Online - JSON Formatter](https://jsonformatter.org/json-editor)\n",
    "- [Best JSON Viewer and JSON Beautifier Online - Code Beautify](https://codebeautify.org/jsonviewer)\n",
    "- [Json Parser Online](http://jsonparseronline.com/)"
   ]
  },
  {
   "cell_type": "markdown",
   "metadata": {},
   "source": [
    "【參考資料】\n",
    "- [Python JSON](http://www.runoob.com/python/python-json.html)"
   ]
  },
  {
   "cell_type": "code",
   "execution_count": null,
   "metadata": {
    "scrolled": true
   },
   "outputs": [],
   "source": []
  },
  {
   "cell_type": "code",
   "execution_count": null,
   "metadata": {
    "scrolled": true
   },
   "outputs": [],
   "source": []
  },
  {
   "cell_type": "code",
   "execution_count": null,
   "metadata": {
    "scrolled": true
   },
   "outputs": [],
   "source": []
  },
  {
   "cell_type": "markdown",
   "metadata": {},
   "source": [
    "<font color=#0000FF>json模組的編碼與解編碼</font>\n",
    "- json.dumps() : 將 Python 物件編碼成 JSON 字串\n",
    "- json.loads() : 將JSON字串，解碼為 Python 物件"
   ]
  },
  {
   "cell_type": "code",
   "execution_count": null,
   "metadata": {
    "scrolled": true
   },
   "outputs": [],
   "source": []
  },
  {
   "cell_type": "code",
   "execution_count": null,
   "metadata": {
    "scrolled": true
   },
   "outputs": [],
   "source": []
  },
  {
   "cell_type": "markdown",
   "metadata": {
    "collapsed": true
   },
   "source": [
    "### <font color=#0000FF>Python 連線 MS SQL SERVER 讀入資料</font>\n",
    "<font color=#0000FF>[使用 pyodbc 模組]</font>\n",
    "* import pyodbc\n",
    "* pyodbc.connect()的連線字串\n",
    "    * 'DSN=DataSourceName;UID=user;PWD=password'\n",
    "    * 'DRIVER={SQL Server Native Client 11.0};SERVER=localhost;DATABASE=testdb;UID=user;PWD=password'\n",
    "\n",
    "<font color=#0000FF>[使用 pymssql 模組]</font>\n",
    "* pip install --upgrade pymssql\n",
    "* import pymssql\n",
    "* pymssql.connect()\n",
    "    * server : 伺服器的位址\n",
    "    * port : 埠號\n",
    "    * user : 使用者帳號\n",
    "    * password : 使用者密碼\n",
    "    * database : 資料庫名稱 "
   ]
  },
  {
   "cell_type": "markdown",
   "metadata": {},
   "source": [
    "### <font color=#0000FF>使用 pyodbc 模組</font>"
   ]
  },
  {
   "cell_type": "markdown",
   "metadata": {},
   "source": [
    "<pre>\n",
    "【連線字串(1)】必須要事先設定 ODBC 的 DSN (<u>D</u>ata <u>S</u>ource <u>N</u>ame)\n",
    "<font color=#FF0000>conn=pyodbc.connect('DSN=DataSourceName;UID=user;PWD=password')</font>\n",
    "</pre>"
   ]
  },
  {
   "cell_type": "code",
   "execution_count": 84,
   "metadata": {
    "scrolled": true
   },
   "outputs": [
    {
     "name": "stdout",
     "output_type": "stream",
     "text": [
      "Requirement already satisfied: pyodbc in d:\\programdata\\anaconda3\\lib\\site-packages (4.0.25)\n"
     ]
    }
   ],
   "source": [
    "!pip install pyodbc"
   ]
  },
  {
   "cell_type": "code",
   "execution_count": 85,
   "metadata": {
    "scrolled": true
   },
   "outputs": [],
   "source": [
    "import pyodbc"
   ]
  },
  {
   "cell_type": "code",
   "execution_count": null,
   "metadata": {
    "scrolled": true
   },
   "outputs": [],
   "source": [
    "conn1 = pyodbc.connect('DSN=bsnPyDB;UID=stat;PWD=statNTPU')"
   ]
  },
  {
   "cell_type": "code",
   "execution_count": null,
   "metadata": {},
   "outputs": [],
   "source": [
    "sqlStr = \"select * from airQty\"\n",
    "airQty = pd.read_sql(sqlStr, conn1)"
   ]
  },
  {
   "cell_type": "code",
   "execution_count": null,
   "metadata": {},
   "outputs": [],
   "source": [
    "airQty.head()"
   ]
  },
  {
   "cell_type": "code",
   "execution_count": null,
   "metadata": {},
   "outputs": [],
   "source": [
    "conn1.close()"
   ]
  },
  {
   "cell_type": "markdown",
   "metadata": {},
   "source": [
    "<pre>\n",
    "【連線字串(2)】不用事先設定 ODBC 的 DSN (<u>D</u>ata <u>S</u>ource <u>N</u>ame)，直接指定驅動程式的名稱以及相關的連線資訊即可\n",
    "<font color=#FF0000>conn=pyodbc.connect('DRIVER={SQL Server};SERVER=localhost;DATABASE=testdb;UID=user;PWD=password')</font>\n",
    "</pre>"
   ]
  },
  {
   "cell_type": "code",
   "execution_count": null,
   "metadata": {},
   "outputs": [],
   "source": [
    "conn2 = pyodbc.connect('DRIVER={SQL Server};SERVER=180.218.162.136;DATABASE=PyDB;UID=stat;PWD=statNTPU')"
   ]
  },
  {
   "cell_type": "code",
   "execution_count": null,
   "metadata": {
    "scrolled": true
   },
   "outputs": [],
   "source": [
    "sqlStr = \"select * from airQty\"\n",
    "airQty = pd.read_sql(sqlStr, conn2)"
   ]
  },
  {
   "cell_type": "code",
   "execution_count": null,
   "metadata": {
    "scrolled": true
   },
   "outputs": [],
   "source": [
    "airQty.head()"
   ]
  },
  {
   "cell_type": "code",
   "execution_count": null,
   "metadata": {
    "scrolled": true
   },
   "outputs": [],
   "source": [
    "conn2.close()"
   ]
  },
  {
   "cell_type": "markdown",
   "metadata": {},
   "source": [
    "### <font color=#0000FF>使用 pymssql 模組</font>"
   ]
  },
  {
   "cell_type": "code",
   "execution_count": null,
   "metadata": {
    "scrolled": true
   },
   "outputs": [],
   "source": [
    "#pip install pymssql 裝在py36 ##不會考********"
   ]
  },
  {
   "cell_type": "code",
   "execution_count": 1,
   "metadata": {
    "scrolled": true
   },
   "outputs": [],
   "source": [
    "import pymssql\n",
    "import pandas as pd"
   ]
  },
  {
   "cell_type": "code",
   "execution_count": 2,
   "metadata": {
    "scrolled": true
   },
   "outputs": [],
   "source": [
    "conn = pymssql.connect(server='180.218.162.136', \\\n",
    "                       port='1433', \\\n",
    "                       database='PyDB', \\\n",
    "                       user='stat', \\\n",
    "                       password='statNTPU')"
   ]
  },
  {
   "cell_type": "code",
   "execution_count": 3,
   "metadata": {
    "scrolled": true
   },
   "outputs": [],
   "source": [
    "sqlStr = \"select * from airQty\"\n",
    "airQty = pd.read_sql(sqlStr, conn)"
   ]
  },
  {
   "cell_type": "code",
   "execution_count": 4,
   "metadata": {
    "scrolled": false
   },
   "outputs": [
    {
     "data": {
      "text/html": [
       "<div>\n",
       "<style scoped>\n",
       "    .dataframe tbody tr th:only-of-type {\n",
       "        vertical-align: middle;\n",
       "    }\n",
       "\n",
       "    .dataframe tbody tr th {\n",
       "        vertical-align: top;\n",
       "    }\n",
       "\n",
       "    .dataframe thead th {\n",
       "        text-align: right;\n",
       "    }\n",
       "</style>\n",
       "<table border=\"1\" class=\"dataframe\">\n",
       "  <thead>\n",
       "    <tr style=\"text-align: right;\">\n",
       "      <th></th>\n",
       "      <th>SiteName</th>\n",
       "      <th>County</th>\n",
       "      <th>PSI</th>\n",
       "      <th>MajorPollutant</th>\n",
       "      <th>Status</th>\n",
       "      <th>SO2</th>\n",
       "      <th>CO</th>\n",
       "      <th>O3</th>\n",
       "      <th>PM10</th>\n",
       "      <th>PM2_5</th>\n",
       "      <th>NO2</th>\n",
       "      <th>WindSpeed</th>\n",
       "      <th>WindDirec</th>\n",
       "      <th>FPMI</th>\n",
       "      <th>NOx</th>\n",
       "      <th>NO</th>\n",
       "      <th>PublishTime</th>\n",
       "    </tr>\n",
       "  </thead>\n",
       "  <tbody>\n",
       "    <tr>\n",
       "      <th>0</th>\n",
       "      <td>麥寮</td>\n",
       "      <td>雲林縣</td>\n",
       "      <td>36</td>\n",
       "      <td></td>\n",
       "      <td>良好</td>\n",
       "      <td>1.2</td>\n",
       "      <td>0.11</td>\n",
       "      <td>10.0</td>\n",
       "      <td>35</td>\n",
       "      <td>7</td>\n",
       "      <td>4.5</td>\n",
       "      <td>2.2</td>\n",
       "      <td>182</td>\n",
       "      <td>1</td>\n",
       "      <td>6.78</td>\n",
       "      <td>2.30</td>\n",
       "      <td>2016-06-01 02:00:00</td>\n",
       "    </tr>\n",
       "    <tr>\n",
       "      <th>1</th>\n",
       "      <td>關山</td>\n",
       "      <td>臺東縣</td>\n",
       "      <td>23</td>\n",
       "      <td></td>\n",
       "      <td>良好</td>\n",
       "      <td>1.2</td>\n",
       "      <td>NaN</td>\n",
       "      <td>5.1</td>\n",
       "      <td>21</td>\n",
       "      <td>7</td>\n",
       "      <td>3.6</td>\n",
       "      <td>0.7</td>\n",
       "      <td>232</td>\n",
       "      <td>1</td>\n",
       "      <td>4.89</td>\n",
       "      <td>1.32</td>\n",
       "      <td>2016-06-01 02:00:00</td>\n",
       "    </tr>\n",
       "    <tr>\n",
       "      <th>2</th>\n",
       "      <td>馬公</td>\n",
       "      <td>澎湖縣</td>\n",
       "      <td>16</td>\n",
       "      <td></td>\n",
       "      <td>良好</td>\n",
       "      <td>0.8</td>\n",
       "      <td>0.09</td>\n",
       "      <td>20.0</td>\n",
       "      <td>5</td>\n",
       "      <td>2</td>\n",
       "      <td>1.7</td>\n",
       "      <td>2.5</td>\n",
       "      <td>173</td>\n",
       "      <td>1</td>\n",
       "      <td>3.26</td>\n",
       "      <td>1.53</td>\n",
       "      <td>2016-06-01 02:00:00</td>\n",
       "    </tr>\n",
       "    <tr>\n",
       "      <th>3</th>\n",
       "      <td>金門</td>\n",
       "      <td>金門縣</td>\n",
       "      <td>32</td>\n",
       "      <td></td>\n",
       "      <td>良好</td>\n",
       "      <td>1.4</td>\n",
       "      <td>0.08</td>\n",
       "      <td>20.0</td>\n",
       "      <td>25</td>\n",
       "      <td>2</td>\n",
       "      <td>3.8</td>\n",
       "      <td>4.9</td>\n",
       "      <td>220</td>\n",
       "      <td>1</td>\n",
       "      <td>4.23</td>\n",
       "      <td>0.48</td>\n",
       "      <td>2016-06-01 02:00:00</td>\n",
       "    </tr>\n",
       "    <tr>\n",
       "      <th>4</th>\n",
       "      <td>馬祖</td>\n",
       "      <td>連江縣</td>\n",
       "      <td>39</td>\n",
       "      <td></td>\n",
       "      <td>良好</td>\n",
       "      <td>2.8</td>\n",
       "      <td>0.08</td>\n",
       "      <td>17.0</td>\n",
       "      <td>29</td>\n",
       "      <td>11</td>\n",
       "      <td>6.2</td>\n",
       "      <td>6.5</td>\n",
       "      <td>200</td>\n",
       "      <td>2</td>\n",
       "      <td>7.74</td>\n",
       "      <td>1.55</td>\n",
       "      <td>2016-06-01 02:00:00</td>\n",
       "    </tr>\n",
       "  </tbody>\n",
       "</table>\n",
       "</div>"
      ],
      "text/plain": [
       "  SiteName County  PSI MajorPollutant Status  SO2    CO    O3  PM10  PM2_5  \\\n",
       "0       麥寮    雲林縣   36                    良好  1.2  0.11  10.0    35      7   \n",
       "1       關山    臺東縣   23                    良好  1.2   NaN   5.1    21      7   \n",
       "2       馬公    澎湖縣   16                    良好  0.8  0.09  20.0     5      2   \n",
       "3       金門    金門縣   32                    良好  1.4  0.08  20.0    25      2   \n",
       "4       馬祖    連江縣   39                    良好  2.8  0.08  17.0    29     11   \n",
       "\n",
       "   NO2  WindSpeed  WindDirec  FPMI   NOx    NO         PublishTime  \n",
       "0  4.5        2.2        182     1  6.78  2.30 2016-06-01 02:00:00  \n",
       "1  3.6        0.7        232     1  4.89  1.32 2016-06-01 02:00:00  \n",
       "2  1.7        2.5        173     1  3.26  1.53 2016-06-01 02:00:00  \n",
       "3  3.8        4.9        220     1  4.23  0.48 2016-06-01 02:00:00  \n",
       "4  6.2        6.5        200     2  7.74  1.55 2016-06-01 02:00:00  "
      ]
     },
     "execution_count": 4,
     "metadata": {},
     "output_type": "execute_result"
    }
   ],
   "source": [
    "airQty.head()"
   ]
  },
  {
   "cell_type": "markdown",
   "metadata": {},
   "source": [
    "Python 自動整理及分類檔案 "
   ]
  },
  {
   "cell_type": "code",
   "execution_count": null,
   "metadata": {},
   "outputs": [],
   "source": [
    "import shutil\n",
    "import os\n",
    "from os import walk\n",
    "from os.path import join\n",
    "\n",
    "MyPath  = './' # 當下目錄\n",
    "KeyWord = input = '請輸入檔案關鍵字:'\n",
    "\n",
    "for root, dirs, files in walk(MyPath):\n",
    "    for i in files:\n",
    "        FullPath = join(root, i) # 獲取檔案完整路徑\n",
    "        FileName = join(i) # 獲取檔案名稱\n",
    "        if KeyWord in FullPath:\n",
    "            if not os.path.exists(MyPath + '/' + KeyWord + '/' + FileName):\n",
    "                if not os.path.exists(KeyWord):\n",
    "                    os.mkdir(KeyWord)\n",
    "                shutil.move(FullPath, MyPath + '/' + KeyWord)\n",
    "                print ('成功將', FileName, '移動至', KeyWord, '資料夾')\n",
    "            else:\n",
    "                print (FileName, '已存在，故不執行動作')\n"
   ]
  }
 ],
 "metadata": {
  "kernelspec": {
   "display_name": "Python 3",
   "language": "python",
   "name": "python3"
  },
  "language_info": {
   "codemirror_mode": {
    "name": "ipython",
    "version": 3
   },
   "file_extension": ".py",
   "mimetype": "text/x-python",
   "name": "python",
   "nbconvert_exporter": "python",
   "pygments_lexer": "ipython3",
   "version": "3.7.6"
  }
 },
 "nbformat": 4,
 "nbformat_minor": 2
}
