{
 "cells": [
  {
   "cell_type": "code",
   "execution_count": 25,
   "metadata": {},
   "outputs": [],
   "source": [
    "###########import\n",
    "import os,time,glob,socket,math\n",
    "import numpy as np \n",
    "import os\n",
    "import string\n",
    "import glob\n",
    "import pandas as pd"
   ]
  },
  {
   "cell_type": "markdown",
   "metadata": {},
   "source": [
    " <font color=#0000FF>1.题目：有四个数字：1、2、3、4，能组成多少个互不相同且无重复数字的三位数？各是多少？</font>\n",
    "    \n",
    "  程序分析：可填在百位、十位、个位的数字都是1、2、3、4。组成所有的排列后再去 掉不满足条件的排列。"
   ]
  },
  {
   "cell_type": "code",
   "execution_count": 1,
   "metadata": {},
   "outputs": [
    {
     "name": "stdout",
     "output_type": "stream",
     "text": [
      "[2 3 1]\n"
     ]
    }
   ],
   "source": [
    "import string\n",
    "import numpy as np\n",
    "num=[1,2,3,4]\n",
    "#print(num)\n",
    "#type(num)\n",
    "rnd=np.random.choice(num,3,replace=False)\n",
    "print(rnd)\n"
   ]
  },
  {
   "cell_type": "markdown",
   "metadata": {},
   "source": [
    "<font color=#0000FF>2.题目：企业发放的奖金根据利润提成。利润(I)低于或等于10万元时，奖金可提10%；利润高于10万元，低于20万元时，低于10万元的部分按10%提成，高于10万元的部分，可提成7.5%；20万到40万之间时，高于20万元的部分，可提成5%；40万到60万之间时高于40万元的部分，可提成3%；60万到100万之间时，高于60万元的部分，可提成1.5%，高于100万元时，超过100万元的部分按1%提成，从键盘输入当月利润I，求应发放奖金总数？</FONT>\n",
    "\n",
    "程序分析：请利用数轴来分界，定位。注意定义时需把奖金定义成长整型。"
   ]
  },
  {
   "cell_type": "code",
   "execution_count": 6,
   "metadata": {},
   "outputs": [
    {
     "name": "stdout",
     "output_type": "stream",
     "text": [
      "净利润:120000\n",
      "11500.0\n"
     ]
    }
   ],
   "source": [
    "i = int(input('净利润:'))\n",
    "arr = [1000000,600000,400000,200000,100000,0]\n",
    "rat = [0.01,0.015,0.03,0.05,0.075,0.1]\n",
    "r = 0\n",
    "for idx in range(0,6):\n",
    "    if i>arr[idx]:\n",
    "        r+=(i-arr[idx])*rat[idx]\n",
    "        #print (i-arr[idx])*rat[idx]\n",
    "        i=arr[idx]\n",
    "print (r)"
   ]
  },
  {
   "cell_type": "markdown",
   "metadata": {},
   "source": [
    "<font color=#0000FF>3.题目：一个整数，它加上100后是一个完全平方数，再加上168又是一个完全平方数，请问该数是多少？\n",
    "</font>\n",
    "\n",
    "程序分析：\n",
    "假设该数为 x。\n",
    "1. 则：x + 100 = n2, x + 100 + 168 = m2\n",
    "2. 计算等式：m2 - n2 = (m + n)(m - n) = 168\n",
    "3. 设置： m + n = i，m - n = j，i * j =168，i 和 j 至少一个是偶数\n",
    "4. 可得： m = (i + j) / 2， n = (i - j) / 2，i 和 j 要么都是偶数，要么都是奇数。\n",
    "5. 从 3 和 4 推导可知道，i 与 j 均是大于等于 2 的偶数。\n",
    "6. 由于 i * j = 168， j>=2，则 1 < i < 168 / 2 + 1。\n",
    "7. 接下来将 i 的所有数字循环计算即可。"
   ]
  },
  {
   "cell_type": "code",
   "execution_count": 7,
   "metadata": {},
   "outputs": [
    {
     "name": "stdout",
     "output_type": "stream",
     "text": [
      "-99.0\n",
      "21.0\n",
      "261.0\n",
      "1581.0\n"
     ]
    }
   ],
   "source": [
    "for i in range(1,85):\n",
    "    if 168 % i == 0:\n",
    "        j = 168 / i;\n",
    "        if  i > j and (i + j) % 2 == 0 and (i - j) % 2 == 0 :\n",
    "            m = (i + j) / 2\n",
    "            n = (i - j) / 2\n",
    "            x = n * n - 100\n",
    "            print(x)"
   ]
  },
  {
   "cell_type": "markdown",
   "metadata": {},
   "source": [
    "<font color=#0000FF>5.题目：输入三个整数x,y,z，请把这三个数由小到大输出。</font>\n",
    "\n",
    "程序分析：我们想办法把最小的数放到x上，先将x与y进行比较，如果x>y则将x与y的值进行交换，然后再用x与z进行比较，如果x>z则将x与z的值进行交换，这样能使x最小。"
   ]
  },
  {
   "cell_type": "code",
   "execution_count": 10,
   "metadata": {},
   "outputs": [
    {
     "name": "stdout",
     "output_type": "stream",
     "text": [
      "integer:\n",
      "2\n",
      "integer:\n",
      "3\n",
      "integer:\n",
      "4\n",
      "[2, 3, 4]\n"
     ]
    }
   ],
   "source": [
    "#raw_input()--將所有輸入作為字串看待\n",
    "l = []\n",
    "for i in range(3):\n",
    "    x = int(input('integer:\\n'))\n",
    "    l.append(x)\n",
    "l.sort()\n",
    "print (l)"
   ]
  },
  {
   "cell_type": "markdown",
   "metadata": {},
   "source": [
    "<font color=#0000FF>6.题目：斐波那契数列。</font>\n",
    "\n",
    "程序分析：斐波那契数列（Fibonacci sequence），又称黄金分割数列，指的是这样一个数列：0、1、1、2、3、5、8、13、21、34、……。\n",
    "\n",
    "在数学上，费波那契数列是以递归的方法来定义：\n",
    "\n",
    "F0 = 0     (n=0)\n",
    "F1 = 1    (n=1)\n",
    "Fn = F[n-1]+ F[n-2](n=>2)"
   ]
  },
  {
   "cell_type": "code",
   "execution_count": 8,
   "metadata": {},
   "outputs": [
    {
     "name": "stdout",
     "output_type": "stream",
     "text": [
      "[0, 1, 1, 2, 3, 5, 8, 13, 21, 34, 55, 89, 144, 233, 377, 610, 987, 1597, 2584, 4181, 6765]\n"
     ]
    }
   ],
   "source": [
    "f=[0,1]\n",
    "for i in range(1,20):\n",
    "    x=f[i-1]+f[i]\n",
    "    f.append(x)\n",
    "print(f)    "
   ]
  },
  {
   "cell_type": "markdown",
   "metadata": {},
   "source": [
    "<font color=#0000FF>8.题目：输出 9*9 乘法口诀表</font>"
   ]
  },
  {
   "cell_type": "code",
   "execution_count": 23,
   "metadata": {
    "scrolled": false
   },
   "outputs": [
    {
     "name": "stdout",
     "output_type": "stream",
     "text": [
      "1*1= 1 \n",
      "2*1= 2 2*2= 4 \n",
      "3*1= 3 3*2= 6 3*3= 9 \n",
      "4*1= 4 4*2= 8 4*3=12 4*4=16 \n",
      "5*1= 5 5*2=10 5*3=15 5*4=20 5*5=25 \n",
      "6*1= 6 6*2=12 6*3=18 6*4=24 6*5=30 6*6=36 \n",
      "7*1= 7 7*2=14 7*3=21 7*4=28 7*5=35 7*6=42 7*7=49 \n",
      "8*1= 8 8*2=16 8*3=24 8*4=32 8*5=40 8*6=48 8*7=56 8*8=64 \n",
      "9*1= 9 9*2=18 9*3=27 9*4=36 9*5=45 9*6=54 9*7=63 9*8=72 9*9=81 \n"
     ]
    }
   ],
   "source": [
    "for i in range (1,10):\n",
    "    for j in range (1,i+1):\n",
    "        print('{}*{}={:2d}'.format(i,j,i*j),end=\" \")\n",
    "    print()"
   ]
  },
  {
   "cell_type": "markdown",
   "metadata": {},
   "source": [
    "<font color=#0000FF>9.题目：古典问题：有一对兔子，从出生后第3个月起每个月都生一对兔子，小兔子长到第三个月后每个月又生一对兔子，\n",
    "假如兔子都不死，问每个月的兔子总数为多少？</font>\n",
    "\n",
    "程序分析：兔子的规律为数列1,1,2,3,5,8,13,21...."
   ]
  },
  {
   "cell_type": "code",
   "execution_count": 26,
   "metadata": {
    "scrolled": true
   },
   "outputs": [
    {
     "ename": "SyntaxError",
     "evalue": "invalid syntax (<ipython-input-26-18183c49b5f5>, line 4)",
     "output_type": "error",
     "traceback": [
      "\u001b[1;36m  File \u001b[1;32m\"<ipython-input-26-18183c49b5f5>\"\u001b[1;36m, line \u001b[1;32m4\u001b[0m\n\u001b[1;33m    print '%12ld %12ld' % (f1,f2),\u001b[0m\n\u001b[1;37m                      ^\u001b[0m\n\u001b[1;31mSyntaxError\u001b[0m\u001b[1;31m:\u001b[0m invalid syntax\n"
     ]
    }
   ],
   "source": [
    "# f1 = 1\n",
    "# f2 = 1\n",
    "# for i in range(1,22):\n",
    "#     print '%12ld %12ld' % (f1,f2),\n",
    "#     if (i % 3) == 0:\n",
    "#         print ''\n",
    "#     f1 = f1 + f2\n",
    "#     f2 = f1 + f2"
   ]
  },
  {
   "cell_type": "markdown",
   "metadata": {},
   "source": [
    "<font color=#0000FF>12.题目：判断101-200之间有多少个素数，并输出所有素数。</font>\n",
    "\n",
    "程序分析：判断素数的方法：用一个数分别去除2到sqrt(这个数)，如果能被整除，则表明此数不是素数，反之是素数。 　"
   ]
  },
  {
   "cell_type": "code",
   "execution_count": 192,
   "metadata": {},
   "outputs": [
    {
     "name": "stdout",
     "output_type": "stream",
     "text": [
      "dict_items([(101, True), (102, True), (103, True), (104, True), (105, True), (106, True), (107, True), (108, True), (109, True), (110, True), (111, True), (112, True), (113, True), (114, True), (115, True), (116, True), (117, True), (118, True), (119, True), (120, True), (121, True), (122, True), (123, True), (124, True), (125, True), (126, True), (127, True), (128, True), (129, True), (130, True), (131, True), (132, True), (133, True), (134, True), (135, True), (136, True), (137, True), (138, True), (139, True), (140, True), (141, True), (142, True), (143, True), (144, True), (145, True), (146, True), (147, True), (148, True), (149, True), (150, True), (151, True), (152, True), (153, True), (154, True), (155, True), (156, True), (157, True), (158, True), (159, True), (160, True), (161, True), (162, True), (163, True), (164, True), (165, True), (166, True), (167, True), (168, True), (169, True), (170, True), (171, True), (172, True), (173, True), (174, True), (175, True), (176, True), (177, True), (178, True), (179, True), (180, True), (181, True), (182, True), (183, True), (184, True), (185, True), (186, True), (187, True), (188, True), (189, True), (190, True), (191, True), (192, True), (193, True), (194, True), (195, True), (196, True), (197, True), (198, True), (199, True), (200, True)])\n"
     ]
    }
   ],
   "source": [
    " \n",
    "\n",
    "ls={}\n",
    "for num in range(101,201):\n",
    "    for i in range(2,num):\n",
    "        if num%i==0:\n",
    "            ans= False\n",
    "            ls[num]=ans\n",
    "        else:\n",
    "            ans=True\n",
    "            ls[num]=ans\n",
    "#ls2=dict((k,v) for v,k in ls.items())            \n",
    "print(ls.items())            \n",
    "#print(ls.keys())\n",
    "#print(ls.values())\n",
    "#ls2=dict((k,v) for v,k in ls.items())\n",
    "    #print(ls2)\n",
    " "
   ]
  },
  {
   "cell_type": "markdown",
   "metadata": {},
   "source": [
    "<font color=#0000FF>13.题目：打印出所有的\"水仙花数\"，所谓\"水仙花数\"是指一个三位数，其各位数字立方和等于该数本身。例如：153是一个\"水仙花数\"，因为153=1的三次方＋5的三次方＋3的三次方。</font>\n",
    "\n",
    "程序分析：利用for循环控制100-999个数，每个数分解出个位，十位，百位。"
   ]
  },
  {
   "cell_type": "code",
   "execution_count": 203,
   "metadata": {
    "scrolled": true
   },
   "outputs": [
    {
     "name": "stdout",
     "output_type": "stream",
     "text": [
      "153\n",
      "370\n",
      "371\n",
      "407\n"
     ]
    }
   ],
   "source": [
    "for n in range(100,1000):\n",
    "    i = n // 100\n",
    "    j = (n // 10)%10 \n",
    "    k = n % 10\n",
    "    if n == i ** 3 + j ** 3 + k ** 3:\n",
    "        print(n)"
   ]
  },
  {
   "cell_type": "markdown",
   "metadata": {},
   "source": [
    "<font color=#0000FF>14.题目：将一个正整数分解质因数。例如：输入90,打印出90=2 * 3 * 3 * 5。</font>\n",
    "\n",
    "程序分析：对n进行分解质因数，应先找到一个最小的质数k，然后按下述步骤完成：\n",
    "* (1)如果这个质数恰等于n，则说明分解质因数的过程已经结束，打印出即可。\n",
    "* (2)如果n<>k，但n能被k整除，则应打印出k的值，并用n除以k的商,作为新的正整数你n,重复执行第一步。\n",
    "* (3)如果n不能被k整除，则用k+1作为k的值,重复执行第一步。"
   ]
  },
  {
   "cell_type": "code",
   "execution_count": 15,
   "metadata": {},
   "outputs": [
    {
     "name": "stdout",
     "output_type": "stream",
     "text": [
      "輸入數字20\n",
      "[2, 2, 5]\n"
     ]
    }
   ],
   "source": [
    "num=int(input(\"輸入數字\"))\n",
    "lst=[]\n",
    "ans=[]\n",
    "isflag=True\n",
    "while isflag:\n",
    "    lst=[i for i in range(2,num+1) if num%i==0]\n",
    "    k=min(lst)\n",
    "    if k==num:\n",
    "        isflag=False\n",
    "    num=int(num/k)\n",
    "    ans.append(k)\n",
    "#ans='*'.join(ans)\n",
    "print(ans)\n",
    "    #print ('{} *'.format(k),end=\"\")"
   ]
  },
  {
   "cell_type": "code",
   "execution_count": 235,
   "metadata": {},
   "outputs": [
    {
     "name": "stdout",
     "output_type": "stream",
     "text": [
      "Enter a number: 12\n",
      "******************************\n",
      "******************************\n",
      "******************************\n",
      "[2, 2, 3.0]\n"
     ]
    }
   ],
   "source": [
    "#! /usr/bin/python\n",
    "# import math\n",
    "# number = int(input(\"Enter a number: \"))\n",
    "# list = []\n",
    "# def getChildren(num):\n",
    "#     print ('*'*30)\n",
    "#     isZhishu = True\n",
    "#     i = 2\n",
    "#     square = int(math.sqrt(num))   \n",
    "#     while i <= square:\n",
    "#         if num % i == 0:\n",
    "#             list.append(i)\n",
    "#             isZhishu = False\n",
    "#             getChildren(num / i)\n",
    "#             i  = 1\n",
    "#             break\n",
    "#     i  = 1\n",
    "#     if isZhishu:\n",
    "#         list.append(num)\n",
    "# getChildren(number)\n",
    "# print (list)"
   ]
  },
  {
   "cell_type": "markdown",
   "metadata": {},
   "source": [
    "<font color=#0000FF>18.题目：求s=a+aa+aaa+aaaa+aa...a的值，其中a是一个数字。例如2+22+222+2222+22222(此时共有5个数相加)，几个数相加由键盘控制。</font>\n",
    "\n",
    "程序分析：关键是计算出每一项的值。"
   ]
  },
  {
   "cell_type": "code",
   "execution_count": 55,
   "metadata": {},
   "outputs": [
    {
     "name": "stdout",
     "output_type": "stream",
     "text": [
      "2\n",
      "22\n",
      "222\n",
      "總和=246\n"
     ]
    },
    {
     "data": {
      "text/plain": [
       "246"
      ]
     },
     "execution_count": 55,
     "metadata": {},
     "output_type": "execute_result"
    }
   ],
   "source": [
    "a=2\n",
    "Tn=0\n",
    "layer=3\n",
    "Sn=[]\n",
    "for i in range(0,layer):#0,1,2,3\n",
    "    Tn = Tn + a\n",
    "    a = a * 10\n",
    "    Sn.append(Tn)\n",
    "    print(Tn)\n",
    "#print(Sn)\n",
    "print('總和={}'.format(sum(Sn)))\n",
    "sum(Sn)"
   ]
  },
  {
   "cell_type": "markdown",
   "metadata": {},
   "source": [
    "<font color=#0000FF>19.题目：一个数如果恰好等于它的因子之和，这个数就称为\"完数\"。例如6=1＋2＋3.编程找出1000以内的所有完数。</font>\n",
    "\n",
    "程序分析：请参照程序Python 练习实例14。"
   ]
  },
  {
   "cell_type": "code",
   "execution_count": 11,
   "metadata": {},
   "outputs": [
    {
     "name": "stdout",
     "output_type": "stream",
     "text": [
      "6=[1, 2, 3]\n",
      "28=[1, 2, 4, 7, 14]\n",
      "496=[1, 2, 4, 8, 16, 31, 62, 124, 248]\n"
     ]
    }
   ],
   "source": [
    "#num=6\n",
    "\n",
    "for num in range(1,1001):\n",
    "    lst=[i for i in range(1,num) if num%i==0]\n",
    "    if num==sum(lst):\n",
    "        print(\"{}={}\".format(num,lst))\n"
   ]
  },
  {
   "cell_type": "markdown",
   "metadata": {},
   "source": [
    "<font color=#0000FF> 20.题目：一球从100米高度自由落下，每次落地后反跳回原高度的一半；\n",
    "再落下，求它在第10次落地时，共经过多少米？第10次反弹多高？</font>"
   ]
  },
  {
   "cell_type": "code",
   "execution_count": 16,
   "metadata": {},
   "outputs": [
    {
     "name": "stdout",
     "output_type": "stream",
     "text": [
      "总高度：tour = 299.609375\n",
      "第10次反弹高度：height = 0.09765625\n"
     ]
    }
   ],
   "source": [
    "tour = []\n",
    "height = []\n",
    " \n",
    "hei = 100.0 # 起始高度\n",
    "tim = 10 # 次数\n",
    " \n",
    "for i in range(1, tim + 1):\n",
    "    # 从第二次开始，落地时的距离应该是反弹高度乘以2（弹到最高点再落下）\n",
    "    if i == 1:\n",
    "        tour.append(hei)\n",
    "    else:\n",
    "        tour.append(2*hei) \n",
    "    hei /= 2\n",
    "    height.append(hei)\n",
    " \n",
    "print('总高度：tour = {0}'.format(sum(tour)))\n",
    "print('第10次反弹高度：height = {0}'.format(height[-1]))"
   ]
  },
  {
   "cell_type": "markdown",
   "metadata": {},
   "source": [
    "<font color=#0000FF> 21.题目：猴子吃桃问题：猴子第一天摘下若干个桃子，当即吃了一半，还不瘾，又多吃了一个第二天早上又将剩下的桃子吃掉一半，又多吃了一个。以后每天早上都吃了前一天剩下的一半零一个。到第10天早上想再吃时，见只剩下一个桃子了。求第一天共摘了多少。</font>\n",
    "\n",
    "程序分析：采取逆向思维的方法，从后往前推断。"
   ]
  },
  {
   "cell_type": "code",
   "execution_count": 18,
   "metadata": {},
   "outputs": [
    {
     "name": "stdout",
     "output_type": "stream",
     "text": [
      "1534\n"
     ]
    }
   ],
   "source": [
    "x2 = 1\n",
    "for day in range(9,0,-1):\n",
    "    x1 = (x2 + 1) * 2\n",
    "    x2 = x1\n",
    "print (x1)"
   ]
  },
  {
   "cell_type": "markdown",
   "metadata": {},
   "source": [
    "<font color=#0000FF>22.题目：两个乒乓球队进行比赛，各出三人。甲队为a,b,c三人，乙队为x,y,z三人。已抽签决定比赛名单。有人向队员打听比赛的名单。a说他不和x比，c说他不和x,z比，请编程序找出三队赛手的名单。</font>"
   ]
  },
  {
   "cell_type": "code",
   "execution_count": 19,
   "metadata": {},
   "outputs": [
    {
     "name": "stdout",
     "output_type": "stream",
     "text": [
      "order is a -- z\t b -- x\tc--y\n"
     ]
    }
   ],
   "source": [
    "\n",
    "for i in range(ord('x'),ord('z') + 1):\n",
    "    for j in range(ord('x'),ord('z') + 1):\n",
    "        if i != j:\n",
    "            for k in range(ord('x'),ord('z') + 1):\n",
    "                if (i != k) and (j != k):\n",
    "                    if (i != ord('x')) and (k != ord('x')) and (k != ord('z')):\n",
    "                        print ( 'order is a -- %s\\t b -- %s\\tc--%s' % (chr(i),chr(j),chr(k)))"
   ]
  },
  {
   "cell_type": "markdown",
   "metadata": {},
   "source": [
    "<font color=#0000FF>23.题目：打印出如下图案（菱形）:</font>\n",
    "\n",
    "程序分析：先把图形分成两部分来看待，前四行一个规律，后三行一个规律，利用双重for循环，第一层控制行，第二层控制列。"
   ]
  },
  {
   "cell_type": "code",
   "execution_count": 36,
   "metadata": {},
   "outputs": [
    {
     "name": "stdout",
     "output_type": "stream",
     "text": [
      "   *\n",
      "  ***\n",
      " *****\n",
      "*******\n",
      " *****\n",
      "  ***\n",
      "   *\n"
     ]
    }
   ],
   "source": [
    "for i in range(1,5):        #1,2,3,4\n",
    "    print(\" \"*(4-i),end=\"\")\n",
    "    for j in range(1,2*i):#1,3,5,7\n",
    "        print(\"*\",end=\"\")\n",
    "    print()   \n",
    "for i in range(1,4):        #1,2,3\n",
    "    print(\" \"*i,end=\"\")     #1,2,3\n",
    "    for j in range(1,7-(2*i-1)):     #5,3,1\n",
    "        print(\"*\",end=\"\")\n",
    "    print()     "
   ]
  },
  {
   "cell_type": "markdown",
   "metadata": {},
   "source": [
    "<font color=#0000FF>24.题目：有一分数序列：2/1，3/2，5/3，8/5，13/8，21/13...求出这个数列的前20项之和。\n",
    "</font>\n",
    "\n",
    "程序分析：请抓住分子与分母的变化规律。"
   ]
  },
  {
   "cell_type": "code",
   "execution_count": 60,
   "metadata": {},
   "outputs": [
    {
     "name": "stdout",
     "output_type": "stream",
     "text": [
      "32.66026079864164\n"
     ]
    }
   ],
   "source": [
    "a = 2.0\n",
    "b = 1.0\n",
    "s = 0\n",
    "for n in range(1,21):\n",
    "    s += a / b\n",
    "    t = a\n",
    "    a = a + b\n",
    "    b = t\n",
    "print (s)"
   ]
  },
  {
   "cell_type": "markdown",
   "metadata": {},
   "source": [
    "<font color=#0000FF>25.题目：求1+2!+3!+...+20!的和。<font>  \n",
    "    \n",
    "\n",
    "程序分析：此程序只是把累加变成了累乘。"
   ]
  },
  {
   "cell_type": "code",
   "execution_count": 61,
   "metadata": {},
   "outputs": [
    {
     "name": "stdout",
     "output_type": "stream",
     "text": [
      "1! + 2! + 3! + ... + 20! = 2561327494111820313\n"
     ]
    }
   ],
   "source": [
    "\n",
    "n = 0\n",
    "s = 0\n",
    "t = 1\n",
    "for n in range(1,21):\n",
    "    t *= n\n",
    "    s += t\n",
    "print ('1! + 2! + 3! + ... + 20! = %d' % s)"
   ]
  },
  {
   "cell_type": "markdown",
   "metadata": {},
   "source": [
    "<font color=#0000FF>26.题目：利用递归方法求5!。</font>\n",
    "\n",
    "程序分析：递归公式：fn=fn_1*4!"
   ]
  },
  {
   "cell_type": "code",
   "execution_count": 63,
   "metadata": {},
   "outputs": [
    {
     "name": "stdout",
     "output_type": "stream",
     "text": [
      "120\n"
     ]
    }
   ],
   "source": [
    "def fact(j):\n",
    "    sum = 0\n",
    "    if j == 0:\n",
    "        sum = 1\n",
    "    else:\n",
    "        sum = j * fact(j - 1)\n",
    "    return sum\n",
    " \n",
    "print (fact(5))"
   ]
  },
  {
   "cell_type": "markdown",
   "metadata": {},
   "source": [
    "<font color=#0000FF>27.题目：利用递归函数调用方式，将所输入的5个字符，以相反顺序打印出来。</font>"
   ]
  },
  {
   "cell_type": "code",
   "execution_count": 65,
   "metadata": {},
   "outputs": [
    {
     "name": "stdout",
     "output_type": "stream",
     "text": [
      "Input a string:sssddd\n",
      "d\n",
      "d\n",
      "d\n",
      "s\n",
      "s\n",
      "s\n"
     ]
    }
   ],
   "source": [
    "def output(s,l):\n",
    "    if l==0:\n",
    "        return\n",
    "    print (s[l-1])\n",
    "    output(s,l-1)\n",
    " \n",
    "s = input('Input a string:')\n",
    "l = len(s)\n",
    "output(s,l)"
   ]
  },
  {
   "cell_type": "markdown",
   "metadata": {},
   "source": [
    "<font color=#0000FF>28.题目：有5个人坐在一起，问第五个人多少岁？他说比第4个人大2岁。问第4个人岁数，他说比第3个人大2岁。问第三个人，又说比第2人大两岁。问第2个人，说比第一个人大两岁。最后问第一个人，他说是10岁。请问第五个人多大？</font>\n",
    "\n",
    "程序分析：利用递归的方法，递归分为回推和递推两个阶段。要想知道第五个人岁数，需知道第四人的岁数，依次类推，推到第一人（10岁），再往回推。"
   ]
  },
  {
   "cell_type": "code",
   "execution_count": 69,
   "metadata": {},
   "outputs": [
    {
     "name": "stdout",
     "output_type": "stream",
     "text": [
      "18\n"
     ]
    }
   ],
   "source": [
    "def age(n):\n",
    "    if n == 1: c = 10\n",
    "    else: c = age(n - 1) + 2\n",
    "    return c\n",
    "print (age(5))"
   ]
  },
  {
   "cell_type": "markdown",
   "metadata": {},
   "source": [
    "<font color=#0000FF>29.题目：给一个不多于5位的正整数，要求：一、求它是几位数，二、逆序打印出各位数字。</font>\n",
    "\n",
    "程序分析：学会分解出每一位数。"
   ]
  },
  {
   "cell_type": "code",
   "execution_count": 1,
   "metadata": {},
   "outputs": [
    {
     "name": "stdout",
     "output_type": "stream",
     "text": [
      "數字3098\n",
      "4位數: 8 9 0 3\n"
     ]
    }
   ],
   "source": [
    "num=int(input(\"數字\"))\n",
    "\n",
    "n1=num%10 #個\n",
    "n2=int(num%100/10) #十\n",
    "n3=int(num%1000/100)#百\n",
    "n4=int(num%10000/1000)#千\n",
    "n5=int(num%100000/10000)#萬\n",
    "\n",
    "if n5!=0:\n",
    "    print(\"5位數:\",n1,n2,n3,n4,n5)   \n",
    "elif n4!=0:\n",
    "    print(\"4位數:\",n1,n2,n3,n4)\n",
    "elif n3!=0:\n",
    "    print(\"3位數\",n1,n2,n3)\n",
    "elif n2!=0:\n",
    "    print(\"2位數\",n1,n2) \n",
    "else:\n",
    "    print(\"1位數\",n1)    "
   ]
  },
  {
   "cell_type": "markdown",
   "metadata": {},
   "source": [
    "<font color=#0000FF>30.题目：一个5位数，判断它是不是回文数。即12321是回文数，个位与万位相同，十位与千位相同。</font>"
   ]
  },
  {
   "cell_type": "code",
   "execution_count": 11,
   "metadata": {},
   "outputs": [
    {
     "name": "stdout",
     "output_type": "stream",
     "text": [
      "五位數34543\n",
      "34543是回文數\n"
     ]
    }
   ],
   "source": [
    "num=int(input(\"五位數\"))\n",
    "n1=num%10 #個\n",
    "n2=int(num%100/10) #十\n",
    "n3=int(num%1000/100)#百\n",
    "n4=int(num%10000/1000)#千\n",
    "n5=int(num%100000/10000)#萬\n",
    "if n1==n5 and n2==n4:\n",
    "    print(\"{}是回文數\".format(num))\n",
    "else:\n",
    "    print(\"{}不是回文數\".format(num))\n"
   ]
  },
  {
   "cell_type": "markdown",
   "metadata": {},
   "source": [
    "<font color=#0000FF>32.题目：按相反的顺序输出列表的值。</font>"
   ]
  },
  {
   "cell_type": "code",
   "execution_count": 12,
   "metadata": {},
   "outputs": [
    {
     "name": "stdout",
     "output_type": "stream",
     "text": [
      "three\n",
      "two\n",
      "one\n"
     ]
    }
   ],
   "source": [
    "a = ['one', 'two', 'three']\n",
    "for i in a[::-1]:\n",
    "    print (i)"
   ]
  },
  {
   "cell_type": "markdown",
   "metadata": {},
   "source": [
    "<font color=#0000FF>33.题目：按逗号分隔列表。</font>"
   ]
  },
  {
   "cell_type": "code",
   "execution_count": 13,
   "metadata": {},
   "outputs": [
    {
     "name": "stdout",
     "output_type": "stream",
     "text": [
      "1,2,3,4,5\n"
     ]
    }
   ],
   "source": [
    "L = [1,2,3,4,5]\n",
    "s1 = ','.join(str(n) for n in L)\n",
    "print (s1)"
   ]
  },
  {
   "cell_type": "markdown",
   "metadata": {},
   "source": [
    "<font color=#0000FF>37.题目：对10个数进行排序</font>\n",
    "    \n",
    "程序分析：可以利用选择法，即从后9个比较过程中，选择一个最小的与第一个元素交换，下次类推，即用第二个元素与后8个进行比较，并进行交换。"
   ]
  },
  {
   "cell_type": "code",
   "execution_count": 18,
   "metadata": {
    "scrolled": true
   },
   "outputs": [
    {
     "name": "stdout",
     "output_type": "stream",
     "text": [
      "輸入數字2\n",
      "[2]\n",
      "輸入數字3\n",
      "[2, 3]\n",
      "輸入數字4\n",
      "[2, 3, 4]\n",
      "輸入數字66\n",
      "[2, 3, 4, 66]\n",
      "輸入數字78\n",
      "[2, 3, 4, 66, 78]\n",
      "輸入數字2\n",
      "[2, 2, 3, 4, 66, 78]\n",
      "輸入數字33\n",
      "[2, 2, 3, 4, 33, 66, 78]\n",
      "輸入數字9\n",
      "[2, 2, 3, 4, 9, 33, 66, 78]\n",
      "輸入數字12\n",
      "[2, 2, 3, 4, 9, 12, 33, 66, 78]\n",
      "輸入數字23\n",
      "[2, 2, 3, 4, 9, 12, 23, 33, 66, 78]\n"
     ]
    }
   ],
   "source": [
    "lst=[]\n",
    "for i in range(1,11):\n",
    "    num=int(input(\"輸入數字\"))\n",
    "    lst.append(num)\n",
    "    print(sorted(lst) )   \n",
    "    "
   ]
  },
  {
   "cell_type": "markdown",
   "metadata": {},
   "source": [
    "<font color=#0000FF>44. 題目:两个 3 行 3 列的矩阵，实现其对应位置的数据相加，并返回一个新矩阵：<font>  \n",
    "    \n",
    "    \n",
    "X = [[12,7,3],\n",
    "    [4 ,5,6],\n",
    "    [7 ,8,9]]\n",
    "\n",
    "Y = [[5,8,1],\n",
    "    [6,7,3],\n",
    "    [4,5,9]]"
   ]
  },
  {
   "cell_type": "code",
   "execution_count": 23,
   "metadata": {},
   "outputs": [
    {
     "name": "stdout",
     "output_type": "stream",
     "text": [
      "[[17, 15, 4], [10, 12, 9], [11, 13, 18]]\n"
     ]
    }
   ],
   "source": [
    "x=[[12,7,3],[4,5,6],[7,8,9]]\n",
    "y=[[5,8,1],[6,7,3],[4,5,9]]\n",
    "new=[[0,0,0],[0,0,0],[0,0,0]]\n",
    "# 迭代输出行\n",
    "for i in range(len(x)):\n",
    "   # 迭代输出列\n",
    "   for j in range(len(x[0])):\n",
    "        new[i][j] = x[i][j] + y[i][j]\n",
    " \n",
    "print(new)\n"
   ]
  },
  {
   "cell_type": "markdown",
   "metadata": {},
   "source": [
    "<font color=#0000FF>46.题目：求输入数字的平方，如果平方运算后小于 50 则退出。</font>"
   ]
  },
  {
   "cell_type": "code",
   "execution_count": 27,
   "metadata": {},
   "outputs": [
    {
     "name": "stdout",
     "output_type": "stream",
     "text": [
      "如果输入的数字小于 50，程序将停止运行。\n",
      "數字8\n",
      "64\n",
      "數字9\n",
      "81\n",
      "數字0\n",
      "0\n"
     ]
    }
   ],
   "source": [
    "flag=True\n",
    "print ('如果输入的数字小于 50，程序将停止运行。')\n",
    "while flag:\n",
    "    num=int(input(\"數字\")) \n",
    "    if num*num<50:\n",
    "        print(num*num)\n",
    "        flag=False\n",
    "    else:\n",
    "        print(num*num)"
   ]
  },
  {
   "cell_type": "markdown",
   "metadata": {},
   "source": [
    "<font color=#0000FF>54.题目：取一个整数a从右端开始的4〜7位。</font>\n",
    "\n",
    "程序分析：可以这样考虑： \n",
    "* (1)先使a右移4位。 \n",
    "* (2)设置一个低4位全为1,其余全为0的数。可用~(~0<<4) \n",
    "* (3)将上面二者进行&运算。"
   ]
  },
  {
   "cell_type": "code",
   "execution_count": 36,
   "metadata": {
    "scrolled": true
   },
   "outputs": [
    {
     "name": "stdout",
     "output_type": "stream",
     "text": [
      "input a number:\n",
      "9\n",
      "11\t0\n"
     ]
    }
   ],
   "source": [
    "a = int(input('input a number:\\n'))\n",
    "b = a >> 4\n",
    "c = ~(~0 << 4)\n",
    "d = b & c\n",
    "print ('%o\\t%o' %(a,d))"
   ]
  },
  {
   "cell_type": "markdown",
   "metadata": {},
   "source": [
    "<font color=#0000FF>61.题目：打印出杨辉三角形（要求打印出10行如下图）。　</font>　"
   ]
  },
  {
   "cell_type": "code",
   "execution_count": 45,
   "metadata": {},
   "outputs": [
    {
     "name": "stdout",
     "output_type": "stream",
     "text": [
      "1 \n",
      "1 1 \n",
      "1 2 1 \n",
      "1 3 3 1 \n",
      "1 4 6 4 1 \n",
      "1 5 10 10 5 1 \n",
      "1 6 15 20 15 6 1 \n",
      "1 7 21 35 35 21 7 1 \n",
      "1 8 28 56 70 56 28 8 1 \n",
      "1 9 36 84 126 126 84 36 9 1 \n"
     ]
    }
   ],
   "source": [
    " a = []\n",
    "for i in range(10):\n",
    "    a.append([])\n",
    "    for j in range(10):\n",
    "        a[i].append(0)\n",
    "for i in range(10):\n",
    "    a[i][0] = 1\n",
    "    a[i][i] = 1\n",
    "for i in range(2,10):\n",
    "    for j in range(1,i):\n",
    "        a[i][j] = a[i - 1][j-1] + a[i - 1][j]\n",
    "from sys import stdout\n",
    "for i in range(10):\n",
    "    for j in range(i + 1):\n",
    "        stdout.write(str(a[i][j]))\n",
    "        stdout.write(' ')\n",
    "    print()    "
   ]
  },
  {
   "cell_type": "markdown",
   "metadata": {},
   "source": [
    "<font color=#0000FF>68.题目：有n个整数，使其前面各数顺序向后移m个位置，最后m个数变成最前面的m个数</font>"
   ]
  },
  {
   "cell_type": "code",
   "execution_count": null,
   "metadata": {},
   "outputs": [],
   "source": [
    "n = int(input('整数 n 为:\\n'))\n",
    "m = int(input('向后移 m 个位置为:\\n'))\n",
    " \n",
    "def move(array,n,m):\n",
    "    array_end = array[n - 1]\n",
    "    for i in range(n - 1,-1,- 1):\n",
    "        array[i] = array[i - 1]\n",
    "    array[0] = array_end\n",
    "    m -= 1\n",
    "    if m > 0:move(array,n,m)\n",
    "        \n",
    "number = []\n",
    "for i in range(n):\n",
    "    number.append(int(input('输入一个数字:\\n')))\n",
    "print( '原始列表:',number)\n",
    " \n",
    "move(number,n,m)\n",
    " \n",
    "print ('移动之后:',number)"
   ]
  },
  {
   "cell_type": "markdown",
   "metadata": {},
   "source": [
    "<font color=#0000FF>69.有n个人围成一圈，顺序排号。从第一个人开始报数（从1到3报数），凡报到3的人退出圈子，问最后留下的是原来第几号的那位。</font>"
   ]
  },
  {
   "cell_type": "code",
   "execution_count": 3,
   "metadata": {},
   "outputs": [
    {
     "name": "stdout",
     "output_type": "stream",
     "text": [
      "请输入总人数:33\n",
      "7\n"
     ]
    }
   ],
   "source": [
    "\n",
    "n = int(input('请输入总人数:'))\n",
    "num = []\n",
    "for i in range(n):\n",
    "    num.append(i + 1)\n",
    " \n",
    "i = 0\n",
    "k = 0\n",
    "m = 0\n",
    " \n",
    "while m < n - 1:\n",
    "    if num[i] != 0 : k += 1\n",
    "    if k == 3:\n",
    "        num[i] = 0\n",
    "        k = 0\n",
    "        m += 1\n",
    "    i += 1\n",
    "    if i == n : i = 0\n",
    " \n",
    "i = 0\n",
    "while num[i] == 0: i += 1\n",
    "print (num[i])\n"
   ]
  },
  {
   "cell_type": "markdown",
   "metadata": {},
   "source": [
    "<font color=#0000FF>76.题目：编写一个函数，输入n为偶数时，调用函数求1/2+1/4+...+1/n,当输入n为奇数时，调用函数1/1+1/3+...+1/n</font>"
   ]
  },
  {
   "cell_type": "code",
   "execution_count": 11,
   "metadata": {
    "scrolled": true
   },
   "outputs": [
    {
     "name": "stdout",
     "output_type": "stream",
     "text": [
      "數字6\n"
     ]
    },
    {
     "data": {
      "text/plain": [
       "0.9166666666666666"
      ]
     },
     "execution_count": 11,
     "metadata": {},
     "output_type": "execute_result"
    }
   ],
   "source": [
    "def num(n):\n",
    "    s=0.0   #s可能是float\n",
    "    if n%2==0:\n",
    "        for i in range(1,int((n/2))+1):\n",
    "            a=1/(2*i)\n",
    "            s=s+a\n",
    "    else:\n",
    "        for j in range(1,((n+1)/2)+1):\n",
    "            b=1/((2*j)-1)\n",
    "            s=s+b\n",
    "    return (s)#縮排\n",
    "n=int(input(\"數字\"))\n",
    "num(n)"
   ]
  },
  {
   "cell_type": "markdown",
   "metadata": {},
   "source": [
    "<font color=#0000FF>80.题目：海滩上有一堆桃子，五只猴子来分。第一只猴子把这堆桃子平均分为五份，多了一个，这只猴子把多的一个扔入海中，拿走了一份。第二只猴子把剩下的桃子又平均分成五份，又多了一个，它同样把多的一个扔入海中，拿走了一份，第三、第四、第五只猴子都是这样做的，问海滩上原来最少有多少个桃子？</font>"
   ]
  },
  {
   "cell_type": "code",
   "execution_count": 13,
   "metadata": {},
   "outputs": [
    {
     "name": "stdout",
     "output_type": "stream",
     "text": [
      "3121.0\n"
     ]
    }
   ],
   "source": [
    "i = 0\n",
    "j = 1\n",
    "x = 0\n",
    "while (i < 5) :\n",
    "    x = 4 * j\n",
    "    for i in range(0,5) :\n",
    "        if(x%4 != 0) :\n",
    "            break\n",
    "        else :\n",
    "            i += 1\n",
    "        x = (x/4) * 5 +1\n",
    "    j += 1\n",
    "print(x) "
   ]
  },
  {
   "cell_type": "markdown",
   "metadata": {},
   "source": [
    "<font color=#0000FF>81.题目：809*??=800*??+9*?? 其中??代表的两位数, 809*??为四位数，8*??的结果为两位数，9*??的结果为3位数。求??代表的两位数，及809*??后的结果。</FONT>"
   ]
  },
  {
   "cell_type": "code",
   "execution_count": 1,
   "metadata": {},
   "outputs": [
    {
     "name": "stdout",
     "output_type": "stream",
     "text": [
      "9708  = 800 *  12  + 9 *  12\n"
     ]
    }
   ],
   "source": [
    "a = 809\n",
    "for i in range(10,100):\n",
    "    b = i * a\n",
    "    if b >= 1000 and b <= 10000 and 8 * i < 100 and 9 * i >= 100:\n",
    "        print (b,' = 800 * ', i, ' + 9 * ', i)"
   ]
  },
  {
   "cell_type": "markdown",
   "metadata": {},
   "source": [
    "<font color=#0000FF> 83.题目：求0—7所能组成的奇数个数。</font>\n",
    "\n",
    "程序分析：\n",
    "\n",
    "* 组成1位数是4个。\n",
    "\n",
    "* 组成2位数是7*4个。\n",
    "\n",
    "* 组成3位数是7*8*4个。\n",
    "\n",
    "* 组成4位数是7*8*8*4个。"
   ]
  },
  {
   "cell_type": "code",
   "execution_count": 24,
   "metadata": {},
   "outputs": [
    {
     "name": "stdout",
     "output_type": "stream",
     "text": [
      "4\n",
      "32\n",
      "256\n",
      "2048\n",
      "16384\n",
      "131072\n",
      "1048576\n",
      "sum = 8388608\n"
     ]
    }
   ],
   "source": [
    "sum = 4\n",
    "s = 4\n",
    "for j in range(2,9):\n",
    "    print (sum)\n",
    "    if j <= 2:\n",
    "         s *= 7\n",
    "    else:\n",
    "        s *= 8\n",
    "    sum += s\n",
    "print ('sum = %d' % sum)"
   ]
  },
  {
   "cell_type": "markdown",
   "metadata": {},
   "source": [
    "<font color=#0000FF>85.题目：输入一个奇数，然后判断最少几个 9 除于该数的结果为整数。</font>\n",
    "\n",
    "程序分析：999999 / 13 = 76923。"
   ]
  },
  {
   "cell_type": "code",
   "execution_count": 2,
   "metadata": {},
   "outputs": [
    {
     "ename": "KeyboardInterrupt",
     "evalue": "",
     "output_type": "error",
     "traceback": [
      "\u001b[1;31m---------------------------------------------------------------------------\u001b[0m",
      "\u001b[1;31mKeyboardInterrupt\u001b[0m                         Traceback (most recent call last)",
      "\u001b[1;32m<ipython-input-2-69804051daf2>\u001b[0m in \u001b[0;36m<module>\u001b[1;34m\u001b[0m\n\u001b[0;32m      8\u001b[0m         \u001b[0mflag\u001b[0m\u001b[1;33m=\u001b[0m\u001b[1;32mFalse\u001b[0m\u001b[1;33m\u001b[0m\u001b[1;33m\u001b[0m\u001b[0m\n\u001b[0;32m      9\u001b[0m     \u001b[1;32melse\u001b[0m\u001b[1;33m:\u001b[0m\u001b[1;33m\u001b[0m\u001b[1;33m\u001b[0m\u001b[0m\n\u001b[1;32m---> 10\u001b[1;33m         \u001b[0mTn\u001b[0m \u001b[1;33m=\u001b[0m \u001b[0mTn\u001b[0m \u001b[1;33m+\u001b[0m \u001b[0ma\u001b[0m\u001b[1;33m\u001b[0m\u001b[1;33m\u001b[0m\u001b[0m\n\u001b[0m\u001b[0;32m     11\u001b[0m         \u001b[0ma\u001b[0m \u001b[1;33m=\u001b[0m \u001b[0ma\u001b[0m \u001b[1;33m*\u001b[0m \u001b[1;36m10\u001b[0m\u001b[1;33m\u001b[0m\u001b[1;33m\u001b[0m\u001b[0m\n\u001b[0;32m     12\u001b[0m \u001b[0mprint\u001b[0m\u001b[1;33m(\u001b[0m\u001b[0mTn\u001b[0m\u001b[1;33m)\u001b[0m\u001b[1;33m\u001b[0m\u001b[1;33m\u001b[0m\u001b[0m\n",
      "\u001b[1;31mKeyboardInterrupt\u001b[0m: "
     ]
    }
   ],
   "source": [
    "# num=13\n",
    "# flag=True\n",
    "# a=9\n",
    "# Tn=0\n",
    "# lst=[]\n",
    "# while flag:\n",
    "#     if  a%num==0:\n",
    "#         flag=False \n",
    "#     else:    \n",
    "#         Tn = Tn + a\n",
    "#         a = a * 10\n",
    "# print(Tn)    \n",
    "    \n",
    "    \n",
    "    \n",
    "    "
   ]
  },
  {
   "cell_type": "code",
   "execution_count": null,
   "metadata": {},
   "outputs": [],
   "source": [
    "zi = int(input('输入一个数字:\\n'))\n",
    "n1 = 1\n",
    "c9 = 1\n",
    "m9 = 9\n",
    "sum = 9\n",
    "while n1 != 0:\n",
    "    if sum % zi == 0:\n",
    "        n1 = 0\n",
    "    else:\n",
    "        m9 *= 10\n",
    "        sum += m9\n",
    "        c9 += 1\n",
    "print ('%d 个 9 可以被 %d 整除 : %d' % (c9,zi,sum))\n",
    "r = sum / zi\n",
    "print ('%d / %d = %d' % (sum,zi,r))\n"
   ]
  },
  {
   "cell_type": "code",
   "execution_count": 2,
   "metadata": {},
   "outputs": [
    {
     "name": "stdout",
     "output_type": "stream",
     "text": [
      "90\n",
      "90\n",
      "900\n",
      "990\n",
      "9000\n",
      "9990\n",
      "90000\n",
      "99990\n"
     ]
    }
   ],
   "source": [
    "m9=9\n",
    "sum=0\n",
    "for i in range(1,4):\n",
    "    m9*=10\n",
    "    sum += m9\n",
    "    print(m9)\n",
    "    print(sum)"
   ]
  },
  {
   "cell_type": "markdown",
   "metadata": {},
   "source": [
    "<font color=#0000FF>89.题目：某个公司采用公用电话传递数据，数据是四位的整数，在传递过程中是加密的，加密规则如下：每位数字都加上5,然后用和除以10的余数代替该数字，再将第一位和第四位交换，第二位和第三位交换。</font>"
   ]
  },
  {
   "cell_type": "code",
   "execution_count": 3,
   "metadata": {
    "scrolled": true
   },
   "outputs": [
    {
     "name": "stdout",
     "output_type": "stream",
     "text": [
      "输入四个数字:\n",
      "2345\n",
      "09.58.457.345000000000001"
     ]
    }
   ],
   "source": [
    "a = int(input('输入四个数字:\\n'))\n",
    "aa = []\n",
    "aa.append(a % 10)\n",
    "aa.append(a % 100 / 10)\n",
    "aa.append(a % 1000 / 100)\n",
    "aa.append(a / 1000)\n",
    "from sys import stdout\n",
    "for i in range(4):\n",
    "    aa[i] += 5\n",
    "    aa[i] %= 10\n",
    "for i in range(2):\n",
    "    aa[i],aa[3 - i] = aa[3 - i],aa[i]\n",
    "for i in range(3,-1,-1):\n",
    "    stdout.write(str(aa[i]))"
   ]
  },
  {
   "cell_type": "code",
   "execution_count": null,
   "metadata": {},
   "outputs": [
    {
     "name": "stdout",
     "output_type": "stream",
     "text": [
      "歡迎來玩終極遊戲，請設定遊戲範圍\n",
      "從多少開始?1\n",
      "到多少結束?100\n",
      "27\n",
      "你猜多少?50\n",
      "錯 介於1到50之間\n",
      "你猜多少?4\n",
      "錯 介於4到100之間\n",
      "你猜多少?6\n",
      "錯 介於6到100之間\n"
     ]
    }
   ],
   "source": [
    "import numpy as np\n",
    "print(\"歡迎來玩終極遊戲，請設定遊戲範圍\")\n",
    "a=int(input(\"從多少開始?\"))\n",
    "b=int(input(\"到多少結束?\"))\n",
    "ans=np.random.choice(range(a,b+1))\n",
    "print(ans)\n",
    "flag=True\n",
    "\n",
    "while flag:\n",
    "    usr = int(input(\"你猜多少?\"))\n",
    "    \n",
    "    \n",
    "    if usr==ans:\n",
    "        flag=False\n",
    "        print(\"恭喜你答對了,正確答案就是{}\".format(ans))\n",
    "    elif usr<ans:\n",
    "         print(\"錯 介於{}到{}之間\".format(usr,b))\n",
    "         usr=a\n",
    "    else:\n",
    "        print(\"錯 介於{}到{}之間\".format(a,usr))\n",
    "        usr=b\n",
    "\n",
    "\n",
    "\n"
   ]
  },
  {
   "cell_type": "code",
   "execution_count": 1,
   "metadata": {},
   "outputs": [
    {
     "name": "stdout",
     "output_type": "stream",
     "text": [
      "密碼介於 1-100:\n",
      ">>58\n",
      "密碼介於 1-58:\n",
      ">>45\n",
      "密碼介於 45-58:\n",
      ">>50\n",
      "密碼介於 50-58:\n",
      ">>52\n",
      "密碼介於 50-52:\n",
      ">>51\n",
      "答對了！\n"
     ]
    }
   ],
   "source": [
    "from random import randint\n",
    " \n",
    "#規定範圍並產生密碼\n",
    "lowest = 1\n",
    "highest = 100\n",
    "answer = randint(lowest, highest)\n",
    " \n",
    "#重複猜數字，直到猜對為止\n",
    "while True:\n",
    "    guess = input('密碼介於 ' + str(lowest) + '-' + str(highest) + ':\\n>>')\n",
    " \n",
    "    #檢查輸入的內容是否為數字\n",
    "    try:\n",
    "        guess = int(guess)  #把字串轉換成整數\n",
    "    except ValueError:  #轉換失敗便要求重新輸入數字\n",
    "        print('格式錯誤，請輸入數字\\n')\n",
    "        continue\n",
    " \n",
    "        #檢查輸入的數字是否介於規定範圍內\n",
    "    if guess <= lowest or guess >= highest:\n",
    "        print('請輸入 ' + str(lowest) + '-' + str(highest) + ' 之間的整數\\n')\n",
    "        continue\n",
    " \n",
    "        #判斷有沒有猜中密碼\n",
    "    if guess == answer:\n",
    "        print('答對了！')\n",
    "        break   #猜對才跳脫迴圈\n",
    "    elif guess < answer:\n",
    "        lowest = guess\n",
    "    else:\n",
    "        highest = guess"
   ]
  },
  {
   "cell_type": "code",
   "execution_count": 3,
   "metadata": {},
   "outputs": [],
   "source": [
    "import numpy as np\n",
    "import string"
   ]
  },
  {
   "cell_type": "code",
   "execution_count": 14,
   "metadata": {},
   "outputs": [
    {
     "name": "stdout",
     "output_type": "stream",
     "text": [
      "7163\n"
     ]
    }
   ],
   "source": [
    "rnd=\"0123\"\n",
    "while rnd[0]==\"0\":\n",
    "    rnd=\"\".join(np.random.choice(list(string.digits),4,replace=False))\n",
    "print(rnd)    "
   ]
  },
  {
   "cell_type": "code",
   "execution_count": 15,
   "metadata": {},
   "outputs": [
    {
     "name": "stdout",
     "output_type": "stream",
     "text": [
      "輸入四位數1234\n",
      "1234\n"
     ]
    }
   ],
   "source": [
    "usr=''\n",
    "while not usr.isdigit() :\n",
    "    usr=input(\"輸入四位數\")\n",
    "print(usr)    \n",
    "    "
   ]
  },
  {
   "cell_type": "code",
   "execution_count": null,
   "metadata": {},
   "outputs": [],
   "source": [
    "rnd=\"0123\"\n",
    "while rnd[0]==\"0\":\n",
    "    rnd=\"\".join(np.random.choice(list(string.digits),4,replace=False))\n",
    "print(rnd)    \n",
    "\n",
    "usr=''\n",
    "while not usr.isdigit() :\n",
    "    usr=input(\"輸入四位數\")\n",
    "print(usr)   \n",
    "\n",
    "\n",
    "A=B=O\n",
    "for i in range(1,5):\n",
    "    if usr[i]==rnd[i]:\n",
    "        A=A+1\n",
    "    elif usr[i] in rnd: \n",
    "        B=B+1\n",
    "print()        \n",
    "    "
   ]
  }
 ],
 "metadata": {
  "kernelspec": {
   "display_name": "Python 3",
   "language": "python",
   "name": "python3"
  },
  "language_info": {
   "codemirror_mode": {
    "name": "ipython",
    "version": 3
   },
   "file_extension": ".py",
   "mimetype": "text/x-python",
   "name": "python",
   "nbconvert_exporter": "python",
   "pygments_lexer": "ipython3",
   "version": "3.7.6"
  }
 },
 "nbformat": 4,
 "nbformat_minor": 2
}
