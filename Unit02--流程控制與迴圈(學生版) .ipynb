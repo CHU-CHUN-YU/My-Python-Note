{
 "cells": [
  {
   "cell_type": "markdown",
   "metadata": {},
   "source": [
    "【臺北大學】Python程式設計<br>\n",
    "【授課老師】[陳祥輝 (Email : HsiangHui.Chen@gmail.com)](mailto:HsiangHui.Chen@gmail.com)<br>\n",
    "【facebook】[陳祥輝老師的臉書 (歡迎加好友)](https://goo.gl/osivhx)<br>\n",
    "【參考書籍】[從零開始學Python程式設計（適用Python 3.5以上）](http://www.drmaster.com.tw/Bookinfo.asp?BookID=MP31821)<br>\n",
    "【主要議題】流程控制與迴圈"
   ]
  },
  {
   "cell_type": "markdown",
   "metadata": {},
   "source": [
    "【重點提要】\n",
    "1. 循序結構(Sequential)\n",
    "2. 選擇結構(Selection) : \n",
    "    * if ... elif ... elif ... else \n",
    "    * X if C else Y\n",
    "3. 迭代結構(Iteration) : for / while, break / continue"
   ]
  },
  {
   "cell_type": "markdown",
   "metadata": {},
   "source": [
    "【參考資料】\n",
    "* [有關在 matplotlib 顯示數學表示式 (LaTex)](https://wizardforcel.gitbooks.io/matplotlib-user-guide/4.6.html)"
   ]
  },
  {
   "cell_type": "markdown",
   "metadata": {},
   "source": [
    "【比較以下不同用法的差異】\n",
    "* import numpy as np\n",
    "* import numpy.random as rnd1\n",
    "* from numpy import random as rnd2\n",
    "* from numpy.random import random"
   ]
  },
  {
   "cell_type": "code",
   "execution_count": 1,
   "metadata": {},
   "outputs": [
    {
     "name": "stdout",
     "output_type": "stream",
     "text": [
      "【日期時間】2019/04/17 14:28:25\n",
      "【工作目錄】E:\\annie\\3下課程\\MyPython\\midterm_note\n",
      "【主機名稱】LAPTOP-7TNGIFIP (127.0.0.1)\n"
     ]
    }
   ],
   "source": [
    "#-*-coding:UTF-8-*- \n",
    "import os, time, glob, socket #讀入模組\n",
    "\n",
    "print(\"【日期時間】{}\".format(time.strftime(\"%Y/%m/%d %H:%M:%S\")))\n",
    "print(\"【工作目錄】{}\".format(os.getcwd()))\n",
    "\n",
    "#socket.gethostname()\n",
    "# socket.gethostbyname(socket.gethostname())\n",
    "print(\"【主機名稱】{} ({})\".format(socket.gethostname(),socket.gethostbyname(socket.gethostname())))"
   ]
  },
  {
   "cell_type": "markdown",
   "metadata": {},
   "source": [
    "### <font color=#0000FF>Python的基本資料型態</font>"
   ]
  },
  {
   "cell_type": "markdown",
   "metadata": {},
   "source": [
    "#### Python Primitive data types (基本資料型態)\n",
    "\n",
    "* Numeric Types \n",
    "    - int()\n",
    "    - float()\n",
    "    - complex()\n",
    "* bool()\n",
    "* str()\n",
    "* None"
   ]
  },
  {
   "cell_type": "code",
   "execution_count": 2,
   "metadata": {},
   "outputs": [
    {
     "name": "stdout",
     "output_type": "stream",
     "text": [
      "<class 'int'>\n",
      "<class 'float'>\n"
     ]
    }
   ],
   "source": [
    "print(type(10))\n",
    "print(type(10.0)) #小數"
   ]
  },
  {
   "cell_type": "code",
   "execution_count": 3,
   "metadata": {},
   "outputs": [
    {
     "name": "stdout",
     "output_type": "stream",
     "text": [
      "(3+0j)\n",
      "<class 'complex'>\n"
     ]
    }
   ],
   "source": [
    "print(complex(3)) #複數\n",
    "print(type(3+0j))"
   ]
  },
  {
   "cell_type": "code",
   "execution_count": 4,
   "metadata": {
    "scrolled": true
   },
   "outputs": [
    {
     "name": "stdout",
     "output_type": "stream",
     "text": [
      "<class 'bool'>\n",
      "<class 'bool'>\n"
     ]
    }
   ],
   "source": [
    "print(type(True))\n",
    "print(type(False))"
   ]
  },
  {
   "cell_type": "code",
   "execution_count": 13,
   "metadata": {},
   "outputs": [
    {
     "name": "stdout",
     "output_type": "stream",
     "text": [
      "True\n",
      "True\n",
      "False\n"
     ]
    }
   ],
   "source": [
    "print(bool(10))    #不0函數\n",
    "print(bool(-10))  # 只要非 0 就會轉換成 True\n",
    "print(bool(0))    # 只要是 0 就會轉換成 False"
   ]
  },
  {
   "cell_type": "code",
   "execution_count": 14,
   "metadata": {},
   "outputs": [
    {
     "name": "stdout",
     "output_type": "stream",
     "text": [
      "10\n"
     ]
    }
   ],
   "source": [
    "print(str(10)) #字串"
   ]
  },
  {
   "cell_type": "markdown",
   "metadata": {},
   "source": [
    "### <font color=#0000FF>import模組的各種寫法</font>"
   ]
  },
  {
   "cell_type": "markdown",
   "metadata": {},
   "source": [
    "【比較以下不同用法的差異】\n",
    "* import numpy as np\n",
    "* from numpy import *\n",
    "* import numpy.random as rnd1\n",
    "* from numpy import random as rnd2\n",
    "* from numpy.random import *\n",
    "* from numpy.random import random"
   ]
  },
  {
   "cell_type": "markdown",
   "metadata": {},
   "source": [
    "<img src=\"F:\\annie\\3下課程\\MyPython\\20190303\\01.jpg\" width=300 height=300 align=left>\n",
    "</img>                               "
   ]
  },
  {
   "cell_type": "markdown",
   "metadata": {},
   "source": [
    "<font color=#0000FF>直接將 numpy import 進來</font>"
   ]
  },
  {
   "cell_type": "code",
   "execution_count": 2,
   "metadata": {},
   "outputs": [],
   "source": [
    "import numpy as np  #把numpy換成np"
   ]
  },
  {
   "cell_type": "code",
   "execution_count": 8,
   "metadata": {
    "scrolled": true
   },
   "outputs": [
    {
     "data": {
      "text/plain": [
       "<module 'numpy' from 'D:\\\\ProgramData\\\\Anaconda3\\\\lib\\\\site-packages\\\\numpy\\\\__init__.py'>"
      ]
     },
     "execution_count": 8,
     "metadata": {},
     "output_type": "execute_result"
    }
   ],
   "source": [
    "np                  #看np路徑"
   ]
  },
  {
   "cell_type": "code",
   "execution_count": 7,
   "metadata": {},
   "outputs": [
    {
     "data": {
      "text/plain": [
       "0.6630254334565244"
      ]
     },
     "execution_count": 7,
     "metadata": {},
     "output_type": "execute_result"
    }
   ],
   "source": [
    "np.random.random()  #np裡的random資料夾裡的random函數"
   ]
  },
  {
   "cell_type": "code",
   "execution_count": 10,
   "metadata": {
    "scrolled": true
   },
   "outputs": [
    {
     "data": {
      "text/plain": [
       "<ufunc 'add'>"
      ]
     },
     "execution_count": 10,
     "metadata": {},
     "output_type": "execute_result"
    }
   ],
   "source": [
    "np.compat"
   ]
  },
  {
   "cell_type": "markdown",
   "metadata": {},
   "source": [
    "<font color=#0000FF>只 import numpy.random 進來，別名取為 rnd1 </font>"
   ]
  },
  {
   "cell_type": "code",
   "execution_count": 9,
   "metadata": {},
   "outputs": [],
   "source": [
    "import numpy.random as rnd1 #簡化路徑名稱"
   ]
  },
  {
   "cell_type": "code",
   "execution_count": 10,
   "metadata": {},
   "outputs": [
    {
     "data": {
      "text/plain": [
       "0.4780216178107831"
      ]
     },
     "execution_count": 10,
     "metadata": {},
     "output_type": "execute_result"
    }
   ],
   "source": [
    "rnd1.random()"
   ]
  },
  {
   "cell_type": "markdown",
   "metadata": {},
   "source": [
    "<font color=#0000FF>將 numpy.random 底下全部的函數 import 進來，沒有 namespace 會很可怕</font>\n",
    "\n"
   ]
  },
  {
   "cell_type": "code",
   "execution_count": 11,
   "metadata": {},
   "outputs": [],
   "source": [
    "from numpy.random import *  #儘量不要使用此方式"
   ]
  },
  {
   "cell_type": "code",
   "execution_count": 12,
   "metadata": {},
   "outputs": [
    {
     "data": {
      "text/plain": [
       "0.7949563590000315"
      ]
     },
     "execution_count": 12,
     "metadata": {},
     "output_type": "execute_result"
    }
   ],
   "source": [
    "random()"
   ]
  },
  {
   "cell_type": "markdown",
   "metadata": {},
   "source": [
    "<font color=#0000FF>從 numpy 將 random import 進來，並取名為 rnd2</font>"
   ]
  },
  {
   "cell_type": "code",
   "execution_count": 13,
   "metadata": {},
   "outputs": [],
   "source": [
    "from numpy import random as rnd2"
   ]
  },
  {
   "cell_type": "code",
   "execution_count": 14,
   "metadata": {},
   "outputs": [
    {
     "data": {
      "text/plain": [
       "0.42471466048319373"
      ]
     },
     "execution_count": 14,
     "metadata": {},
     "output_type": "execute_result"
    }
   ],
   "source": [
    "rnd2.random()"
   ]
  },
  {
   "cell_type": "markdown",
   "metadata": {},
   "source": [
    "查看 socket 安裝路徑"
   ]
  },
  {
   "cell_type": "code",
   "execution_count": 15,
   "metadata": {},
   "outputs": [
    {
     "data": {
      "text/plain": [
       "<module 'socket' from 'D:\\\\ProgramData\\\\Anaconda3\\\\lib\\\\socket.py'>"
      ]
     },
     "execution_count": 15,
     "metadata": {},
     "output_type": "execute_result"
    }
   ],
   "source": [
    "# 直接執行模組名稱\n",
    "socket"
   ]
  },
  {
   "cell_type": "markdown",
   "metadata": {},
   "source": [
    "### <font color=#0000FF>選擇結構(Selection)</font>"
   ]
  },
  {
   "cell_type": "markdown",
   "metadata": {},
   "source": [
    "<font color=#0000FF>\n",
    "if ... elif ... elif ... else ...\n",
    "</font>"
   ]
  },
  {
   "cell_type": "code",
   "execution_count": 11,
   "metadata": {},
   "outputs": [
    {
     "name": "stdout",
     "output_type": "stream",
     "text": [
      "請輸入一個數值:3\n"
     ]
    }
   ],
   "source": [
    "usr = input('請輸入一個數值:')  #input進來的是字串\n",
    "if usr == 10 :                  #input() : reads and returns a line of string\n",
    "    print('答對') #空4格        #永遠不會等於數字10"
   ]
  },
  {
   "cell_type": "code",
   "execution_count": 12,
   "metadata": {},
   "outputs": [
    {
     "name": "stdout",
     "output_type": "stream",
     "text": [
      "請輸入一個數值:2\n",
      "答錯\n"
     ]
    }
   ],
   "source": [
    "usr = input('請輸入一個數值:')\n",
    "usr = int(usr)                 # int() : returns integer from a number or string\n",
    "if usr == 10 : \n",
    "    print('答對')  #空4格 :注意\n",
    "else :\n",
    "    print('答錯')"
   ]
  },
  {
   "cell_type": "markdown",
   "metadata": {},
   "source": [
    "<font color=#0000FF>\n",
    "請判斷輸入的數值是否為 3且5的倍數, 3的倍數, 5的倍數, 皆不是\n",
    "</font>"
   ]
  },
  {
   "cell_type": "code",
   "execution_count": 13,
   "metadata": {},
   "outputs": [
    {
     "name": "stdout",
     "output_type": "stream",
     "text": [
      "請輸入一個數值:25\n",
      "5\n"
     ]
    }
   ],
   "source": [
    "usr = int(input('請輸入一個數值:'))\n",
    "if usr %3 == 0 and usr % 5 == 0:             # %整除==0 不整除==1 比較嚴謹的條件放上面\n",
    "    print('3&5')\n",
    "elif usr % 5 == 0:\n",
    "    print('5')\n",
    "elif usr %3 == 0:    \n",
    "    print('3')\n",
    "else :\n",
    "    print('')"
   ]
  },
  {
   "cell_type": "markdown",
   "metadata": {},
   "source": [
    "<font color=#0000FF>\n",
    "如果你只可以使用 np.random.random() 函數，如何產生一個一位的整數值\n",
    " </font>   "
   ]
  },
  {
   "cell_type": "code",
   "execution_count": 14,
   "metadata": {},
   "outputs": [],
   "source": [
    "import numpy as np"
   ]
  },
  {
   "cell_type": "markdown",
   "metadata": {},
   "source": [
    "錯誤示範"
   ]
  },
  {
   "cell_type": "code",
   "execution_count": 15,
   "metadata": {},
   "outputs": [
    {
     "name": "stdout",
     "output_type": "stream",
     "text": [
      "0.41284926343681216\n",
      "2\n"
     ]
    }
   ],
   "source": [
    "print(np.random.random())\n",
    "print(int(np.random.random()*10)) #函數每跑一次換一次 要先存下來"
   ]
  },
  {
   "cell_type": "markdown",
   "metadata": {},
   "source": [
    "正確"
   ]
  },
  {
   "cell_type": "code",
   "execution_count": 3,
   "metadata": {
    "scrolled": true
   },
   "outputs": [
    {
     "name": "stdout",
     "output_type": "stream",
     "text": [
      "0.7163177926138186\n",
      "9.194780182277825\n",
      "9\n"
     ]
    }
   ],
   "source": [
    "print(np.random.random())# np.random.random() 0-1之間\n",
    "rnd = np.random.random()*10\n",
    "print(rnd)\n",
    "print(int(rnd))"
   ]
  },
  {
   "cell_type": "markdown",
   "metadata": {},
   "source": [
    "由系統產生一個兩位數的整數，讓使用者來猜\n",
    "\n",
    "1. 介於 該亂數 5 之內，顯示 接近了\n",
    "2. 大於該亂數 顯示 太大了\n",
    "3. 小於該亂數 顯示 太小了\n",
    "4. 剛好命中，顯示 答對了"
   ]
  },
  {
   "cell_type": "code",
   "execution_count": null,
   "metadata": {},
   "outputs": [],
   "source": [
    "#自己練習\n",
    "rnd = int(np.random.random()*100) \n",
    "usr = int(input('請輸入一個位數值:'))\n",
    "if abs(usr-rnd)<=5 : \n",
    "    print('答對') #空4格 :注意  \n",
    "else :\n",
    "    print('答錯')\n",
    "\n",
    "print('ans=',int(rnd))"
   ]
  },
  {
   "cell_type": "code",
   "execution_count": null,
   "metadata": {},
   "outputs": [],
   "source": [
    "#老師示範\n",
    "rnd = int(np.random.random()*100)\n",
    "print(\"rnd=\", rnd)\n",
    "usr = int(input(\"請輸入一個2位數值:\"))\n",
    "if rnd == usr :\n",
    "    print('答對了')\n",
    "elif abs(rnd - usr) <= 5:\n",
    "    print('接近了')\n",
    "elif usr > rnd :\n",
    "    print('太大了')\n",
    "else :\n",
    "    print('太小了')"
   ]
  },
  {
   "cell_type": "markdown",
   "metadata": {},
   "source": [
    "<font color=#0000FF>\n",
    "X if Condition else Y\n",
    "</font>"
   ]
  },
  {
   "cell_type": "code",
   "execution_count": 4,
   "metadata": {},
   "outputs": [
    {
     "name": "stdout",
     "output_type": "stream",
     "text": [
      "成績 48 不及格\n"
     ]
    }
   ],
   "source": [
    "score = np.random.randint(0, 101) #  0-101 包含0 不包含101 的 隨機整數 --py都是包含前面不包含後面\n",
    "msg = '及格' if score >= 60 else '不及格'\n",
    "print(\"成績 {} {}\".format(score, msg))"
   ]
  },
  {
   "cell_type": "code",
   "execution_count": 5,
   "metadata": {},
   "outputs": [
    {
     "name": "stdout",
     "output_type": "stream",
     "text": [
      "成績 32 不及格\n"
     ]
    }
   ],
   "source": [
    "score = np.random.randint(0, 101)\n",
    "print(\"成績 {} {}\".format(score, '及格' if score >= 60 else '不及格'))"
   ]
  },
  {
   "cell_type": "markdown",
   "metadata": {},
   "source": [
    "### <font color=#0000FF>迭代結構(Iteration)</font>"
   ]
  },
  {
   "cell_type": "markdown",
   "metadata": {
    "collapsed": true
   },
   "source": [
    "### <font color=#0000FF>for range 的使用(一)</font>\n",
    "* range()\n",
    "* np.linespace()  \n",
    "* np.arange()"
   ]
  },
  {
   "cell_type": "code",
   "execution_count": 6,
   "metadata": {},
   "outputs": [
    {
     "name": "stdout",
     "output_type": "stream",
     "text": [
      "*\n",
      "*\n",
      "*\n",
      "*\n",
      "*\n"
     ]
    }
   ],
   "source": [
    "for _ in range(5): #跑5次\n",
    "    print(\"*\")   #end 預設是換行\"\\n\""
   ]
  },
  {
   "cell_type": "code",
   "execution_count": 8,
   "metadata": {},
   "outputs": [
    {
     "name": "stdout",
     "output_type": "stream",
     "text": [
      "*****"
     ]
    }
   ],
   "source": [
    "for _ in range(5): #跑5次\n",
    "    print(\"*\",end=\"\")"
   ]
  },
  {
   "cell_type": "code",
   "execution_count": 9,
   "metadata": {},
   "outputs": [
    {
     "name": "stdout",
     "output_type": "stream",
     "text": [
      "0\n",
      "1\n",
      "2\n",
      "3\n",
      "4\n"
     ]
    }
   ],
   "source": [
    "for i in range(5): #包含前面不包含後面 i=0開始\n",
    "    print(i)"
   ]
  },
  {
   "cell_type": "markdown",
   "metadata": {},
   "source": [
    "製作9*9表格"
   ]
  },
  {
   "cell_type": "code",
   "execution_count": 18,
   "metadata": {},
   "outputs": [
    {
     "name": "stdout",
     "output_type": "stream",
     "text": [
      "1\n",
      "2\n",
      "3\n",
      "4\n",
      "5\n",
      "6\n",
      "7\n",
      "8\n",
      "9\n"
     ]
    }
   ],
   "source": [
    "for i in range(1,10):\n",
    "    print(i)"
   ]
  },
  {
   "cell_type": "code",
   "execution_count": 19,
   "metadata": {},
   "outputs": [
    {
     "name": "stdout",
     "output_type": "stream",
     "text": [
      "1\n",
      "2\n",
      "3\n",
      "4\n",
      "5\n",
      "6\n",
      "1\n",
      "2\n",
      "3\n",
      "4\n",
      "5\n",
      "6\n",
      "1\n",
      "2\n",
      "3\n",
      "4\n",
      "5\n",
      "6\n",
      "1\n",
      "2\n",
      "3\n",
      "4\n",
      "5\n",
      "6\n",
      "1\n",
      "2\n",
      "3\n",
      "4\n",
      "5\n",
      "6\n",
      "1\n",
      "2\n",
      "3\n",
      "4\n",
      "5\n",
      "6\n",
      "1\n",
      "2\n",
      "3\n",
      "4\n",
      "5\n",
      "6\n",
      "1\n",
      "2\n",
      "3\n",
      "4\n",
      "5\n",
      "6\n",
      "1\n",
      "2\n",
      "3\n",
      "4\n",
      "5\n",
      "6\n"
     ]
    }
   ],
   "source": [
    "for i in range(1,10):\n",
    "    for j in range(1,7):\n",
    "        print(j)"
   ]
  },
  {
   "cell_type": "code",
   "execution_count": 11,
   "metadata": {},
   "outputs": [
    {
     "name": "stdout",
     "output_type": "stream",
     "text": [
      "1*1=1\n",
      "1*2=2\n",
      "1*3=3\n",
      "1*4=4\n",
      "1*5=5\n",
      "1*6=6\n",
      "\n",
      "2*1=2\n",
      "2*2=4\n",
      "2*3=6\n",
      "2*4=8\n",
      "2*5=10\n",
      "2*6=12\n",
      "\n",
      "3*1=3\n",
      "3*2=6\n",
      "3*3=9\n",
      "3*4=12\n",
      "3*5=15\n",
      "3*6=18\n",
      "\n",
      "4*1=4\n",
      "4*2=8\n",
      "4*3=12\n",
      "4*4=16\n",
      "4*5=20\n",
      "4*6=24\n",
      "\n",
      "5*1=5\n",
      "5*2=10\n",
      "5*3=15\n",
      "5*4=20\n",
      "5*5=25\n",
      "5*6=30\n",
      "\n",
      "6*1=6\n",
      "6*2=12\n",
      "6*3=18\n",
      "6*4=24\n",
      "6*5=30\n",
      "6*6=36\n",
      "\n",
      "7*1=7\n",
      "7*2=14\n",
      "7*3=21\n",
      "7*4=28\n",
      "7*5=35\n",
      "7*6=42\n",
      "\n",
      "8*1=8\n",
      "8*2=16\n",
      "8*3=24\n",
      "8*4=32\n",
      "8*5=40\n",
      "8*6=48\n",
      "\n",
      "9*1=9\n",
      "9*2=18\n",
      "9*3=27\n",
      "9*4=36\n",
      "9*5=45\n",
      "9*6=54\n",
      "\n"
     ]
    }
   ],
   "source": [
    "for i in range(1,10):\n",
    "    for j in range(1,7):\n",
    "        print(\"{}*{}={}\".format(i,j,i*j))\n",
    "    print()\n",
    " "
   ]
  },
  {
   "cell_type": "code",
   "execution_count": 21,
   "metadata": {
    "scrolled": true
   },
   "outputs": [
    {
     "name": "stdout",
     "output_type": "stream",
     "text": [
      "1*1= 1   1*2= 2   1*3= 3   1*4= 4   1*5= 5   1*6= 6   1*7= 7   1*8= 8   1*9= 9   \n",
      "2*1= 2   2*2= 4   2*3= 6   2*4= 8   2*5=10   2*6=12   2*7=14   2*8=16   2*9=18   \n",
      "3*1= 3   3*2= 6   3*3= 9   3*4=12   3*5=15   3*6=18   3*7=21   3*8=24   3*9=27   \n",
      "4*1= 4   4*2= 8   4*3=12   4*4=16   4*5=20   4*6=24   4*7=28   4*8=32   4*9=36   \n",
      "5*1= 5   5*2=10   5*3=15   5*4=20   5*5=25   5*6=30   5*7=35   5*8=40   5*9=45   \n",
      "6*1= 6   6*2=12   6*3=18   6*4=24   6*5=30   6*6=36   6*7=42   6*8=48   6*9=54   \n",
      "7*1= 7   7*2=14   7*3=21   7*4=28   7*5=35   7*6=42   7*7=49   7*8=56   7*9=63   \n",
      "8*1= 8   8*2=16   8*3=24   8*4=32   8*5=40   8*6=48   8*7=56   8*8=64   8*9=72   \n",
      "9*1= 9   9*2=18   9*3=27   9*4=36   9*5=45   9*6=54   9*7=63   9*8=72   9*9=81   \n"
     ]
    }
   ],
   "source": [
    "for i in range(1,10):\n",
    "    for j in range(1,10):\n",
    "        print(\"{}*{}={:2d}\".format(i,j,i*j),end=\"   \")\n",
    "    print()\n",
    " "
   ]
  },
  {
   "cell_type": "code",
   "execution_count": 26,
   "metadata": {},
   "outputs": [],
   "source": [
    "def list99(n=9, m=9) :#令成一個函數\n",
    "    for i in range(1, n+1):\n",
    "        for j in range(1, m+1):\n",
    "            print(\"{} * {} = {}\".format(i, j, i*j))\n",
    "        print() \n",
    "        "
   ]
  },
  {
   "cell_type": "code",
   "execution_count": 27,
   "metadata": {},
   "outputs": [
    {
     "name": "stdout",
     "output_type": "stream",
     "text": [
      "1 * 1 = 1\n",
      "1 * 2 = 2\n",
      "1 * 3 = 3\n",
      "1 * 4 = 4\n",
      "1 * 5 = 5\n",
      "1 * 6 = 6\n",
      "\n",
      "2 * 1 = 2\n",
      "2 * 2 = 4\n",
      "2 * 3 = 6\n",
      "2 * 4 = 8\n",
      "2 * 5 = 10\n",
      "2 * 6 = 12\n",
      "\n",
      "3 * 1 = 3\n",
      "3 * 2 = 6\n",
      "3 * 3 = 9\n",
      "3 * 4 = 12\n",
      "3 * 5 = 15\n",
      "3 * 6 = 18\n",
      "\n",
      "4 * 1 = 4\n",
      "4 * 2 = 8\n",
      "4 * 3 = 12\n",
      "4 * 4 = 16\n",
      "4 * 5 = 20\n",
      "4 * 6 = 24\n",
      "\n",
      "5 * 1 = 5\n",
      "5 * 2 = 10\n",
      "5 * 3 = 15\n",
      "5 * 4 = 20\n",
      "5 * 5 = 25\n",
      "5 * 6 = 30\n",
      "\n"
     ]
    }
   ],
   "source": [
    "list99(5,6)"
   ]
  },
  {
   "cell_type": "code",
   "execution_count": 28,
   "metadata": {},
   "outputs": [
    {
     "name": "stdout",
     "output_type": "stream",
     "text": [
      "1 * 1 = 1\n",
      "1 * 2 = 2\n",
      "1 * 3 = 3\n",
      "1 * 4 = 4\n",
      "1 * 5 = 5\n",
      "1 * 6 = 6\n",
      "1 * 7 = 7\n",
      "1 * 8 = 8\n",
      "1 * 9 = 9\n",
      "\n",
      "2 * 1 = 2\n",
      "2 * 2 = 4\n",
      "2 * 3 = 6\n",
      "2 * 4 = 8\n",
      "2 * 5 = 10\n",
      "2 * 6 = 12\n",
      "2 * 7 = 14\n",
      "2 * 8 = 16\n",
      "2 * 9 = 18\n",
      "\n",
      "3 * 1 = 3\n",
      "3 * 2 = 6\n",
      "3 * 3 = 9\n",
      "3 * 4 = 12\n",
      "3 * 5 = 15\n",
      "3 * 6 = 18\n",
      "3 * 7 = 21\n",
      "3 * 8 = 24\n",
      "3 * 9 = 27\n",
      "\n",
      "4 * 1 = 4\n",
      "4 * 2 = 8\n",
      "4 * 3 = 12\n",
      "4 * 4 = 16\n",
      "4 * 5 = 20\n",
      "4 * 6 = 24\n",
      "4 * 7 = 28\n",
      "4 * 8 = 32\n",
      "4 * 9 = 36\n",
      "\n",
      "5 * 1 = 5\n",
      "5 * 2 = 10\n",
      "5 * 3 = 15\n",
      "5 * 4 = 20\n",
      "5 * 5 = 25\n",
      "5 * 6 = 30\n",
      "5 * 7 = 35\n",
      "5 * 8 = 40\n",
      "5 * 9 = 45\n",
      "\n",
      "6 * 1 = 6\n",
      "6 * 2 = 12\n",
      "6 * 3 = 18\n",
      "6 * 4 = 24\n",
      "6 * 5 = 30\n",
      "6 * 6 = 36\n",
      "6 * 7 = 42\n",
      "6 * 8 = 48\n",
      "6 * 9 = 54\n",
      "\n",
      "7 * 1 = 7\n",
      "7 * 2 = 14\n",
      "7 * 3 = 21\n",
      "7 * 4 = 28\n",
      "7 * 5 = 35\n",
      "7 * 6 = 42\n",
      "7 * 7 = 49\n",
      "7 * 8 = 56\n",
      "7 * 9 = 63\n",
      "\n",
      "8 * 1 = 8\n",
      "8 * 2 = 16\n",
      "8 * 3 = 24\n",
      "8 * 4 = 32\n",
      "8 * 5 = 40\n",
      "8 * 6 = 48\n",
      "8 * 7 = 56\n",
      "8 * 8 = 64\n",
      "8 * 9 = 72\n",
      "\n",
      "9 * 1 = 9\n",
      "9 * 2 = 18\n",
      "9 * 3 = 27\n",
      "9 * 4 = 36\n",
      "9 * 5 = 45\n",
      "9 * 6 = 54\n",
      "9 * 7 = 63\n",
      "9 * 8 = 72\n",
      "9 * 9 = 81\n",
      "\n"
     ]
    }
   ],
   "source": [
    "list99()  #沒給就是原本的"
   ]
  },
  {
   "cell_type": "markdown",
   "metadata": {},
   "source": [
    "<font color=#0000FF>比較 range(), np.linspace(), np.arange()</font>"
   ]
  },
  {
   "cell_type": "code",
   "execution_count": 29,
   "metadata": {},
   "outputs": [],
   "source": [
    "import numpy as np"
   ]
  },
  {
   "cell_type": "markdown",
   "metadata": {},
   "source": [
    "<font color=#0000FF>range() : 只可用於整數，start、stop、step，含起值、不含迄值</font>"
   ]
  },
  {
   "cell_type": "code",
   "execution_count": null,
   "metadata": {},
   "outputs": [],
   "source": [
    "# range(stop) -> range object\n",
    "# range(start, stop[, step]) -> range object\n",
    "# Return an object that produces a sequence of integers from start (inclusive) to stop (exclusive) by step."
   ]
  },
  {
   "cell_type": "code",
   "execution_count": 30,
   "metadata": {
    "scrolled": true
   },
   "outputs": [
    {
     "data": {
      "text/plain": [
       "range(1, 11, 2)"
      ]
     },
     "execution_count": 30,
     "metadata": {},
     "output_type": "execute_result"
    }
   ],
   "source": [
    "range(1,11,2)"
   ]
  },
  {
   "cell_type": "code",
   "execution_count": 31,
   "metadata": {},
   "outputs": [
    {
     "data": {
      "text/plain": [
       "range"
      ]
     },
     "execution_count": 31,
     "metadata": {},
     "output_type": "execute_result"
    }
   ],
   "source": [
    "type(range(1,11,2))"
   ]
  },
  {
   "cell_type": "markdown",
   "metadata": {},
   "source": [
    "<font color=#0000FF>np.arange() : 可用於整數、浮點型態，start、stop、step，含起值、不含迄值</font>"
   ]
  },
  {
   "cell_type": "code",
   "execution_count": 20,
   "metadata": {},
   "outputs": [
    {
     "data": {
      "text/plain": [
       "array([ 1. ,  1.5,  2. ,  2.5,  3. ,  3.5,  4. ,  4.5,  5. ,  5.5,  6. ,\n",
       "        6.5,  7. ,  7.5,  8. ,  8.5,  9. ,  9.5, 10. , 10.5])"
      ]
     },
     "execution_count": 20,
     "metadata": {},
     "output_type": "execute_result"
    }
   ],
   "source": [
    "np.arange(1,11,0.5)"
   ]
  },
  {
   "cell_type": "code",
   "execution_count": null,
   "metadata": {},
   "outputs": [],
   "source": [
    "# np.arange([start,] stop[, step,], dtype=None) \n",
    "# Return evenly spaced values within a given interval.\n",
    "#\n",
    "# [note]\n",
    "# stop : number\n",
    "#     End of interval.  The interval does not include this value."
   ]
  },
  {
   "cell_type": "markdown",
   "metadata": {},
   "source": [
    "<font color=#0000FF>np.linspace : 可用於整數、浮點型態，start、stop、<b><u>num</u></b>，，含起值、預設有含迄值(endpoint=True)</font>"
   ]
  },
  {
   "cell_type": "code",
   "execution_count": null,
   "metadata": {},
   "outputs": [],
   "source": [
    "# np.linspace(start, stop, num=50, endpoint=True, retstep=False, dtype=None)\n",
    "# Return evenly spaced numbers over a specified interval.\n",
    "# \n",
    "# [note]\n",
    "# stop : scalar\n",
    "#     The end value of the sequence, unless `endpoint` is set to False.\n",
    "\n",
    "# np.linspace(start=1,stop=11,num=10)\n",
    "# np.linspace(start=1,stop=11,num=10,dtype=int)\n",
    "# np.linspace(start=1,stop=11,num=10,retstep=True,dtype=int)\n",
    "# np.linspace(start=1,stop=11,num=10,endpoint=False,retstep=True)"
   ]
  },
  {
   "cell_type": "code",
   "execution_count": 34,
   "metadata": {},
   "outputs": [
    {
     "data": {
      "text/plain": [
       "array([ 1.        ,  1.52631579,  2.05263158,  2.57894737,  3.10526316,\n",
       "        3.63157895,  4.15789474,  4.68421053,  5.21052632,  5.73684211,\n",
       "        6.26315789,  6.78947368,  7.31578947,  7.84210526,  8.36842105,\n",
       "        8.89473684,  9.42105263,  9.94736842, 10.47368421, 11.        ])"
      ]
     },
     "execution_count": 34,
     "metadata": {},
     "output_type": "execute_result"
    }
   ],
   "source": [
    "np.linspace(1,11,20) #有含11喔 1到11分20個"
   ]
  },
  {
   "cell_type": "markdown",
   "metadata": {},
   "source": [
    "請計算兩個 list 內的值相加"
   ]
  },
  {
   "cell_type": "code",
   "execution_count": 35,
   "metadata": {},
   "outputs": [
    {
     "name": "stdout",
     "output_type": "stream",
     "text": [
      "4\n",
      "[3, 10, 14, 30]\n"
     ]
    }
   ],
   "source": [
    "#兩個 list 等長\n",
    "listA = [1,3,5,10]\n",
    "listB = [2,7,9,20]\n",
    "newList = []\n",
    "print(len(listA))\n",
    "\n",
    "for i in range(len(listA)): #0,1,2,3\n",
    "    newList = newList + [listA[i]+listB[i]] #將元素逐一加入 newList 內\n",
    "print(newList)   "
   ]
  },
  {
   "cell_type": "code",
   "execution_count": 36,
   "metadata": {},
   "outputs": [
    {
     "name": "stdout",
     "output_type": "stream",
     "text": [
      "4\n",
      "[3, 10, 14, 20]\n"
     ]
    }
   ],
   "source": [
    "#兩個 list 不等長\n",
    "listA = [1,3,5]      # 長度 : 3\n",
    "listB = [2,7,9,20]   # 長度 : 4\n",
    "\n",
    "n = max(len(listA), len(listB))\n",
    "\n",
    "newList = []\n",
    "print(n)\n",
    "\n",
    "for i in range(n):#0,1,2,3\n",
    "    newList = newList + [(listA[i] if i < len(listA) else 0) + \\\n",
    "                         (listB[i] if i < len(listB) else 0)]\n",
    "print(newList)    "
   ]
  },
  {
   "cell_type": "code",
   "execution_count": 37,
   "metadata": {},
   "outputs": [
    {
     "name": "stdout",
     "output_type": "stream",
     "text": [
      "5\n",
      "[3, 10, 14, 29, 12]\n"
     ]
    }
   ],
   "source": [
    "listA = [1,3,5,29,12]\n",
    "listB = [2,7,9]\n",
    "n = max(len(listA), len(listB))\n",
    "newList = []\n",
    "print(n)\n",
    "for i in range(n):\n",
    "    newList = newList + [(listA[i] if i < len(listA) else 0) + \\\n",
    "                         (listB[i] if i < len(listB) else 0)]\n",
    "print(newList)  "
   ]
  },
  {
   "cell_type": "code",
   "execution_count": 38,
   "metadata": {},
   "outputs": [],
   "source": [
    "def addList(listA, listB) :\n",
    "    n = max(len(listA), len(listB))\n",
    "    newList = []\n",
    "    print(n)\n",
    "    for i in range(n):\n",
    "        newList = newList + [(listA[i] if i < len(listA) else 0) + \\\n",
    "                             (listB[i] if i < len(listB) else 0)]\n",
    "    print(newList)  "
   ]
  },
  {
   "cell_type": "code",
   "execution_count": 39,
   "metadata": {},
   "outputs": [
    {
     "name": "stdout",
     "output_type": "stream",
     "text": [
      "5\n",
      "[6, 8, 10, 9, 10]\n"
     ]
    }
   ],
   "source": [
    "addList([1,2,3],[5,6,7,9,10])"
   ]
  },
  {
   "cell_type": "markdown",
   "metadata": {
    "collapsed": true
   },
   "source": [
    "### <font color=#0000FF>foreach 的使用(二)</font>"
   ]
  },
  {
   "cell_type": "code",
   "execution_count": 40,
   "metadata": {},
   "outputs": [],
   "source": [
    "import os"
   ]
  },
  {
   "cell_type": "code",
   "execution_count": 41,
   "metadata": {},
   "outputs": [
    {
     "name": "stdout",
     "output_type": "stream",
     "text": [
      "['.ipynb_checkpoints', 'Py1072HW01_Solution.html', 'Py1072HW01_Solution2.ipynb', 'Py1072HW02_Solution.html', 'Py1072HW02_Solution2.ipynb', 'Py1072HW04_Solution.html', 'Py1072HW04_Solution2.ipynb', 'Unit00--基礎環境安裝.html', 'Unit00-Markdown 0219.html', 'Unit01--Python的基本認識與操作(學生版).ipynb', 'Unit01--Python的基本認識與操作(老師上課資料).html', 'Unit02--流程控制與迴圈(學生版) .ipynb', 'Unit02--流程控制與迴圈(老師上課資料).html', 'Unit03--Python的基本物件(List、Tuple、Set、Dict)(學生版).ipynb', 'Unit03--Python的基本物件(List、Tuple、Set、Dict)(老師上課資料).html', 'Unit04--讀、寫檔案與匯入、匯出資料檔案(學生版).ipynb', 'Unit04--讀、寫檔案與匯入、匯出資料檔案(老師上課資料).html']\n"
     ]
    }
   ],
   "source": [
    "print(os.listdir()) #現在位置裡有哪些東西"
   ]
  },
  {
   "cell_type": "code",
   "execution_count": 42,
   "metadata": {},
   "outputs": [
    {
     "name": "stdout",
     "output_type": "stream",
     "text": [
      ".ipynb_checkpoints\n",
      "Py1072HW01_Solution.html\n",
      "Py1072HW01_Solution2.ipynb\n",
      "Py1072HW02_Solution.html\n",
      "Py1072HW02_Solution2.ipynb\n",
      "Py1072HW04_Solution.html\n",
      "Py1072HW04_Solution2.ipynb\n",
      "Unit00--基礎環境安裝.html\n",
      "Unit00-Markdown 0219.html\n",
      "Unit01--Python的基本認識與操作(學生版).ipynb\n",
      "Unit01--Python的基本認識與操作(老師上課資料).html\n",
      "Unit02--流程控制與迴圈(學生版) .ipynb\n",
      "Unit02--流程控制與迴圈(老師上課資料).html\n",
      "Unit03--Python的基本物件(List、Tuple、Set、Dict)(學生版).ipynb\n",
      "Unit03--Python的基本物件(List、Tuple、Set、Dict)(老師上課資料).html\n",
      "Unit04--讀、寫檔案與匯入、匯出資料檔案(學生版).ipynb\n",
      "Unit04--讀、寫檔案與匯入、匯出資料檔案(老師上課資料).html\n"
     ]
    }
   ],
   "source": [
    "lsts = os.listdir() #排好看一點\n",
    "for lst in lsts:\n",
    "    print(lst)"
   ]
  },
  {
   "cell_type": "code",
   "execution_count": 43,
   "metadata": {},
   "outputs": [
    {
     "name": "stdout",
     "output_type": "stream",
     "text": [
      ".ipynb_checkpoints\n",
      "Py1072HW01_Solution.html\n",
      "Py1072HW01_Solution2.ipynb\n",
      "Py1072HW02_Solution.html\n",
      "Py1072HW02_Solution2.ipynb\n",
      "Py1072HW04_Solution.html\n",
      "Py1072HW04_Solution2.ipynb\n",
      "Unit00--基礎環境安裝.html\n",
      "Unit00-Markdown 0219.html\n",
      "Unit01--Python的基本認識與操作(學生版).ipynb\n",
      "Unit01--Python的基本認識與操作(老師上課資料).html\n",
      "Unit02--流程控制與迴圈(學生版) .ipynb\n",
      "Unit02--流程控制與迴圈(老師上課資料).html\n",
      "Unit03--Python的基本物件(List、Tuple、Set、Dict)(學生版).ipynb\n",
      "Unit03--Python的基本物件(List、Tuple、Set、Dict)(老師上課資料).html\n",
      "Unit04--讀、寫檔案與匯入、匯出資料檔案(學生版).ipynb\n",
      "Unit04--讀、寫檔案與匯入、匯出資料檔案(老師上課資料).html\n"
     ]
    }
   ],
   "source": [
    "lsts = os.listdir()\n",
    "for i in range(len(lsts)) :\n",
    "    print(lsts[i])"
   ]
  },
  {
   "cell_type": "markdown",
   "metadata": {
    "collapsed": true
   },
   "source": [
    "### <font color=#0000FF>for與 dict 的使用(三)</font>\n",
    "\n",
    "* list : [ ]\n",
    "* tuple : ( )\n",
    "* set : { }\n",
    "* dict : { } key-value"
   ]
  },
  {
   "cell_type": "code",
   "execution_count": 44,
   "metadata": {},
   "outputs": [
    {
     "name": "stdout",
     "output_type": "stream",
     "text": [
      "{'a': 300, 'b': 200, 'c': 400}\n"
     ]
    }
   ],
   "source": [
    "d = {'a':100, 'b':200, 'a':300, 'c':400} #第一個a會被地第二個a取代\n",
    "print(d)"
   ]
  },
  {
   "cell_type": "code",
   "execution_count": 45,
   "metadata": {},
   "outputs": [
    {
     "name": "stdout",
     "output_type": "stream",
     "text": [
      "dict_items([('a', 300), ('b', 200), ('c', 400)])\n",
      "dict_keys(['a', 'b', 'c'])\n",
      "dict_values([300, 200, 400])\n"
     ]
    }
   ],
   "source": [
    "print(d.items())  #物件.item() 整組\n",
    "print(d.keys())\n",
    "print(d.values())"
   ]
  },
  {
   "cell_type": "code",
   "execution_count": 11,
   "metadata": {},
   "outputs": [
    {
     "name": "stdout",
     "output_type": "stream",
     "text": [
      "3\n"
     ]
    }
   ],
   "source": [
    "print(len(d.items()))"
   ]
  },
  {
   "cell_type": "code",
   "execution_count": 46,
   "metadata": {},
   "outputs": [
    {
     "name": "stdout",
     "output_type": "stream",
     "text": [
      "key : a\n",
      "value : 300\n",
      "key : b\n",
      "value : 200\n",
      "key : c\n",
      "value : 400\n"
     ]
    }
   ],
   "source": [
    "for k, v in d.items():\n",
    "    print('key : {}'.format(k))\n",
    "    print('value : {}'.format(v))"
   ]
  },
  {
   "cell_type": "markdown",
   "metadata": {},
   "source": [
    "### <font color=#0000FF>for與 string 使用(四)</font>"
   ]
  },
  {
   "cell_type": "code",
   "execution_count": 47,
   "metadata": {},
   "outputs": [
    {
     "data": {
      "text/plain": [
       "['L', 'e', 't', 't', 'e', 'r', 's']"
      ]
     },
     "execution_count": 47,
     "metadata": {},
     "output_type": "execute_result"
    }
   ],
   "source": [
    "list('Letters')"
   ]
  },
  {
   "cell_type": "code",
   "execution_count": 48,
   "metadata": {},
   "outputs": [
    {
     "data": {
      "text/plain": [
       "'Letters'"
      ]
     },
     "execution_count": 48,
     "metadata": {},
     "output_type": "execute_result"
    }
   ],
   "source": [
    "\"\".join(['L', 'e', 't', 't', 'e', 'r', 's'])  # \"\"join"
   ]
  },
  {
   "cell_type": "code",
   "execution_count": 49,
   "metadata": {},
   "outputs": [
    {
     "data": {
      "text/plain": [
       "'L;e;t;t;e;r;s'"
      ]
     },
     "execution_count": 49,
     "metadata": {},
     "output_type": "execute_result"
    }
   ],
   "source": [
    "\";\".join(['L', 'e', 't', 't', 'e', 'r', 's'])"
   ]
  },
  {
   "cell_type": "code",
   "execution_count": 50,
   "metadata": {},
   "outputs": [
    {
     "name": "stdout",
     "output_type": "stream",
     "text": [
      "L\n",
      "e\n",
      "t\n",
      "t\n",
      "e\n",
      "r\n",
      "s\n"
     ]
    }
   ],
   "source": [
    "for w in 'Letters':\n",
    "    print(w) #預設是換行"
   ]
  },
  {
   "cell_type": "code",
   "execution_count": 51,
   "metadata": {},
   "outputs": [
    {
     "name": "stdout",
     "output_type": "stream",
     "text": [
      "Letters"
     ]
    }
   ],
   "source": [
    "for w in 'Letters':\n",
    "    print(w,end=\"\")"
   ]
  },
  {
   "cell_type": "markdown",
   "metadata": {},
   "source": [
    "### <font color=#0000FF>for與 list 使用(五)</font>\n",
    "- [有關在 matplotlib 顯示數學表示式 (LaTex)](https://wizardforcel.gitbooks.io/matplotlib-user-guide/4.6.html)"
   ]
  },
  {
   "cell_type": "markdown",
   "metadata": {
    "collapsed": true
   },
   "source": [
    "<font color=#0000FF>寫一個以下數列的和</font>\n",
    "- $\\sum_{x=1}^{20}x^2$\n",
    "- $\\sum_{x=1}^{20}\\sqrt{x}$\n",
    "- $\\sum_{x=1}^{20}\\frac{1}{x}$"
   ]
  },
  {
   "cell_type": "markdown",
   "metadata": {},
   "source": [
    "<font color=#0000FF>寫一個以下數列的和</font>\n",
    "- $\\sum_{x=1}^{20}x^2$\n",
    "- $\\sum_{x=1}^{20}\\sqrt{x}$\n",
    "- $\\sum_{x=1}^{20}\\frac{1}{x}$"
   ]
  },
  {
   "cell_type": "markdown",
   "metadata": {},
   "source": [
    "- $\\sum_{i=1}^n$\n",
    "- $\\beta$\n",
    "- $\\frac{1-x_i}{1-y_i}$"
   ]
  },
  {
   "cell_type": "code",
   "execution_count": 52,
   "metadata": {},
   "outputs": [
    {
     "data": {
      "text/plain": [
       "[1,\n",
       " 4,\n",
       " 9,\n",
       " 16,\n",
       " 25,\n",
       " 36,\n",
       " 49,\n",
       " 64,\n",
       " 81,\n",
       " 100,\n",
       " 121,\n",
       " 144,\n",
       " 169,\n",
       " 196,\n",
       " 225,\n",
       " 256,\n",
       " 289,\n",
       " 324,\n",
       " 361,\n",
       " 400]"
      ]
     },
     "execution_count": 52,
     "metadata": {},
     "output_type": "execute_result"
    }
   ],
   "source": [
    "[x**2 for x in range(1,21)]"
   ]
  },
  {
   "cell_type": "code",
   "execution_count": 21,
   "metadata": {},
   "outputs": [
    {
     "name": "stdout",
     "output_type": "stream",
     "text": [
      "[1, 4, 9, 16, 25, 36, 49, 64, 81, 100, 121, 144, 169, 196, 225, 256, 289, 324, 361, 400]\n"
     ]
    }
   ],
   "source": [
    "print([x**2 for x in range(1,21)])"
   ]
  },
  {
   "cell_type": "code",
   "execution_count": 53,
   "metadata": {},
   "outputs": [
    {
     "data": {
      "text/plain": [
       "2870"
      ]
     },
     "execution_count": 53,
     "metadata": {},
     "output_type": "execute_result"
    }
   ],
   "source": [
    "sum([x**2 for x in range(1,21)])"
   ]
  },
  {
   "cell_type": "markdown",
   "metadata": {},
   "source": [
    "### <font color=#0000FF>for與 list、if 混合使用(六)</font>"
   ]
  },
  {
   "cell_type": "code",
   "execution_count": 40,
   "metadata": {},
   "outputs": [
    {
     "data": {
      "text/plain": [
       "[2, 4, 6, 8, 10, 12, 14, 16, 18, 20]"
      ]
     },
     "execution_count": 40,
     "metadata": {},
     "output_type": "execute_result"
    }
   ],
   "source": [
    "# 列出1-20之間偶數數值\n",
    "[x for x in range(1,21) if x %2 == 0]"
   ]
  },
  {
   "cell_type": "code",
   "execution_count": 54,
   "metadata": {},
   "outputs": [
    {
     "name": "stdout",
     "output_type": "stream",
     "text": [
      "[1, 4, 3, 16, 5, 36, 7, 64, 9, 100, 11, 144, 13, 196, 15, 256, 17, 324, 19, 400]\n"
     ]
    }
   ],
   "source": [
    "# 列出1-20之間，偶數就平方，奇數就直接輸出\n",
    "print([x if x%2 !=0 else x**2 for x in range(1,21)])"
   ]
  },
  {
   "cell_type": "code",
   "execution_count": 55,
   "metadata": {},
   "outputs": [
    {
     "name": "stdout",
     "output_type": "stream",
     "text": [
      "[False, True, False, True, False, True, False, True, False, True, False, True, False, True, False, True, False, True, False, True]\n"
     ]
    }
   ],
   "source": [
    "print([True if x % 2 == 0 else False for x in range(1,21)])"
   ]
  },
  {
   "cell_type": "code",
   "execution_count": 56,
   "metadata": {},
   "outputs": [
    {
     "data": {
      "text/plain": [
       "False"
      ]
     },
     "execution_count": 56,
     "metadata": {},
     "output_type": "execute_result"
    }
   ],
   "source": [
    "all([True if x % 2 == 0 else False for x in range(1,21)]) #"
   ]
  },
  {
   "cell_type": "code",
   "execution_count": 57,
   "metadata": {},
   "outputs": [
    {
     "data": {
      "text/plain": [
       "True"
      ]
     },
     "execution_count": 57,
     "metadata": {},
     "output_type": "execute_result"
    }
   ],
   "source": [
    "any([True if x % 2 == 0 else False for x in range(1,21)]) #是不是都符合這個條件"
   ]
  },
  {
   "cell_type": "markdown",
   "metadata": {},
   "source": [
    "### <font color=#0000FF>nested (巢狀) for 使用(七)</font>"
   ]
  },
  {
   "cell_type": "code",
   "execution_count": 58,
   "metadata": {},
   "outputs": [
    {
     "data": {
      "text/plain": [
       "[6, 12, 18]"
      ]
     },
     "execution_count": 58,
     "metadata": {},
     "output_type": "execute_result"
    }
   ],
   "source": [
    "# 列出1-20之間既是2的倍數，又是3的倍數\n",
    "[x for x in range(1,21) if x%2 == 0 if x%3==0]"
   ]
  },
  {
   "cell_type": "code",
   "execution_count": 59,
   "metadata": {},
   "outputs": [
    {
     "data": {
      "text/plain": [
       "[6, 12, 18]"
      ]
     },
     "execution_count": 59,
     "metadata": {},
     "output_type": "execute_result"
    }
   ],
   "source": [
    "[x for x in range(1,21) if x%2 == 0 and x%3==0]"
   ]
  },
  {
   "cell_type": "markdown",
   "metadata": {},
   "source": [
    "### <font color=#0000FF>string module</font>"
   ]
  },
  {
   "cell_type": "code",
   "execution_count": 61,
   "metadata": {},
   "outputs": [],
   "source": [
    "import string"
   ]
  },
  {
   "cell_type": "code",
   "execution_count": 62,
   "metadata": {
    "scrolled": true
   },
   "outputs": [
    {
     "name": "stdout",
     "output_type": "stream",
     "text": [
      "abcdefghijklmnopqrstuvwxyzABCDEFGHIJKLMNOPQRSTUVWXYZ\n",
      "abcdefghijklmnopqrstuvwxyz\n",
      "ABCDEFGHIJKLMNOPQRSTUVWXYZ\n",
      "It's A Dog\n",
      "0123456789\n",
      "!\"#$%&'()*+,-./:;<=>?@[\\]^_`{|}~\n",
      "0123456789abcdefghijklmnopqrstuvwxyzABCDEFGHIJKLMNOPQRSTUVWXYZ!\"#$%&'()*+,-./:;<=>?@[\\]^_`{|}~ \t\n",
      "\r",
      "\u000b",
      "\f",
      "\n"
     ]
    }
   ],
   "source": [
    "print(string.ascii_letters)\n",
    "print(string.ascii_lowercase)\n",
    "print(string.ascii_uppercase)\n",
    "print(string.capwords(\"it's a dog\"))\n",
    "print(string.digits)\n",
    "print(string.punctuation)\n",
    "print(string.printable)"
   ]
  },
  {
   "cell_type": "code",
   "execution_count": 63,
   "metadata": {},
   "outputs": [
    {
     "name": "stdout",
     "output_type": "stream",
     "text": [
      "Hello Python\n",
      "Hello PythonHello Python\n",
      "False\n",
      "True\n",
      "True\n",
      "Hello \n"
     ]
    }
   ],
   "source": [
    "w1 = 'Hello'\n",
    "w2 = 'Python'\n",
    "w = w1 + ' ' + w2\n",
    "print(w)\n",
    "print(w*2) #2遍\n",
    "print('p' in w)\n",
    "print('p' not in w)\n",
    "print('P' in w)\n",
    "print(w[0:6])"
   ]
  },
  {
   "cell_type": "code",
   "execution_count": 65,
   "metadata": {},
   "outputs": [
    {
     "name": "stdout",
     "output_type": "stream",
     "text": [
      "2\n",
      "-1\n"
     ]
    }
   ],
   "source": [
    "print(w.find('llo')) #回傳2-第3個\n",
    "print(w.find('x'))   #找不到就回傳 -1"
   ]
  },
  {
   "cell_type": "markdown",
   "metadata": {
    "collapsed": true
   },
   "source": [
    "<font color=#0000FF>【練習題】撰寫一個 質數 的判斷程式</font>"
   ]
  },
  {
   "cell_type": "code",
   "execution_count": 4,
   "metadata": {},
   "outputs": [
    {
     "name": "stdout",
     "output_type": "stream",
     "text": [
      "False\n"
     ]
    }
   ],
   "source": [
    "#step1\n",
    "num = 18\n",
    "isPrimeFlag = True  #先給一個判斷式 假設質數\n",
    "for i in range(2, num):# 2-17 #質數 除了1跟自己\n",
    "    if num%i == 0 :  #如果整除\n",
    "        isPrimeFlag = False  #就是FALSE\n",
    "        break\n",
    "print(isPrimeFlag) \n"
   ]
  },
  {
   "cell_type": "code",
   "execution_count": 67,
   "metadata": {},
   "outputs": [
    {
     "name": "stdout",
     "output_type": "stream",
     "text": [
      "17 是 質數\n"
     ]
    }
   ],
   "source": [
    "#step2\n",
    "num = 17\n",
    "isPrimeFlag = True\n",
    "for i in range(2, num):\n",
    "    if num%i == 0 :\n",
    "        isPrimeFlag = False\n",
    "        break                  #只要有一次被整除就跳離開迴圈，不要繼續做\n",
    "print(\"{} {} 質數\".format(num, \"是\" if isPrimeFlag else \"不是\"))"
   ]
  },
  {
   "cell_type": "code",
   "execution_count": 68,
   "metadata": {},
   "outputs": [],
   "source": [
    "#step3\n",
    "def isPrime(num):\n",
    "#     num = 17\n",
    "    isPrimeFlag = True\n",
    "    for i in range(2, num):\n",
    "        if num%i == 0 :\n",
    "            isPrimeFlag = False\n",
    "            break                                                            #只要有一次被整除就跳離開迴圈，不要繼續做\n",
    "#     print(\"{} {} 質數\".format(num, \"是\" if isPrimeFlag else \"不是\"))        #print 不要放在函數理  輸出的東西讓人家可以自己改\n",
    "    return isPrimeFlag                                                       #回傳一個結果就好"
   ]
  },
  {
   "cell_type": "code",
   "execution_count": 69,
   "metadata": {},
   "outputs": [
    {
     "data": {
      "text/plain": [
       "True"
      ]
     },
     "execution_count": 69,
     "metadata": {},
     "output_type": "execute_result"
    }
   ],
   "source": [
    "isPrime(17)"
   ]
  },
  {
   "cell_type": "code",
   "execution_count": 70,
   "metadata": {},
   "outputs": [
    {
     "name": "stdout",
     "output_type": "stream",
     "text": [
      "17 是 質數\n"
     ]
    }
   ],
   "source": [
    "num = 17\n",
    "print(\"{} {} 質數\".format(num, \"是\" if isPrime(num) else \"不是\"))"
   ]
  },
  {
   "cell_type": "markdown",
   "metadata": {},
   "source": [
    "以下是錯誤的示範"
   ]
  },
  {
   "cell_type": "code",
   "execution_count": 12,
   "metadata": {},
   "outputs": [
    {
     "name": "stdout",
     "output_type": "stream",
     "text": [
      "2 是質數\n",
      "3 不是質數\n",
      "4 是質數\n",
      "5 是質數\n",
      "6 是質數\n",
      "7 不是質數\n",
      "8 是質數\n",
      "9 是質數\n",
      "10 是質數\n",
      "11 是質數\n",
      "12 是質數\n",
      "13 是質數\n",
      "14 是質數\n",
      "15 是質數\n",
      "16 是質數\n",
      "17 是質數\n",
      "18 是質數\n",
      "19 是質數\n",
      "20 是質數\n"
     ]
    }
   ],
   "source": [
    "num = 21\n",
    "for i in range(2, num):\n",
    "    if num%i == 0 :\n",
    "        print(\"{} {}\".format(i, \"不是質數\"))\n",
    "    else :    \n",
    "        print(\"{} {}\".format(i, \"是質數\"))        \n",
    "# compile error / runtime error   "
   ]
  },
  {
   "cell_type": "markdown",
   "metadata": {},
   "source": [
    "### <font color=#0000FF>使用while迴圈</font>"
   ]
  },
  {
   "cell_type": "code",
   "execution_count": 71,
   "metadata": {},
   "outputs": [
    {
     "name": "stdout",
     "output_type": "stream",
     "text": [
      "False\n"
     ]
    }
   ],
   "source": [
    "#通常不知道要跑幾次時用while   for常用在已知要跑幾圈迴圈時\n",
    "\n",
    "#step1 \n",
    "num = 21\n",
    "isPrimeFlag = True   #先給定\n",
    "i = 2     #給起始值\n",
    "while isPrimeFlag and i < num:  #這個條件才成立時，才執行  isPrimeFlag =true(上一圈判斷的結果) 且i<num\n",
    "    if num%i == 0 :\n",
    "        isPrimeFlag = False     #當這裡是false時 下一圈就不會跑了\n",
    "    i = i + 1                   #類似range的功能 要手動加1\n",
    "print(isPrimeFlag)   "
   ]
  },
  {
   "cell_type": "code",
   "execution_count": 73,
   "metadata": {},
   "outputs": [
    {
     "name": "stdout",
     "output_type": "stream",
     "text": [
      "False\n"
     ]
    }
   ],
   "source": [
    "#step2\n",
    "#定義函數\n",
    "num = 21\n",
    "isPrimeFlag = True   #先給定\n",
    "i = 2\n",
    "while isPrimeFlag and i < num:  #這個條件才成立時，才執行\n",
    "    if num%i == 0 :\n",
    "        isPrimeFlag = False     #當這裡是false時 下一圈就不會跑了\n",
    "    i = i + 1                   #類似range的功能 要手動加1\n",
    "print(isPrimeFlag)  "
   ]
  },
  {
   "cell_type": "markdown",
   "metadata": {},
   "source": [
    "迴圈可以使用以下兩個\n",
    "\n",
    "break : 直接跳離開迴圈\n",
    "continue : 在continue以下的程式不會執行，直接跳回迴圈的開頭(for / while)"
   ]
  },
  {
   "cell_type": "markdown",
   "metadata": {},
   "source": [
    "<font color=#0000FF>【練習題】撰寫一個函數multiples(min, max, factors)，可以將某一區間的數，依據使用者輸入的因素將其倍數分開</font>\n",
    "例如使用者輸入 multiples(1,50,[2,3,5])，可以分成\n",
    "\n",
    "\n",
    "[2, 4, 6, 8, 10, 12, 14, 16, 18, 20, 22, 24, 26, 28, 30, 32, 34, 36, 38, 40, 42, 44, 46, 48, 50]\n",
    "[3, 6, 9, 12, 15, 18, 21, 24, 27, 30, 33, 36, 39, 42, 45, 48]\n",
    "[5, 10, 15, 20, 25, 30, 35, 40, 45, 50]"
   ]
  },
  {
   "cell_type": "code",
   "execution_count": 74,
   "metadata": {},
   "outputs": [
    {
     "name": "stdout",
     "output_type": "stream",
     "text": [
      "4\n"
     ]
    }
   ],
   "source": [
    "#teacher\n",
    "#step1\n",
    "factors = [2,3,5,6]\n",
    "n = len(factors)\n",
    "lst = [[] for _ in range(n)]   # 創造出一個 list --lst 內有 n 個 list\n",
    "print(len(lst))"
   ]
  },
  {
   "cell_type": "code",
   "execution_count": 75,
   "metadata": {},
   "outputs": [
    {
     "name": "stdout",
     "output_type": "stream",
     "text": [
      "[[2, 4, 6, 8, 10, 12, 14, 16, 18, 20, 22, 24, 26, 28, 30, 32, 34, 36, 38, 40, 42, 44, 46, 48, 50], [3, 6, 9, 12, 15, 18, 21, 24, 27, 30, 33, 36, 39, 42, 45, 48], [5, 10, 15, 20, 25, 30, 35, 40, 45, 50], [6, 12, 18, 24, 30, 36, 42, 48]]\n",
      "[2, 4, 6, 8, 10, 12, 14, 16, 18, 20, 22, 24, 26, 28, 30, 32, 34, 36, 38, 40, 42, 44, 46, 48, 50]\n",
      "[3, 6, 9, 12, 15, 18, 21, 24, 27, 30, 33, 36, 39, 42, 45, 48]\n",
      "[5, 10, 15, 20, 25, 30, 35, 40, 45, 50]\n",
      "[6, 12, 18, 24, 30, 36, 42, 48]\n"
     ]
    }
   ],
   "source": [
    "#step2\n",
    "factors = [2,3,5,6]\n",
    "n = len(factors)\n",
    "lst = [[] for _ in range(n)]\n",
    "\n",
    "for i in range(n) :#0,1,2,3\n",
    "    lst[i] = [j for j in range(1,51) if j%factors[i]==0]\n",
    "print(lst)\n",
    "\n",
    "\n",
    "## 一行一行印   \n",
    "for i in range(n) :\n",
    "    print(lst[i])\n"
   ]
  },
  {
   "cell_type": "code",
   "execution_count": 78,
   "metadata": {},
   "outputs": [],
   "source": [
    "def multiples(min, max, factors):\n",
    "#     factors = [2,3,5,6]\n",
    "    n = len(factors)\n",
    "    lst = [[] for _ in range(n)]\n",
    "    for i in range(n) :                           # 依據 factors 內有幾個元素就跑幾次\n",
    "        lst[i] = [j for j in range(min,max+1) if j%factors[i]==0]  # lst[i] 代表 lst 內的第 i 個 list\n",
    "    return lst \n",
    "        \n",
    "   \n"
   ]
  },
  {
   "cell_type": "code",
   "execution_count": 77,
   "metadata": {},
   "outputs": [
    {
     "name": "stdout",
     "output_type": "stream",
     "text": [
      "[[2, 4, 6, 8, 10, 12, 14, 16, 18, 20, 22, 24, 26, 28, 30, 32, 34, 36, 38, 40, 42, 44, 46, 48, 50, 52, 54, 56, 58, 60, 62, 64, 66, 68, 70, 72, 74, 76, 78, 80, 82, 84, 86, 88, 90, 92, 94, 96, 98, 100], [6, 12, 18, 24, 30, 36, 42, 48, 54, 60, 66, 72, 78, 84, 90, 96], [8, 16, 24, 32, 40, 48, 56, 64, 72, 80, 88, 96], [10, 20, 30, 40, 50, 60, 70, 80, 90, 100]]\n"
     ]
    }
   ],
   "source": [
    "lst2 = multiples(1,100,[2,6,8,10])\n",
    "print(lst2)\n",
    "\n"
   ]
  },
  {
   "cell_type": "markdown",
   "metadata": {},
   "source": [
    "### <font color=#0000FF>【homework01】2019/03/5</font>"
   ]
  },
  {
   "cell_type": "code",
   "execution_count": 48,
   "metadata": {},
   "outputs": [
    {
     "name": "stdout",
     "output_type": "stream",
     "text": [
      "*\n",
      "***\n",
      "*****\n",
      "*******\n",
      "*********\n",
      "***********\n",
      "*************\n",
      "***************\n",
      "*****************\n",
      "*******************\n"
     ]
    }
   ],
   "source": [
    "for i in range(1,11):\n",
    "    for j in range(2*i-1,2*i):\n",
    "        print(\"*\"*j)\n",
    "    print\n"
   ]
  },
  {
   "cell_type": "code",
   "execution_count": 1,
   "metadata": {},
   "outputs": [
    {
     "name": "stdout",
     "output_type": "stream",
     "text": [
      "*\n",
      "***\n",
      "*****\n",
      "*******\n",
      "*********\n",
      "***********\n",
      "*************\n",
      "***************\n",
      "*****************\n",
      "*******************\n",
      "\n"
     ]
    }
   ],
   "source": [
    "S=\"\"\n",
    "for i in range(1,11):\n",
    "    for j in range(1,2*i):\n",
    "        S+=\"*\"\n",
    "    S+=\"\\n\"    \n",
    "print(S)\n",
    "\n"
   ]
  },
  {
   "cell_type": "code",
   "execution_count": 35,
   "metadata": {
    "scrolled": false
   },
   "outputs": [
    {
     "name": "stdout",
     "output_type": "stream",
     "text": [
      "         *\n",
      "        ***\n",
      "       *****\n",
      "      *******\n",
      "     *********\n",
      "    ***********\n",
      "   *************\n",
      "  ***************\n",
      " *****************\n",
      "*******************\n"
     ]
    }
   ],
   "source": [
    "layers=len(range(1,11)) \n",
    "\n",
    "for i in range(1,11):\n",
    "    for j in range(2*i-1,2*i):\n",
    "        print(\" \"*(layers-i)+\"*\"*j)\n",
    "    print"
   ]
  },
  {
   "cell_type": "code",
   "execution_count": 21,
   "metadata": {},
   "outputs": [
    {
     "name": "stdout",
     "output_type": "stream",
     "text": [
      "         * \n",
      "        *** \n",
      "       ***** \n",
      "      ******* \n",
      "     ********* \n",
      "    *********** \n",
      "   ************* \n",
      "  *************** \n",
      " ***************** \n",
      "******************* \n",
      "\n"
     ]
    }
   ],
   "source": [
    "S=\"\"\n",
    "for i in range(1,11):\n",
    "    a=10-i\n",
    "    S+=\" \"*a\n",
    "    for j in range(1,2*i):\n",
    "        S+=\"*\"\n",
    "    S+=\" \\n\"    \n",
    "print(S)\n"
   ]
  },
  {
   "cell_type": "code",
   "execution_count": 32,
   "metadata": {},
   "outputs": [
    {
     "name": "stdout",
     "output_type": "stream",
     "text": [
      "         * \n",
      "        *-* \n",
      "       *-*-* \n",
      "      *-*-*-* \n",
      "     *-*-*-*-* \n",
      "    *-*-*-*-*-* \n",
      "   *-*-*-*-*-*-* \n",
      "  *-*-*-*-*-*-*-* \n",
      " *-*-*-*-*-*-*-*-* \n",
      "*-*-*-*-*-*-*-*-*-* \n",
      "\n"
     ]
    }
   ],
   "source": [
    "S=\"\"\n",
    "for i in range(1,11):\n",
    "    a=10-i\n",
    "    S+=\" \"*a\n",
    "    for j in range(1,2*i):\n",
    "        S+=\"*\" if j%2==1 else \"-\"\n",
    "    S+=\" \\n\"    \n",
    "print(S)\n",
    "\n",
    "\n",
    "\n",
    "\n"
   ]
  },
  {
   "cell_type": "code",
   "execution_count": 1,
   "metadata": {},
   "outputs": [],
   "source": [
    "def XmasTree(layers, marker) :   \n",
    "    \n",
    "    S=\"\"\n",
    "  \n",
    "    for i in range(1,layers+1):\n",
    "        a=10-i\n",
    "        S+=\" \"*a\n",
    "        for j in range(1,2*i):\n",
    "            S+=marker if j%2==1 else \"-\"\n",
    "        S+=\" \\n\"    \n",
    "    print(S)\n",
    "      "
   ]
  },
  {
   "cell_type": "code",
   "execution_count": 44,
   "metadata": {
    "scrolled": true
   },
   "outputs": [
    {
     "name": "stdout",
     "output_type": "stream",
     "text": [
      "         $ \n",
      "        $-$ \n",
      "       $-$-$ \n",
      "      $-$-$-$ \n",
      "\n"
     ]
    }
   ],
   "source": [
    "XmasTree(layers=4, marker=\"$\")"
   ]
  },
  {
   "cell_type": "code",
   "execution_count": 7,
   "metadata": {
    "scrolled": false
   },
   "outputs": [
    {
     "name": "stdout",
     "output_type": "stream",
     "text": [
      "1 * 1 =  1     2 * 1 =  2     3 * 1 =  3     \n",
      "1 * 2 =  2     2 * 2 =  4     3 * 2 =  6     \n",
      "1 * 3 =  3     2 * 3 =  6     3 * 3 =  9     \n",
      "1 * 4 =  4     2 * 4 =  8     3 * 4 = 12     \n",
      "1 * 5 =  5     2 * 5 = 10     3 * 5 = 15     \n",
      "1 * 6 =  6     2 * 6 = 12     3 * 6 = 18     \n",
      "1 * 7 =  7     2 * 7 = 14     3 * 7 = 21     \n",
      "1 * 8 =  8     2 * 8 = 16     3 * 8 = 24     \n",
      "1 * 9 =  9     2 * 9 = 18     3 * 9 = 27     \n",
      "\n",
      "\n",
      "\n",
      "4 * 1 =  4     5 * 1 =  5     6 * 1 =  6     \n",
      "4 * 2 =  8     5 * 2 = 10     6 * 2 = 12     \n",
      "4 * 3 = 12     5 * 3 = 15     6 * 3 = 18     \n",
      "4 * 4 = 16     5 * 4 = 20     6 * 4 = 24     \n",
      "4 * 5 = 20     5 * 5 = 25     6 * 5 = 30     \n",
      "4 * 6 = 24     5 * 6 = 30     6 * 6 = 36     \n",
      "4 * 7 = 28     5 * 7 = 35     6 * 7 = 42     \n",
      "4 * 8 = 32     5 * 8 = 40     6 * 8 = 48     \n",
      "4 * 9 = 36     5 * 9 = 45     6 * 9 = 54     \n",
      "\n",
      "\n",
      "\n",
      "7 * 1 =  7     8 * 1 =  8     9 * 1 =  9     \n",
      "7 * 2 = 14     8 * 2 = 16     9 * 2 = 18     \n",
      "7 * 3 = 21     8 * 3 = 24     9 * 3 = 27     \n",
      "7 * 4 = 28     8 * 4 = 32     9 * 4 = 36     \n",
      "7 * 5 = 35     8 * 5 = 40     9 * 5 = 45     \n",
      "7 * 6 = 42     8 * 6 = 48     9 * 6 = 54     \n",
      "7 * 7 = 49     8 * 7 = 56     9 * 7 = 63     \n",
      "7 * 8 = 56     8 * 8 = 64     9 * 8 = 72     \n",
      "7 * 9 = 63     8 * 9 = 72     9 * 9 = 81     \n",
      "\n",
      "\n",
      "\n",
      "\n"
     ]
    }
   ],
   "source": [
    "c=\"\"\n",
    "for k in range(1,10,3):\n",
    "    for j in range(1,10):\n",
    "        for i in range(k,k+3):\n",
    "            c+=\"{} * {} = {:2d}     \" .format(i,j, i*j)\n",
    "        c+=\"\\n\"\n",
    "    c+=\"\\n\\n\\n\"   \n",
    "print(c)    \n",
    "  "
   ]
  },
  {
   "cell_type": "code",
   "execution_count": 15,
   "metadata": {},
   "outputs": [
    {
     "name": "stdout",
     "output_type": "stream",
     "text": [
      "1 * 1 =  1     2 * 1 =  2     3 * 1 =  3     4 * 1 =  4     \n",
      "1 * 2 =  2     2 * 2 =  4     3 * 2 =  6     4 * 2 =  8     \n",
      "1 * 3 =  3     2 * 3 =  6     3 * 3 =  9     4 * 3 = 12     \n",
      "1 * 4 =  4     2 * 4 =  8     3 * 4 = 12     4 * 4 = 16     \n",
      "1 * 5 =  5     2 * 5 = 10     3 * 5 = 15     4 * 5 = 20     \n",
      "1 * 6 =  6     2 * 6 = 12     3 * 6 = 18     4 * 6 = 24     \n",
      "1 * 7 =  7     2 * 7 = 14     3 * 7 = 21     4 * 7 = 28     \n",
      "1 * 8 =  8     2 * 8 = 16     3 * 8 = 24     4 * 8 = 32     \n",
      "1 * 9 =  9     2 * 9 = 18     3 * 9 = 27     4 * 9 = 36     \n",
      "\n",
      "\n",
      "\n",
      "5 * 1 =  5     6 * 1 =  6     7 * 1 =  7     8 * 1 =  8     \n",
      "5 * 2 = 10     6 * 2 = 12     7 * 2 = 14     8 * 2 = 16     \n",
      "5 * 3 = 15     6 * 3 = 18     7 * 3 = 21     8 * 3 = 24     \n",
      "5 * 4 = 20     6 * 4 = 24     7 * 4 = 28     8 * 4 = 32     \n",
      "5 * 5 = 25     6 * 5 = 30     7 * 5 = 35     8 * 5 = 40     \n",
      "5 * 6 = 30     6 * 6 = 36     7 * 6 = 42     8 * 6 = 48     \n",
      "5 * 7 = 35     6 * 7 = 42     7 * 7 = 49     8 * 7 = 56     \n",
      "5 * 8 = 40     6 * 8 = 48     7 * 8 = 56     8 * 8 = 64     \n",
      "5 * 9 = 45     6 * 9 = 54     7 * 9 = 63     8 * 9 = 72     \n",
      "\n",
      "\n",
      "\n",
      "9 * 1 =  9     \n",
      "9 * 2 = 18     \n",
      "9 * 3 = 27     \n",
      "9 * 4 = 36     \n",
      "9 * 5 = 45     \n",
      "9 * 6 = 54     \n",
      "9 * 7 = 63     \n",
      "9 * 8 = 72     \n",
      "9 * 9 = 81     \n",
      "\n",
      "\n",
      "\n",
      "\n"
     ]
    }
   ],
   "source": [
    "c=\"\"\n",
    "for k in range(1,10,4):\n",
    "    for j in range(1,10):\n",
    "        for i in range(k,k+4):\n",
    "            if i >9:\n",
    "                break\n",
    "            c+=\"{} * {} = {:2d}     \" .format(i,j, i*j)\n",
    "        c+=\"\\n\"\n",
    "    c+=\"\\n\\n\\n\" \n",
    "\n",
    "              \n",
    "print(c)    "
   ]
  },
  {
   "cell_type": "markdown",
   "metadata": {},
   "source": [
    "### <font color=#0000FF>上課練習(2019/03/12)</font>\n",
    "請寫一個程式讓使用者與電腦玩猜數字遊戲，電腦會產生一個 1 ~ 100 之間的亂數，條件如下 : \n",
    "1. 最多可猜 10 次\n",
    "2. 電腦必須告知太大、還是太小\n",
    "3. 倘若與答案相距 5 之內(含)，除了說太大、太小之外，還要說接近了。\n",
    "4. 答對要說答對\n",
    "5. 最後必須告知使用者總共答了幾次，並將所有使用者輸入的數字列印出來。"
   ]
  },
  {
   "cell_type": "code",
   "execution_count": 2,
   "metadata": {},
   "outputs": [],
   "source": [
    "import numpy as np"
   ]
  },
  {
   "cell_type": "markdown",
   "metadata": {},
   "source": [
    "【常用的random函數】\n",
    "- np.random.random()\n",
    "- np.random.randint()\n",
    "- np.random.choice()   # 類似 R 的 sample()"
   ]
  },
  {
   "cell_type": "code",
   "execution_count": 4,
   "metadata": {},
   "outputs": [
    {
     "data": {
      "text/plain": [
       "array([4, 6, 1, 2, 2, 4, 3, 2, 4, 3])"
      ]
     },
     "execution_count": 4,
     "metadata": {},
     "output_type": "execute_result"
    }
   ],
   "source": [
    "np.random.choice(range(1,7), 10, replace=True)"
   ]
  },
  {
   "cell_type": "code",
   "execution_count": 5,
   "metadata": {},
   "outputs": [],
   "source": [
    "ans=np.random.randint(0,101)"
   ]
  },
  {
   "cell_type": "code",
   "execution_count": null,
   "metadata": {
    "scrolled": true
   },
   "outputs": [
    {
     "name": "stdout",
     "output_type": "stream",
     "text": [
      "ans:18\n",
      "請輸入一個0~100:50\n",
      "太大了\n",
      "你猜了1\n",
      "請輸入一個0~100:60\n",
      "太大了\n",
      "你猜了2\n"
     ]
    }
   ],
   "source": [
    "ans=np.random.randint(0,101)\n",
    "print(\"ans:{}\".format(ans))\n",
    "for i in range(1, 11):\n",
    "    usr = int(input(\"請輸入一個0~100:\"))\n",
    "    if ans == usr :\n",
    "        print('答對了') \n",
    "        break\n",
    "    elif abs(ans - usr ) <= 5:\n",
    "        print('接近了')\n",
    "    elif usr > ans :\n",
    "        print('太大了')\n",
    "    else :\n",
    "        print('太小了')                                \n",
    "    print(\"你猜了{}次\".format(i))   \n",
    "print()    "
   ]
  },
  {
   "cell_type": "code",
   "execution_count": null,
   "metadata": {},
   "outputs": [],
   "source": [
    "##老師範例\n",
    "rnd = int(np.random.randint(1,101,1))\n",
    "print('亂數 : {}'.format(rnd))\n",
    "for i in range(1, 11):\n",
    "    pass"
   ]
  },
  {
   "cell_type": "code",
   "execution_count": null,
   "metadata": {},
   "outputs": [],
   "source": [
    "# 老師範例 step 2\n",
    "# step 2\n",
    "rnd = int(np.random.randint(1,101,1))\n",
    "print('亂數 : {}'.format(rnd))\n",
    "for i in range(1, 11):\n",
    "    usr = int(input('[{}]請猜猜 : '.format(i)))\n",
    "    if usr == rnd :\n",
    "        print('答對了')\n",
    "        break             #break直接跳離開回圈 , continue直接跳回迴圈的開始\n",
    "    elif usr > rnd :\n",
    "        print('太大'+ ('且接近了' if abs(usr - rnd) <= 5 else ''))\n",
    "    else :\n",
    "        print('太小'+ ('且接近了' if abs(usr - rnd) <= 5 else ''))"
   ]
  },
  {
   "cell_type": "code",
   "execution_count": null,
   "metadata": {},
   "outputs": [],
   "source": [
    "# step 3\n",
    "rnd = int(np.random.randint(1,101,1))\n",
    "print('亂數 : {}'.format(rnd))\n",
    "lst = [] # list\n",
    "for i in range(1, 11):\n",
    "    usr = int(input('[{}]請猜猜 : '.format(i)))\n",
    "    lst = lst + [usr]\n",
    "    if usr == rnd :\n",
    "        print('答對了')\n",
    "        break             #break直接跳離開回圈 , continue直接跳回迴圈的開始\n",
    "    elif usr > rnd :\n",
    "        print('太大'+ ('且接近了' if abs(usr - rnd) <= 5 else ''))\n",
    "    else :\n",
    "        print('太小'+ ('且接近了' if abs(usr - rnd) <= 5 else ''))\n",
    "print(lst) "
   ]
  },
  {
   "cell_type": "code",
   "execution_count": null,
   "metadata": {},
   "outputs": [],
   "source": [
    "def getMsg(usr, rnd, itvl) :\n",
    "    \n",
    "    \n",
    "    return msg"
   ]
  },
  {
   "cell_type": "code",
   "execution_count": null,
   "metadata": {},
   "outputs": [],
   "source": [
    "def getMsg(usr, rnd, itvl=5) :\n",
    "    if usr == rnd :\n",
    "        msg='答對了'\n",
    "    elif usr > rnd :\n",
    "        msg='太大'+ ('且接近了' if abs(usr - rnd) <= itvl else '')\n",
    "    else :\n",
    "        msg='太小'+ ('且接近了' if abs(usr - rnd) <= itvl else '')\n",
    "    return msg"
   ]
  },
  {
   "cell_type": "code",
   "execution_count": null,
   "metadata": {
    "scrolled": true
   },
   "outputs": [
    {
     "name": "stdout",
     "output_type": "stream",
     "text": [
      "亂數 : 73\n"
     ]
    }
   ],
   "source": [
    "# step 4 改寫成函數\n",
    "rnd = int(np.random.randint(1,101,1))\n",
    "print('亂數 : {}'.format(rnd))\n",
    "lst = [] # list\n",
    "for i in range(1, 11):\n",
    "    usr = int(input('[{}]請猜猜 : '.format(i)))\n",
    "    lst = lst + [usr]\n",
    "    msg = getMsg(usr, rnd, 6)\n",
    "    print(msg)\n",
    "    if msg == '答對了' :\n",
    "        break\n",
    "print(lst)  "
   ]
  },
  {
   "cell_type": "code",
   "execution_count": null,
   "metadata": {},
   "outputs": [],
   "source": [
    "# step 5 將所有數值抽離出來\n",
    "rndMin = 1\n",
    "rndMax = 100\n",
    "interval = 6\n",
    "times = 10\n",
    "\n",
    "rnd = int(np.random.randint(rndMin,rndMax+1,1))\n",
    "print('亂數 : {}'.format(rnd))\n",
    "lst = [] # list\n",
    "for i in range(1, times+1):\n",
    "    usr = int(input('[{}]請猜猜 : '.format(i)))\n",
    "    lst = lst + [usr]\n",
    "    msg = getMsg(usr, rnd, interval)\n",
    "    print(msg)\n",
    "    if msg == '答對了' :\n",
    "        break\n",
    "    \n",
    "print(lst)  "
   ]
  },
  {
   "cell_type": "markdown",
   "metadata": {},
   "source": [
    "### <font color=#0000FF>【homework02】2019/03/12</font>"
   ]
  },
  {
   "cell_type": "markdown",
   "metadata": {},
   "source": [
    "<font color=#0000FF>(001-01)大家總是喜歡玩猜拳遊戲，請寫一個與電腦猜拳的遊戲，(1)剪刀 < (2)石頭 < (3)布 < (1)剪刀 <br>\n",
    "使用者輸入1, 2, 3來代表，電腦輸出要是剪刀、石頭、布</font>\n",
    "* 1 : 剪刀\n",
    "* 2 : 石頭\n",
    "* 3 : 布"
   ]
  },
  {
   "cell_type": "code",
   "execution_count": 5,
   "metadata": {
    "scrolled": true
   },
   "outputs": [
    {
     "name": "stdout",
     "output_type": "stream",
     "text": [
      "玩家請出拳5\n",
      "你亂來\n",
      "玩家請出拳1\n",
      "玩家出拳 : 剪刀\n",
      "電腦出拳 : 布\n",
      "你贏了\n"
     ]
    }
   ],
   "source": [
    "import numpy as np\n",
    "\n",
    "tye=[\"剪刀\",\"石頭\",\"布\"]\n",
    "    \n",
    "len(tye)\n",
    "while True:\n",
    "    player = int(input('玩家請出拳')) \n",
    "    if player <=3 and player>=0:\n",
    "        print('玩家出拳 : {}'.format(tye[player-1]))\n",
    "        break\n",
    "    elif  player >3 or player<0:\n",
    "        print('你亂來')\n",
    "        continue\n",
    "    \n",
    "    \n",
    "computer = int(np.random.randint(1,len(tye)+1,1))\n",
    "print('電腦出拳 : {}'.format(tye[computer-1]))\n",
    "\n",
    "if computer==len(tye) and player==1 :\n",
    "    print('你贏了')                        #break直接跳離開回圈 , continue直接跳回迴圈的開始\n",
    "elif computer==1 and player==len(tye) :\n",
    "    print('你輸了')\n",
    "elif computer == player :\n",
    "    print('平手')           \n",
    "elif computer < player :\n",
    "    print('你贏了')\n",
    "elif computer > player :\n",
    "     print('你輸了')\n",
    "\n"
   ]
  },
  {
   "cell_type": "code",
   "execution_count": 10,
   "metadata": {},
   "outputs": [],
   "source": [
    "def gamerule(tye):\n",
    "    if computer==len(tye) and player==1 :\n",
    "        result='你贏了'                      #break直接跳離開回圈 , continue直接跳回迴圈的開始\n",
    "    elif computer==1 and player==len(tye) :\n",
    "        result='你輸了'\n",
    "    elif computer == player :\n",
    "        result='平手'          \n",
    "    elif computer < player :\n",
    "        result='你贏了'\n",
    "    elif computer > player :\n",
    "        result='你輸了'\n",
    "    return result"
   ]
  },
  {
   "cell_type": "markdown",
   "metadata": {},
   "source": [
    "<font color=#0000FF>(001-02)請將以上的遊戲改成 獵人、老虎、槍，(1)獵人 < (2)老虎 < (3)槍 < (1)獵人<br>\n",
    "使用者輸入1, 2, 3來代表，電腦輸出要是獵人、老虎、槍</font>\n",
    "* 1 : 獵人\n",
    "* 2 : 老虎\n",
    "* 3 : 槍"
   ]
  },
  {
   "cell_type": "code",
   "execution_count": 9,
   "metadata": {},
   "outputs": [
    {
     "name": "stdout",
     "output_type": "stream",
     "text": [
      "玩家請出拳5\n",
      "你亂來\n",
      "玩家請出拳1\n",
      "玩家出拳 : 獵人\n",
      "電腦出拳 : 獵人\n"
     ]
    },
    {
     "ename": "NameError",
     "evalue": "name 'gamerule' is not defined",
     "output_type": "error",
     "traceback": [
      "\u001b[1;31m---------------------------------------------------------------------------\u001b[0m",
      "\u001b[1;31mNameError\u001b[0m                                 Traceback (most recent call last)",
      "\u001b[1;32m<ipython-input-9-f0235b9840cc>\u001b[0m in \u001b[0;36m<module>\u001b[1;34m\u001b[0m\n\u001b[0;32m     13\u001b[0m \u001b[0mcomputer\u001b[0m \u001b[1;33m=\u001b[0m \u001b[0mint\u001b[0m\u001b[1;33m(\u001b[0m\u001b[0mnp\u001b[0m\u001b[1;33m.\u001b[0m\u001b[0mrandom\u001b[0m\u001b[1;33m.\u001b[0m\u001b[0mrandint\u001b[0m\u001b[1;33m(\u001b[0m\u001b[1;36m1\u001b[0m\u001b[1;33m,\u001b[0m\u001b[0mlen\u001b[0m\u001b[1;33m(\u001b[0m\u001b[0mtye\u001b[0m\u001b[1;33m)\u001b[0m\u001b[1;33m+\u001b[0m\u001b[1;36m1\u001b[0m\u001b[1;33m,\u001b[0m\u001b[1;36m1\u001b[0m\u001b[1;33m)\u001b[0m\u001b[1;33m)\u001b[0m\u001b[1;33m\u001b[0m\u001b[1;33m\u001b[0m\u001b[0m\n\u001b[0;32m     14\u001b[0m \u001b[0mprint\u001b[0m\u001b[1;33m(\u001b[0m\u001b[1;34m'電腦出拳 : {}'\u001b[0m\u001b[1;33m.\u001b[0m\u001b[0mformat\u001b[0m\u001b[1;33m(\u001b[0m\u001b[0mtye\u001b[0m\u001b[1;33m[\u001b[0m\u001b[0mcomputer\u001b[0m\u001b[1;33m-\u001b[0m\u001b[1;36m1\u001b[0m\u001b[1;33m]\u001b[0m\u001b[1;33m)\u001b[0m\u001b[1;33m)\u001b[0m\u001b[1;33m\u001b[0m\u001b[1;33m\u001b[0m\u001b[0m\n\u001b[1;32m---> 15\u001b[1;33m \u001b[0mresult\u001b[0m\u001b[1;33m=\u001b[0m\u001b[0mgamerule\u001b[0m\u001b[1;33m(\u001b[0m\u001b[0mtye\u001b[0m\u001b[1;33m)\u001b[0m\u001b[1;33m\u001b[0m\u001b[1;33m\u001b[0m\u001b[0m\n\u001b[0m\u001b[0;32m     16\u001b[0m \u001b[0mprint\u001b[0m\u001b[1;33m(\u001b[0m\u001b[0mresult\u001b[0m\u001b[1;33m)\u001b[0m\u001b[1;33m\u001b[0m\u001b[1;33m\u001b[0m\u001b[0m\n",
      "\u001b[1;31mNameError\u001b[0m: name 'gamerule' is not defined"
     ]
    }
   ],
   "source": [
    "## import numpy as np\n",
    "tye=[\"獵人\",\"老虎\",\"槍\"]\n",
    "\n",
    "while True:\n",
    "    player = int(input('玩家請出拳')) \n",
    "    if player <=len(tye) and player>=0:\n",
    "        print('玩家出拳 : {}'.format(tye[player-1]))\n",
    "        break\n",
    "    elif  player >len(tye) or player<0:\n",
    "        print('你亂來')\n",
    "        continue\n",
    "        \n",
    "computer = int(np.random.randint(1,len(tye)+1,1))\n",
    "print('電腦出拳 : {}'.format(tye[computer-1]))\n",
    "result=gamerule(tye)       \n",
    "print(result)\n"
   ]
  },
  {
   "cell_type": "markdown",
   "metadata": {},
   "source": [
    "<font color=#0000FF>(001-03)請將以上的遊戲改成，棒打老虎雞吃蟲，(1)蟲 < (2)雞 < (3)老虎 < (4)棒 < (1)蟲<br>\n",
    "使用者輸入1, 2, 3, 4來代表，電腦輸出要是蟲、雞、老虎、棒</font>\n",
    "* 1 : 蟲\n",
    "* 2 : 雞\n",
    "* 3 : 老虎\n",
    "* 4 : 棒   "
   ]
  },
  {
   "cell_type": "code",
   "execution_count": 8,
   "metadata": {},
   "outputs": [
    {
     "name": "stdout",
     "output_type": "stream",
     "text": [
      "玩家請出拳6\n",
      "你亂來\n",
      "玩家請出拳4\n",
      "玩家出拳 : 棒\n",
      "電腦出拳 : 棒\n"
     ]
    },
    {
     "ename": "NameError",
     "evalue": "name 'gamerule' is not defined",
     "output_type": "error",
     "traceback": [
      "\u001b[1;31m---------------------------------------------------------------------------\u001b[0m",
      "\u001b[1;31mNameError\u001b[0m                                 Traceback (most recent call last)",
      "\u001b[1;32m<ipython-input-8-1cf7e02fa4d8>\u001b[0m in \u001b[0;36m<module>\u001b[1;34m\u001b[0m\n\u001b[0;32m     13\u001b[0m \u001b[0mcomputer\u001b[0m \u001b[1;33m=\u001b[0m \u001b[0mint\u001b[0m\u001b[1;33m(\u001b[0m\u001b[0mnp\u001b[0m\u001b[1;33m.\u001b[0m\u001b[0mrandom\u001b[0m\u001b[1;33m.\u001b[0m\u001b[0mrandint\u001b[0m\u001b[1;33m(\u001b[0m\u001b[1;36m1\u001b[0m\u001b[1;33m,\u001b[0m\u001b[0mlen\u001b[0m\u001b[1;33m(\u001b[0m\u001b[0mtye\u001b[0m\u001b[1;33m)\u001b[0m\u001b[1;33m+\u001b[0m\u001b[1;36m1\u001b[0m\u001b[1;33m,\u001b[0m\u001b[1;36m1\u001b[0m\u001b[1;33m)\u001b[0m\u001b[1;33m)\u001b[0m\u001b[1;33m\u001b[0m\u001b[1;33m\u001b[0m\u001b[0m\n\u001b[0;32m     14\u001b[0m \u001b[0mprint\u001b[0m\u001b[1;33m(\u001b[0m\u001b[1;34m'電腦出拳 : {}'\u001b[0m\u001b[1;33m.\u001b[0m\u001b[0mformat\u001b[0m\u001b[1;33m(\u001b[0m\u001b[0mtye\u001b[0m\u001b[1;33m[\u001b[0m\u001b[0mcomputer\u001b[0m\u001b[1;33m-\u001b[0m\u001b[1;36m1\u001b[0m\u001b[1;33m]\u001b[0m\u001b[1;33m)\u001b[0m\u001b[1;33m)\u001b[0m\u001b[1;33m\u001b[0m\u001b[1;33m\u001b[0m\u001b[0m\n\u001b[1;32m---> 15\u001b[1;33m \u001b[0mresult\u001b[0m\u001b[1;33m=\u001b[0m\u001b[0mgamerule\u001b[0m\u001b[1;33m(\u001b[0m\u001b[0mtye\u001b[0m\u001b[1;33m)\u001b[0m\u001b[1;33m\u001b[0m\u001b[1;33m\u001b[0m\u001b[0m\n\u001b[0m\u001b[0;32m     16\u001b[0m \u001b[0mprint\u001b[0m\u001b[1;33m(\u001b[0m\u001b[0mresult\u001b[0m\u001b[1;33m)\u001b[0m\u001b[1;33m\u001b[0m\u001b[1;33m\u001b[0m\u001b[0m\n",
      "\u001b[1;31mNameError\u001b[0m: name 'gamerule' is not defined"
     ]
    }
   ],
   "source": [
    "import numpy as np\n",
    "tye=[\"蟲\",\"雞\",\"老虎\",\"棒\"]\n",
    "\n",
    "while True:\n",
    "    player = int(input('玩家請出拳')) \n",
    "    if player <=len(tye) and player>=0:\n",
    "        print('玩家出拳 : {}'.format(tye[player-1]))\n",
    "        break\n",
    "    elif  player >len(tye) or player<0:\n",
    "        print('你亂來')\n",
    "        continue\n",
    "        \n",
    "computer = int(np.random.randint(1,len(tye)+1,1))\n",
    "print('電腦出拳 : {}'.format(tye[computer-1]))\n",
    "result=gamerule(tye)       \n",
    "print(result)   \n"
   ]
  },
  {
   "cell_type": "markdown",
   "metadata": {},
   "source": [
    "<font color=#0000FF>(002-01)小時候我們常常玩猜數字遊戲，現在我們要寫一個小小的遊戲與電腦玩，規則如下:</font>\n",
    "1. 電腦先隨機產生一組四位數的數字，例如:<font color=#FF0000>5691</font>，每一個數字不可以重複，左邊第一個數字不可以為0\n",
    "2. 使用者不斷猜這一組數字，只要猜到的數字有在其中，位置相同數字相同就給個A，位置不同數字相同就給個B，例如猜 <font color=#FF0000>1650</font>，因為有猜到 1, 5, 6，其中 6 的位置又相同，其他位置不同，所以電腦要給 1A2B。"
   ]
  },
  {
   "cell_type": "markdown",
   "metadata": {},
   "source": [
    "<font color=#0000FF>(002-02)以上的題目，請用迴圈更改成可以不斷猜，直到使用者輸入\"0000\"表示放棄不玩，或是猜對為止。結束後，系統必須告知答案，以及使用者總共玩了幾次，猜過哪些數字</font>"
   ]
  },
  {
   "cell_type": "markdown",
   "metadata": {},
   "source": [
    "### <font color=#0000FF>【homework03】2019/03/19</font>"
   ]
  },
  {
   "cell_type": "markdown",
   "metadata": {},
   "source": [
    "<font color=#0000FF>(001)判斷質數的函數默寫10遍</font>"
   ]
  },
  {
   "cell_type": "code",
   "execution_count": null,
   "metadata": {},
   "outputs": [],
   "source": []
  },
  {
   "cell_type": "markdown",
   "metadata": {},
   "source": [
    "<font color=#0000FF>(002)\n",
    "依據以上的練習 multiples(min, max, factors) 函數，讓使用者輸入 factors 內的因素值，直到使用者輸入 0 為止。請注意你如何架構這整個程式，請不要破破碎碎，儘量使用函數。</font>"
   ]
  },
  {
   "cell_type": "code",
   "execution_count": null,
   "metadata": {},
   "outputs": [],
   "source": [
    "multiples(1,100,userInput())"
   ]
  },
  {
   "cell_type": "code",
   "execution_count": null,
   "metadata": {},
   "outputs": [],
   "source": []
  },
  {
   "cell_type": "code",
   "execution_count": null,
   "metadata": {},
   "outputs": [],
   "source": []
  },
  {
   "cell_type": "code",
   "execution_count": null,
   "metadata": {},
   "outputs": [],
   "source": []
  }
 ],
 "metadata": {
  "kernelspec": {
   "display_name": "Python 3",
   "language": "python",
   "name": "python3"
  },
  "language_info": {
   "codemirror_mode": {
    "name": "ipython",
    "version": 3
   },
   "file_extension": ".py",
   "mimetype": "text/x-python",
   "name": "python",
   "nbconvert_exporter": "python",
   "pygments_lexer": "ipython3",
   "version": "3.7.6"
  }
 },
 "nbformat": 4,
 "nbformat_minor": 2
}
