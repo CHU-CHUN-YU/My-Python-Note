{
 "cells": [
  {
   "cell_type": "markdown",
   "metadata": {},
   "source": [
    "【臺北大學】Python程式設計<br>\n",
    "【授課老師】[陳祥輝 (Email : HsiangHui.Chen@gmail.com)](mailto:HsiangHui.Chen@gmail.com)<br>\n",
    "【facebook】[陳祥輝老師的臉書 (歡迎加好友)](https://goo.gl/osivhx)<br>\n",
    "【參考書籍】[從零開始學Python程式設計（適用Python 3.5以上）](http://www.drmaster.com.tw/Bookinfo.asp?BookID=MP31821)<br>\n",
    "【主要議題】檔案編碼的轉碼問題"
   ]
  },
  {
   "cell_type": "markdown",
   "metadata": {},
   "source": [
    "【參考資料】\n",
    "- [Python2標準的編碼列表](https://docs.python.org/2.4/lib/standard-encodings.html)\n",
    "- [Python3標準的編碼列表](https://docs.python.org/3.7/library/codecs.html#standard-encodings)\n",
    "- [大五碼(Big-5)](https://zh.wikipedia.org/wiki/%E5%A4%A7%E4%BA%94%E7%A2%BC#Code_Page_950)\n",
    "- [Byte order mark, BOM](https://en.wikipedia.org/wiki/Byte_order_mark)"
   ]
  },
  {
   "cell_type": "code",
   "execution_count": 1,
   "metadata": {},
   "outputs": [
    {
     "name": "stdout",
     "output_type": "stream",
     "text": [
      "【日期時間】2019/06/16 17:21:44\n",
      "【工作目錄】E:\\annie\\3下課程\\MyPython\n",
      "【主機名稱】LAPTOP-7TNGIFIP (172.20.10.3)\n"
     ]
    }
   ],
   "source": [
    "# -*- coding: utf-8 -*-\n",
    "import pandas as pd\n",
    "import os, time, glob, socket\n",
    "\n",
    "print(\"【日期時間】{}\".format(time.strftime(\"%Y/%m/%d %H:%M:%S\")))\n",
    "print(\"【工作目錄】{}\".format(os.getcwd()))\n",
    "print(\"【主機名稱】{} ({})\".format(socket.gethostname(),socket.gethostbyname(socket.gethostname())))"
   ]
  },
  {
   "cell_type": "markdown",
   "metadata": {},
   "source": [
    "### <font color=#0000FF>使用 str.encode() 與 bytes.decode() 編碼</font>"
   ]
  },
  {
   "cell_type": "markdown",
   "metadata": {},
   "source": [
    "#### <font color=#0000FF>【編碼 與 解碼】</font>\n",
    "- <b>str --> [encode] --> bytes</b>\n",
    "    - str.encode() 編碼成 bytes\n",
    "- <b>str <-- [decode] <-- bytes</b>\n",
    "    - bytes.decode() 解編成 str\n",
    "- 常用編碼\n",
    "    - <font color=#0000FF>cp950</font> : Big-5\n",
    "    - <font color=#0000FF>big5 (ms950, 950)</font> : Big-5\n",
    "    - <font color=#0000FF>utf-8</font> : UTF-8\n",
    "    - <font color=#0000FF>utf-8-sig</font> : UTF-8 with BOM"
   ]
  },
  {
   "cell_type": "markdown",
   "metadata": {},
   "source": [
    "### <font color=#0000FF>(1) 先 瞭解甚麼是 encode & decode</font>"
   ]
  },
  {
   "cell_type": "code",
   "execution_count": null,
   "metadata": {},
   "outputs": [],
   "source": [
    "str.encode() #str 搭配 encode\n",
    "bytes.decode() #"
   ]
  },
  {
   "cell_type": "code",
   "execution_count": 4,
   "metadata": {},
   "outputs": [
    {
     "name": "stdout",
     "output_type": "stream",
     "text": [
      "b'\\xa7\\xda\\xacO\\xb3\\xaf\\xb2\\xbb\\xbd\\xf7'\n",
      "我是陳祥輝\n",
      "b'\\xacO'\n",
      "是\n"
     ]
    }
   ],
   "source": [
    "msg1 =  '我是陳祥輝'\n",
    "msg2 =  '是'\n",
    "print(msg1.encode(encoding='cp950'))   # bytes\n",
    "print(msg1.encode(encoding='cp950').decode(encoding='cp950')) #str\n",
    "\n",
    "print(msg2.encode(encoding='cp950'))   # bytes\n",
    "print(msg2.encode(encoding='cp950').decode(encoding='cp950'))#str"
   ]
  },
  {
   "cell_type": "code",
   "execution_count": 2,
   "metadata": {},
   "outputs": [
    {
     "name": "stdout",
     "output_type": "stream",
     "text": [
      "b'\\xe6\\x88\\x91\\xe6\\x98\\xaf\\xe9\\x99\\xb3\\xe7\\xa5\\xa5\\xe8\\xbc\\x9d'\n",
      "我是陳祥輝\n",
      "b'\\xe6\\x98\\xaf'\n",
      "是\n"
     ]
    }
   ],
   "source": [
    "msg1 = u'我是陳祥輝'\n",
    "msg2 = u'是'\n",
    "print(msg1.encode(encoding='utf-8'))   # bytes\n",
    "print(msg1.encode(encoding='utf-8').decode(encoding='utf-8'))#str\n",
    "\n",
    "print(msg2.encode(encoding='utf-8'))   # bytes\n",
    "print(msg2.encode(encoding='utf-8').decode(encoding='utf-8'))#str"
   ]
  },
  {
   "cell_type": "code",
   "execution_count": 6,
   "metadata": {},
   "outputs": [
    {
     "name": "stdout",
     "output_type": "stream",
     "text": [
      "b'\\xef\\xbb\\xbf\\xe6\\x88\\x91\\xe6\\x98\\xaf\\xe9\\x99\\xb3\\xe7\\xa5\\xa5\\xe8\\xbc\\x9d'\n",
      "我是陳祥輝\n",
      "b'\\xef\\xbb\\xbf\\xe6\\x98\\xaf'\n",
      "是\n"
     ]
    }
   ],
   "source": [
    "msg1 = u'我是陳祥輝'\n",
    "msg2 = u'是'\n",
    "print(msg1.encode(encoding='utf-8-sig'))   # bytes\n",
    "print(msg1.encode(encoding='utf-8-sig').decode(encoding='utf-8-sig'))\n",
    "\n",
    "print(msg2.encode(encoding='utf-8-sig'))   # bytes\n",
    "print(msg2.encode(encoding='utf-8-sig').decode(encoding='utf-8-sig'))"
   ]
  },
  {
   "cell_type": "code",
   "execution_count": null,
   "metadata": {},
   "outputs": [],
   "source": []
  },
  {
   "cell_type": "markdown",
   "metadata": {},
   "source": [
    "#### <font color=#0000FF>讀入不同編碼的檔案</font>"
   ]
  },
  {
   "cell_type": "code",
   "execution_count": 14,
   "metadata": {},
   "outputs": [
    {
     "data": {
      "text/plain": [
       "'F:\\\\annie\\\\3下課程\\\\MyPython\\\\PyData'"
      ]
     },
     "execution_count": 14,
     "metadata": {},
     "output_type": "execute_result"
    }
   ],
   "source": [
    "path = r'F:\\annie\\3下課程\\MyPython\\PyData'\n",
    "os.chdir(path)\n",
    "os.getcwd()"
   ]
  },
  {
   "cell_type": "code",
   "execution_count": 16,
   "metadata": {},
   "outputs": [
    {
     "data": {
      "text/html": [
       "<div>\n",
       "<style scoped>\n",
       "    .dataframe tbody tr th:only-of-type {\n",
       "        vertical-align: middle;\n",
       "    }\n",
       "\n",
       "    .dataframe tbody tr th {\n",
       "        vertical-align: top;\n",
       "    }\n",
       "\n",
       "    .dataframe thead th {\n",
       "        text-align: right;\n",
       "    }\n",
       "</style>\n",
       "<table border=\"1\" class=\"dataframe\">\n",
       "  <thead>\n",
       "    <tr style=\"text-align: right;\">\n",
       "      <th></th>\n",
       "      <th>SiteName</th>\n",
       "      <th>County</th>\n",
       "      <th>PSI</th>\n",
       "      <th>MajorPollutant</th>\n",
       "      <th>Status</th>\n",
       "      <th>SO2</th>\n",
       "      <th>CO</th>\n",
       "      <th>O3</th>\n",
       "      <th>PM10</th>\n",
       "      <th>PM2.5</th>\n",
       "      <th>NO2</th>\n",
       "      <th>WindSpeed</th>\n",
       "      <th>WindDirec</th>\n",
       "      <th>FPMI</th>\n",
       "      <th>NOx</th>\n",
       "      <th>NO</th>\n",
       "      <th>PublishTime</th>\n",
       "    </tr>\n",
       "  </thead>\n",
       "  <tbody>\n",
       "    <tr>\n",
       "      <th>0</th>\n",
       "      <td>麥寮</td>\n",
       "      <td>雲林縣</td>\n",
       "      <td>36</td>\n",
       "      <td>NaN</td>\n",
       "      <td>良好</td>\n",
       "      <td>1.2</td>\n",
       "      <td>0.11</td>\n",
       "      <td>10.0</td>\n",
       "      <td>35.0</td>\n",
       "      <td>7</td>\n",
       "      <td>4.5</td>\n",
       "      <td>2.2</td>\n",
       "      <td>182.0</td>\n",
       "      <td>1</td>\n",
       "      <td>6.78</td>\n",
       "      <td>2.30</td>\n",
       "      <td>2016/6/1 02:00</td>\n",
       "    </tr>\n",
       "    <tr>\n",
       "      <th>1</th>\n",
       "      <td>關山</td>\n",
       "      <td>臺東縣</td>\n",
       "      <td>23</td>\n",
       "      <td>NaN</td>\n",
       "      <td>良好</td>\n",
       "      <td>1.2</td>\n",
       "      <td>NaN</td>\n",
       "      <td>5.1</td>\n",
       "      <td>21.0</td>\n",
       "      <td>7</td>\n",
       "      <td>3.6</td>\n",
       "      <td>0.7</td>\n",
       "      <td>232.0</td>\n",
       "      <td>1</td>\n",
       "      <td>4.89</td>\n",
       "      <td>1.32</td>\n",
       "      <td>2016/6/1 02:00</td>\n",
       "    </tr>\n",
       "    <tr>\n",
       "      <th>2</th>\n",
       "      <td>馬公</td>\n",
       "      <td>澎湖縣</td>\n",
       "      <td>16</td>\n",
       "      <td>NaN</td>\n",
       "      <td>良好</td>\n",
       "      <td>0.8</td>\n",
       "      <td>0.09</td>\n",
       "      <td>20.0</td>\n",
       "      <td>5.0</td>\n",
       "      <td>2</td>\n",
       "      <td>1.7</td>\n",
       "      <td>2.5</td>\n",
       "      <td>173.0</td>\n",
       "      <td>1</td>\n",
       "      <td>3.26</td>\n",
       "      <td>1.53</td>\n",
       "      <td>2016/6/1 02:00</td>\n",
       "    </tr>\n",
       "  </tbody>\n",
       "</table>\n",
       "</div>"
      ],
      "text/plain": [
       "  SiteName County  PSI MajorPollutant Status  SO2    CO    O3  PM10  PM2.5  \\\n",
       "0       麥寮    雲林縣   36            NaN     良好  1.2  0.11  10.0  35.0      7   \n",
       "1       關山    臺東縣   23            NaN     良好  1.2   NaN   5.1  21.0      7   \n",
       "2       馬公    澎湖縣   16            NaN     良好  0.8  0.09  20.0   5.0      2   \n",
       "\n",
       "   NO2  WindSpeed  WindDirec  FPMI   NOx    NO     PublishTime  \n",
       "0  4.5        2.2      182.0     1  6.78  2.30  2016/6/1 02:00  \n",
       "1  3.6        0.7      232.0     1  4.89  1.32  2016/6/1 02:00  \n",
       "2  1.7        2.5      173.0     1  3.26  1.53  2016/6/1 02:00  "
      ]
     },
     "execution_count": 16,
     "metadata": {},
     "output_type": "execute_result"
    }
   ],
   "source": [
    "fname = 'AirQty2016-06-01_CP950.csv'\n",
    "airQty = pd.read_csv(fname,sep=',',engine='python',encoding='cp950')\n",
    "airQty.head(n=3)"
   ]
  },
  {
   "cell_type": "code",
   "execution_count": 17,
   "metadata": {},
   "outputs": [
    {
     "data": {
      "text/html": [
       "<div>\n",
       "<style scoped>\n",
       "    .dataframe tbody tr th:only-of-type {\n",
       "        vertical-align: middle;\n",
       "    }\n",
       "\n",
       "    .dataframe tbody tr th {\n",
       "        vertical-align: top;\n",
       "    }\n",
       "\n",
       "    .dataframe thead th {\n",
       "        text-align: right;\n",
       "    }\n",
       "</style>\n",
       "<table border=\"1\" class=\"dataframe\">\n",
       "  <thead>\n",
       "    <tr style=\"text-align: right;\">\n",
       "      <th></th>\n",
       "      <th>SiteName</th>\n",
       "      <th>County</th>\n",
       "      <th>PSI</th>\n",
       "      <th>MajorPollutant</th>\n",
       "      <th>Status</th>\n",
       "      <th>SO2</th>\n",
       "      <th>CO</th>\n",
       "      <th>O3</th>\n",
       "      <th>PM10</th>\n",
       "      <th>PM2.5</th>\n",
       "      <th>NO2</th>\n",
       "      <th>WindSpeed</th>\n",
       "      <th>WindDirec</th>\n",
       "      <th>FPMI</th>\n",
       "      <th>NOx</th>\n",
       "      <th>NO</th>\n",
       "      <th>PublishTime</th>\n",
       "    </tr>\n",
       "  </thead>\n",
       "  <tbody>\n",
       "    <tr>\n",
       "      <th>0</th>\n",
       "      <td>麥寮</td>\n",
       "      <td>雲林縣</td>\n",
       "      <td>36</td>\n",
       "      <td>NaN</td>\n",
       "      <td>良好</td>\n",
       "      <td>1.2</td>\n",
       "      <td>0.11</td>\n",
       "      <td>10.0</td>\n",
       "      <td>35.0</td>\n",
       "      <td>7</td>\n",
       "      <td>4.5</td>\n",
       "      <td>2.2</td>\n",
       "      <td>182.0</td>\n",
       "      <td>1</td>\n",
       "      <td>6.78</td>\n",
       "      <td>2.30</td>\n",
       "      <td>2016/6/1 02:00</td>\n",
       "    </tr>\n",
       "    <tr>\n",
       "      <th>1</th>\n",
       "      <td>關山</td>\n",
       "      <td>臺東縣</td>\n",
       "      <td>23</td>\n",
       "      <td>NaN</td>\n",
       "      <td>良好</td>\n",
       "      <td>1.2</td>\n",
       "      <td>NaN</td>\n",
       "      <td>5.1</td>\n",
       "      <td>21.0</td>\n",
       "      <td>7</td>\n",
       "      <td>3.6</td>\n",
       "      <td>0.7</td>\n",
       "      <td>232.0</td>\n",
       "      <td>1</td>\n",
       "      <td>4.89</td>\n",
       "      <td>1.32</td>\n",
       "      <td>2016/6/1 02:00</td>\n",
       "    </tr>\n",
       "    <tr>\n",
       "      <th>2</th>\n",
       "      <td>馬公</td>\n",
       "      <td>澎湖縣</td>\n",
       "      <td>16</td>\n",
       "      <td>NaN</td>\n",
       "      <td>良好</td>\n",
       "      <td>0.8</td>\n",
       "      <td>0.09</td>\n",
       "      <td>20.0</td>\n",
       "      <td>5.0</td>\n",
       "      <td>2</td>\n",
       "      <td>1.7</td>\n",
       "      <td>2.5</td>\n",
       "      <td>173.0</td>\n",
       "      <td>1</td>\n",
       "      <td>3.26</td>\n",
       "      <td>1.53</td>\n",
       "      <td>2016/6/1 02:00</td>\n",
       "    </tr>\n",
       "  </tbody>\n",
       "</table>\n",
       "</div>"
      ],
      "text/plain": [
       "  SiteName County  PSI MajorPollutant Status  SO2    CO    O3  PM10  PM2.5  \\\n",
       "0       麥寮    雲林縣   36            NaN     良好  1.2  0.11  10.0  35.0      7   \n",
       "1       關山    臺東縣   23            NaN     良好  1.2   NaN   5.1  21.0      7   \n",
       "2       馬公    澎湖縣   16            NaN     良好  0.8  0.09  20.0   5.0      2   \n",
       "\n",
       "   NO2  WindSpeed  WindDirec  FPMI   NOx    NO     PublishTime  \n",
       "0  4.5        2.2      182.0     1  6.78  2.30  2016/6/1 02:00  \n",
       "1  3.6        0.7      232.0     1  4.89  1.32  2016/6/1 02:00  \n",
       "2  1.7        2.5      173.0     1  3.26  1.53  2016/6/1 02:00  "
      ]
     },
     "execution_count": 17,
     "metadata": {},
     "output_type": "execute_result"
    }
   ],
   "source": [
    "fname = 'AirQty2016-06-01_UTF8.csv'\n",
    "airQty = pd.read_csv(fname,sep=',',engine='python',encoding='utf-8')\n",
    "airQty.head(n=3)"
   ]
  },
  {
   "cell_type": "code",
   "execution_count": 18,
   "metadata": {},
   "outputs": [
    {
     "data": {
      "text/html": [
       "<div>\n",
       "<style scoped>\n",
       "    .dataframe tbody tr th:only-of-type {\n",
       "        vertical-align: middle;\n",
       "    }\n",
       "\n",
       "    .dataframe tbody tr th {\n",
       "        vertical-align: top;\n",
       "    }\n",
       "\n",
       "    .dataframe thead th {\n",
       "        text-align: right;\n",
       "    }\n",
       "</style>\n",
       "<table border=\"1\" class=\"dataframe\">\n",
       "  <thead>\n",
       "    <tr style=\"text-align: right;\">\n",
       "      <th></th>\n",
       "      <th>SiteName</th>\n",
       "      <th>County</th>\n",
       "      <th>PSI</th>\n",
       "      <th>MajorPollutant</th>\n",
       "      <th>Status</th>\n",
       "      <th>SO2</th>\n",
       "      <th>CO</th>\n",
       "      <th>O3</th>\n",
       "      <th>PM10</th>\n",
       "      <th>PM2.5</th>\n",
       "      <th>NO2</th>\n",
       "      <th>WindSpeed</th>\n",
       "      <th>WindDirec</th>\n",
       "      <th>FPMI</th>\n",
       "      <th>NOx</th>\n",
       "      <th>NO</th>\n",
       "      <th>PublishTime</th>\n",
       "    </tr>\n",
       "  </thead>\n",
       "  <tbody>\n",
       "    <tr>\n",
       "      <th>0</th>\n",
       "      <td>麥寮</td>\n",
       "      <td>雲林縣</td>\n",
       "      <td>36</td>\n",
       "      <td>NaN</td>\n",
       "      <td>良好</td>\n",
       "      <td>1.2</td>\n",
       "      <td>0.11</td>\n",
       "      <td>10.0</td>\n",
       "      <td>35.0</td>\n",
       "      <td>7</td>\n",
       "      <td>4.5</td>\n",
       "      <td>2.2</td>\n",
       "      <td>182.0</td>\n",
       "      <td>1</td>\n",
       "      <td>6.78</td>\n",
       "      <td>2.30</td>\n",
       "      <td>2016/6/1 02:00</td>\n",
       "    </tr>\n",
       "    <tr>\n",
       "      <th>1</th>\n",
       "      <td>關山</td>\n",
       "      <td>臺東縣</td>\n",
       "      <td>23</td>\n",
       "      <td>NaN</td>\n",
       "      <td>良好</td>\n",
       "      <td>1.2</td>\n",
       "      <td>NaN</td>\n",
       "      <td>5.1</td>\n",
       "      <td>21.0</td>\n",
       "      <td>7</td>\n",
       "      <td>3.6</td>\n",
       "      <td>0.7</td>\n",
       "      <td>232.0</td>\n",
       "      <td>1</td>\n",
       "      <td>4.89</td>\n",
       "      <td>1.32</td>\n",
       "      <td>2016/6/1 02:00</td>\n",
       "    </tr>\n",
       "    <tr>\n",
       "      <th>2</th>\n",
       "      <td>馬公</td>\n",
       "      <td>澎湖縣</td>\n",
       "      <td>16</td>\n",
       "      <td>NaN</td>\n",
       "      <td>良好</td>\n",
       "      <td>0.8</td>\n",
       "      <td>0.09</td>\n",
       "      <td>20.0</td>\n",
       "      <td>5.0</td>\n",
       "      <td>2</td>\n",
       "      <td>1.7</td>\n",
       "      <td>2.5</td>\n",
       "      <td>173.0</td>\n",
       "      <td>1</td>\n",
       "      <td>3.26</td>\n",
       "      <td>1.53</td>\n",
       "      <td>2016/6/1 02:00</td>\n",
       "    </tr>\n",
       "  </tbody>\n",
       "</table>\n",
       "</div>"
      ],
      "text/plain": [
       "  SiteName County  PSI MajorPollutant Status  SO2    CO    O3  PM10  PM2.5  \\\n",
       "0       麥寮    雲林縣   36            NaN     良好  1.2  0.11  10.0  35.0      7   \n",
       "1       關山    臺東縣   23            NaN     良好  1.2   NaN   5.1  21.0      7   \n",
       "2       馬公    澎湖縣   16            NaN     良好  0.8  0.09  20.0   5.0      2   \n",
       "\n",
       "   NO2  WindSpeed  WindDirec  FPMI   NOx    NO     PublishTime  \n",
       "0  4.5        2.2      182.0     1  6.78  2.30  2016/6/1 02:00  \n",
       "1  3.6        0.7      232.0     1  4.89  1.32  2016/6/1 02:00  \n",
       "2  1.7        2.5      173.0     1  3.26  1.53  2016/6/1 02:00  "
      ]
     },
     "execution_count": 18,
     "metadata": {},
     "output_type": "execute_result"
    }
   ],
   "source": [
    "fname = 'AirQty2016-06-01_UTF8_BOM.csv'\n",
    "airQty = pd.read_csv(fname,sep=',',engine='python',encoding='utf-8-sig')\n",
    "airQty.head(n=3)"
   ]
  },
  {
   "cell_type": "markdown",
   "metadata": {},
   "source": [
    "### <font color=#0000FF>(2) 進行檔案的 encode & decode</font>"
   ]
  },
  {
   "cell_type": "markdown",
   "metadata": {},
   "source": [
    "#### <font color=#0000FF>從 utf-8-sig(就是 UTF-8 with BOM) 轉換成 cp950(就是Big-5)</font>"
   ]
  },
  {
   "cell_type": "code",
   "execution_count": 19,
   "metadata": {},
   "outputs": [
    {
     "data": {
      "text/plain": [
       "'F:\\\\annie\\\\3下課程\\\\MyPython\\\\PyData'"
      ]
     },
     "execution_count": 19,
     "metadata": {},
     "output_type": "execute_result"
    }
   ],
   "source": [
    "path = r'F:\\annie\\3下課程\\MyPython\\PyData'\n",
    "os.chdir(path)\n",
    "os.getcwd()"
   ]
  },
  {
   "cell_type": "code",
   "execution_count": 20,
   "metadata": {},
   "outputs": [],
   "source": [
    "fname = 'AirQty2016-06-01_UTF8_BOM.csv'\n",
    "with open(file=fname,mode='rt', encoding='utf-8-sig') as inpf, \\  #讀進來要跟他說格式 UTF-8-SIG\n",
    "     open(file='out_cp950.txt',mode='wt', encoding='cp950') as outf: #存出去 用 CP950\n",
    "    outf.write(inpf.read().encode(encoding='cp950').decode(encoding='cp950'))"
   ]
  },
  {
   "cell_type": "markdown",
   "metadata": {},
   "source": [
    "#### <font color=#0000FF>從 cp950(就是Big-5) 轉換成 utf-8-sig(就是 UTF-8 with BOM)</font>"
   ]
  },
  {
   "cell_type": "code",
   "execution_count": 21,
   "metadata": {},
   "outputs": [],
   "source": [
    "fname = 'AirQty2016-06-01_CP950.csv'\n",
    "with open(file=fname,mode='rt', encoding='cp950') as inpf, \\\n",
    "     open(file='out_utf-8-sig.txt',mode='wt', encoding='utf-8-sig') as outf:\n",
    "    outf.write(inpf.read().encode(encoding='utf-8-sig').decode(encoding='utf-8-sig'))"
   ]
  },
  {
   "cell_type": "markdown",
   "metadata": {},
   "source": [
    "#### <font color=#0000FF>從 cp950(就是Big-5) 轉換成 utf-8(就是 UTF-8)</font>"
   ]
  },
  {
   "cell_type": "code",
   "execution_count": 22,
   "metadata": {},
   "outputs": [],
   "source": [
    "fname = 'AirQty2016-06-01_CP950.csv'\n",
    "with open(file=fname,mode='rt', encoding='cp950') as inpf, \\\n",
    "     open(file='out_utf-8.txt',mode='wt', encoding='utf-8') as outf:\n",
    "    outf.write(inpf.read().encode(encoding='utf-8').decode(encoding='utf-8'))"
   ]
  },
  {
   "cell_type": "markdown",
   "metadata": {},
   "source": [
    "作業七批次轉碼\n",
    "codeConverter(fromPath, toPath, srcCode, destCode)\n",
    "\n",
    "* fromPath : 來源目錄\n",
    "* toPath : 輸出目錄\n",
    "* srcCode : 來源的編碼\n",
    "* destCode : 輸出的編碼 <br>\n",
    "【輸出檔名】AirQty2016-06-01_destCode.csv"
   ]
  },
  {
   "cell_type": "code",
   "execution_count": null,
   "metadata": {},
   "outputs": [],
   "source": [
    "fromPath = 'AirQty2016-06-01_CP950.csv'\n",
    "toPath=\n",
    "srcCode=\n",
    "destCode=\n",
    "with open(file=fname,mode='rt', encoding='cp950') as inpf, \\\n",
    "     open(file='out_utf-8.txt',mode='wt', encoding='utf-8') as outf:\n",
    "    outf.write(inpf.read().encode(encoding='utf-8').decode(encoding='utf-8'))"
   ]
  }
 ],
 "metadata": {
  "kernelspec": {
   "display_name": "Python 3",
   "language": "python",
   "name": "python3"
  },
  "language_info": {
   "codemirror_mode": {
    "name": "ipython",
    "version": 3
   },
   "file_extension": ".py",
   "mimetype": "text/x-python",
   "name": "python",
   "nbconvert_exporter": "python",
   "pygments_lexer": "ipython3",
   "version": "3.7.6"
  }
 },
 "nbformat": 4,
 "nbformat_minor": 2
}
