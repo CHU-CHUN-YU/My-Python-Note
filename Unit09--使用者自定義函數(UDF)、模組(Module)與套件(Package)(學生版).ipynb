{
 "cells": [
  {
   "cell_type": "markdown",
   "metadata": {},
   "source": [
    "【臺北大學】Python程式設計<br>\n",
    "【授課老師】[陳祥輝 (Email : HsiangHui.Chen@gmail.com)](mailto:HsiangHui.Chen@gmail.com)<br>\n",
    "【facebook】[陳祥輝老師的臉書 (歡迎加好友)](https://goo.gl/osivhx)<br>\n",
    "【參考書籍】[從零開始學Python程式設計（適用Python 3.5以上）](http://www.drmaster.com.tw/Bookinfo.asp?BookID=MP31821)<br>\n",
    "【主要議題】使用者自定義函數(UDF)、模組(Module)與套件(Package)"
   ]
  },
  {
   "cell_type": "markdown",
   "metadata": {
    "collapsed": true
   },
   "source": [
    "【重點提要】\n",
    "\n",
    "----\n",
    "\n",
    "* formal parameter (形式參數): 定義在函數名稱後面括弧( )內的\n",
    "* actual parameter(argument) (實際引數、參數) : 呼叫函數時括弧( )內的\n",
    "\n",
    "----\n",
    "\n",
    "* anonymous function(匿名函數) (lambda)\n",
    "\n",
    "----\n",
    "\n",
    "* call by value\n",
    "* call by reference\n",
    "\n",
    "----\n",
    "\n",
    "* default paramenter values (預設參數值): 一定要放在最右邊\n",
    "* positional argument (位置引數)\n",
    "* keyword argument    (關鍵引數)\n",
    "\n",
    "----\n",
    "\n",
    "* (\\*args) 運算子，使用在formal parameter & acutal parameter。也就是『位置引數』(positional argument)\n",
    "* (\\**kwargs) 運算子，使用在formal parameter & acutal parameter。也就是『關鍵引數』(keyword argument)\n",
    "\n",
    "----\n",
    "\n",
    "* 傳遞函數名稱，也就是將函數當成參數傳遞\n",
    "* 遞迴(Recursive)\n",
    "    1. 找出一般式\n",
    "    2. 迴傳 本層可以處理的部分 結合 不能處理的部分(給下一個自己處理)\n",
    "    3. 找出何時停止，也就是沒有下一層"
   ]
  },
  {
   "cell_type": "code",
   "execution_count": 1,
   "metadata": {},
   "outputs": [
    {
     "name": "stdout",
     "output_type": "stream",
     "text": [
      "【日期時間】2019/06/17 13:11:12\n",
      "【主機名稱】LAPTOP-7TNGIFIP (127.0.0.1)\n",
      "【工作目錄】E:\\annie\\3下課程\\MyPython\n",
      "【預設遞迴深度】3000\n"
     ]
    }
   ],
   "source": [
    "# -*-coding:UTF-8-*- \n",
    "import os, time, glob, socket, sys\n",
    "\n",
    "print(\"【日期時間】{}\".format(time.strftime(\"%Y/%m/%d %H:%M:%S\")))\n",
    "print(\"【主機名稱】{} ({})\".format(socket.gethostname(),socket.gethostbyname(socket.gethostname())))\n",
    "print(\"【工作目錄】{}\".format(os.getcwd()))\n",
    "print(\"【預設遞迴深度】{}\".format(sys.getrecursionlimit()))"
   ]
  },
  {
   "cell_type": "markdown",
   "metadata": {
    "collapsed": true
   },
   "source": [
    "### <font color=#0000FF>使用者自定義函數 (User-Defined Functions, UDF)</font>"
   ]
  },
  {
   "cell_type": "code",
   "execution_count": 1,
   "metadata": {},
   "outputs": [],
   "source": [
    "def myOper(x, y):\n",
    "    a = x + y\n",
    "    return a"
   ]
  },
  {
   "cell_type": "code",
   "execution_count": 2,
   "metadata": {},
   "outputs": [
    {
     "data": {
      "text/plain": [
       "30"
      ]
     },
     "execution_count": 2,
     "metadata": {},
     "output_type": "execute_result"
    }
   ],
   "source": [
    "myOper(10,20)"
   ]
  },
  {
   "cell_type": "code",
   "execution_count": 14,
   "metadata": {},
   "outputs": [],
   "source": [
    "#可以一次多個\n",
    "def myOper2(x, y):\n",
    "    a = x + y\n",
    "    b = x - y\n",
    "    c = x * y\n",
    "    d = x / y\n",
    "    return a, b, c, d"
   ]
  },
  {
   "cell_type": "code",
   "execution_count": 4,
   "metadata": {},
   "outputs": [
    {
     "data": {
      "text/plain": [
       "(110, 90, 1000, 10.0)"
      ]
     },
     "execution_count": 4,
     "metadata": {},
     "output_type": "execute_result"
    }
   ],
   "source": [
    "myOper2(100,10)"
   ]
  },
  {
   "cell_type": "code",
   "execution_count": 5,
   "metadata": {},
   "outputs": [
    {
     "name": "stdout",
     "output_type": "stream",
     "text": [
      "m=110, n=90, o=1000, p=10.0\n"
     ]
    }
   ],
   "source": [
    "m , n, o, p = myOper2(100,10) #4個\n",
    "print(\"m={}, n={}, o={}, p={}\".format(m, n, o, p))"
   ]
  },
  {
   "cell_type": "code",
   "execution_count": 6,
   "metadata": {},
   "outputs": [
    {
     "name": "stdout",
     "output_type": "stream",
     "text": [
      "<class 'tuple'>\n",
      "(110, 90, 1000, 10.0)\n"
     ]
    }
   ],
   "source": [
    "t = myOper2(100,10)  #1個 全部存在一個t\n",
    "print(type(t))\n",
    "print(t)"
   ]
  },
  {
   "cell_type": "code",
   "execution_count": 7,
   "metadata": {},
   "outputs": [
    {
     "ename": "ValueError",
     "evalue": "too many values to unpack (expected 2)",
     "output_type": "error",
     "traceback": [
      "\u001b[1;31m---------------------------------------------------------------------------\u001b[0m",
      "\u001b[1;31mValueError\u001b[0m                                Traceback (most recent call last)",
      "\u001b[1;32m<ipython-input-7-e5ffaf504082>\u001b[0m in \u001b[0;36m<module>\u001b[1;34m\u001b[0m\n\u001b[1;32m----> 1\u001b[1;33m \u001b[0ma\u001b[0m\u001b[1;33m,\u001b[0m\u001b[0mb\u001b[0m \u001b[1;33m=\u001b[0m \u001b[0mmyOper2\u001b[0m\u001b[1;33m(\u001b[0m\u001b[1;36m100\u001b[0m\u001b[1;33m,\u001b[0m\u001b[1;36m10\u001b[0m\u001b[1;33m)\u001b[0m \u001b[1;31m#1個\u001b[0m\u001b[1;33m\u001b[0m\u001b[1;33m\u001b[0m\u001b[0m\n\u001b[0m\u001b[0;32m      2\u001b[0m \u001b[0mprint\u001b[0m\u001b[1;33m(\u001b[0m\u001b[0mtype\u001b[0m\u001b[1;33m(\u001b[0m\u001b[0mt\u001b[0m\u001b[1;33m)\u001b[0m\u001b[1;33m)\u001b[0m\u001b[1;33m\u001b[0m\u001b[1;33m\u001b[0m\u001b[0m\n\u001b[0;32m      3\u001b[0m \u001b[0mprint\u001b[0m\u001b[1;33m(\u001b[0m\u001b[0mt\u001b[0m\u001b[1;33m)\u001b[0m\u001b[1;33m\u001b[0m\u001b[1;33m\u001b[0m\u001b[0m\n",
      "\u001b[1;31mValueError\u001b[0m: too many values to unpack (expected 2)"
     ]
    }
   ],
   "source": [
    "a,b = myOper2(100,10) #沒有2個的-要就一個 要就4個\n",
    "print(type(t))\n",
    "print(t)"
   ]
  },
  {
   "cell_type": "markdown",
   "metadata": {},
   "source": [
    "### <font color=#0000FF>匿名函數 (lambda)</font>"
   ]
  },
  {
   "cell_type": "code",
   "execution_count": 8,
   "metadata": {},
   "outputs": [],
   "source": [
    "def f1(x):\n",
    "    return x**2"
   ]
  },
  {
   "cell_type": "code",
   "execution_count": 9,
   "metadata": {},
   "outputs": [
    {
     "data": {
      "text/plain": [
       "<function __main__.<lambda>(x)>"
      ]
     },
     "execution_count": 9,
     "metadata": {},
     "output_type": "execute_result"
    }
   ],
   "source": [
    "lambda x : x if x>=0 "
   ]
  },
  {
   "cell_type": "code",
   "execution_count": 10,
   "metadata": {},
   "outputs": [
    {
     "name": "stdout",
     "output_type": "stream",
     "text": [
      "100\n"
     ]
    }
   ],
   "source": [
    "lambdaret = lambda x : x**2\n",
    "print(lambdaret(10))"
   ]
  },
  {
   "cell_type": "code",
   "execution_count": 11,
   "metadata": {},
   "outputs": [
    {
     "name": "stdout",
     "output_type": "stream",
     "text": [
      "9\n"
     ]
    }
   ],
   "source": [
    "print((lambda x : x**2)(3))"
   ]
  },
  {
   "cell_type": "markdown",
   "metadata": {},
   "source": [
    "### <font color=#0000FF>Call by Value & Call by Reference</font>"
   ]
  },
  {
   "cell_type": "code",
   "execution_count": 12,
   "metadata": {},
   "outputs": [],
   "source": [
    "def callByValue(x):\n",
    "    x = x + 100"
   ]
  },
  {
   "cell_type": "code",
   "execution_count": 13,
   "metadata": {},
   "outputs": [
    {
     "name": "stdout",
     "output_type": "stream",
     "text": [
      "10\n"
     ]
    }
   ],
   "source": [
    "a = 10           #沒有return a=10 ---還是10 沒有做運算\n",
    "callByValue(a)   # 因為 a 是一個基本資料型態(非物件)\n",
    "print(a)"
   ]
  },
  {
   "cell_type": "code",
   "execution_count": 2,
   "metadata": {},
   "outputs": [],
   "source": [
    "def callByValue2(x):  #有return \n",
    "    x = x + 100\n",
    "    return x"
   ]
  },
  {
   "cell_type": "code",
   "execution_count": 3,
   "metadata": {},
   "outputs": [
    {
     "name": "stdout",
     "output_type": "stream",
     "text": [
      "110\n"
     ]
    }
   ],
   "source": [
    "a = 10            # 因為 a 是一個基本資料型態(非物件)\n",
    "a = callByValue2(a)  \n",
    "print(a)"
   ]
  },
  {
   "cell_type": "code",
   "execution_count": 4,
   "metadata": {},
   "outputs": [],
   "source": [
    "def callByReference(x):   \n",
    "    x.append(100)"
   ]
  },
  {
   "cell_type": "code",
   "execution_count": 5,
   "metadata": {},
   "outputs": [
    {
     "name": "stdout",
     "output_type": "stream",
     "text": [
      "[1, 2, 3, 100]\n"
     ]
    }
   ],
   "source": [
    "a = [1,2,3]           # 因為 a 是一個物件，所以是 call by reference  #可以不用 return\n",
    "callByReference(a)\n",
    "print(a)"
   ]
  },
  {
   "cell_type": "code",
   "execution_count": 8,
   "metadata": {},
   "outputs": [],
   "source": [
    "def callByReference2(x):\n",
    "    y = x.copy()          #這樣x就不會被取代掉\n",
    "    y.append(100)\n",
    "    return y"
   ]
  },
  {
   "cell_type": "code",
   "execution_count": 10,
   "metadata": {},
   "outputs": [
    {
     "name": "stdout",
     "output_type": "stream",
     "text": [
      "[1, 2, 3]\n"
     ]
    }
   ],
   "source": [
    "a = [1,2,3]           # 因為 a 是一個物件，所以是 call by reference\n",
    "callByReference2(a)   # a 跟 y沒有關系 a跟x才有關係  函數裡放的是callByReference2(x)\n",
    "print(a)"
   ]
  },
  {
   "cell_type": "markdown",
   "metadata": {},
   "source": [
    "### <font color=#0000FF>Positional argument(位置參數) & Keyword argument(關鍵參數)</font>\n",
    "* positional argument(沒有給參數名稱) 一定要在左\n",
    "* keyword argument(有給參數名稱) 一定要在右"
   ]
  },
  {
   "cell_type": "code",
   "execution_count": 31,
   "metadata": {},
   "outputs": [],
   "source": [
    "def test(x, y, z):\n",
    "    print(\"x={}, y={}, z={}\".format(x,y,z))"
   ]
  },
  {
   "cell_type": "code",
   "execution_count": 32,
   "metadata": {},
   "outputs": [
    {
     "name": "stdout",
     "output_type": "stream",
     "text": [
      "x=10, y=20, z=30\n",
      "x=10, y=20, z=30\n",
      "x=10, y=20, z=30\n",
      "x=10, y=20, z=30\n",
      "x=10, y=20, z=30\n"
     ]
    }
   ],
   "source": [
    "test(10,20,30)\n",
    "test(10,20,z=30)\n",
    "test(10,y=20,z=30)\n",
    "test(x=10,y=20,z=30)\n",
    "test(z=30,x=10,y=20)"
   ]
  },
  {
   "cell_type": "code",
   "execution_count": 11,
   "metadata": {},
   "outputs": [
    {
     "ename": "SyntaxError",
     "evalue": "positional argument follows keyword argument (<ipython-input-11-0db0e00cd0c2>, line 3)",
     "output_type": "error",
     "traceback": [
      "\u001b[1;36m  File \u001b[1;32m\"<ipython-input-11-0db0e00cd0c2>\"\u001b[1;36m, line \u001b[1;32m3\u001b[0m\n\u001b[1;33m    test(x=10,y=20,30)\u001b[0m\n\u001b[1;37m                  ^\u001b[0m\n\u001b[1;31mSyntaxError\u001b[0m\u001b[1;31m:\u001b[0m positional argument follows keyword argument\n"
     ]
    }
   ],
   "source": [
    "# test(x=10,20,30)       #Keyword argument放前面會錯  因為後面不知道跟                                                                                                                                                                                                                                                                                                                                                                                                                             \n",
    "# test(10,y=20,30)       #可以從後面開始放 但不能從前面\n",
    "test(x=10,y=20,30)"
   ]
  },
  {
   "cell_type": "markdown",
   "metadata": {},
   "source": [
    "### <font color=#0000FF>\\* 的運算，可以逐一取得可迭代物件內的元素</font>"
   ]
  },
  {
   "cell_type": "code",
   "execution_count": 12,
   "metadata": {},
   "outputs": [
    {
     "name": "stdout",
     "output_type": "stream",
     "text": [
      "Dale\n",
      "male\n",
      "[95, 80, 88, 100]\n"
     ]
    }
   ],
   "source": [
    "data = ['Dale', 'male', 95, 80, 88, 100]\n",
    "name, gender, *score = data\n",
    "print(name)\n",
    "print(gender)\n",
    "print(score)"
   ]
  },
  {
   "cell_type": "code",
   "execution_count": 34,
   "metadata": {},
   "outputs": [
    {
     "name": "stdout",
     "output_type": "stream",
     "text": [
      "Dale\n",
      "['male', 95, 80, 88, 100]\n"
     ]
    }
   ],
   "source": [
    "data = ['Dale', 'male', 95, 80, 88, 100]  #* 剩下的都它的\n",
    "name, *score = data\n",
    "print(name)\n",
    "print(score)"
   ]
  },
  {
   "cell_type": "code",
   "execution_count": 15,
   "metadata": {},
   "outputs": [
    {
     "name": "stdout",
     "output_type": "stream",
     "text": [
      "(102, 98, 200, 50.0)\n",
      "102\n",
      "[98, 200, 50.0]\n"
     ]
    }
   ],
   "source": [
    "print(myOper2(100,2))\n",
    "\n",
    "m, *n = myOper2(100,2)\n",
    "print(m)\n",
    "print(n)"
   ]
  },
  {
   "cell_type": "code",
   "execution_count": 54,
   "metadata": {},
   "outputs": [],
   "source": [
    "def add(*values):  # *  可以逐一取得可迭代物件內的元素\n",
    "    result = 0\n",
    "    for value in values:\n",
    "        print(*values)  \n",
    "        print(result)\n",
    "        print(value) \n",
    "        result = result + value \n",
    "        print(result)   \n",
    "    return result  "
   ]
  },
  {
   "cell_type": "code",
   "execution_count": 55,
   "metadata": {
    "scrolled": true
   },
   "outputs": [
    {
     "name": "stdout",
     "output_type": "stream",
     "text": [
      "1 2 5\n",
      "0\n",
      "1\n",
      "1\n",
      "1 2 5\n",
      "1\n",
      "2\n",
      "3\n",
      "1 2 5\n",
      "3\n",
      "5\n",
      "8\n",
      "8\n"
     ]
    }
   ],
   "source": [
    "print(add(1,2,5))"
   ]
  },
  {
   "cell_type": "code",
   "execution_count": 49,
   "metadata": {},
   "outputs": [],
   "source": [
    "def add(*values):\n",
    "    result = 0\n",
    "    for value in values:\n",
    "        result = result + value    \n",
    "    return result"
   ]
  },
  {
   "cell_type": "code",
   "execution_count": 50,
   "metadata": {},
   "outputs": [
    {
     "name": "stdout",
     "output_type": "stream",
     "text": [
      "3\n",
      "8\n",
      "18\n",
      "38\n",
      "138\n"
     ]
    }
   ],
   "source": [
    "print(add(1,2))\n",
    "print(add(1,2,5))\n",
    "print(add(1,2,5,10))\n",
    "print(add(1,2,5,10,20))\n",
    "print(add(1,2,5,10,20,100))"
   ]
  },
  {
   "cell_type": "markdown",
   "metadata": {},
   "source": [
    "<font color=#0000FF>【補充說明】將pandas.DataFrame 寫出成檔案</font>"
   ]
  },
  {
   "cell_type": "code",
   "execution_count": null,
   "metadata": {},
   "outputs": [],
   "source": [
    "import pandas as pd\n",
    "airQty = pd.read_csv(r\"F:\\【臺北大學】1072統計系Python\\data\\PyData\\AirQty2016-06-01.csv\",\n",
    "           sep=\",\",engine=\"python\",encoding=\"cp950\")\n",
    "airQty.to_csv(r\"C:\\Data\\airQty.csv\",sep=\",\",encoding='cp950',index=False) #資料位移了 可能是因為 有一攔 INDEX 但沒有名字"
   ]
  },
  {
   "cell_type": "code",
   "execution_count": null,
   "metadata": {},
   "outputs": [],
   "source": []
  },
  {
   "cell_type": "markdown",
   "metadata": {},
   "source": [
    "### <font color=#0000FF>** 運算式可以依據key從可迭代物件內取出元素</font>"
   ]
  },
  {
   "cell_type": "code",
   "execution_count": 38,
   "metadata": {},
   "outputs": [],
   "source": [
    "def student(std1, std2, std3, score1, score2, score3):\n",
    "    print(\"{}, {}\".format(std1, score1))\n",
    "    print(\"{}, {}\".format(std2, score2))\n",
    "    print(\"{}, {}\".format(std3, score3))"
   ]
  },
  {
   "cell_type": "code",
   "execution_count": 39,
   "metadata": {},
   "outputs": [
    {
     "name": "stdout",
     "output_type": "stream",
     "text": [
      "Dale, 90\n",
      "Andy, 95\n",
      "Candy, 80\n"
     ]
    }
   ],
   "source": [
    "scores = {'score1':90, 'score2':95, 'score3':80}\n",
    "student('Dale','Andy','Candy',**scores)   #依據key 取成績"
   ]
  },
  {
   "cell_type": "code",
   "execution_count": 56,
   "metadata": {},
   "outputs": [],
   "source": [
    "def testFun(*args, **kwargs) :     #  *  可以逐一取得可迭代物件內的元素\n",
    "    print(\"args={}\".format(args))  # ** 運算式可以依據key從可迭代物件內取出元素\n",
    "    print(\"kwargs={}\".format(kwargs))\n",
    "    print(type(args))\n",
    "    print(type(kwargs))"
   ]
  },
  {
   "cell_type": "code",
   "execution_count": 57,
   "metadata": {},
   "outputs": [
    {
     "name": "stdout",
     "output_type": "stream",
     "text": [
      "args=(1, 2, 3, 4, 5)\n",
      "kwargs={}\n",
      "<class 'tuple'>\n",
      "<class 'dict'>\n"
     ]
    }
   ],
   "source": [
    "testFun(1, 2, 3, 4, 5)"
   ]
  },
  {
   "cell_type": "code",
   "execution_count": 58,
   "metadata": {},
   "outputs": [
    {
     "name": "stdout",
     "output_type": "stream",
     "text": [
      "args=(1, 2, 3, 4, 5)\n",
      "kwargs={'red': 'apple', 'yello': 'banana'}\n",
      "<class 'tuple'>\n",
      "<class 'dict'>\n"
     ]
    }
   ],
   "source": [
    "testFun(1, 2, 3, 4, 5, red=\"apple\", yello=\"banana\")\n"
   ]
  },
  {
   "cell_type": "code",
   "execution_count": 59,
   "metadata": {},
   "outputs": [
    {
     "name": "stdout",
     "output_type": "stream",
     "text": [
      "args=()\n",
      "kwargs={'red': 'apple', 'yello': 'banana'}\n",
      "<class 'tuple'>\n",
      "<class 'dict'>\n"
     ]
    }
   ],
   "source": [
    "testFun(red=\"apple\", yello=\"banana\")"
   ]
  },
  {
   "cell_type": "markdown",
   "metadata": {},
   "source": [
    "### <font color=#0000FF>遞迴函數(Recursive)</font>"
   ]
  },
  {
   "cell_type": "code",
   "execution_count": 60,
   "metadata": {},
   "outputs": [],
   "source": [
    "def f1(n) :\n",
    "    return n + f1(n-1)\n"
   ]
  },
  {
   "cell_type": "code",
   "execution_count": 61,
   "metadata": {},
   "outputs": [],
   "source": [
    "def f1(n) :\n",
    "    if n <= 1:\n",
    "        return n\n",
    "    else :\n",
    "        return n + f1(n-1)"
   ]
  },
  {
   "cell_type": "code",
   "execution_count": 43,
   "metadata": {
    "scrolled": false
   },
   "outputs": [
    {
     "data": {
      "text/plain": [
       "55"
      ]
     },
     "execution_count": 43,
     "metadata": {},
     "output_type": "execute_result"
    }
   ],
   "source": [
    "f1(10)"
   ]
  },
  {
   "cell_type": "code",
   "execution_count": 62,
   "metadata": {},
   "outputs": [],
   "source": [
    "def f2(n):\n",
    "    return n*(n-1) + f2(n-1)"
   ]
  },
  {
   "cell_type": "code",
   "execution_count": 64,
   "metadata": {},
   "outputs": [],
   "source": [
    "def f2(n):\n",
    "    if n <= 3: #停止的地方\n",
    "        return n*(n-1)  #可以自己處理的\n",
    "    else :\n",
    "        return n*(n-1) + f2(n-1) #沒有辦法自己處理的"
   ]
  },
  {
   "cell_type": "code",
   "execution_count": 65,
   "metadata": {},
   "outputs": [
    {
     "data": {
      "text/plain": [
       "328"
      ]
     },
     "execution_count": 65,
     "metadata": {},
     "output_type": "execute_result"
    }
   ],
   "source": [
    "f2(10)"
   ]
  },
  {
   "cell_type": "markdown",
   "metadata": {},
   "source": [
    " f(10)=10x9+9x8+.....+3x2"
   ]
  },
  {
   "cell_type": "markdown",
   "metadata": {},
   "source": [
    "### <font color=#0000FF>模組 (Module)與套件(Package)</font>"
   ]
  },
  {
   "cell_type": "markdown",
   "metadata": {},
   "source": [
    "請先在你的 MyPython 目錄下建立一個兩層的目錄 pack01\\pack0101，如下\n",
    "\n",
    "- MyPython\\pack01\\pack0101\n",
    "模組(*.py的檔案)配置如下 :\n",
    "\n",
    "* MyPython\\module00.py\n",
    "* MyPython\\pack01\\pack0101\\module01.py"
   ]
  },
  {
   "cell_type": "markdown",
   "metadata": {},
   "source": [
    "<font color=#0000FF>(1) MyPython\\module00.py 的檔案內容</font>"
   ]
  },
  {
   "cell_type": "code",
   "execution_count": null,
   "metadata": {},
   "outputs": [],
   "source": [
    "# -*-coding:UTF-8-*- \n",
    "\n",
    "import numpy as np\n",
    "import math\n",
    "import pack01.pack0101.module01 as m01\n",
    "# from pack01.pack0101 import module01 as m01\n",
    "\n",
    "\n",
    "def add(x, y):\n",
    "    return x + y\n",
    "\n",
    "\n",
    "def mymain():\n",
    "    print(__name__)\n",
    "    print(math.pi)\n",
    "    print(add(10,20))\n",
    "    print(m01.showMsg('Hello Python'))\n",
    "    print(m01.add(100, 20))\n",
    "\n",
    "\n",
    "if __name__ == '__main__' :\n",
    "    mymain()"
   ]
  },
  {
   "cell_type": "markdown",
   "metadata": {},
   "source": [
    "<font color=#0000FF>(2) MyPython\\pack01\\pack0101\\module01.py 的檔案內容</font>"
   ]
  },
  {
   "cell_type": "code",
   "execution_count": null,
   "metadata": {},
   "outputs": [],
   "source": [
    "# -*-coding:UTF-8-*- \n",
    "\n",
    "\n",
    "def showMsg(msg):\n",
    "    print(__name__)\n",
    "    return 'msg : {}'.format(msg)\n",
    "\n",
    "\n",
    "def add(x, y):\n",
    "    return x - y"
   ]
  },
  {
   "cell_type": "code",
   "execution_count": null,
   "metadata": {},
   "outputs": [],
   "source": []
  },
  {
   "cell_type": "markdown",
   "metadata": {},
   "source": [
    "### <font color=#0000FF>將 \\*.py(模組) 打包成可執行檔 .exe\n",
    "* pip install pyinstaller</font>"
   ]
  },
  {
   "cell_type": "code",
   "execution_count": null,
   "metadata": {
    "scrolled": true
   },
   "outputs": [],
   "source": [
    "!pip install pyinstaller\n"
   ]
  },
  {
   "cell_type": "code",
   "execution_count": 7,
   "metadata": {
    "scrolled": true
   },
   "outputs": [
    {
     "name": "stdout",
     "output_type": "stream",
     "text": [
      "Name: PyInstaller\n",
      "Version: 3.4\n",
      "Summary: PyInstaller bundles a Python application and all its dependencies into a single package.\n",
      "Home-page: http://www.pyinstaller.org\n",
      "Author: Giovanni Bajo, Hartmut Goebel, David Vierra, David Cortesi, Martin Zibricky\n",
      "Author-email: pyinstaller@googlegroups.com\n",
      "License: GPL license with a special exception which allows to use PyInstaller to build and distribute non-free programs (including commercial ones)\n",
      "Location: c:\\programdata\\anaconda3\\envs\\py36\\lib\\site-packages\n",
      "Requires: setuptools, pywin32-ctypes, macholib, pefile, altgraph\n",
      "Required-by: \n"
     ]
    }
   ],
   "source": [
    "!pip show -V pyinstaller                                                                                                                                                                                                                                                                                                                                                                                                                                                                                                                                                                                                                                                                                                                                                                                                                                                                                                                                                                                                                                                                                                                                                                                                                                                                                                                                                               \n"
   ]
  },
  {
   "cell_type": "code",
   "execution_count": 8,
   "metadata": {
    "scrolled": false
   },
   "outputs": [
    {
     "name": "stdout",
     "output_type": "stream",
     "text": [
      "usage: pyinstaller [-h] [-v] [-D] [-F] [--specpath DIR] [-n NAME]\n",
      "                   [--add-data <SRC;DEST or SRC:DEST>]\n",
      "                   [--add-binary <SRC;DEST or SRC:DEST>] [-p DIR]\n",
      "                   [--hidden-import MODULENAME]\n",
      "                   [--additional-hooks-dir HOOKSPATH]\n",
      "                   [--runtime-hook RUNTIME_HOOKS] [--exclude-module EXCLUDES]\n",
      "                   [--key KEY] [-d [{all,imports,bootloader,noarchive}]] [-s]\n",
      "                   [--noupx] [-c] [-w]\n",
      "                   [-i <FILE.ico or FILE.exe,ID or FILE.icns>]\n",
      "                   [--version-file FILE] [-m <FILE or XML>] [-r RESOURCE]\n",
      "                   [--uac-admin] [--uac-uiaccess] [--win-private-assemblies]\n",
      "                   [--win-no-prefer-redirects]\n",
      "                   [--osx-bundle-identifier BUNDLE_IDENTIFIER]\n",
      "                   [--runtime-tmpdir PATH] [--bootloader-ignore-signals]\n",
      "                   [--distpath DIR] [--workpath WORKPATH] [-y]\n",
      "                   [--upx-dir UPX_DIR] [-a] [--clean] [--log-level LEVEL]\n",
      "                   scriptname [scriptname ...]\n",
      "\n",
      "positional arguments:\n",
      "  scriptname            name of scriptfiles to be processed or exactly one\n",
      "                        .spec-file. If a .spec-file is specified, most options\n",
      "                        are unnecessary and are ignored.\n",
      "\n",
      "optional arguments:\n",
      "  -h, --help            show this help message and exit\n",
      "  -v, --version         Show program version info and exit.\n",
      "  --distpath DIR        Where to put the bundled app (default: .\\dist)\n",
      "  --workpath WORKPATH   Where to put all the temporary work files, .log, .pyz\n",
      "                        and etc. (default: .\\build)\n",
      "  -y, --noconfirm       Replace output directory (default:\n",
      "                        SPECPATH\\dist\\SPECNAME) without asking for\n",
      "                        confirmation\n",
      "  --upx-dir UPX_DIR     Path to UPX utility (default: search the execution\n",
      "                        path)\n",
      "  -a, --ascii           Do not include unicode encoding support (default:\n",
      "                        included if available)\n",
      "  --clean               Clean PyInstaller cache and remove temporary files\n",
      "                        before building.\n",
      "  --log-level LEVEL     Amount of detail in build-time console messages. LEVEL\n",
      "                        may be one of TRACE, DEBUG, INFO, WARN, ERROR,\n",
      "                        CRITICAL (default: INFO).\n",
      "\n",
      "What to generate:\n",
      "  -D, --onedir          Create a one-folder bundle containing an executable\n",
      "                        (default)\n",
      "  -F, --onefile         Create a one-file bundled executable.\n",
      "  --specpath DIR        Folder to store the generated spec file (default:\n",
      "                        current directory)\n",
      "  -n NAME, --name NAME  Name to assign to the bundled app and spec file\n",
      "                        (default: first script's basename)\n",
      "\n",
      "What to bundle, where to search:\n",
      "  --add-data <SRC;DEST or SRC:DEST>\n",
      "                        Additional non-binary files or folders to be added to\n",
      "                        the executable. The path separator is platform\n",
      "                        specific, ``os.pathsep`` (which is ``;`` on Windows\n",
      "                        and ``:`` on most unix systems) is used. This option\n",
      "                        can be used multiple times.\n",
      "  --add-binary <SRC;DEST or SRC:DEST>\n",
      "                        Additional binary files to be added to the executable.\n",
      "                        See the ``--add-data`` option for more details. This\n",
      "                        option can be used multiple times.\n",
      "  -p DIR, --paths DIR   A path to search for imports (like using PYTHONPATH).\n",
      "                        Multiple paths are allowed, separated by ';', or use\n",
      "                        this option multiple times\n",
      "  --hidden-import MODULENAME, --hiddenimport MODULENAME\n",
      "                        Name an import not visible in the code of the\n",
      "                        script(s). This option can be used multiple times.\n",
      "  --additional-hooks-dir HOOKSPATH\n",
      "                        An additional path to search for hooks. This option\n",
      "                        can be used multiple times.\n",
      "  --runtime-hook RUNTIME_HOOKS\n",
      "                        Path to a custom runtime hook file. A runtime hook is\n",
      "                        code that is bundled with the executable and is\n",
      "                        executed before any other code or module to set up\n",
      "                        special features of the runtime environment. This\n",
      "                        option can be used multiple times.\n",
      "  --exclude-module EXCLUDES\n",
      "                        Optional module or package (the Python name, not the\n",
      "                        path name) that will be ignored (as though it was not\n",
      "                        found). This option can be used multiple times.\n",
      "  --key KEY             The key used to encrypt Python bytecode.\n",
      "\n",
      "How to generate:\n",
      "  -d [{all,imports,bootloader,noarchive}], --debug [{all,imports,bootloader,noarchive}]\n",
      "                        Provide assistance with debugging a frozen\n",
      "                        application, by specifying one or more of the\n",
      "                        following choices.\n",
      "                        \n",
      "                        - all: All three of the below options; this is the\n",
      "                          default choice, unless one of the choices below is\n",
      "                          specified.\n",
      "                        \n",
      "                        - imports: specify the -v option to the underlying\n",
      "                          Python interpreter, causing it to print a message\n",
      "                          each time a module is initialized, showing the\n",
      "                          place (filename or built-in module) from which it\n",
      "                          is loaded. See\n",
      "                          https://docs.python.org/3/using/cmdline.html#id4.\n",
      "                        \n",
      "                        - bootloader: tell the bootloader to issue progress\n",
      "                          messages while initializing and starting the\n",
      "                          bundled app. Used to diagnose problems with\n",
      "                          missing imports.\n",
      "                        \n",
      "                        - noarchive: instead of storing all frozen Python\n",
      "                          source files as an archive inside the resulting\n",
      "                          executable, store them as files in the resulting\n",
      "                          output directory.\n",
      "                        \n",
      "  -s, --strip           Apply a symbol-table strip to the executable and\n",
      "                        shared libs (not recommended for Windows)\n",
      "  --noupx               Do not use UPX even if it is available (works\n",
      "                        differently between Windows and *nix)\n",
      "\n",
      "Windows and Mac OS X specific options:\n",
      "  -c, --console, --nowindowed\n",
      "                        Open a console window for standard i/o (default)\n",
      "  -w, --windowed, --noconsole\n",
      "                        Windows and Mac OS X: do not provide a console window\n",
      "                        for standard i/o. On Mac OS X this also triggers\n",
      "                        building an OS X .app bundle. This option is ignored\n",
      "                        in *NIX systems.\n",
      "  -i <FILE.ico or FILE.exe,ID or FILE.icns>, --icon <FILE.ico or FILE.exe,ID or FILE.icns>\n",
      "                        FILE.ico: apply that icon to a Windows executable.\n",
      "                        FILE.exe,ID, extract the icon with ID from an exe.\n",
      "                        FILE.icns: apply the icon to the .app bundle on Mac OS\n",
      "                        X\n",
      "\n",
      "Windows specific options:\n",
      "  --version-file FILE   add a version resource from FILE to the exe\n",
      "  -m <FILE or XML>, --manifest <FILE or XML>\n",
      "                        add manifest FILE or XML to the exe\n",
      "  -r RESOURCE, --resource RESOURCE\n",
      "                        Add or update a resource to a Windows executable. The\n",
      "                        RESOURCE is one to four items,\n",
      "                        FILE[,TYPE[,NAME[,LANGUAGE]]]. FILE can be a data file\n",
      "                        or an exe/dll. For data files, at least TYPE and NAME\n",
      "                        must be specified. LANGUAGE defaults to 0 or may be\n",
      "                        specified as wildcard * to update all resources of the\n",
      "                        given TYPE and NAME. For exe/dll files, all resources\n",
      "                        from FILE will be added/updated to the final\n",
      "                        executable if TYPE, NAME and LANGUAGE are omitted or\n",
      "                        specified as wildcard *.This option can be used\n",
      "                        multiple times.\n",
      "  --uac-admin           Using this option creates a Manifest which will\n",
      "                        request elevation upon application restart.\n",
      "  --uac-uiaccess        Using this option allows an elevated application to\n",
      "                        work with Remote Desktop.\n",
      "\n",
      "Windows Side-by-side Assembly searching options (advanced):\n",
      "  --win-private-assemblies\n",
      "                        Any Shared Assemblies bundled into the application\n",
      "                        will be changed into Private Assemblies. This means\n",
      "                        the exact versions of these assemblies will always be\n",
      "                        used, and any newer versions installed on user\n",
      "                        machines at the system level will be ignored.\n",
      "  --win-no-prefer-redirects\n",
      "                        While searching for Shared or Private Assemblies to\n",
      "                        bundle into the application, PyInstaller will prefer\n",
      "                        not to follow policies that redirect to newer\n",
      "                        versions, and will try to bundle the exact versions of\n",
      "                        the assembly.\n",
      "\n",
      "Mac OS X specific options:\n",
      "  --osx-bundle-identifier BUNDLE_IDENTIFIER\n",
      "                        Mac OS X .app bundle identifier is used as the default\n",
      "                        unique program name for code signing purposes. The\n",
      "                        usual form is a hierarchical name in reverse DNS\n",
      "                        notation. For example:\n",
      "                        com.mycompany.department.appname (default: first\n",
      "                        script's basename)\n",
      "\n",
      "Rarely used special options:\n",
      "  --runtime-tmpdir PATH\n",
      "                        Where to extract libraries and support files in\n",
      "                        `onefile`-mode. If this option is given, the\n",
      "                        bootloader will ignore any temp-folder location\n",
      "                        defined by the run-time OS. The ``_MEIxxxxxx``-folder\n",
      "                        will be created here. Please use this option only if\n",
      "                        you know what you are doing.\n",
      "  --bootloader-ignore-signals\n",
      "                        Tell the bootloader to ignore signals rather than\n",
      "                        forwarding them to the child process. Useful in\n",
      "                        situations where e.g. a supervisor process signals\n",
      "                        both the bootloader and child (e.g. via a process\n",
      "                        group) to avoid signalling the child twice.\n"
     ]
    }
   ],
   "source": [
    "!pyinstaller --help"
   ]
  },
  {
   "cell_type": "code",
   "execution_count": 9,
   "metadata": {},
   "outputs": [
    {
     "name": "stdout",
     "output_type": "stream",
     "text": [
      "F:\\annie\\3下課程\\MyPython\n"
     ]
    }
   ],
   "source": [
    "os.chdir(r'F:\\annie\\3下課程\\MyPython')\n",
    "print(os.getcwd())"
   ]
  },
  {
   "cell_type": "code",
   "execution_count": null,
   "metadata": {},
   "outputs": [],
   "source": [
    "!pyinstaller --onefile module00.py"
   ]
  },
  {
   "cell_type": "code",
   "execution_count": null,
   "metadata": {},
   "outputs": [],
   "source": []
  },
  {
   "cell_type": "markdown",
   "metadata": {},
   "source": [
    "<font color=#0000FF>pyinstaller 自訂輸出目錄的參數</font>\n",
    "* -F, --onefile\n",
    "/Create a one-file bundled executable.\n",
    "* --clean\n",
    "/Clean PyInstaller cache and remove temporary files before building.\n",
    "* --specpath DIR\n",
    "/Folder to store the generated spec file (default:current directory)\n",
    "* --distpath DIR\n",
    "/Where to put the bundled app (default: .\\dist)\n",
    "* --workpath WORKPATH\n",
    "/Where to put all the temporary work files, .log, .pyz and etc. (default: .\\build)"
   ]
  },
  {
   "cell_type": "code",
   "execution_count": null,
   "metadata": {},
   "outputs": [],
   "source": [
    "!pyinstaller --onefile --clean --specpath F:\\m00 --distpath F:\\m00\\bin workpath F:\\m00\\build"
   ]
  },
  {
   "cell_type": "markdown",
   "metadata": {},
   "source": [
    "### 練習題"
   ]
  },
  {
   "cell_type": "markdown",
   "metadata": {},
   "source": [
    "階層題型"
   ]
  },
  {
   "cell_type": "code",
   "execution_count": 1,
   "metadata": {},
   "outputs": [
    {
     "name": "stdout",
     "output_type": "stream",
     "text": [
      "Factorial of 6 = 720\n"
     ]
    }
   ],
   "source": [
    "def fact(n):\n",
    "    \"\"\"Recursive function to find factorial\"\"\"\n",
    "    if n == 1:\n",
    "        return 1\n",
    "    else:\n",
    "        return (n * fact(n - 1))\n",
    "a = 6\n",
    "print(\"Factorial of\", a, \"=\", fact(a))"
   ]
  },
  {
   "cell_type": "markdown",
   "metadata": {},
   "source": [
    "階層的和"
   ]
  },
  {
   "cell_type": "code",
   "execution_count": 2,
   "metadata": {
    "scrolled": true
   },
   "outputs": [
    {
     "name": "stdout",
     "output_type": "stream",
     "text": [
      "4\n",
      "33\n"
     ]
    }
   ],
   "source": [
    "def jie(n):\n",
    "    if n == 1:\n",
    "        return 1\n",
    "    else:\n",
    "        return (n*jie(n-1))\n",
    "    \n",
    "    \n",
    "n = int(input())\n",
    "sum = 0\n",
    "if n < 1 or n > 40:\n",
    "    print(\"请重新输入数据\")\n",
    "else:\n",
    "    for i in range(1,n+1):\n",
    "        sum = sum + jie(i)\n",
    "    print(sum)\n"
   ]
  },
  {
   "cell_type": "markdown",
   "metadata": {},
   "source": [
    "巴斯卡三角形"
   ]
  },
  {
   "cell_type": "code",
   "execution_count": 6,
   "metadata": {},
   "outputs": [
    {
     "name": "stdout",
     "output_type": "stream",
     "text": [
      "[1]\n",
      "[1, 1]\n",
      "[1, 2, 1]\n",
      "[1, 3, 3, 1]\n",
      "[1, 4, 6, 4, 1]\n",
      "[1, 5, 10, 10, 5, 1]\n",
      "[1, 6, 15, 20, 15, 6, 1]\n",
      "[1, 7, 21, 35, 35, 21, 7, 1]\n",
      "[1, 8, 28, 56, 70, 56, 28, 8, 1]\n",
      "[1, 9, 36, 84, 126, 126, 84, 36, 9, 1]\n"
     ]
    }
   ],
   "source": [
    "def pascalTriangle(n):\n",
    "    if n <= 0:\n",
    "        return \n",
    "    else:\n",
    "        row = [1]\n",
    "        for i in range(10):\n",
    "            print (row) \n",
    "            p = row[:]                     # p 代表前一列\n",
    "            for j in range(1, len(row)):        \n",
    "                row[j] = p[j] + p[j-1]\n",
    "            row.append(1)\n",
    "\n",
    "\n",
    "pascalTriangle(10)"
   ]
  },
  {
   "cell_type": "markdown",
   "metadata": {},
   "source": [
    "【Python練習題 022】 利用遞迴函式呼叫方式,將所輸入的5個字元,以相反順序打印出來。"
   ]
  },
  {
   "cell_type": "code",
   "execution_count": 9,
   "metadata": {},
   "outputs": [
    {
     "name": "stdout",
     "output_type": "stream",
     "text": [
      "請輸入若干字元:abd\n",
      "dba\n"
     ]
    }
   ],
   "source": [
    "str = input('請輸入若干字元:')\n",
    "def f(x): \n",
    "    if x == -1: \n",
    "        return '' \n",
    "    else: \n",
    "        return str[x] + f(x-1)\n",
    "print(f(len(str)-1))"
   ]
  },
  {
   "cell_type": "markdown",
   "metadata": {},
   "source": [
    "斐波那契數列的排列是：0，1，1，2，3，5，8，13，21，34，55，89，144……依次類推下去，你會發現，它後一個數等於前面兩個數的和。在這個數列中的數字，就被稱為斐波那契數。\n",
    "\n",
    "遞迴思想：一個數等於前兩個數的和。(這並不是廢話，這是執行思路)\n",
    "\n",
    "首先分析數列的遞迴表示式：\n",
    "\n",
    "f(n)={n,f(n−1) f(n−2),n<= 1n>1\n",
    "f(n) =\n",
    "\n",
    "\\begin{cases}\n",
    "n, & \\text{n1}\n",
    "\\end{cases}"
   ]
  },
  {
   "cell_type": "code",
   "execution_count": 18,
   "metadata": {},
   "outputs": [
    {
     "name": "stdout",
     "output_type": "stream",
     "text": [
      "0 1 1 2 3 5 8 13 21 34 55 89 144 233 377 610 987 1597 2584 4181 "
     ]
    }
   ],
   "source": [
    "def fib_recur(n): \n",
    "    assert n >= 0 \n",
    "    if n in (0, 1): \n",
    "        return n \n",
    "    return fib_recur(n - 1) + fib_recur(n - 2) \n",
    "\n",
    "for i in range(20): \n",
    "    print(fib_recur(i), end=\" \") \n",
    "       "
   ]
  },
  {
   "cell_type": "markdown",
   "metadata": {},
   "source": [
    "C n 取 m"
   ]
  },
  {
   "cell_type": "code",
   "execution_count": 19,
   "metadata": {},
   "outputs": [
    {
     "name": "stdout",
     "output_type": "stream",
     "text": [
      "120.0\n"
     ]
    }
   ],
   "source": [
    "def factorial(N):\n",
    "        re = 1\n",
    "        for i in range(2, N+1):\n",
    "                re *= i\n",
    "        return re\n",
    "n, m = 10, 3\n",
    "C = factorial(n)/(factorial(m)*factorial(n-m))\n",
    "print(C)"
   ]
  },
  {
   "cell_type": "code",
   "execution_count": 9,
   "metadata": {},
   "outputs": [],
   "source": [
    "def sum1 (n):\n",
    "    if n<1 :\n",
    "        return 0\n",
    "    return n+sum1(n-1)"
   ]
  },
  {
   "cell_type": "code",
   "execution_count": 10,
   "metadata": {},
   "outputs": [
    {
     "data": {
      "text/plain": [
       "55"
      ]
     },
     "execution_count": 10,
     "metadata": {},
     "output_type": "execute_result"
    }
   ],
   "source": [
    "sum1(10)"
   ]
  },
  {
   "cell_type": "markdown",
   "metadata": {},
   "source": [
    "### <font color=#0000FF>作業八 : 練習遞迴與檔案目錄(2019/05/28)</font>"
   ]
  },
  {
   "cell_type": "markdown",
   "metadata": {},
   "source": [
    "#### <font color=#0000FF>1. 請利用 <u>遞迴</u> 撰寫一個類似 glob 功能的函數，給定一個目錄(path)，以及想要尋找的附屬檔名(ext)，回傳一個list物件 </font>\n",
    "- list recursiveFindFiles(path, ext, isFullName=False)\n",
    "    - path : 給定的目錄名稱\n",
    "    - ext : 附屬檔名\n",
    "    - isFullName : 是否回傳全路徑的檔案名稱，或是僅需要檔案名稱(default)\n",
    "    - return : 迴傳一個 list 物件，存放所有檔案名稱\n",
    "- 【提示】可以使用 os 模組\n",
    "    - os.listdir()\n",
    "    - os.path.isfile() : 判斷是否為檔案\n",
    "    - os.path.isdir() : 判斷是否為目錄\n",
    "- 請執行以下兩個的結果\n",
    "    - 需要全路徑的檔案名稱\n",
    "        - lst = recursiveFindFiles(path=r'C:\\data',ext='jpg',isFullName=True)\n",
    "        - print(len(lst))\n",
    "        - print(lst[0])\n",
    "    - 不需要全路徑的檔案名稱    \n",
    "        - lst = recursiveFindFiles(path=r'C:\\data',ext='jpg',isFullName=False)\n",
    "        - print(len(lst))\n",
    "        - print(lst[0])"
   ]
  },
  {
   "cell_type": "markdown",
   "metadata": {},
   "source": [
    "#### <font color=#0000FF>2. 請利用 <u>遞迴</u> 撰寫一個函數，給定一個目錄名稱(path)與圖檔的附屬檔名(ext)，就可以直接回傳一個list物件，內存所有圖檔的numpy.ndarray </font>\n",
    "- list recursiveFindImgFiles(path, ext)\n",
    "    - path : 給定的目錄名稱\n",
    "    - ext : 附屬檔名\n",
    "    - return : 迴傳一個 list 物件，內存放所有影像檔案的numpy.ndarray\n",
    "- <font color=#FF0000><b>千萬不要</b></font>先找出所有檔案，再重覆相同動作去讀檔案    "
   ]
  }
 ],
 "metadata": {
  "kernelspec": {
   "display_name": "Python 3",
   "language": "python",
   "name": "python3"
  },
  "language_info": {
   "codemirror_mode": {
    "name": "ipython",
    "version": 3
   },
   "file_extension": ".py",
   "mimetype": "text/x-python",
   "name": "python",
   "nbconvert_exporter": "python",
   "pygments_lexer": "ipython3",
   "version": "3.6.7"
  }
 },
 "nbformat": 4,
 "nbformat_minor": 2
}
