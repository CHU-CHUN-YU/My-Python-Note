{
 "cells": [
  {
   "cell_type": "markdown",
   "metadata": {},
   "source": [
    "【臺北大學】Python程式設計<br>\n",
    "【授課老師】[陳祥輝 (Email : HsiangHui.Chen@gmail.com)](mailto:HsiangHui.Chen@gmail.com)<br>\n",
    "【facebook】[陳祥輝老師的臉書 (歡迎加好友)](https://goo.gl/osivhx)<br>\n",
    "【參考書籍】[從零開始學Python程式設計（適用Python 3.5以上）](http://www.drmaster.com.tw/Bookinfo.asp?BookID=MP31821)<br>\n",
    "【主要議題】Python之物件導向(Object Oriented)"
   ]
  },
  {
   "cell_type": "markdown",
   "metadata": {},
   "source": [
    "### 【名詞介紹】\n",
    "##### 類別 (Class)\n",
    "A user-defined prototype for an object that defines a set of attributes that characterize any object of the class. The attributes are <font color=#FF0000>data members</font> (<u>class variables</u> and <u>instance variables</u>) and <font color=#FF0000>methods</font>, accessed via dot notation.\n",
    "\n",
    "* 資料成員 (Data member)<br>\n",
    "A <font color=#FF0000>class variable</font> or <font color=#FF0000>instance variable</font> that holds data associated with a __class__ and its __objects__.\n",
    "\n",
    "* 方法 (Method)<br>\n",
    "A special kind of function that is defined in a class definition.\n",
    "\n",
    "##### 類別變數 (Class variable)\n",
    "A variable that <font color=#FF0000>is shared</font> by all instances of a class. Class variables are defined within a class but __outside__ any of the class's methods. Class variables are not used as frequently as instance variables are.\n",
    "\n",
    "##### 實例變數 (Instance variable)\n",
    "A variable that is defined inside a method and belongs only to the current instance of a class.\n",
    "\n",
    "##### 多載 (Overloading)\n",
    "* 函數或方法多載 (__Function or Method Overloading__)<br>\n",
    "The assignment of more than one behavior to a particular function. The operation performed varies by the types of objects or arguments involved.\n",
    "\n",
    "* 運算子的多載 (__Operator overloading__)<br>\n",
    "The assignment of more than one function to a particular operator.\n",
    "\n",
    "##### 繼承 (Inheritance)\n",
    "The transfer of the characteristics of a class to other classes that are derived from it.\n",
    "\n",
    "##### 多重繼承 (Multiple Inheritance)\n",
    "Python supports a form of multiple inheritance as well. A class definition with multiple base classes.\n",
    "\n",
    "##### 實例 (Instance)\n",
    "An individual object of a certain class. An object obj that belongs to a class Circle, for example, is an instance of the class Circle.\n",
    "\n",
    "##### 實例化 (Instantiation)\n",
    "The creation of an instance of a class.\n",
    "\n",
    "##### 物件 (Object)\n",
    "A unique instance of a data structure that's defined by its class. An object comprises both data members (class variables and instance variables) and methods.\n",
    "\n",
    "##### 覆載、重載、覆寫 (Overriding Methods)\n",
    "\n",
    "##### 建構函數、建構子 (Constructor)\n",
    "\\__new\\__() + \\__init\\__() : 建構物件 + 初始化物件\n",
    "\n",
    "#### 解構函數、解構子 (Destructor)\n",
    "\\__del\\__(self)"
   ]
  },
  {
   "cell_type": "code",
   "execution_count": 6,
   "metadata": {},
   "outputs": [
    {
     "name": "stdout",
     "output_type": "stream",
     "text": [
      "【日期時間】2019/06/18 12:37:01\n",
      "【工作目錄】E:\\annie\\3下課程\\MyPython\\Final_note\n",
      "【主機名稱】LAPTOP-7TNGIFIP (172.20.10.3)\n"
     ]
    }
   ],
   "source": [
    "#-*-coding:UTF-8-*- \n",
    "import os, time, glob, socket\n",
    "\n",
    "print(\"【日期時間】{}\".format(time.strftime(\"%Y/%m/%d %H:%M:%S\")))\n",
    "print(\"【工作目錄】{}\".format(os.getcwd()))\n",
    "print(\"【主機名稱】{} ({})\".format(socket.gethostname(),socket.gethostbyname(socket.gethostname())))"
   ]
  },
  {
   "cell_type": "code",
   "execution_count": 10,
   "metadata": {},
   "outputs": [],
   "source": [
    "class Animal :                   #給定類別(設定成員的屬性及方法)\n",
    "    def move(self, unit=1):      # self 代表本物件    # move ---來存取定義方法\n",
    "        print('moving {} units'.format(unit))\n",
    "    #pass   過     \n",
    "    def breath(self):            # self 代表本物件   breath----來存取屬性\n",
    "        print('breathing')"
   ]
  },
  {
   "cell_type": "code",
   "execution_count": 12,
   "metadata": {},
   "outputs": [
    {
     "data": {
      "text/plain": [
       "['Animal',\n",
       " 'In',\n",
       " 'Out',\n",
       " '_',\n",
       " '_6',\n",
       " '__',\n",
       " '___',\n",
       " '__builtin__',\n",
       " '__builtins__',\n",
       " '__doc__',\n",
       " '__loader__',\n",
       " '__name__',\n",
       " '__package__',\n",
       " '__spec__',\n",
       " '_dh',\n",
       " '_i',\n",
       " '_i1',\n",
       " '_i10',\n",
       " '_i11',\n",
       " '_i12',\n",
       " '_i2',\n",
       " '_i3',\n",
       " '_i4',\n",
       " '_i5',\n",
       " '_i6',\n",
       " '_i7',\n",
       " '_i8',\n",
       " '_i9',\n",
       " '_ih',\n",
       " '_ii',\n",
       " '_iii',\n",
       " '_oh',\n",
       " 'an01',\n",
       " 'an02',\n",
       " 'exit',\n",
       " 'get_ipython',\n",
       " 'glob',\n",
       " 'os',\n",
       " 'quit',\n",
       " 'socket',\n",
       " 'time']"
      ]
     },
     "execution_count": 12,
     "metadata": {},
     "output_type": "execute_result"
    }
   ],
   "source": [
    "dir() #有了"
   ]
  },
  {
   "cell_type": "code",
   "execution_count": 11,
   "metadata": {
    "scrolled": true
   },
   "outputs": [],
   "source": [
    "#類別實體化\n",
    "\n",
    "an01 = Animal()  #物件1=self\n",
    "an02 = Animal()  #物件2"
   ]
  },
  {
   "cell_type": "code",
   "execution_count": 14,
   "metadata": {
    "scrolled": true
   },
   "outputs": [
    {
     "data": {
      "text/plain": [
       "__main__.Animal"
      ]
     },
     "execution_count": 14,
     "metadata": {},
     "output_type": "execute_result"
    }
   ],
   "source": [
    "type(an01)"
   ]
  },
  {
   "cell_type": "code",
   "execution_count": 15,
   "metadata": {},
   "outputs": [
    {
     "name": "stdout",
     "output_type": "stream",
     "text": [
      "moving 10 units\n"
     ]
    }
   ],
   "source": [
    "an01.move(10)   # 物件1.方法"
   ]
  },
  {
   "cell_type": "code",
   "execution_count": 16,
   "metadata": {},
   "outputs": [
    {
     "name": "stdout",
     "output_type": "stream",
     "text": [
      "breathing\n"
     ]
    }
   ],
   "source": [
    "an01.breath()    # 物件1.屬性"
   ]
  },
  {
   "cell_type": "code",
   "execution_count": 18,
   "metadata": {},
   "outputs": [
    {
     "name": "stdout",
     "output_type": "stream",
     "text": [
      "breathing\n"
     ]
    }
   ],
   "source": [
    "an02.breath()    # 物件2.屬性"
   ]
  },
  {
   "cell_type": "code",
   "execution_count": 20,
   "metadata": {},
   "outputs": [
    {
     "name": "stdout",
     "output_type": "stream",
     "text": [
      "moving 1 units\n"
     ]
    }
   ],
   "source": [
    "an02.move(1)   # 物件2.方法"
   ]
  },
  {
   "cell_type": "markdown",
   "metadata": {},
   "source": [
    "<font color=#0000FF> 將類別寫入 pack01.pack0101.module01.py 內, 再import進來使用 </font>"
   ]
  },
  {
   "cell_type": "code",
   "execution_count": 49,
   "metadata": {},
   "outputs": [],
   "source": [
    "import pack01.pack0101.module01 as m01"
   ]
  },
  {
   "cell_type": "code",
   "execution_count": 8,
   "metadata": {},
   "outputs": [
    {
     "ename": "NameError",
     "evalue": "name 'm01' is not defined",
     "output_type": "error",
     "traceback": [
      "\u001b[1;31m---------------------------------------------------------------------------\u001b[0m",
      "\u001b[1;31mNameError\u001b[0m                                 Traceback (most recent call last)",
      "\u001b[1;32m<ipython-input-8-398f5bce02ac>\u001b[0m in \u001b[0;36m<module>\u001b[1;34m\u001b[0m\n\u001b[1;32m----> 1\u001b[1;33m \u001b[0man01\u001b[0m \u001b[1;33m=\u001b[0m \u001b[0mm01\u001b[0m\u001b[1;33m.\u001b[0m\u001b[0mAnimal\u001b[0m\u001b[1;33m(\u001b[0m\u001b[1;33m)\u001b[0m  \u001b[1;31m# namespace\u001b[0m\u001b[1;33m\u001b[0m\u001b[1;33m\u001b[0m\u001b[0m\n\u001b[0m\u001b[0;32m      2\u001b[0m \u001b[0man02\u001b[0m \u001b[1;33m=\u001b[0m \u001b[0mm01\u001b[0m\u001b[1;33m.\u001b[0m\u001b[0mAnimal\u001b[0m\u001b[1;33m(\u001b[0m\u001b[1;33m)\u001b[0m\u001b[1;33m\u001b[0m\u001b[1;33m\u001b[0m\u001b[0m\n",
      "\u001b[1;31mNameError\u001b[0m: name 'm01' is not defined"
     ]
    }
   ],
   "source": [
    "an01 = m01.Animal()  # namespace\n",
    "an02 = m01.Animal()"
   ]
  },
  {
   "cell_type": "code",
   "execution_count": 38,
   "metadata": {},
   "outputs": [
    {
     "name": "stdout",
     "output_type": "stream",
     "text": [
      "Dog moving 10 units\n"
     ]
    }
   ],
   "source": [
    "an01.move(10)"
   ]
  },
  {
   "cell_type": "code",
   "execution_count": 39,
   "metadata": {},
   "outputs": [
    {
     "ename": "AttributeError",
     "evalue": "module 'pack01.pack0101.module01' has no attribute 'Animal'",
     "output_type": "error",
     "traceback": [
      "\u001b[1;31m---------------------------------------------------------------------------\u001b[0m",
      "\u001b[1;31mAttributeError\u001b[0m                            Traceback (most recent call last)",
      "\u001b[1;32m<ipython-input-39-f8b674d13921>\u001b[0m in \u001b[0;36m<module>\u001b[1;34m\u001b[0m\n\u001b[1;32m----> 1\u001b[1;33m \u001b[0misinstance\u001b[0m\u001b[1;33m(\u001b[0m\u001b[0man01\u001b[0m\u001b[1;33m,\u001b[0m \u001b[0mm01\u001b[0m\u001b[1;33m.\u001b[0m\u001b[0mAnimal\u001b[0m\u001b[1;33m)\u001b[0m   \u001b[1;31m# 判斷 an01 是不是 m01.Animal 的實例 (物件)\u001b[0m\u001b[1;33m\u001b[0m\u001b[1;33m\u001b[0m\u001b[0m\n\u001b[0m",
      "\u001b[1;31mAttributeError\u001b[0m: module 'pack01.pack0101.module01' has no attribute 'Animal'"
     ]
    }
   ],
   "source": [
    "isinstance(an01, m01.Animal)   # 判斷 an01 是不是 m01.Animal 的實例 (物件)"
   ]
  },
  {
   "cell_type": "markdown",
   "metadata": {},
   "source": [
    "<font color=#0000FF> python的物件可以隨意增加屬性 </font>"
   ]
  },
  {
   "cell_type": "code",
   "execution_count": 22,
   "metadata": {},
   "outputs": [
    {
     "name": "stdout",
     "output_type": "stream",
     "text": [
      "20\n"
     ]
    }
   ],
   "source": [
    "an01.age = 20   #從這裡直接加 物件1的屬性 原本沒有age\n",
    "print(an01.age)"
   ]
  },
  {
   "cell_type": "code",
   "execution_count": 29,
   "metadata": {},
   "outputs": [],
   "source": [
    "an01.heal=[]"
   ]
  },
  {
   "cell_type": "code",
   "execution_count": 31,
   "metadata": {},
   "outputs": [
    {
     "data": {
      "text/plain": [
       "['health']"
      ]
     },
     "execution_count": 31,
     "metadata": {},
     "output_type": "execute_result"
    }
   ],
   "source": [
    "an01.heal.append(\"health\")\n",
    "an01.heal"
   ]
  },
  {
   "cell_type": "code",
   "execution_count": 12,
   "metadata": {},
   "outputs": [
    {
     "data": {
      "text/plain": [
       "['__class__',\n",
       " '__delattr__',\n",
       " '__dict__',\n",
       " '__dir__',\n",
       " '__doc__',\n",
       " '__eq__',\n",
       " '__format__',\n",
       " '__ge__',\n",
       " '__getattribute__',\n",
       " '__gt__',\n",
       " '__hash__',\n",
       " '__init__',\n",
       " '__init_subclass__',\n",
       " '__le__',\n",
       " '__lt__',\n",
       " '__module__',\n",
       " '__ne__',\n",
       " '__new__',\n",
       " '__reduce__',\n",
       " '__reduce_ex__',\n",
       " '__repr__',\n",
       " '__setattr__',\n",
       " '__sizeof__',\n",
       " '__str__',\n",
       " '__subclasshook__',\n",
       " '__weakref__',\n",
       " 'breath',\n",
       " 'move']"
      ]
     },
     "execution_count": 12,
     "metadata": {},
     "output_type": "execute_result"
    }
   ],
   "source": [
    "dir(an01)"
   ]
  },
  {
   "cell_type": "markdown",
   "metadata": {},
   "source": [
    "<font color=#0000FF> Python 的建構子與解建構子</font>"
   ]
  },
  {
   "cell_type": "markdown",
   "metadata": {},
   "source": [
    "* __init__(self) : 建構子(元), 產生物件時，第一個自動被執行的method\n",
    "* __del__(self) : 解建構子(元), 物件被刪除時，最後一個自動被執行的method"
   ]
  },
  {
   "cell_type": "code",
   "execution_count": 14,
   "metadata": {},
   "outputs": [],
   "source": [
    "class Animal :  \n",
    "    \n",
    "    \"\"\"這是一個Animal的類別\"\"\"          \n",
    "    def __init__(self, name, age,m,d):      # constructor : 建構子(元)，目的在初始化所有的 (物件變數)\n",
    "                                        # 物件變數 一定要打 self\n",
    "        self.name = name                # name, age : local variable (只存在此區塊) ----區域變數\n",
    "        self.age = age                  # self.name, self.age : object variable(都會有的)\n",
    "        self.month=m                  #讓普通的變數(name)變成物件變數(self.name) 來存取\n",
    "        self.date=d\n",
    "        \n",
    "    def __del__(self):                  # destructor : 解建構子(元)\n",
    "        print('ㄚ，我被殺了!!')\n",
    "        self.name = None\n",
    "        self.age = None\n",
    "        \n",
    "    def __str__(self):       #定義字串的格式  __str__ 和 __repr__一樣\n",
    "        return '我是一個動物'\n",
    "    \n",
    "    def __repr__(self):     #如果只打print(self) 的 結果 想要長怎樣?\n",
    "        \n",
    "        print('我是一個動物')\n",
    "        return \"生日:{}月{}日\".format(self.month,self.date)\n",
    "    \n",
    "    def move(self, unit=1):  # method  , self 代表 本物件\n",
    "        \"\"\"這是動物的移動動作\"\"\"\n",
    "        print('{} moving {} units'.format(self.name, unit))\n",
    "        \n",
    "    def breath(self):\n",
    "        print('breathing')"
   ]
  },
  {
   "cell_type": "code",
   "execution_count": 55,
   "metadata": {
    "scrolled": true
   },
   "outputs": [
    {
     "name": "stdout",
     "output_type": "stream",
     "text": [
      "ㄚ，我被殺了!!\n"
     ]
    }
   ],
   "source": [
    "an01 = Animal(name='Dog', age=20,m=12,d=5)   # 之前跑過一次 所以會先幫你殺一次 要給 key word\n",
    "                                             #()裡放__init__ 有的東西"
   ]
  },
  {
   "cell_type": "code",
   "execution_count": 56,
   "metadata": {
    "scrolled": false
   },
   "outputs": [
    {
     "name": "stdout",
     "output_type": "stream",
     "text": [
      "這是一個Animal的類別\n",
      "這是一個Animal的類別\n"
     ]
    }
   ],
   "source": [
    "print(Animal.__doc__)\n",
    "print(an01.__doc__)"
   ]
  },
  {
   "cell_type": "code",
   "execution_count": 15,
   "metadata": {
    "scrolled": true
   },
   "outputs": [
    {
     "name": "stdout",
     "output_type": "stream",
     "text": [
      "<__main__.Animal object at 0x0000010D36EB5F98>\n"
     ]
    }
   ],
   "source": [
    "print(an01)"
   ]
  },
  {
   "cell_type": "code",
   "execution_count": 53,
   "metadata": {},
   "outputs": [
    {
     "name": "stdout",
     "output_type": "stream",
     "text": [
      "生日:12月5日\n"
     ]
    }
   ],
   "source": [
    "print(repr(an01))"
   ]
  },
  {
   "cell_type": "code",
   "execution_count": 49,
   "metadata": {},
   "outputs": [
    {
     "name": "stdout",
     "output_type": "stream",
     "text": [
      "Dog moving 1 units\n",
      "None\n"
     ]
    }
   ],
   "source": [
    "print(an01.move())"
   ]
  },
  {
   "cell_type": "code",
   "execution_count": 50,
   "metadata": {},
   "outputs": [
    {
     "name": "stdout",
     "output_type": "stream",
     "text": [
      "20\n",
      "Dog\n"
     ]
    }
   ],
   "source": [
    "print(an01.age)\n",
    "print(an01.name)\n",
    "print(an01.)"
   ]
  },
  {
   "cell_type": "code",
   "execution_count": 58,
   "metadata": {},
   "outputs": [
    {
     "name": "stdout",
     "output_type": "stream",
     "text": [
      "Help on class Animal in module __main__:\n",
      "\n",
      "class Animal(builtins.object)\n",
      " |  Animal(name, age, m, d)\n",
      " |  \n",
      " |  這是一個Animal的類別\n",
      " |  \n",
      " |  Methods defined here:\n",
      " |  \n",
      " |  __del__(self)\n",
      " |  \n",
      " |  __init__(self, name, age, m, d)\n",
      " |      Initialize self.  See help(type(self)) for accurate signature.\n",
      " |  \n",
      " |  __repr__(self)\n",
      " |      Return repr(self).\n",
      " |  \n",
      " |  breath(self)\n",
      " |  \n",
      " |  move(self, unit=1)\n",
      " |      這是動物的移動動作\n",
      " |  \n",
      " |  ----------------------------------------------------------------------\n",
      " |  Data descriptors defined here:\n",
      " |  \n",
      " |  __dict__\n",
      " |      dictionary for instance variables (if defined)\n",
      " |  \n",
      " |  __weakref__\n",
      " |      list of weak references to the object (if defined)\n",
      "\n"
     ]
    }
   ],
   "source": [
    "help(Animal)"
   ]
  },
  {
   "cell_type": "code",
   "execution_count": 60,
   "metadata": {
    "scrolled": true
   },
   "outputs": [
    {
     "name": "stdout",
     "output_type": "stream",
     "text": [
      "我是一個動物\n"
     ]
    },
    {
     "data": {
      "text/plain": [
       "'生日:12月5日'"
      ]
     },
     "execution_count": 60,
     "metadata": {},
     "output_type": "execute_result"
    }
   ],
   "source": [
    "str(an01)"
   ]
  },
  {
   "cell_type": "code",
   "execution_count": 61,
   "metadata": {
    "scrolled": false
   },
   "outputs": [
    {
     "name": "stdout",
     "output_type": "stream",
     "text": [
      "ㄚ，我被殺了!!\n"
     ]
    }
   ],
   "source": [
    "del an01  # 最後會啟動 __del__(self) method"
   ]
  },
  {
   "cell_type": "markdown",
   "metadata": {},
   "source": [
    "<font color=#0000FF> class variable and object variable</font>\n",
    "* class variable : 所有物件共有\n",
    "* object variable : 物件各自擁有"
   ]
  },
  {
   "cell_type": "code",
   "execution_count": 1,
   "metadata": {},
   "outputs": [],
   "source": [
    "class Animal :\n",
    "    \n",
    "    \"\"\"這是一個Animal的類別\"\"\"\n",
    "    counter = 0    # n 個物件共用的\n",
    "    \n",
    "    def __init__(self, name=None, age=None):      # constructor : 建構子(元)，目的在初始化所有的 物件變數\n",
    "        self.name = name                          # name, age : local variable \n",
    "        self.age = age                           # self.name, self.age : object variable\n",
    "        Animal.counter += 1                      # Anmial. 開頭的是類別\n",
    "                                                 #self.開頭的是物件\n",
    "    def __del__(self):                          # destructor : 解建構子(元)\n",
    "        print('ㄚ，我被殺了!!')\n",
    "        self.name = None\n",
    "        self.age = None\n",
    "        Animal.counter -= 1\n",
    "        \n",
    "    def __str__(self):\n",
    "        return '我是一個動物'\n",
    "    \n",
    "    def move(self, unit=1):                      # method  , self 代表 本物件\n",
    "        \"\"\"這是動物的移動動作\"\"\"\n",
    "        print('{} moving {} units'.format(self.name, unit))\n",
    "        \n",
    "    def breath(self):\n",
    "        print('breathing')"
   ]
  },
  {
   "cell_type": "code",
   "execution_count": 2,
   "metadata": {
    "scrolled": true
   },
   "outputs": [],
   "source": [
    "an01 = Animal()      #有預設給 none 所以沒打age= name= 給過 \n"
   ]
  },
  {
   "cell_type": "code",
   "execution_count": 3,
   "metadata": {},
   "outputs": [],
   "source": [
    "an02 = Animal(name='Cat')\n"
   ]
  },
  {
   "cell_type": "code",
   "execution_count": 4,
   "metadata": {},
   "outputs": [],
   "source": [
    "an03 = Animal(age=20)\n"
   ]
  },
  {
   "cell_type": "code",
   "execution_count": 5,
   "metadata": {},
   "outputs": [
    {
     "name": "stdout",
     "output_type": "stream",
     "text": [
      "3\n"
     ]
    }
   ],
   "source": [
    "print(Animal.counter)  # 類別底下 有3個物件 "
   ]
  },
  {
   "cell_type": "code",
   "execution_count": 6,
   "metadata": {},
   "outputs": [
    {
     "name": "stdout",
     "output_type": "stream",
     "text": [
      "ㄚ，我被殺了!!\n"
     ]
    }
   ],
   "source": [
    "del an03\n"
   ]
  },
  {
   "cell_type": "code",
   "execution_count": 9,
   "metadata": {},
   "outputs": [
    {
     "name": "stdout",
     "output_type": "stream",
     "text": [
      "2\n"
     ]
    }
   ],
   "source": [
    "print(an01.counter)"
   ]
  },
  {
   "cell_type": "code",
   "execution_count": 8,
   "metadata": {
    "scrolled": false
   },
   "outputs": [
    {
     "name": "stdout",
     "output_type": "stream",
     "text": [
      "2\n"
     ]
    }
   ],
   "source": [
    "print(an02.counter)"
   ]
  },
  {
   "cell_type": "markdown",
   "metadata": {},
   "source": [
    "<font color=#0000FF>另類思考</font>"
   ]
  },
  {
   "cell_type": "code",
   "execution_count": null,
   "metadata": {},
   "outputs": [],
   "source": [
    "\n",
    "class Animal :\n",
    "    \"\"\"這是一個Animal的類別\"\"\"\n",
    "    heartbeat = 0  #共同的\n",
    "    \n",
    "    def __init__(self, name=None, age=None):      # constructor : 建構子(元)，目的在初始化所有的 物件變數\n",
    "        self.name = name                # name, age : local variable \n",
    "        self.age = age                  # self.name, self.age : object variable\n",
    "    \n",
    "    def __del__(self):       # destructor : 解建構子(元)\n",
    "        print('ㄚ，我被殺了!!')\n",
    "        self.name = None\n",
    "        self.age = None\n",
    "        \n",
    "    def __str__(self):\n",
    "        return '我是一個動物'\n",
    "    \n",
    "    def move(self, unit=1):  # method  , self 代表 本物件\n",
    "        \"\"\"這是動物的移動動作\"\"\"\n",
    "        print('{} moving {} units'.format(self.name, unit))\n",
    "        Animal.heartbeat += 1\n",
    "        \n",
    "    def breath(self):\n",
    "        print('breathing')"
   ]
  },
  {
   "cell_type": "markdown",
   "metadata": {},
   "source": [
    "<font color=#0000FF>access modifier存取修飾子</font>\n",
    "* public\n",
    "* private"
   ]
  },
  {
   "cell_type": "code",
   "execution_count": 10,
   "metadata": {},
   "outputs": [],
   "source": [
    "class People :\n",
    "    \n",
    "    def __init__(self, name1, name2) :\n",
    "        self.name1 = name1     #public 存外面就可以存取\n",
    "        self.__name2 = name2   # 加 __ 代表 private 無法從外面存取 封裝 看不到\n",
    "        \n",
    "    def getName2(self):        #除非--這裡設定取得\n",
    "        return self.__name2\n",
    "    \n",
    "    def setName2(self, name2): #除非--這裡才能更改\n",
    "        self.__name2 = name2\n"
   ]
  },
  {
   "cell_type": "code",
   "execution_count": 11,
   "metadata": {},
   "outputs": [],
   "source": [
    "p = People(name1='p1', name2='p2')"
   ]
  },
  {
   "cell_type": "code",
   "execution_count": 12,
   "metadata": {},
   "outputs": [
    {
     "name": "stdout",
     "output_type": "stream",
     "text": [
      "p1\n",
      "ABCD\n"
     ]
    }
   ],
   "source": [
    "print(p.name1)\n",
    "p.name1 = 'ABCD'  # public 可以直接存取! tab鍵可以看到 !可以直接改!\n",
    "print(p.name1)"
   ]
  },
  {
   "cell_type": "code",
   "execution_count": 55,
   "metadata": {},
   "outputs": [
    {
     "name": "stdout",
     "output_type": "stream",
     "text": [
      "p2\n",
      "new P2\n"
     ]
    }
   ],
   "source": [
    "# __name2 : private, 封裝在裡面，可以(非必要)透過 getter / setter 來存取，可以獲得保護\n",
    "print(p.getName2())              # getter                                  \n",
    "p.setName2('new P2')             # setter -----更改\n",
    "print(p.getName2())"
   ]
  },
  {
   "cell_type": "markdown",
   "metadata": {},
   "source": [
    "#### <font color=#0000FF>Single Inheritance(單一繼承)</font>"
   ]
  },
  {
   "cell_type": "markdown",
   "metadata": {},
   "source": [
    "<font color=#0000FF>利用複製/貼上產生 Cat 與 Dog 類別，非常不好</font>"
   ]
  },
  {
   "cell_type": "code",
   "execution_count": 56,
   "metadata": {},
   "outputs": [],
   "source": [
    "class Cat :\n",
    "    \"\"\"這是一個Animal的類別\"\"\"\n",
    "    \n",
    "    def __init__(self, name=None, age=None):      # constructor : 建構子(元)，目的在初始化所有的 物件變數\n",
    "        self.name = name                # name, age : local variable \n",
    "        self.age = age                  # self.name, self.age : object variable\n",
    "    \n",
    "    def __del__(self):       # destructor : 解建構子(元)\n",
    "        print('ㄚ，我被殺了!!')\n",
    "        self.name = None\n",
    "        self.age = None\n",
    "        \n",
    "    def __str__(self):\n",
    "        return '我是一個動物'\n",
    "    \n",
    "    def meow(self):\n",
    "        print('喵喵喵')\n",
    "    \n",
    "    def move(self, unit=1):  # method  , self 代表 本物件\n",
    "        \"\"\"這是動物的移動動作\"\"\"\n",
    "        print('{} moving {} units'.format(self.name, unit))\n",
    "        \n",
    "    def breath(self):\n",
    "        print('breathing')"
   ]
  },
  {
   "cell_type": "code",
   "execution_count": 57,
   "metadata": {},
   "outputs": [],
   "source": [
    "class Dog :\n",
    "    \"\"\"這是一個Animal的類別\"\"\"\n",
    "    \n",
    "    def __init__(self, name=None, age=None):      # constructor : 建構子(元)，目的在初始化所有的 物件變數\n",
    "        self.name = name                # name, age : local variable \n",
    "        self.age = age                  # self.name, self.age : object variable\n",
    "    \n",
    "    def __del__(self):       # destructor : 解建構子(元)\n",
    "        print('ㄚ，我被殺了!!')\n",
    "        self.name = None\n",
    "        self.age = None\n",
    "        \n",
    "    def __str__(self):\n",
    "        return '我是一個動物'\n",
    "    \n",
    "    def bark(self):\n",
    "        print('旺旺旺')\n",
    "    \n",
    "    def move(self, unit=1):  # method  , self 代表 本物件\n",
    "        \"\"\"這是動物的移動動作\"\"\"\n",
    "        print('{} moving {} units'.format(self.name, unit))\n",
    "        \n",
    "    def breath(self):\n",
    "        print('breathing')"
   ]
  },
  {
   "cell_type": "markdown",
   "metadata": {},
   "source": [
    "<font color=#0000FF>利用抽象化(由下而上)產生Animal，再利用繼承父類別的所有public功能與變數，privte(父親的私房錢)的attributes 與 methods 不會繼承</font>"
   ]
  },
  {
   "cell_type": "code",
   "execution_count": 19,
   "metadata": {},
   "outputs": [],
   "source": [
    "class Animal :\n",
    "    \"\"\"這是一個Animal的類別\"\"\"\n",
    "    \n",
    "    def __init__(self, name=None, age=None):      # constructor : 建構子(元)，目的在初始化所有的 物件變數\n",
    "        self.name = name                # name, age : local variable \n",
    "        self.age = age                  # self.name, self.age : object variable\n",
    "    \n",
    "    def __del__(self):       # destructor : 解建構子(元)\n",
    "        print('ㄚ，我被殺了!!')\n",
    "        self.name = None\n",
    "        self.age = None\n",
    "        \n",
    "    def __str__(self):\n",
    "        return '我是一個動物'\n",
    "       \n",
    "    def move(self, unit=1):  # method  , self 代表 本物件\n",
    "        \"\"\"這是動物的移動動作\"\"\"\n",
    "        print('{} moving {} units'.format(self.name, unit))\n",
    "        \n",
    "    def breath(self):\n",
    "        print('breathing')"
   ]
  },
  {
   "cell_type": "code",
   "execution_count": 20,
   "metadata": {},
   "outputs": [],
   "source": [
    "#共同的先繼承 Dog 繼承 Animal\n",
    "#             Cat 繼承 Animal\n",
    "\n",
    "class Dog(Animal):\n",
    "    pass\n",
    "\n",
    "class Cat(Animal):\n",
    "    pass"
   ]
  },
  {
   "cell_type": "code",
   "execution_count": 21,
   "metadata": {},
   "outputs": [],
   "source": [
    "dog = Dog(name='dog1',age= 1)\n",
    "cat = Cat('cat1', 2)"
   ]
  },
  {
   "cell_type": "code",
   "execution_count": 22,
   "metadata": {
    "scrolled": true
   },
   "outputs": [
    {
     "name": "stdout",
     "output_type": "stream",
     "text": [
      "dog1 moving 2 units\n",
      "cat1 moving 1 units\n"
     ]
    }
   ],
   "source": [
    "dog.move(2)\n",
    "cat.move()"
   ]
  },
  {
   "cell_type": "markdown",
   "metadata": {},
   "source": [
    "<font color=#0000FF>利用抽象化(由下而上)產生Animal，再利用延伸(由上而下)來延伸父類別所沒有的獨特method</font>"
   ]
  },
  {
   "cell_type": "code",
   "execution_count": 61,
   "metadata": {},
   "outputs": [],
   "source": [
    "class Dog(Animal):\n",
    "    \n",
    "    def bark(self):\n",
    "        print('旺旺旺')\n",
    "\n",
    "class Cat(Animal):\n",
    "    \n",
    "    def meow(self):\n",
    "        print('喵喵喵')"
   ]
  },
  {
   "cell_type": "code",
   "execution_count": 66,
   "metadata": {},
   "outputs": [
    {
     "name": "stdout",
     "output_type": "stream",
     "text": [
      "ㄚ，我被殺了!!\n",
      "ㄚ，我被殺了!!\n"
     ]
    }
   ],
   "source": [
    "dog = Dog('dog1', 1)\n",
    "cat = Cat('cat1', 2)"
   ]
  },
  {
   "cell_type": "code",
   "execution_count": 64,
   "metadata": {},
   "outputs": [
    {
     "name": "stdout",
     "output_type": "stream",
     "text": [
      "旺旺旺\n",
      "喵喵喵\n"
     ]
    }
   ],
   "source": [
    "dog.bark()\n",
    "cat.meow()"
   ]
  },
  {
   "cell_type": "markdown",
   "metadata": {},
   "source": [
    "<font color=#0000FF>Overriding(覆寫)</font>"
   ]
  },
  {
   "cell_type": "code",
   "execution_count": 20,
   "metadata": {},
   "outputs": [],
   "source": [
    "class Cat(Animal):\n",
    "    def meow(self):\n",
    "        print('喵喵喵')\n",
    "        \n",
    "    def move(self, unit=1):  # method  , self 代表 本物件\n",
    "        print('{} jumping {} units'.format(self.name, unit))  #複寫 把moving 改成 jumpimg 只改給cat用 "
   ]
  },
  {
   "cell_type": "code",
   "execution_count": 21,
   "metadata": {
    "scrolled": true
   },
   "outputs": [
    {
     "name": "stdout",
     "output_type": "stream",
     "text": [
      "ㄚ，我被殺了!!\n",
      "ㄚ，我被殺了!!\n",
      "ㄚ，我被殺了!!\n"
     ]
    }
   ],
   "source": [
    "dog = Dog('dog1', 1)\n",
    "cat = Cat('cat1', 2)\n",
    "an01 = Animal('animal',5)"
   ]
  },
  {
   "cell_type": "code",
   "execution_count": 22,
   "metadata": {
    "scrolled": true
   },
   "outputs": [
    {
     "name": "stdout",
     "output_type": "stream",
     "text": [
      "dog1 moving 1 units\n",
      "cat1 jumping 1 units\n",
      "animal moving 1 units\n"
     ]
    }
   ],
   "source": [
    "dog.move()\n",
    "cat.move()\n",
    "an01.move()  # 還是原本的 "
   ]
  },
  {
   "cell_type": "markdown",
   "metadata": {},
   "source": [
    "<font color=#0000FF>Multiple Inheritance(多重繼承)</font>"
   ]
  },
  {
   "cell_type": "code",
   "execution_count": 23,
   "metadata": {},
   "outputs": [],
   "source": [
    "class DogCat(Dog, Cat) :  # cat寫在後面 會用 cat的 jumping\n",
    "    pass"
   ]
  },
  {
   "cell_type": "code",
   "execution_count": 24,
   "metadata": {},
   "outputs": [],
   "source": [
    "dogCat = DogCat()"
   ]
  },
  {
   "cell_type": "code",
   "execution_count": 25,
   "metadata": {},
   "outputs": [
    {
     "name": "stdout",
     "output_type": "stream",
     "text": [
      "None jumping 1 units\n"
     ]
    }
   ],
   "source": [
    "dogCat.move()"
   ]
  },
  {
   "cell_type": "markdown",
   "metadata": {},
   "source": [
    "### 練習題"
   ]
  },
  {
   "cell_type": "markdown",
   "metadata": {},
   "source": [
    "#### 遊戲程式設計：按以下要求定義一個烏龜類和魚類並嘗試編寫遊戲\n",
    "\n",
    "- 假設遊戲場景為範圍（x,y）為0<=x<=10,0<=y<=10\n",
    "- 遊戲生成1只烏龜和10條魚\n",
    "- 它們的移動方向均隨機\n",
    "- 烏龜的最大移動能力為2（它可以隨機選擇1還是2移動），魚兒的最大移動能力是1\n",
    "- 當移動到場景邊緣，自動向反方向移動\n",
    "- 烏龜初始化體力為100（上限）\n",
    "- 烏龜每移動一次，體力消耗1\n",
    "- 當烏龜和魚座標重疊，烏龜吃掉魚，烏龜體力增加20\n",
    "- 魚暫不計算體力\n",
    "- 當烏龜體力值為0（掛掉）或者魚兒的數量為0遊戲結束"
   ]
  },
  {
   "cell_type": "code",
   "execution_count": 27,
   "metadata": {},
   "outputs": [],
   "source": [
    "import random\n",
    "\n",
    "class Turtle(object):\n",
    "    # 建構函式什麼時候執行? =---=====建立物件時執行\n",
    "    def __init__(self):  # self指的是例項化的物件；\n",
    "                         # 烏龜的屬性: x,y軸座標和體力值\n",
    "                         # 烏龜的x軸， 範圍1，10\n",
    "\n",
    "        self.x = random.randint(1, 10)\n",
    "        self.y = random.randint(1, 10)\n",
    "                             # 烏龜初始化體力為100\n",
    "        self.power = 100\n",
    "\n",
    "    # 類的方法:\n",
    "    def move(self):\n",
    "        # 烏龜的最大移動能力為2,規定為：[-2, -1, 0, 1, 2]\n",
    "        move_skill = [-2, -1, 0, 1, 2]\n",
    "        # 計算出烏龜的新座標(10, 12)\n",
    "        new_x = self.x + random.choice(move_skill)\n",
    "        new_y = self.y + random.choice(move_skill)\n",
    "\n",
    "        # 對於新座標進行檢驗， 是否合法， 如果不合法， 進行處理\n",
    "        self.x = self.is_vaild(new_x) #如果合法 移動到新的位置\n",
    "        self.y = self.is_vaild(new_y)\n",
    "\n",
    "        # 烏龜每移動一次，體力消耗1\n",
    "        self.power -= 1\n",
    "\n",
    "    def is_vaild(self, value):\n",
    "        \"\"\"\n",
    "        判斷傳進來的x軸座標或者y軸座標是否合法?\n",
    "\n",
    "        1). 如果合法， 直接返回傳進來的值；\n",
    "        2). value<=0;  =====> abs(value);\n",
    "        3). value > 10 ======> 10-(value-10);\n",
    "\n",
    "        :param value:\n",
    "        :return:\n",
    "        \"\"\"\n",
    "        if 1 <= value <= 10:\n",
    "            return value\n",
    "        elif value < 1:\n",
    "            return abs(value)\n",
    "        else:\n",
    "            return 10 - (value - 10)\n",
    "\n",
    "    def eat(self):\n",
    "        \"\"\"\n",
    "        當烏龜和魚座標重疊，烏龜吃掉魚，烏龜體力增加20\n",
    "        :return:\n",
    "        \"\"\"\n",
    "        self.power += 20\n"
   ]
  },
  {
   "cell_type": "code",
   "execution_count": 28,
   "metadata": {},
   "outputs": [],
   "source": [
    "class Fish(object):\n",
    "    # 建構函式什麼時候執行? =---=====建立物件時執行\n",
    "    def __init__(self):\n",
    "        # 魚的屬性: x, y軸座標\n",
    "        # 魚的x軸， 範圍1，10\n",
    "        self.x = random.randint(1, 10)\n",
    "        self.y = random.randint(1, 10)\n",
    "\n",
    "    # 類的方法:\n",
    "    def move(self):\n",
    "        # 魚的最大移動能力為1,[ -1, 0, 1]\n",
    "        move_skill = [-1, 0, 1]\n",
    "        # 計算出魚的新座標(10, 12)\n",
    "        new_x = self.x + random.choice(move_skill)\n",
    "        new_y = self.y + random.choice(move_skill)\n",
    "\n",
    "        # 對於新座標進行檢驗， 是否合法， 如果不合法， 進行處理\n",
    "        self.x = self.is_vaild(new_x)\n",
    "        self.y = self.is_vaild(new_y)\n",
    "\n",
    "    def is_vaild(self, value):\n",
    "        \"\"\"\n",
    "        判斷傳進來的x軸座標或者y軸座標是否合法?\n",
    "\n",
    "        1). 如果合法， 直接返回傳進來的值；\n",
    "        2). value<=0;  =====> abs(value);\n",
    "        3). value > 10 ======> 10-(value-10);\n",
    "\n",
    "        :param value:\n",
    "        :return:\n",
    "        \"\"\"\n",
    "        if 1 <= value <= 10:\n",
    "            return value\n",
    "        elif value < 1:\n",
    "            return abs(value)\n",
    "        else:\n",
    "            return 10 - (value - 10)\n",
    "\n",
    "\n"
   ]
  },
  {
   "cell_type": "code",
   "execution_count": 29,
   "metadata": {},
   "outputs": [
    {
     "name": "stdout",
     "output_type": "stream",
     "text": [
      "*************遊戲開始*************\n",
      "7 4\n",
      "烏龜沒有吃到魚，最新體力為99\n",
      "烏龜沒有吃到魚，最新體力為98\n",
      "魚被烏龜吃掉， 還剩9條魚.....\n",
      "烏龜的最新體力為117\n",
      "烏龜沒有吃到魚，最新體力為117\n",
      "烏龜沒有吃到魚，最新體力為116\n",
      "烏龜沒有吃到魚，最新體力為115\n",
      "烏龜沒有吃到魚，最新體力為114\n",
      "烏龜沒有吃到魚，最新體力為113\n",
      "魚被烏龜吃掉， 還剩8條魚.....\n",
      "烏龜的最新體力為132\n",
      "烏龜沒有吃到魚，最新體力為132\n",
      "烏龜沒有吃到魚，最新體力為131\n",
      "烏龜沒有吃到魚，最新體力為130\n",
      "烏龜沒有吃到魚，最新體力為129\n",
      "烏龜沒有吃到魚，最新體力為128\n",
      "烏龜沒有吃到魚，最新體力為127\n",
      "烏龜沒有吃到魚，最新體力為126\n",
      "烏龜沒有吃到魚，最新體力為125\n",
      "烏龜沒有吃到魚，最新體力為124\n",
      "烏龜沒有吃到魚，最新體力為123\n",
      "烏龜沒有吃到魚，最新體力為122\n",
      "魚被烏龜吃掉， 還剩7條魚.....\n",
      "烏龜的最新體力為141\n",
      "烏龜沒有吃到魚，最新體力為141\n",
      "烏龜沒有吃到魚，最新體力為140\n",
      "烏龜沒有吃到魚，最新體力為139\n",
      "烏龜沒有吃到魚，最新體力為138\n",
      "烏龜沒有吃到魚，最新體力為137\n",
      "烏龜沒有吃到魚，最新體力為136\n",
      "烏龜沒有吃到魚，最新體力為135\n",
      "烏龜沒有吃到魚，最新體力為134\n",
      "烏龜沒有吃到魚，最新體力為133\n",
      "烏龜沒有吃到魚，最新體力為132\n",
      "烏龜沒有吃到魚，最新體力為131\n",
      "烏龜沒有吃到魚，最新體力為130\n",
      "烏龜沒有吃到魚，最新體力為129\n",
      "烏龜沒有吃到魚，最新體力為128\n",
      "烏龜沒有吃到魚，最新體力為127\n",
      "烏龜沒有吃到魚，最新體力為126\n",
      "烏龜沒有吃到魚，最新體力為125\n",
      "烏龜沒有吃到魚，最新體力為124\n",
      "烏龜沒有吃到魚，最新體力為123\n",
      "烏龜沒有吃到魚，最新體力為122\n",
      "烏龜沒有吃到魚，最新體力為121\n",
      "烏龜沒有吃到魚，最新體力為120\n",
      "烏龜沒有吃到魚，最新體力為119\n",
      "烏龜沒有吃到魚，最新體力為118\n",
      "烏龜沒有吃到魚，最新體力為117\n",
      "烏龜沒有吃到魚，最新體力為116\n",
      "烏龜沒有吃到魚，最新體力為115\n",
      "烏龜沒有吃到魚，最新體力為114\n",
      "烏龜沒有吃到魚，最新體力為113\n",
      "烏龜沒有吃到魚，最新體力為112\n",
      "烏龜沒有吃到魚，最新體力為111\n",
      "烏龜沒有吃到魚，最新體力為110\n",
      "烏龜沒有吃到魚，最新體力為109\n",
      "魚被烏龜吃掉， 還剩6條魚.....\n",
      "烏龜的最新體力為128\n",
      "烏龜沒有吃到魚，最新體力為128\n",
      "烏龜沒有吃到魚，最新體力為127\n",
      "烏龜沒有吃到魚，最新體力為126\n",
      "烏龜沒有吃到魚，最新體力為125\n",
      "烏龜沒有吃到魚，最新體力為124\n",
      "魚被烏龜吃掉， 還剩5條魚.....\n",
      "烏龜的最新體力為143\n",
      "烏龜沒有吃到魚，最新體力為143\n",
      "魚被烏龜吃掉， 還剩4條魚.....\n",
      "烏龜的最新體力為162\n",
      "烏龜沒有吃到魚，最新體力為162\n",
      "烏龜沒有吃到魚，最新體力為161\n",
      "烏龜沒有吃到魚，最新體力為160\n",
      "烏龜沒有吃到魚，最新體力為159\n",
      "烏龜沒有吃到魚，最新體力為158\n",
      "烏龜沒有吃到魚，最新體力為157\n",
      "烏龜沒有吃到魚，最新體力為156\n",
      "烏龜沒有吃到魚，最新體力為155\n",
      "烏龜沒有吃到魚，最新體力為154\n",
      "烏龜沒有吃到魚，最新體力為153\n",
      "烏龜沒有吃到魚，最新體力為152\n",
      "烏龜沒有吃到魚，最新體力為151\n",
      "烏龜沒有吃到魚，最新體力為150\n",
      "烏龜沒有吃到魚，最新體力為149\n",
      "烏龜沒有吃到魚，最新體力為148\n",
      "烏龜沒有吃到魚，最新體力為147\n",
      "烏龜沒有吃到魚，最新體力為146\n",
      "烏龜沒有吃到魚，最新體力為145\n",
      "烏龜沒有吃到魚，最新體力為144\n",
      "烏龜沒有吃到魚，最新體力為143\n",
      "烏龜沒有吃到魚，最新體力為142\n",
      "烏龜沒有吃到魚，最新體力為141\n",
      "烏龜沒有吃到魚，最新體力為140\n",
      "烏龜沒有吃到魚，最新體力為139\n",
      "烏龜沒有吃到魚，最新體力為138\n",
      "烏龜沒有吃到魚，最新體力為137\n",
      "烏龜沒有吃到魚，最新體力為136\n",
      "烏龜沒有吃到魚，最新體力為135\n",
      "烏龜沒有吃到魚，最新體力為134\n",
      "烏龜沒有吃到魚，最新體力為133\n",
      "烏龜沒有吃到魚，最新體力為132\n",
      "烏龜沒有吃到魚，最新體力為131\n",
      "烏龜沒有吃到魚，最新體力為130\n",
      "烏龜沒有吃到魚，最新體力為129\n",
      "烏龜沒有吃到魚，最新體力為128\n",
      "烏龜沒有吃到魚，最新體力為127\n",
      "烏龜沒有吃到魚，最新體力為126\n",
      "烏龜沒有吃到魚，最新體力為125\n",
      "烏龜沒有吃到魚，最新體力為124\n",
      "烏龜沒有吃到魚，最新體力為123\n",
      "烏龜沒有吃到魚，最新體力為122\n",
      "烏龜沒有吃到魚，最新體力為121\n",
      "烏龜沒有吃到魚，最新體力為120\n",
      "烏龜沒有吃到魚，最新體力為119\n",
      "烏龜沒有吃到魚，最新體力為118\n",
      "烏龜沒有吃到魚，最新體力為117\n",
      "烏龜沒有吃到魚，最新體力為116\n",
      "烏龜沒有吃到魚，最新體力為115\n",
      "烏龜沒有吃到魚，最新體力為114\n",
      "烏龜沒有吃到魚，最新體力為113\n",
      "烏龜沒有吃到魚，最新體力為112\n",
      "烏龜沒有吃到魚，最新體力為111\n",
      "烏龜沒有吃到魚，最新體力為110\n",
      "烏龜沒有吃到魚，最新體力為109\n",
      "烏龜沒有吃到魚，最新體力為108\n",
      "烏龜沒有吃到魚，最新體力為107\n",
      "烏龜沒有吃到魚，最新體力為106\n",
      "烏龜沒有吃到魚，最新體力為105\n",
      "烏龜沒有吃到魚，最新體力為104\n",
      "烏龜沒有吃到魚，最新體力為103\n",
      "烏龜沒有吃到魚，最新體力為102\n",
      "烏龜沒有吃到魚，最新體力為101\n",
      "烏龜沒有吃到魚，最新體力為100\n",
      "烏龜沒有吃到魚，最新體力為99\n",
      "烏龜沒有吃到魚，最新體力為98\n",
      "烏龜沒有吃到魚，最新體力為97\n",
      "烏龜沒有吃到魚，最新體力為96\n",
      "烏龜沒有吃到魚，最新體力為95\n",
      "烏龜沒有吃到魚，最新體力為94\n",
      "烏龜沒有吃到魚，最新體力為93\n",
      "烏龜沒有吃到魚，最新體力為92\n",
      "烏龜沒有吃到魚，最新體力為91\n",
      "烏龜沒有吃到魚，最新體力為90\n",
      "烏龜沒有吃到魚，最新體力為89\n",
      "烏龜沒有吃到魚，最新體力為88\n",
      "烏龜沒有吃到魚，最新體力為87\n",
      "烏龜沒有吃到魚，最新體力為86\n",
      "烏龜沒有吃到魚，最新體力為85\n",
      "魚被烏龜吃掉， 還剩3條魚.....\n",
      "烏龜的最新體力為104\n",
      "烏龜沒有吃到魚，最新體力為104\n",
      "烏龜沒有吃到魚，最新體力為103\n",
      "烏龜沒有吃到魚，最新體力為102\n",
      "烏龜沒有吃到魚，最新體力為101\n",
      "烏龜沒有吃到魚，最新體力為100\n",
      "烏龜沒有吃到魚，最新體力為99\n",
      "烏龜沒有吃到魚，最新體力為98\n",
      "烏龜沒有吃到魚，最新體力為97\n",
      "烏龜沒有吃到魚，最新體力為96\n",
      "烏龜沒有吃到魚，最新體力為95\n",
      "烏龜沒有吃到魚，最新體力為94\n",
      "烏龜沒有吃到魚，最新體力為93\n",
      "烏龜沒有吃到魚，最新體力為92\n",
      "烏龜沒有吃到魚，最新體力為91\n",
      "烏龜沒有吃到魚，最新體力為90\n",
      "烏龜沒有吃到魚，最新體力為89\n",
      "魚被烏龜吃掉， 還剩2條魚.....\n",
      "烏龜的最新體力為108\n",
      "烏龜沒有吃到魚，最新體力為108\n",
      "烏龜沒有吃到魚，最新體力為107\n",
      "烏龜沒有吃到魚，最新體力為106\n",
      "烏龜沒有吃到魚，最新體力為105\n",
      "烏龜沒有吃到魚，最新體力為104\n",
      "烏龜沒有吃到魚，最新體力為103\n",
      "烏龜沒有吃到魚，最新體力為102\n",
      "烏龜沒有吃到魚，最新體力為101\n",
      "烏龜沒有吃到魚，最新體力為100\n",
      "烏龜沒有吃到魚，最新體力為99\n",
      "烏龜沒有吃到魚，最新體力為98\n",
      "烏龜沒有吃到魚，最新體力為97\n",
      "烏龜沒有吃到魚，最新體力為96\n",
      "烏龜沒有吃到魚，最新體力為95\n",
      "烏龜沒有吃到魚，最新體力為94\n",
      "烏龜沒有吃到魚，最新體力為93\n",
      "烏龜沒有吃到魚，最新體力為92\n",
      "烏龜沒有吃到魚，最新體力為91\n",
      "烏龜沒有吃到魚，最新體力為90\n",
      "烏龜沒有吃到魚，最新體力為89\n",
      "烏龜沒有吃到魚，最新體力為88\n",
      "烏龜沒有吃到魚，最新體力為87\n",
      "烏龜沒有吃到魚，最新體力為86\n",
      "烏龜沒有吃到魚，最新體力為85\n",
      "烏龜沒有吃到魚，最新體力為84\n",
      "烏龜沒有吃到魚，最新體力為83\n",
      "烏龜沒有吃到魚，最新體力為82\n",
      "烏龜沒有吃到魚，最新體力為81\n",
      "烏龜沒有吃到魚，最新體力為80\n",
      "烏龜沒有吃到魚，最新體力為79\n",
      "魚被烏龜吃掉， 還剩1條魚.....\n",
      "烏龜的最新體力為98\n",
      "烏龜沒有吃到魚，最新體力為98\n",
      "烏龜沒有吃到魚，最新體力為97\n",
      "烏龜沒有吃到魚，最新體力為96\n",
      "烏龜沒有吃到魚，最新體力為95\n",
      "烏龜沒有吃到魚，最新體力為94\n",
      "烏龜沒有吃到魚，最新體力為93\n",
      "烏龜沒有吃到魚，最新體力為92\n",
      "烏龜沒有吃到魚，最新體力為91\n",
      "烏龜沒有吃到魚，最新體力為90\n",
      "烏龜沒有吃到魚，最新體力為89\n",
      "烏龜沒有吃到魚，最新體力為88\n",
      "烏龜沒有吃到魚，最新體力為87\n",
      "烏龜沒有吃到魚，最新體力為86\n",
      "烏龜沒有吃到魚，最新體力為85\n",
      "烏龜沒有吃到魚，最新體力為84\n",
      "烏龜沒有吃到魚，最新體力為83\n",
      "烏龜沒有吃到魚，最新體力為82\n",
      "烏龜沒有吃到魚，最新體力為81\n",
      "烏龜沒有吃到魚，最新體力為80\n",
      "烏龜沒有吃到魚，最新體力為79\n",
      "烏龜沒有吃到魚，最新體力為78\n",
      "烏龜沒有吃到魚，最新體力為77\n",
      "烏龜沒有吃到魚，最新體力為76\n",
      "烏龜沒有吃到魚，最新體力為75\n",
      "烏龜沒有吃到魚，最新體力為74\n",
      "烏龜沒有吃到魚，最新體力為73\n",
      "烏龜沒有吃到魚，最新體力為72\n",
      "烏龜沒有吃到魚，最新體力為71\n",
      "烏龜沒有吃到魚，最新體力為70\n",
      "烏龜沒有吃到魚，最新體力為69\n",
      "烏龜沒有吃到魚，最新體力為68\n",
      "烏龜沒有吃到魚，最新體力為67\n",
      "烏龜沒有吃到魚，最新體力為66\n",
      "烏龜沒有吃到魚，最新體力為65\n",
      "烏龜沒有吃到魚，最新體力為64\n",
      "烏龜沒有吃到魚，最新體力為63\n",
      "烏龜沒有吃到魚，最新體力為62\n",
      "烏龜沒有吃到魚，最新體力為61\n",
      "烏龜沒有吃到魚，最新體力為60\n",
      "烏龜沒有吃到魚，最新體力為59\n",
      "烏龜沒有吃到魚，最新體力為58\n",
      "烏龜沒有吃到魚，最新體力為57\n",
      "烏龜沒有吃到魚，最新體力為56\n",
      "烏龜沒有吃到魚，最新體力為55\n",
      "烏龜沒有吃到魚，最新體力為54\n",
      "烏龜沒有吃到魚，最新體力為53\n",
      "烏龜沒有吃到魚，最新體力為52\n",
      "烏龜沒有吃到魚，最新體力為51\n",
      "烏龜沒有吃到魚，最新體力為50\n",
      "烏龜沒有吃到魚，最新體力為49\n",
      "烏龜沒有吃到魚，最新體力為48\n",
      "烏龜沒有吃到魚，最新體力為47\n",
      "烏龜沒有吃到魚，最新體力為46\n",
      "烏龜沒有吃到魚，最新體力為45\n",
      "烏龜沒有吃到魚，最新體力為44\n",
      "烏龜沒有吃到魚，最新體力為43\n",
      "烏龜沒有吃到魚，最新體力為42\n",
      "烏龜沒有吃到魚，最新體力為41\n",
      "烏龜沒有吃到魚，最新體力為40\n",
      "烏龜沒有吃到魚，最新體力為39\n",
      "烏龜沒有吃到魚，最新體力為38\n",
      "烏龜沒有吃到魚，最新體力為37\n",
      "烏龜沒有吃到魚，最新體力為36\n",
      "烏龜沒有吃到魚，最新體力為35\n",
      "烏龜沒有吃到魚，最新體力為34\n",
      "烏龜沒有吃到魚，最新體力為33\n",
      "烏龜沒有吃到魚，最新體力為32\n",
      "烏龜沒有吃到魚，最新體力為31\n",
      "烏龜沒有吃到魚，最新體力為30\n",
      "烏龜沒有吃到魚，最新體力為29\n",
      "烏龜沒有吃到魚，最新體力為28\n",
      "烏龜沒有吃到魚，最新體力為27\n",
      "烏龜沒有吃到魚，最新體力為26\n",
      "烏龜沒有吃到魚，最新體力為25\n",
      "烏龜沒有吃到魚，最新體力為24\n",
      "烏龜沒有吃到魚，最新體力為23\n",
      "烏龜沒有吃到魚，最新體力為22\n",
      "烏龜沒有吃到魚，最新體力為21\n",
      "烏龜沒有吃到魚，最新體力為20\n",
      "烏龜沒有吃到魚，最新體力為19\n",
      "烏龜沒有吃到魚，最新體力為18\n",
      "烏龜沒有吃到魚，最新體力為17\n",
      "烏龜沒有吃到魚，最新體力為16\n",
      "烏龜沒有吃到魚，最新體力為15\n",
      "烏龜沒有吃到魚，最新體力為14\n",
      "烏龜沒有吃到魚，最新體力為13\n",
      "烏龜沒有吃到魚，最新體力為12\n",
      "烏龜沒有吃到魚，最新體力為11\n",
      "烏龜沒有吃到魚，最新體力為10\n",
      "烏龜沒有吃到魚，最新體力為9\n",
      "烏龜沒有吃到魚，最新體力為8\n",
      "烏龜沒有吃到魚，最新體力為7\n",
      "烏龜沒有吃到魚，最新體力為6\n",
      "烏龜沒有吃到魚，最新體力為5\n",
      "烏龜沒有吃到魚，最新體力為4\n",
      "烏龜沒有吃到魚，最新體力為3\n",
      "烏龜沒有吃到魚，最新體力為2\n",
      "烏龜沒有吃到魚，最新體力為1\n",
      "烏龜沒有吃到魚，最新體力為0\n",
      "烏龜沒有體力了， Game over......\n"
     ]
    }
   ],
   "source": [
    "def main():\n",
    "    # 建立一個烏龜;\n",
    "    turtle = Turtle()\n",
    "    print(turtle.x, turtle.y)\n",
    "\n",
    "    # for迴圈建立10個魚\n",
    "    # fishs = []\n",
    "    # for i in range(10):\n",
    "    #     fishs.append(Fish())\n",
    "\n",
    "    # 建立10個魚物件;\n",
    "    fishs = [Fish() for i in range(10)]\n",
    "\n",
    "    # 遊戲開始\n",
    "    while True:\n",
    "        # 判斷遊戲是否結束?( 當烏龜體力值為0（掛掉）或者魚兒的數量為0遊戲結束)\n",
    "        if turtle.power <= 0:\n",
    "            print(\"烏龜沒有體力了， Game over......\")\n",
    "            break\n",
    "        elif len(fishs) == 0:\n",
    "            print(\"魚被吃光， Game over......\")\n",
    "            break\n",
    "        else:\n",
    "            # 遊戲沒有結束. 烏龜和魚隨機移動\n",
    "            turtle.move()\n",
    "            # 魚移動\n",
    "            for fish in fishs:\n",
    "                fish.move()\n",
    "                # 判斷魚是否被烏龜吃掉？\n",
    "                # 當烏龜和魚座標重疊，烏龜吃掉魚，烏龜體力增加20\n",
    "                if turtle.x == fish.x and turtle.y == fish.y:\n",
    "                    turtle.eat()\n",
    "                    # 刪除被烏龜吃掉的魚\n",
    "                    fishs.remove(fish)\n",
    "                    print(\"魚被烏龜吃掉， 還剩%d條魚.....\" % (len(fishs)))\n",
    "                    print(\"烏龜的最新體力為%s\" % (turtle.power))\n",
    "\n",
    "            # 烏龜跟10個魚都比較結束後， 沒有發現吃到一個魚， 才執行， 跟for是一塊的；\n",
    "            else:\n",
    "                print(\"烏龜沒有吃到魚，最新體力為%s\" % (turtle.power))\n",
    "\n",
    "\n",
    "# pygame\n",
    "if __name__ == \"__main__\":\n",
    "    print(\"遊戲開始\".center(30, \"*\"))\n",
    "    main()"
   ]
  },
  {
   "cell_type": "markdown",
   "metadata": {},
   "source": [
    "#### 合併成一個"
   ]
  },
  {
   "cell_type": "code",
   "execution_count": 1098,
   "metadata": {},
   "outputs": [],
   "source": [
    "import random\n",
    "class Animal(object):\n",
    "    \"\"\"\n",
    "    將烏龜和魚的共同特性抽象出來的類\n",
    "    \"\"\"\n",
    "    def __init__(self):\n",
    "        self.x = random.randint(1,10)\n",
    "        self.y = random.randint(1,10)\n",
    "\n",
    "    def move(self,move_skill):\n",
    "        new_x = self.x + random.choice(move_skill)\n",
    "        new_y = self.y + random.choice(move_skill)\n",
    "        self.x = self.is_vaild(new_x)\n",
    "        self.y = self.is_vaild(new_y)\n",
    "\n",
    "    def is_vaild(self,value):\n",
    "        if 1 <= value <= 10:\n",
    "            return value\n",
    "        elif value<1:\n",
    "            return abs(value)\n",
    "        elif value >10:\n",
    "            return 10-(value-10)\n",
    "\n",
    "\n",
    "class Turtle(Animal):\n",
    "\n",
    "    def __init__(self):\n",
    "        super(Turtle,self).__init__()\n",
    "        self.power=100\n",
    "\n",
    "    def move(self,move_skill= (-2,-1,0,1,2)):\n",
    "        super(Turtle,self).move(move_skill)\n",
    "        self.power -= 1\n",
    "    def eat(self):\n",
    "        self.power += 20\n",
    "\n"
   ]
  },
  {
   "cell_type": "code",
   "execution_count": 1099,
   "metadata": {},
   "outputs": [],
   "source": [
    "class Fishs(Animal):\n",
    "\n",
    "    def move(self,move_skill=(-1,0,1)):\n",
    "        super(Fishs,self).move(move_skill)\n",
    "\n",
    "\n"
   ]
  },
  {
   "cell_type": "code",
   "execution_count": 1100,
   "metadata": {},
   "outputs": [],
   "source": [
    "def main():\n",
    "    turtle = Turtle()\n",
    "    fishs = [Fishs() for i in range(10)]\n",
    "    while True:\n",
    "        if turtle.power <= 0:\n",
    "            print('烏龜沒有體力了')\n",
    "            break\n",
    "        elif len(fishs) == 0:\n",
    "            print('魚被吃光了！')\n",
    "            break\n",
    "        else:\n",
    "            turtle.move()\n",
    "            for fish in fishs:\n",
    "                fish.move()\n",
    "                if turtle.x == fish.x and turtle.y == fish.y:\n",
    "                    turtle.eat()\n",
    "                    fishs.remove(fish)\n",
    "                    print('魚被烏龜吃了！')\n",
    "                    print('烏龜當前體力值為：%d' %(turtle.power))\n",
    "            else:\n",
    "                print('烏龜沒有吃到魚，烏龜體力值：%d' %(turtle.power))\n",
    "\n",
    "\n"
   ]
  },
  {
   "cell_type": "code",
   "execution_count": 1101,
   "metadata": {
    "scrolled": false
   },
   "outputs": [
    {
     "name": "stdout",
     "output_type": "stream",
     "text": [
      "**********************遊戲開始！***********************\n",
      "烏龜沒有吃到魚，烏龜體力值：99\n",
      "烏龜沒有吃到魚，烏龜體力值：98\n",
      "烏龜沒有吃到魚，烏龜體力值：97\n",
      "烏龜沒有吃到魚，烏龜體力值：96\n",
      "烏龜沒有吃到魚，烏龜體力值：95\n",
      "烏龜沒有吃到魚，烏龜體力值：94\n",
      "烏龜沒有吃到魚，烏龜體力值：93\n",
      "烏龜沒有吃到魚，烏龜體力值：92\n",
      "烏龜沒有吃到魚，烏龜體力值：91\n",
      "烏龜沒有吃到魚，烏龜體力值：90\n",
      "烏龜沒有吃到魚，烏龜體力值：89\n",
      "烏龜沒有吃到魚，烏龜體力值：88\n",
      "烏龜沒有吃到魚，烏龜體力值：87\n",
      "烏龜沒有吃到魚，烏龜體力值：86\n",
      "烏龜沒有吃到魚，烏龜體力值：85\n",
      "烏龜沒有吃到魚，烏龜體力值：84\n",
      "烏龜沒有吃到魚，烏龜體力值：83\n",
      "烏龜沒有吃到魚，烏龜體力值：82\n",
      "烏龜沒有吃到魚，烏龜體力值：81\n",
      "烏龜沒有吃到魚，烏龜體力值：80\n",
      "烏龜沒有吃到魚，烏龜體力值：79\n",
      "烏龜沒有吃到魚，烏龜體力值：78\n",
      "烏龜沒有吃到魚，烏龜體力值：77\n",
      "烏龜沒有吃到魚，烏龜體力值：76\n",
      "烏龜沒有吃到魚，烏龜體力值：75\n",
      "魚被烏龜吃了！\n",
      "烏龜當前體力值為：94\n",
      "烏龜沒有吃到魚，烏龜體力值：94\n",
      "烏龜沒有吃到魚，烏龜體力值：93\n",
      "烏龜沒有吃到魚，烏龜體力值：92\n",
      "烏龜沒有吃到魚，烏龜體力值：91\n",
      "烏龜沒有吃到魚，烏龜體力值：90\n",
      "烏龜沒有吃到魚，烏龜體力值：89\n",
      "烏龜沒有吃到魚，烏龜體力值：88\n",
      "烏龜沒有吃到魚，烏龜體力值：87\n",
      "烏龜沒有吃到魚，烏龜體力值：86\n",
      "烏龜沒有吃到魚，烏龜體力值：85\n",
      "烏龜沒有吃到魚，烏龜體力值：84\n",
      "烏龜沒有吃到魚，烏龜體力值：83\n",
      "烏龜沒有吃到魚，烏龜體力值：82\n",
      "烏龜沒有吃到魚，烏龜體力值：81\n",
      "烏龜沒有吃到魚，烏龜體力值：80\n",
      "烏龜沒有吃到魚，烏龜體力值：79\n",
      "烏龜沒有吃到魚，烏龜體力值：78\n",
      "烏龜沒有吃到魚，烏龜體力值：77\n",
      "烏龜沒有吃到魚，烏龜體力值：76\n",
      "烏龜沒有吃到魚，烏龜體力值：75\n",
      "烏龜沒有吃到魚，烏龜體力值：74\n",
      "魚被烏龜吃了！\n",
      "烏龜當前體力值為：93\n",
      "烏龜沒有吃到魚，烏龜體力值：93\n",
      "烏龜沒有吃到魚，烏龜體力值：92\n",
      "烏龜沒有吃到魚，烏龜體力值：91\n",
      "烏龜沒有吃到魚，烏龜體力值：90\n",
      "烏龜沒有吃到魚，烏龜體力值：89\n",
      "魚被烏龜吃了！\n",
      "烏龜當前體力值為：108\n",
      "烏龜沒有吃到魚，烏龜體力值：108\n",
      "烏龜沒有吃到魚，烏龜體力值：107\n",
      "烏龜沒有吃到魚，烏龜體力值：106\n",
      "烏龜沒有吃到魚，烏龜體力值：105\n",
      "烏龜沒有吃到魚，烏龜體力值：104\n",
      "烏龜沒有吃到魚，烏龜體力值：103\n",
      "魚被烏龜吃了！\n",
      "烏龜當前體力值為：122\n",
      "烏龜沒有吃到魚，烏龜體力值：122\n",
      "烏龜沒有吃到魚，烏龜體力值：121\n",
      "烏龜沒有吃到魚，烏龜體力值：120\n",
      "烏龜沒有吃到魚，烏龜體力值：119\n",
      "烏龜沒有吃到魚，烏龜體力值：118\n",
      "烏龜沒有吃到魚，烏龜體力值：117\n",
      "烏龜沒有吃到魚，烏龜體力值：116\n",
      "烏龜沒有吃到魚，烏龜體力值：115\n",
      "烏龜沒有吃到魚，烏龜體力值：114\n",
      "烏龜沒有吃到魚，烏龜體力值：113\n",
      "烏龜沒有吃到魚，烏龜體力值：112\n",
      "烏龜沒有吃到魚，烏龜體力值：111\n",
      "烏龜沒有吃到魚，烏龜體力值：110\n",
      "烏龜沒有吃到魚，烏龜體力值：109\n",
      "烏龜沒有吃到魚，烏龜體力值：108\n",
      "烏龜沒有吃到魚，烏龜體力值：107\n",
      "烏龜沒有吃到魚，烏龜體力值：106\n",
      "烏龜沒有吃到魚，烏龜體力值：105\n",
      "烏龜沒有吃到魚，烏龜體力值：104\n",
      "烏龜沒有吃到魚，烏龜體力值：103\n",
      "烏龜沒有吃到魚，烏龜體力值：102\n",
      "烏龜沒有吃到魚，烏龜體力值：101\n",
      "烏龜沒有吃到魚，烏龜體力值：100\n",
      "烏龜沒有吃到魚，烏龜體力值：99\n",
      "烏龜沒有吃到魚，烏龜體力值：98\n",
      "烏龜沒有吃到魚，烏龜體力值：97\n",
      "烏龜沒有吃到魚，烏龜體力值：96\n",
      "烏龜沒有吃到魚，烏龜體力值：95\n",
      "烏龜沒有吃到魚，烏龜體力值：94\n",
      "烏龜沒有吃到魚，烏龜體力值：93\n",
      "烏龜沒有吃到魚，烏龜體力值：92\n",
      "烏龜沒有吃到魚，烏龜體力值：91\n",
      "烏龜沒有吃到魚，烏龜體力值：90\n",
      "烏龜沒有吃到魚，烏龜體力值：89\n",
      "烏龜沒有吃到魚，烏龜體力值：88\n",
      "烏龜沒有吃到魚，烏龜體力值：87\n",
      "烏龜沒有吃到魚，烏龜體力值：86\n",
      "烏龜沒有吃到魚，烏龜體力值：85\n",
      "烏龜沒有吃到魚，烏龜體力值：84\n",
      "烏龜沒有吃到魚，烏龜體力值：83\n",
      "魚被烏龜吃了！\n",
      "烏龜當前體力值為：102\n",
      "烏龜沒有吃到魚，烏龜體力值：102\n",
      "魚被烏龜吃了！\n",
      "烏龜當前體力值為：121\n",
      "烏龜沒有吃到魚，烏龜體力值：121\n",
      "烏龜沒有吃到魚，烏龜體力值：120\n",
      "烏龜沒有吃到魚，烏龜體力值：119\n",
      "烏龜沒有吃到魚，烏龜體力值：118\n",
      "烏龜沒有吃到魚，烏龜體力值：117\n",
      "烏龜沒有吃到魚，烏龜體力值：116\n",
      "烏龜沒有吃到魚，烏龜體力值：115\n",
      "烏龜沒有吃到魚，烏龜體力值：114\n",
      "烏龜沒有吃到魚，烏龜體力值：113\n",
      "烏龜沒有吃到魚，烏龜體力值：112\n",
      "烏龜沒有吃到魚，烏龜體力值：111\n",
      "烏龜沒有吃到魚，烏龜體力值：110\n",
      "烏龜沒有吃到魚，烏龜體力值：109\n",
      "烏龜沒有吃到魚，烏龜體力值：108\n",
      "烏龜沒有吃到魚，烏龜體力值：107\n",
      "烏龜沒有吃到魚，烏龜體力值：106\n",
      "烏龜沒有吃到魚，烏龜體力值：105\n",
      "烏龜沒有吃到魚，烏龜體力值：104\n",
      "魚被烏龜吃了！\n",
      "烏龜當前體力值為：123\n",
      "烏龜沒有吃到魚，烏龜體力值：123\n",
      "烏龜沒有吃到魚，烏龜體力值：122\n",
      "烏龜沒有吃到魚，烏龜體力值：121\n",
      "烏龜沒有吃到魚，烏龜體力值：120\n",
      "烏龜沒有吃到魚，烏龜體力值：119\n",
      "烏龜沒有吃到魚，烏龜體力值：118\n",
      "烏龜沒有吃到魚，烏龜體力值：117\n",
      "烏龜沒有吃到魚，烏龜體力值：116\n",
      "烏龜沒有吃到魚，烏龜體力值：115\n",
      "烏龜沒有吃到魚，烏龜體力值：114\n",
      "烏龜沒有吃到魚，烏龜體力值：113\n",
      "烏龜沒有吃到魚，烏龜體力值：112\n",
      "烏龜沒有吃到魚，烏龜體力值：111\n",
      "烏龜沒有吃到魚，烏龜體力值：110\n",
      "烏龜沒有吃到魚，烏龜體力值：109\n",
      "烏龜沒有吃到魚，烏龜體力值：108\n",
      "烏龜沒有吃到魚，烏龜體力值：107\n",
      "烏龜沒有吃到魚，烏龜體力值：106\n",
      "烏龜沒有吃到魚，烏龜體力值：105\n",
      "烏龜沒有吃到魚，烏龜體力值：104\n",
      "烏龜沒有吃到魚，烏龜體力值：103\n",
      "烏龜沒有吃到魚，烏龜體力值：102\n",
      "烏龜沒有吃到魚，烏龜體力值：101\n",
      "烏龜沒有吃到魚，烏龜體力值：100\n",
      "烏龜沒有吃到魚，烏龜體力值：99\n",
      "烏龜沒有吃到魚，烏龜體力值：98\n",
      "烏龜沒有吃到魚，烏龜體力值：97\n",
      "烏龜沒有吃到魚，烏龜體力值：96\n",
      "烏龜沒有吃到魚，烏龜體力值：95\n",
      "烏龜沒有吃到魚，烏龜體力值：94\n",
      "烏龜沒有吃到魚，烏龜體力值：93\n",
      "烏龜沒有吃到魚，烏龜體力值：92\n",
      "烏龜沒有吃到魚，烏龜體力值：91\n",
      "烏龜沒有吃到魚，烏龜體力值：90\n",
      "烏龜沒有吃到魚，烏龜體力值：89\n",
      "烏龜沒有吃到魚，烏龜體力值：88\n",
      "烏龜沒有吃到魚，烏龜體力值：87\n",
      "烏龜沒有吃到魚，烏龜體力值：86\n",
      "烏龜沒有吃到魚，烏龜體力值：85\n",
      "烏龜沒有吃到魚，烏龜體力值：84\n",
      "烏龜沒有吃到魚，烏龜體力值：83\n",
      "烏龜沒有吃到魚，烏龜體力值：82\n",
      "烏龜沒有吃到魚，烏龜體力值：81\n",
      "烏龜沒有吃到魚，烏龜體力值：80\n",
      "烏龜沒有吃到魚，烏龜體力值：79\n",
      "烏龜沒有吃到魚，烏龜體力值：78\n",
      "烏龜沒有吃到魚，烏龜體力值：77\n",
      "烏龜沒有吃到魚，烏龜體力值：76\n",
      "烏龜沒有吃到魚，烏龜體力值：75\n",
      "魚被烏龜吃了！\n",
      "烏龜當前體力值為：94\n",
      "烏龜沒有吃到魚，烏龜體力值：94\n",
      "烏龜沒有吃到魚，烏龜體力值：93\n",
      "烏龜沒有吃到魚，烏龜體力值：92\n",
      "烏龜沒有吃到魚，烏龜體力值：91\n",
      "烏龜沒有吃到魚，烏龜體力值：90\n",
      "烏龜沒有吃到魚，烏龜體力值：89\n",
      "烏龜沒有吃到魚，烏龜體力值：88\n",
      "烏龜沒有吃到魚，烏龜體力值：87\n",
      "烏龜沒有吃到魚，烏龜體力值：86\n",
      "烏龜沒有吃到魚，烏龜體力值：85\n",
      "烏龜沒有吃到魚，烏龜體力值：84\n",
      "烏龜沒有吃到魚，烏龜體力值：83\n",
      "烏龜沒有吃到魚，烏龜體力值：82\n",
      "烏龜沒有吃到魚，烏龜體力值：81\n",
      "烏龜沒有吃到魚，烏龜體力值：80\n",
      "烏龜沒有吃到魚，烏龜體力值：79\n",
      "烏龜沒有吃到魚，烏龜體力值：78\n",
      "烏龜沒有吃到魚，烏龜體力值：77\n",
      "烏龜沒有吃到魚，烏龜體力值：76\n",
      "烏龜沒有吃到魚，烏龜體力值：75\n",
      "烏龜沒有吃到魚，烏龜體力值：74\n",
      "烏龜沒有吃到魚，烏龜體力值：73\n",
      "烏龜沒有吃到魚，烏龜體力值：72\n",
      "烏龜沒有吃到魚，烏龜體力值：71\n",
      "烏龜沒有吃到魚，烏龜體力值：70\n",
      "烏龜沒有吃到魚，烏龜體力值：69\n",
      "烏龜沒有吃到魚，烏龜體力值：68\n",
      "烏龜沒有吃到魚，烏龜體力值：67\n",
      "烏龜沒有吃到魚，烏龜體力值：66\n",
      "烏龜沒有吃到魚，烏龜體力值：65\n",
      "烏龜沒有吃到魚，烏龜體力值：64\n",
      "烏龜沒有吃到魚，烏龜體力值：63\n",
      "烏龜沒有吃到魚，烏龜體力值：62\n",
      "烏龜沒有吃到魚，烏龜體力值：61\n",
      "烏龜沒有吃到魚，烏龜體力值：60\n",
      "烏龜沒有吃到魚，烏龜體力值：59\n",
      "烏龜沒有吃到魚，烏龜體力值：58\n",
      "烏龜沒有吃到魚，烏龜體力值：57\n",
      "烏龜沒有吃到魚，烏龜體力值：56\n",
      "烏龜沒有吃到魚，烏龜體力值：55\n",
      "烏龜沒有吃到魚，烏龜體力值：54\n",
      "烏龜沒有吃到魚，烏龜體力值：53\n",
      "烏龜沒有吃到魚，烏龜體力值：52\n",
      "烏龜沒有吃到魚，烏龜體力值：51\n",
      "烏龜沒有吃到魚，烏龜體力值：50\n",
      "烏龜沒有吃到魚，烏龜體力值：49\n",
      "烏龜沒有吃到魚，烏龜體力值：48\n",
      "烏龜沒有吃到魚，烏龜體力值：47\n",
      "烏龜沒有吃到魚，烏龜體力值：46\n",
      "烏龜沒有吃到魚，烏龜體力值：45\n",
      "烏龜沒有吃到魚，烏龜體力值：44\n",
      "烏龜沒有吃到魚，烏龜體力值：43\n",
      "烏龜沒有吃到魚，烏龜體力值：42\n",
      "烏龜沒有吃到魚，烏龜體力值：41\n",
      "烏龜沒有吃到魚，烏龜體力值：40\n",
      "烏龜沒有吃到魚，烏龜體力值：39\n",
      "烏龜沒有吃到魚，烏龜體力值：38\n",
      "烏龜沒有吃到魚，烏龜體力值：37\n",
      "烏龜沒有吃到魚，烏龜體力值：36\n",
      "烏龜沒有吃到魚，烏龜體力值：35\n",
      "烏龜沒有吃到魚，烏龜體力值：34\n",
      "烏龜沒有吃到魚，烏龜體力值：33\n",
      "烏龜沒有吃到魚，烏龜體力值：32\n",
      "烏龜沒有吃到魚，烏龜體力值：31\n",
      "烏龜沒有吃到魚，烏龜體力值：30\n",
      "烏龜沒有吃到魚，烏龜體力值：29\n",
      "烏龜沒有吃到魚，烏龜體力值：28\n",
      "烏龜沒有吃到魚，烏龜體力值：27\n",
      "烏龜沒有吃到魚，烏龜體力值：26\n",
      "烏龜沒有吃到魚，烏龜體力值：25\n",
      "烏龜沒有吃到魚，烏龜體力值：24\n",
      "烏龜沒有吃到魚，烏龜體力值：23\n",
      "烏龜沒有吃到魚，烏龜體力值：22\n",
      "烏龜沒有吃到魚，烏龜體力值：21\n",
      "烏龜沒有吃到魚，烏龜體力值：20\n",
      "烏龜沒有吃到魚，烏龜體力值：19\n",
      "烏龜沒有吃到魚，烏龜體力值：18\n",
      "烏龜沒有吃到魚，烏龜體力值：17\n",
      "烏龜沒有吃到魚，烏龜體力值：16\n",
      "烏龜沒有吃到魚，烏龜體力值：15\n",
      "烏龜沒有吃到魚，烏龜體力值：14\n",
      "烏龜沒有吃到魚，烏龜體力值：13\n",
      "烏龜沒有吃到魚，烏龜體力值：12\n",
      "烏龜沒有吃到魚，烏龜體力值：11\n",
      "烏龜沒有吃到魚，烏龜體力值：10\n",
      "烏龜沒有吃到魚，烏龜體力值：9\n",
      "烏龜沒有吃到魚，烏龜體力值：8\n",
      "烏龜沒有吃到魚，烏龜體力值：7\n",
      "烏龜沒有吃到魚，烏龜體力值：6\n",
      "烏龜沒有吃到魚，烏龜體力值：5\n",
      "烏龜沒有吃到魚，烏龜體力值：4\n",
      "魚被烏龜吃了！\n",
      "烏龜當前體力值為：23\n",
      "烏龜沒有吃到魚，烏龜體力值：23\n",
      "烏龜沒有吃到魚，烏龜體力值：22\n",
      "烏龜沒有吃到魚，烏龜體力值：21\n",
      "烏龜沒有吃到魚，烏龜體力值：20\n",
      "烏龜沒有吃到魚，烏龜體力值：19\n",
      "烏龜沒有吃到魚，烏龜體力值：18\n",
      "烏龜沒有吃到魚，烏龜體力值：17\n",
      "烏龜沒有吃到魚，烏龜體力值：16\n",
      "烏龜沒有吃到魚，烏龜體力值：15\n",
      "烏龜沒有吃到魚，烏龜體力值：14\n",
      "烏龜沒有吃到魚，烏龜體力值：13\n",
      "烏龜沒有吃到魚，烏龜體力值：12\n",
      "烏龜沒有吃到魚，烏龜體力值：11\n",
      "烏龜沒有吃到魚，烏龜體力值：10\n",
      "烏龜沒有吃到魚，烏龜體力值：9\n",
      "烏龜沒有吃到魚，烏龜體力值：8\n",
      "烏龜沒有吃到魚，烏龜體力值：7\n",
      "烏龜沒有吃到魚，烏龜體力值：6\n",
      "烏龜沒有吃到魚，烏龜體力值：5\n",
      "烏龜沒有吃到魚，烏龜體力值：4\n",
      "烏龜沒有吃到魚，烏龜體力值：3\n",
      "烏龜沒有吃到魚，烏龜體力值：2\n",
      "烏龜沒有吃到魚，烏龜體力值：1\n",
      "烏龜沒有吃到魚，烏龜體力值：0\n",
      "烏龜沒有體力了\n"
     ]
    }
   ],
   "source": [
    "if __name__ == '__main__':\n",
    "    print('遊戲開始！'.center(50,'*'))\n",
    "    main()"
   ]
  },
  {
   "cell_type": "markdown",
   "metadata": {},
   "source": [
    "老鼠走迷宮是遞迴求解的基本題型，我們在二維陣列中使用2表示迷宮牆壁，使用1來表示老鼠的行走路徑，試以程式求出由入口至出口的路徑。\n",
    "* 解法\n",
    "老鼠的走法有上、左、下、右四個方向，在每前進一格之後就選一個方向前進，無法前進時退回選擇下一個可前進方向，如此在陣列中依序測試四個方向，直到 走到出口為止，這是遞迴的基本題，請直接看程式應就可以理解。 \n"
   ]
  },
  {
   "cell_type": "code",
   "execution_count": 33,
   "metadata": {},
   "outputs": [
    {
     "name": "stdout",
     "output_type": "stream",
     "text": [
      "███████\n",
      "█◇        █\n",
      "█◇█  █  █\n",
      "█◇◇█  ██\n",
      "██◇█  ██\n",
      "█  ◇◇◇◇█\n",
      "███████\n"
     ]
    }
   ],
   "source": [
    "class Mouse:\n",
    "    @staticmethod\n",
    "    def go(maze, start, end):\n",
    "        route = []\n",
    "        Mouse.visit(maze, start, end, route)\n",
    "        return route\n",
    "    \n",
    "    @staticmethod\n",
    "    def visit(maze, pt, end, route):\n",
    "        if Mouse.isVisitable(maze, pt, route):\n",
    "            route.append(pt)\n",
    "            if not Mouse.isEnd(route, end) and \\\n",
    "               not Mouse.tryOneOut(maze, pt, end, route):\n",
    "                route.pop()\n",
    "        return Mouse.isEnd(route, end)\n",
    "    \n",
    "    @staticmethod\n",
    "    def isVisitable(maze, pt, route):\n",
    "        return maze[pt[0]][pt[1]] == 0 and pt not in route\n",
    "        \n",
    "    @staticmethod\n",
    "    def isEnd(route, end):\n",
    "        return end in route\n",
    "        \n",
    "    @staticmethod\n",
    "    def tryOneOut(maze, pt, end, route):\n",
    "        return Mouse.visit(maze, (pt[0], pt[1] + 1), end, route) or \\\n",
    "               Mouse.visit(maze, (pt[0] + 1, pt[1]), end, route) or \\\n",
    "               Mouse.visit(maze, (pt[0], pt[1] - 1), end, route) or \\\n",
    "               Mouse.visit(maze, (pt[0] - 1, pt[1]), end, route)\n",
    "               \n",
    "maze = [[2, 2, 2, 2, 2, 2, 2],\n",
    "        [2, 0, 0, 0, 0, 0, 2],\n",
    "        [2, 0, 2, 0, 2, 0, 2],\n",
    "        [2, 0, 0, 2, 0, 2, 2],\n",
    "        [2, 2, 0, 2, 0, 2, 2],\n",
    "        [2, 0, 0, 0, 0, 0, 2],\n",
    "        [2, 2, 2, 2, 2, 2, 2]]\n",
    "        \n",
    "for pt in Mouse.go(maze, (1, 1), (5, 5)):\n",
    "    maze[pt[0]][pt[1]] = 1\n",
    "\n",
    "if maze[5][5] == 0:\n",
    "    print(\"找不到出口\")\n",
    "\n",
    "for row in maze:\n",
    "    for block in row:\n",
    "        {\n",
    "            0 : lambda: print(\"  \", end=\"\"),\n",
    "            1 : lambda: print(\"◇\", end=\"\"),\n",
    "            2 : lambda: print(\"█\",end=\"\"),\n",
    "        }[block]()\n",
    "    print()"
   ]
  },
  {
   "cell_type": "markdown",
   "metadata": {},
   "source": [
    " * 9-1 餐館：創建一個名為 Restaurant 的類，其方法init()設置兩個屬性： restaurant_name 和 cuisine_type。創建一個名為 describe_restaurant()的方法和一個 名為 open_restaurant()的方法，其中前者列印前述兩項資訊，而後者列印一條消息， 指出餐館正在營業。 根據這個類創建一個名為 restaurant 的實例，分別列印其兩個屬性，再調用前述 兩個方法。\n",
    " * 9-2 三家餐館：根據你為完成練習 9-1 而編寫的類創建三個實例，並對每個實例調 用方法 describe_restaurant()。\n",
    "\n",
    "\n"
   ]
  },
  {
   "cell_type": "code",
   "execution_count": 1111,
   "metadata": {
    "scrolled": true
   },
   "outputs": [
    {
     "name": "stdout",
     "output_type": "stream",
     "text": [
      "Yun Shui Yao\n",
      "chinese food\n",
      "This restaurant is open\n",
      "\n",
      "AB\n",
      "fire\n",
      "This restaurant is open\n",
      "\n",
      "MDL\n",
      "cheap\n",
      "This restaurant is open\n",
      "\n"
     ]
    }
   ],
   "source": [
    "class Restaurant():\n",
    "    \n",
    "    def __init__(self,restaurant_name,cuisine_type):\n",
    "        \n",
    "        self.restaurant_name = restaurant_name\n",
    "        self.cuisine_type = cuisine_type\n",
    "        \n",
    "    def describe_restaurant(self):\n",
    "        print(self.restaurant_name)\n",
    "        print(self.cuisine_type)\n",
    "        \n",
    "    def open_restaurant(self):\n",
    "        print(\"This restaurant is open\")\n",
    "        \n",
    "one = Restaurant('Yun Shui Yao','chinese food')\n",
    "one.describe_restaurant()\n",
    "one.open_restaurant()\n",
    "print()\n",
    "A=Restaurant('AB','fire')\n",
    "A.describe_restaurant()\n",
    "A.open_restaurant()\n",
    "print()\n",
    "M=Restaurant('MDL','cheap')\n",
    "M.describe_restaurant()\n",
    "M.open_restaurant()\n",
    "print()\n"
   ]
  },
  {
   "cell_type": "markdown",
   "metadata": {},
   "source": [
    " * 9-3 用戶：創建一個名為 User 的類，其中包含屬性 first_name 和 last_name，還有 使用者簡介通常會存儲的其他幾個屬性。在類 User 中定義一個名為 describe_user()的方 法，它列印使用者資訊摘要；再定義一個名為 greet_user()的方法，它向用戶發出個性化 的問候。"
   ]
  },
  {
   "cell_type": "code",
   "execution_count": 1146,
   "metadata": {},
   "outputs": [],
   "source": [
    "class User():\n",
    "\t\"\"\"docstring for User\"\"\"\n",
    "\tdef __init__(self, first_name,last_name):\n",
    "\t\tself.first_name = first_name\n",
    "\t\tself.last_name = last_name\n",
    " \n",
    "\tdef describe_name(self):\n",
    "\t\tprint(\"fitst_name :\",self.first_name,\" last_name: \",self.last_name)\n",
    " \n",
    "\tdef greet_user(self):\n",
    "\t\tprint(\"hello, \",self.first_name,\" \",self.last_name)\n",
    " \n",
    "\n"
   ]
  },
  {
   "cell_type": "code",
   "execution_count": 1147,
   "metadata": {},
   "outputs": [
    {
     "name": "stdout",
     "output_type": "stream",
     "text": [
      "fitst_name : Alice  last_name:  Tom\n",
      "hello,  Alice   Tom\n",
      "fitst_name : Mary  last_name:  Bob\n",
      "hello,  Mary   Bob\n",
      "fitst_name : Tony  last_name:  Belbert\n",
      "hello,  Tony   Belbert\n"
     ]
    }
   ],
   "source": [
    "user1 = User('Alice','Tom')\n",
    "user1.describe_name()\n",
    "user1.greet_user()\n",
    "user2 = User(\"Mary\",'Bob')\n",
    "user2.describe_name()\n",
    "user2.greet_user()\n",
    "user3 = User(\"Tony\",'Belbert')\n",
    "user3.describe_name()\n",
    "user3.greet_user()"
   ]
  },
  {
   "cell_type": "markdown",
   "metadata": {},
   "source": [
    "* 9-4 就餐人數：在為完成練習 9-1 而編寫的程式中，添加一個名為 number_served \n",
    "  的屬性，並將其預設值設置為 0。根據這個類創建一個名為 restaurant 的實例；列印有 \n",
    "  多少人在這家餐館就餐過，然後修改這個值並再次列印它。 \n",
    "  添加一個名為 set_number_served()的方法，它讓你能夠設置就餐人數。調用這個 \n",
    "  方法並向它傳遞一個值，然後再次列印這個值。 \n",
    "  添加一個名為 increment_number_served()的方法，它讓你能夠將就餐人數遞增。 \n",
    "  調用這個方法並向它傳遞一個這樣的值：你認為這家餐館每天可能接待的就餐人數。\n"
   ]
  },
  {
   "cell_type": "code",
   "execution_count": 1124,
   "metadata": {},
   "outputs": [
    {
     "name": "stdout",
     "output_type": "stream",
     "text": [
      "Yun Shui Yao\n",
      "chinese food\n",
      "This restaurant is open\n",
      "This restaurant can serve 10 people\n",
      "This restaurant can serve 60 people\n"
     ]
    }
   ],
   "source": [
    "class Restaurant():\n",
    "    \n",
    "    def __init__(self,restaurant_name,cuisine_type):\n",
    "        \n",
    "        self.restaurant_name = restaurant_name\n",
    "        self.cuisine_type = cuisine_type\n",
    "        self.number_served=0\n",
    "        \n",
    "    def describe_restaurant(self):\n",
    "        print(self.restaurant_name)\n",
    "        print(self.cuisine_type)\n",
    "        \n",
    "    def open_restaurant(self):\n",
    "        print(\"This restaurant is open\")\n",
    "        \n",
    "    def serve_number(self):\n",
    "        print(\"This restaurant can serve \"+str(self.number_served)+\" people\")\n",
    "        \n",
    "    def set_number_served(self,n):\n",
    "        self.number_served=n\n",
    "        \n",
    "    def increment_number_served(self,n):\n",
    "        self.number_served+=n\n",
    "        return self.number_served\n",
    "    \n",
    "    \n",
    "one = Restaurant('Yun Shui Yao','chinese food')\n",
    "one.describe_restaurant()\n",
    "one.open_restaurant()\n",
    "one.set_number_served(10)\n",
    "one.serve_number()\n",
    "one.increment_number_served(50)\n",
    "one.serve_number()\n"
   ]
  },
  {
   "cell_type": "markdown",
   "metadata": {},
   "source": [
    "* 9-5 嘗試登錄次數 ：\n",
    "\n",
    "  在為完成練習9-3而編寫的User 類中， 添加一個名為login_attempts 的屬性。\n",
    "  編寫一個名為increment_login_attempts() 的方法，它將屬性login_attempts 的值加1。\n",
    "  再編寫一個名為reset_login_attempts() 的方法， 它將屬性login_attempts 的值重置為0。\n",
    "  根據User 類創建一個實例， 再調用方法increment_login_attempts() 多次。\n",
    "  列印屬性login_attempts 的值， 確認它被正確地遞增； 然後， 調用方法      reset_login_attempts() ， 並再次列印屬性\n",
    "  login_attempts 的值， 確認它被重置為0。\n"
   ]
  },
  {
   "cell_type": "code",
   "execution_count": 45,
   "metadata": {},
   "outputs": [],
   "source": [
    "class User():\n",
    " \n",
    "    def __init__(self,first_name,last_name,age):\n",
    "        self.first_name = first_name\n",
    "        self.last_name = last_name\n",
    "        self.age = age\n",
    "        self.login_attempts = 0\n",
    " \n",
    "    def increment_login_attempts(self):\n",
    "        self.login_attempts += 1\n",
    " \n",
    "    def reset_login_attepmts(self):\n",
    "        self.login_attempts = 0\n",
    " \n",
    " \n",
    "    def describe_user(self):\n",
    "        print(\"first.name: \" , self.first_name,'last.name:',self.last_name)\n",
    " \n",
    "    def greet_user(self):\n",
    " \n",
    "        if self.age < 5:\n",
    "            print(\"ni shi yi ge xiao hai\")\n",
    " \n",
    "        elif self.age < 16:\n",
    "            print(\"ni shi yi ge qing nian\")\n",
    " \n",
    "        else:\n",
    "            self.age < 25\n",
    "            print(\"ni shi yi ge cheng nian\")\n",
    " \n"
   ]
  },
  {
   "cell_type": "code",
   "execution_count": 52,
   "metadata": {},
   "outputs": [
    {
     "name": "stdout",
     "output_type": "stream",
     "text": [
      "login_attempts: 1\n",
      "login_attempts: 2\n",
      "login_attempts: 3\n",
      "login_attempts: 0\n",
      "first.name:  Annie last.name: yu\n",
      "ni shi yi ge cheng nian\n"
     ]
    }
   ],
   "source": [
    "user = User('Annie',\"yu\",19)\n",
    "\n",
    "#登第一次\n",
    "user.increment_login_attempts()\n",
    "print(\"login_attempts:\",user.login_attempts)\n",
    "\n",
    "#登第二次\n",
    "user.increment_login_attempts()\n",
    "print(\"login_attempts:\",user.login_attempts)\n",
    "\n",
    "#登第三次\n",
    "user.increment_login_attempts()\n",
    "print(\"login_attempts:\",user.login_attempts)\n",
    "\n",
    "#重設\n",
    "user.reset_login_attepmts()\n",
    "print(\"login_attempts:\",user.login_attempts)\n",
    "\n",
    "user.describe_user()\n",
    "\n",
    "user.greet_user()\n"
   ]
  },
  {
   "cell_type": "markdown",
   "metadata": {},
   "source": [
    " * 9.6霜淇淋小店是一種特殊的餐館。編寫一個名為IceCreamStand 的類，讓它繼承你為完成練習9-1或練習9-4而編寫的Restaurant 類。這兩個版本的Restaurant 類都可以，挑選你更喜歡的那個即可。添加一個名為flavors 的屬性，用於存儲一個由各種口味的霜淇淋組成的列表。編寫一個顯示這些霜淇淋的方法。創建一個IceCreamStand 實例，並調用這個方法。"
   ]
  },
  {
   "cell_type": "code",
   "execution_count": 1143,
   "metadata": {},
   "outputs": [],
   "source": [
    "class  Restraurant():\n",
    "\t\"\"\"docstring for  Restraurant\"\"\"\n",
    "    \n",
    "\tdef __init__(self, restaurant_name,cuisine_type):\n",
    "\t\tself.restaurant_name = restaurant_name\n",
    "\t\tself.cuisine_type = cuisine_type\n",
    "\t\tself.number_served = 0\n",
    "        \n",
    "\tdef describe_restaurant(self):\n",
    "\t\tprint(self.restaurant_name,\":\",self.cuisine_type)\n",
    "        \n",
    "\tdef open_restaurant(self):\n",
    "\t\tprint(\"Is opening\")\n",
    "        \n",
    "\tdef set_number_served(self,number):\n",
    "\t\tself.number_served = number\n",
    "        \n",
    "\tdef get_number_served(self):\n",
    "\t\treturn self.number_served\n",
    "    \n",
    "\tdef increment_number_served(self,number):\n",
    "        \n",
    "\t\twhile self.number_served < number:\n",
    "\t\t\tprint(self.number_served)\n",
    "\t\t\tself.number_served +=1\n"
   ]
  },
  {
   "cell_type": "code",
   "execution_count": 1128,
   "metadata": {},
   "outputs": [],
   "source": [
    "#繼承 Restraurant\n",
    "\n",
    "class IceCreamStand(Restraurant):\n",
    "    \n",
    "\tdef __init__(self, restaurant_name,cuisine_type):\n",
    "\t\tsuper().__init__(restaurant_name,cuisine_type)\n",
    "\t\tself.flavors = ['banaa','apple','orange']\n",
    "        \n",
    "\tdef show_icecram(self):\n",
    "\t\tfor s in self.flavors:\n",
    "\t\t\tprint(s)\n"
   ]
  },
  {
   "cell_type": "code",
   "execution_count": 1129,
   "metadata": {
    "scrolled": true
   },
   "outputs": [
    {
     "name": "stdout",
     "output_type": "stream",
     "text": [
      "banaa\n",
      "apple\n",
      "orange\n",
      "Hang : Big\n"
     ]
    }
   ],
   "source": [
    "icecream = IceCreamStand('Hang','Big')\n",
    "icecream.show_icecram()\n",
    "icecream.describe_restaurant()"
   ]
  },
  {
   "cell_type": "markdown",
   "metadata": {},
   "source": [
    "* 9.7管理員是一種特殊的用戶。編寫一個名為Admin 的類，讓它繼承你為完成練習9-3或練習9-5而編寫的User 類。添加一個名為privileges 的屬性，用 於存儲一個由字串（如\"can add post\" 、\"can delete post\" 、\"can ban user\" 等）組成的列表。編寫一個名為show_privileges() 的方法，它 顯示管理員的許可權。創建一個Admin 實例，並調用這個方法。 "
   ]
  },
  {
   "cell_type": "code",
   "execution_count": 1135,
   "metadata": {},
   "outputs": [
    {
     "name": "stdout",
     "output_type": "stream",
     "text": [
      "Jackson Yee is 18 years old,and he's phone number is 1234567890.\n",
      "Hello,Jackson Yee !\n",
      "The power of admin are:\n",
      "can add post\n",
      "can delete post\n",
      "can ban user\n"
     ]
    }
   ],
   "source": [
    "class User(object):\n",
    "    \n",
    "\tdef __init__(self,first_name,last_name,age,phone_number):\n",
    "\t\tself.first_name=first_name\n",
    "\t\tself.last_name=last_name\n",
    "\t\tself.age=age\n",
    "\t\tself.phone_number=phone_number\n",
    " \n",
    "\tdef describe_user(self):\n",
    "\t\tfull_name=self.first_name+\" \"+self.last_name\n",
    "\t\tprint(full_name+\" is \"+str(user_one.age)+\" years old,and he's phone number is \"+user_one.phone_number+\".\")\n",
    "        \n",
    "\tdef greet_user(self):\n",
    "\t\tfull_name=self.first_name+\" \"+self.last_name\n",
    "\t\tprint(\"Hello,\"+full_name+\" !\")\n",
    "        \n",
    "### 管理員\n",
    "\n",
    "class Admin(User):\n",
    "    \n",
    "\tdef __init__(self,first_name,last_name,age,phone_number):\n",
    "\t\tsuper(Admin,self).__init__(first_name,last_name,age,phone_number)  #super 調用父類的法--這裡都跟user一樣\n",
    "\t\tself.privileges=[\"can add post\",\"can delete post\",\"can ban user\"]  # 在加上去\n",
    "        \n",
    "\tdef show_privileges(self):\n",
    "\t\tprint(\"The power of admin are:\")\n",
    "\t\tfor privilege in self.privileges:\n",
    "\t\t\tprint(privilege)\n",
    "            \n",
    "            \n",
    "            \n",
    "            \n",
    "user_one=User('Jackson','Yee',18,'1234567890')\n",
    "user_one.describe_user()\n",
    "user_one.greet_user()\n",
    " \n",
    "admin=Admin('Jackson','Yee',18,'1234567890')\n",
    "admin.show_privileges()\n"
   ]
  },
  {
   "cell_type": "markdown",
   "metadata": {},
   "source": [
    "  * 9.8編寫一個名為Privileges 的類，它只有一個屬性——privileges ，其中存儲了練習9-7 所說的字串清單。將方法show_privileges() 移到這 個類中。在Admin 類中，將一個Privileges 實例用作其屬性。創建一個Admin 實例，並使用方法show_privileges() 來顯示其許可權。"
   ]
  },
  {
   "cell_type": "code",
   "execution_count": 1136,
   "metadata": {},
   "outputs": [
    {
     "name": "stdout",
     "output_type": "stream",
     "text": [
      "Jackson Yee is 18 years old,and he's phone number is 1234567890.\n",
      "Hello,Jackson Yee !\n",
      "The power of admin are:\n",
      "can add post\n",
      "can delete post\n",
      "can ban user\n"
     ]
    }
   ],
   "source": [
    "#!/iser/bin/env python\n",
    "# coding:utf-8\n",
    "class User(object):\n",
    "    \n",
    "\tdef __init__(self,first_name,last_name,age,phone_number):\n",
    "\t\tself.first_name=first_name\n",
    "\t\tself.last_name=last_name\n",
    "\t\tself.age=age\n",
    "\t\tself.phone_number=phone_number\n",
    " \n",
    "\tdef describe_user(self):\n",
    "\t\tfull_name=self.first_name+\" \"+self.last_name\n",
    "\t\tprint(full_name+\" is \"+str(user_one.age)+\" years old,and he's phone number is \"+user_one.phone_number+\".\")\n",
    "        \n",
    "\tdef greet_user(self):\n",
    "\t\tfull_name=self.first_name+\" \"+self.last_name\n",
    "\t\tprint(\"Hello,\"+full_name+\" !\")\n",
    "        \n",
    "        \n",
    "        \n",
    "class Admin(User):\n",
    "    \n",
    "\tdef __init__(self,first_name,last_name,age,phone_number):\n",
    "\t\tsuper(Admin,self).__init__(first_name,last_name,age,phone_number)\n",
    "\t\tself.privileges=Priviliges()\n",
    "        \n",
    "        \n",
    "class Priviliges():\n",
    "    \n",
    "\tdef __init__(self):\n",
    "\t\tself.privileges=[\"can add post\",\"can delete post\",\"can ban user\"]\n",
    "        \n",
    "\tdef show_privileges(self):\n",
    "\t\tprint(\"The power of admin are:\")\n",
    "\t\tfor privilege in self.privileges:\n",
    "\t\t\tprint(privilege)\n",
    "            \n",
    "            \n",
    "user_one=User('Jackson','Yee',18,'1234567890')\n",
    "user_one.describe_user()\n",
    "user_one.greet_user()\n",
    " \n",
    "admin=Admin('Jackson','Yee',18,'1234567890')\n",
    "admin.privileges.show_privileges()\n"
   ]
  },
  {
   "cell_type": "markdown",
   "metadata": {},
   "source": [
    "* 9-9 電瓶升級 ：在本節最後一個electric_car.py版本中，給Battery 類添加一個名為upgrade_battery() 的方法。這個方法檢查電瓶容量，如果它不是85，就將它 設置為85。創建一輛電瓶容量為預設值的電動汽車，調用方法get_range() ，然後對電瓶進行升級，並再次調用get_range() 。你會看到這輛汽車的續航里程增 加了"
   ]
  },
  {
   "cell_type": "code",
   "execution_count": 1148,
   "metadata": {},
   "outputs": [],
   "source": [
    "class Car():\n",
    "    \"\"\"docstring for Car\"\"\"\n",
    "\tdef __init__(self, make,model,year):\n",
    "\t\tself.make = make\n",
    "\t\tself.model = model\n",
    "\t\tself.year = year\n",
    "\t\tself.odometer_reading = 0\n",
    " \n",
    "\tdef get_descriptive_name(self):\n",
    "\t\tlong_name = str(self.year) + ' ' + self.make + ' ' + self.model\n",
    "\t\treturn long_name\n",
    "\t#打印里程消息\n",
    "\tdef read_odometer(self):\n",
    "\t\tprint(\"This car has \" + str(self.odometer_reading) + \" miles on it.\")\n",
    "\t#更新里程数\n",
    "\tdef update_odometer(self,milegeage):\n",
    "\t\tif milegeage >= self.odometer_reading:\n",
    "\t\t\tself.odometer_reading = milegeage\n",
    "\t\telse:\n",
    "\t\t\tprint(\"You can't roll back an odometer!\")\n",
    " \n",
    "\tdef  increment_odometer(self,miles):\n",
    "\t\tself.odometer_reading += miles\n",
    "class Battery():\n",
    "\t\"\"\"docstring for Battery\"\"\"\n",
    "\tdef __init__(self, battery_size=70):\n",
    "\t\tself.battery_size = battery_size\n",
    "\tdef describe_battery(self):\n",
    "\t\tprint(\"This car has a \" + str(self.battery_size) + \"-kWh battery\")\n",
    "\tdef upgrade_battery(self):\n",
    "\t\tif self.battery_size!=85:\n",
    "\t\t\tself.battery_size = 85\n",
    "\tdef get_range(self):\n",
    "\t\tif self.battery_size == 70:\n",
    "\t\t\trange = 240\n",
    "\t\telif self.battery_size == 85:\n",
    "\t\t\trange = 270\n",
    "\t\tmessage = \"This car can go approximately \" + str(range)\n",
    "\t\tmessage += \"miles on a full charge.\"\n",
    "\t\tprint(message)\n",
    "\t\tself.upgrade_battery()\n",
    " \n",
    " \n",
    "class ElectricCar(Car):\n",
    "\t\"\"\"docstring for ElectricCar\"\"\"\n",
    "\tdef __init__(self, make,model,year):\n",
    "\t\tsuper().__init__(make,model,year)\n",
    "\t\tself.battery_size = Battery()\n",
    "\tdef describe_battery(self):\n",
    "\t\tself.battery_size.battery_size()\n",
    "\tdef get_range(self):\n",
    "\t\tself.battery_size.get_range()\n",
    "\n"
   ]
  },
  {
   "cell_type": "code",
   "execution_count": 1149,
   "metadata": {},
   "outputs": [
    {
     "name": "stdout",
     "output_type": "stream",
     "text": [
      "This car can go approximately 240miles on a full charge.\n",
      "This car can go approximately 270miles on a full charge.\n"
     ]
    }
   ],
   "source": [
    "my_tesla = ElectricCar('tesla','model s',2016)\n",
    "my_tesla.get_range()\n",
    "my_tesla.get_range()"
   ]
  },
  {
   "cell_type": "markdown",
   "metadata": {},
   "source": [
    "* 11-1城市和國家：編寫一個函數，它接受兩個形參：一個城市名和一個國家名。這個函數返回一個格式為City, Country 的字串，如Santiago, Chile 。將這個函數存儲在一個名為city_functions.py的模組中。創建一個名為test_cities.py的程式，對剛編寫的函數進行測試（別忘了，你需要導入模組unittest 以及要測試的函數）。編寫一個名為test_city_country() 的方法，核實使用類似於'santiago' 和'chile' 這樣的值來調用前述函數時，得到的字串是正確的。運行test_cities.py ，確認測試test_city_country() 通過了。"
   ]
  },
  {
   "cell_type": "code",
   "execution_count": 1158,
   "metadata": {},
   "outputs": [],
   "source": [
    "import unittest\n",
    " \n",
    "def get_location(country, city):\n",
    "    return country.title() + ', ' + city.title();\n",
    " \n",
    "class LocationTestCase(unittest.TestCase):\n",
    "    def test_city_country(self):\n",
    "        location = get_location('santiago', 'chile')\n",
    "        self.assertEqual(location, 'Santiago, Chile')\n",
    " \n"
   ]
  },
  {
   "cell_type": "markdown",
   "metadata": {},
   "source": [
    "* 11-2 人口數量 ：修改前面的函數，使其包含第三個必不可少的形參population ，並返回一個格式為City, Country - population xxx 的字串，\n",
    "如Santiago, Chile - population 5000000 。運行test_cities.py，確認測試test_city_country() 未通過。\n",
    "修改上述函數，將形參population 設置為可選的。再次運行test_cities.py，確認測試test_city_country() 又通過了。\n",
    "再編寫一個名為test_city_country_population() 的測試，核實可以使用類似於’santiago’ 、‘chile’ 和’population=5000000’ 這樣的值來調用\n",
    "這個函數。再次運行test_cities.py，確認測試test_city_country_population() 通過了。\n"
   ]
  },
  {
   "cell_type": "code",
   "execution_count": 53,
   "metadata": {},
   "outputs": [],
   "source": [
    "import unittest\n",
    "\n",
    "def get_location(country, city, population):\n",
    "    return country.title() + ', ' + city.title() + ' - population ' + population;\n",
    " \n",
    "class LocationTestCase(unittest.TestCase):\n",
    "    def test_city_country_population(self):\n",
    "        location = get_location('santiago', 'chile', '5000000')\n",
    "        self.assertEqual(location, 'Santiago, Chile - population 5000000')\n",
    " \n"
   ]
  },
  {
   "cell_type": "markdown",
   "metadata": {},
   "source": [
    "* 11-3  雇員：編寫一個名為Employee 的類，其方法__init__() 接受名、姓和年薪，並將它們都存儲在屬性中。編寫一個名為give_raise() 的方法，它默認將年薪增加5000美元，但也能夠接受其他的年薪增加量。為Employee 編寫一個測試用例，其中包含兩個測試方法：test_give_default_raise() 和test_give_custom_raise() 。使用方法setUp() ，以免在每個測試方法中都創建新的雇員實例。運行這個測試用例，確認兩個測試都通過了。\n"
   ]
  },
  {
   "cell_type": "code",
   "execution_count": 1156,
   "metadata": {},
   "outputs": [],
   "source": [
    "import unittest\n",
    " \n",
    "class Employee():\n",
    "    def __init__(self, first_name, last_name, salary):\n",
    "        self.first_name = first_name\n",
    "        self.last_name = last_name\n",
    "        self.salary = salary\n",
    "\t\n",
    "    def give_raise(self, inc = 5000):\n",
    "        self.salary += inc\n",
    " \n",
    "class TestRaise(unittest.TestCase):\n",
    "    def setUp(self):\n",
    "        self.employee = Employee('Lelouch', 'Lamperouge', 5000)\n",
    "\t\t\n",
    "    def test_give_default_raise(self):\n",
    "        self.employee.give_raise()\n",
    "        self.assertEqual(self.employee.salary, 10000)\n",
    "\t\t\n",
    "    def test_give_custom_raise(self):\n",
    "        self.employee.give_raise(10000)\n",
    "        self.assertEqual(self.employee.salary, 15000)\n",
    "\t\n",
    "\n"
   ]
  },
  {
   "cell_type": "markdown",
   "metadata": {},
   "source": [
    "1. 模擬一副撲克牌，包含兩個類，一個是卡片類（Card），一個是 撲克（PuKe），PuKe類包含52張牌，13個大小（AJQK，2-10），4張花色(\"redheart\", \"spades\", \"diamond\", \"club\").\n",
    "2. 卡片類包含兩個屬性，rank(等級)、color(花色)，以及重寫了__eq__方法，判斷卡片的相同性，為後續PuKe類中的__getitem__,__setitem__方法中的判斷做鋪墊；\n",
    "3.  實現PuKe中的__len__,__getitem__,__setitem__,__contains__等方法。\n"
   ]
  },
  {
   "cell_type": "code",
   "execution_count": 1,
   "metadata": {},
   "outputs": [],
   "source": [
    "##card\n",
    "\n",
    "class Card:\n",
    "    def __init__(self, rank, color):\n",
    "        self.rank = rank\n",
    "        self.color = color\n",
    "    def __repr__(self):\n",
    "        return \"Card rank is %s and color is  %s\" % (self.rank, self.color)\n",
    " \n",
    "    def __eq__(self, other):\n",
    "        if isinstance(other, (tuple, )):\n",
    "            if self.rank == other[0] and self.color == other[1]:\n",
    "                return True\n",
    "        if isinstance(other, (Card,)):\n",
    "            if self.rank == other.rank and self.color == other.color:\n",
    "                return True\n",
    " \n",
    "        return False"
   ]
  },
  {
   "cell_type": "code",
   "execution_count": 2,
   "metadata": {},
   "outputs": [],
   "source": [
    "class PuKe:\n",
    "    ranks = [str(rank) for rank in range(2, 11)] + list(\"JQKA\")\n",
    "    colors = [\"redheart\", \"spades\", \"diamond\", \"club\"]\n",
    " \n",
    "    def __init__(self):\n",
    "        \"\"\"\n",
    "        初始化生成牌\n",
    "        \"\"\"\n",
    "        self._cards = [Card(rank, color) for rank in PuKe.ranks\n",
    "                for color in PuKe.colors]\n",
    " \n",
    "    def __len__(self):\n",
    "        \"\"\"\n",
    "        返回一副扑克中牌的张数\n",
    "        :return:\n",
    "        \"\"\"\n",
    " \n",
    "        return len(self._cards)\n",
    " \n",
    "    def __getitem__(self, item):\n",
    "        \"\"\"\n",
    "        获得某一张牌\n",
    "        :param item:\n",
    "        :return:\n",
    "        \"\"\"\n",
    "        assert item is not None\n",
    "        result = None\n",
    "        if isinstance(item, (int,)):\n",
    "            result = self._cards[item]\n",
    "        elif isinstance(item, (tuple,)):\n",
    "            result = []\n",
    "            for card in self._cards:\n",
    "                if card == item:\n",
    "                    return card\n",
    " \n",
    "        return result\n",
    " \n",
    "    def __setitem__(self, key, value):\n",
    "        \"\"\"\n",
    "        设置某一项的值\n",
    "        :param key: rank+color,为一元组\n",
    "        :param value: other rank+color，元组\n",
    "        :return: void\n",
    "        \"\"\"\n",
    "        assert  key is not None\n",
    "        if not isinstance(key, (tuple,)) or not isinstance(value, (tuple,)):\n",
    "            return\n",
    "        for card in self._cards:\n",
    "            if card == key:\n",
    "                card.rank = value[0]\n",
    "                card.color = value[1]\n",
    "                return\n",
    "    def __contains__(self, item):\n",
    "        \"\"\"\n",
    "        判断是否包含一个牌\n",
    "        :param item: 元组\n",
    "        :return:\n",
    "        \"\"\"\n",
    "        for card in self._cards:\n",
    "            if card == item:\n",
    "                return True\n",
    "        return False"
   ]
  },
  {
   "cell_type": "code",
   "execution_count": 5,
   "metadata": {},
   "outputs": [
    {
     "name": "stdout",
     "output_type": "stream",
     "text": [
      "一副牌的张数为52 \n",
      "牌分别为：\n",
      "Card rank is 2 and color is  redheart\n",
      "Card rank is 2 and color is  spades\n",
      "Card rank is 2 and color is  diamond\n",
      "Card rank is 2 and color is  club\n",
      "Card rank is 3 and color is  redheart\n",
      "Card rank is 3 and color is  spades\n",
      "Card rank is 3 and color is  diamond\n",
      "Card rank is 3 and color is  club\n",
      "Card rank is 4 and color is  redheart\n",
      "Card rank is 4 and color is  spades\n",
      "Card rank is 4 and color is  diamond\n",
      "Card rank is 4 and color is  club\n",
      "Card rank is 5 and color is  redheart\n",
      "Card rank is 5 and color is  spades\n",
      "Card rank is 5 and color is  diamond\n",
      "Card rank is 5 and color is  club\n",
      "Card rank is 6 and color is  redheart\n",
      "Card rank is 6 and color is  spades\n",
      "Card rank is 6 and color is  diamond\n",
      "Card rank is 6 and color is  club\n",
      "Card rank is 7 and color is  redheart\n",
      "Card rank is 7 and color is  spades\n",
      "Card rank is 7 and color is  diamond\n",
      "Card rank is 7 and color is  club\n",
      "Card rank is 8 and color is  redheart\n",
      "Card rank is 8 and color is  spades\n",
      "Card rank is 8 and color is  diamond\n",
      "Card rank is 8 and color is  club\n",
      "Card rank is 9 and color is  redheart\n",
      "Card rank is 9 and color is  spades\n",
      "Card rank is 9 and color is  diamond\n",
      "Card rank is 9 and color is  club\n",
      "Card rank is 10 and color is  redheart\n",
      "Card rank is 10 and color is  spades\n",
      "Card rank is 10 and color is  diamond\n",
      "Card rank is 10 and color is  club\n",
      "Card rank is J and color is  redheart\n",
      "Card rank is J and color is  spades\n",
      "Card rank is J and color is  diamond\n",
      "Card rank is J and color is  club\n",
      "Card rank is Q and color is  redheart\n",
      "Card rank is Q and color is  spades\n",
      "Card rank is Q and color is  diamond\n",
      "Card rank is Q and color is  club\n",
      "Card rank is K and color is  redheart\n",
      "Card rank is K and color is  spades\n",
      "Card rank is K and color is  diamond\n",
      "Card rank is K and color is  club\n",
      "Card rank is A and color is  redheart\n",
      "Card rank is A and color is  spades\n",
      "Card rank is A and color is  diamond\n",
      "Card rank is A and color is  club\n",
      "第5张牌的rank为3,花色为：spades\n",
      "A牌的花色分别为:spades\n",
      "随机选张牌\n",
      "Card rank is 3 and color is  spades\n",
      "Card rank is 2 and color is  redheart\n",
      "Card rank is 2 and color is  spades\n",
      "Card rank is 2 and color is  diamond\n",
      "Card rank is 2 and color is  club\n",
      "Card rank is 3 and color is  redheart\n",
      "Card rank is 3 and color is  spades\n",
      "Card rank is 3 and color is  diamond\n",
      "Card rank is 3 and color is  club\n",
      "Card rank is 4 and color is  redheart\n",
      "Card rank is 4 and color is  spades\n",
      "Card rank is 4 and color is  diamond\n",
      "Card rank is 4 and color is  club\n",
      "Card rank is 5 and color is  redheart\n",
      "Card rank is 5 and color is  spades\n",
      "Card rank is 5 and color is  diamond\n",
      "Card rank is 5 and color is  club\n",
      "Card rank is 6 and color is  redheart\n",
      "Card rank is 6 and color is  spades\n",
      "Card rank is 6 and color is  diamond\n",
      "Card rank is 6 and color is  club\n",
      "Card rank is 7 and color is  redheart\n",
      "Card rank is 7 and color is  gagagwer\n",
      "Card rank is 7 and color is  diamond\n",
      "Card rank is 7 and color is  club\n",
      "Card rank is 8 and color is  redheart\n",
      "Card rank is 8 and color is  spades\n",
      "Card rank is 8 and color is  diamond\n",
      "Card rank is 8 and color is  club\n",
      "Card rank is 9 and color is  redheart\n",
      "Card rank is 9 and color is  spades\n",
      "Card rank is 9 and color is  diamond\n",
      "Card rank is 9 and color is  club\n",
      "Card rank is 10 and color is  redheart\n",
      "Card rank is 10 and color is  spades\n",
      "Card rank is 10 and color is  diamond\n",
      "Card rank is 10 and color is  club\n",
      "Card rank is J and color is  redheart\n",
      "Card rank is J and color is  spades\n",
      "Card rank is J and color is  diamond\n",
      "Card rank is J and color is  club\n",
      "Card rank is Q and color is  redheart\n",
      "Card rank is Q and color is  spades\n",
      "Card rank is Q and color is  diamond\n",
      "Card rank is Q and color is  club\n",
      "Card rank is K and color is  redheart\n",
      "Card rank is K and color is  spades\n",
      "Card rank is K and color is  diamond\n",
      "Card rank is K and color is  club\n",
      "Card rank is A and color is  redheart\n",
      "Card rank is A and color is  spades\n",
      "Card rank is A and color is  diamond\n",
      "Card rank is A and color is  club\n",
      "True\n"
     ]
    }
   ],
   "source": [
    "puke1 = PuKe()\n",
    "print(\"一副牌的张数为%d \" % len(puke1))\n",
    "print(\"牌分别为：\")\n",
    "    #循环，同样会调用__getitem__\n",
    "for card in puke1:\n",
    "    print(card)\n",
    " \n",
    "card5 = puke1[5]\n",
    "print(\"第5张牌的rank为%s,花色为：%s\" % (card5.rank, card5.color))\n",
    " \n",
    "cardA = puke1[(\"A\", \"spades\")]\n",
    "print(\"A牌的花色分别为:%s\" % cardA.color)\n",
    " \n",
    " \n",
    "print(\"随机选张牌\")\n",
    "from random import choice\n",
    " \n",
    "# 随机选择，同样会调用__getitem__\n",
    "card = choice(puke1)\n",
    "print(card)\n",
    " \n",
    "#会调用__setitem__方法\n",
    "puke1[(\"7\", \"spades\")] = (\"7\", \"gagagwer\")\n",
    "    #再次打印puke\n",
    "for card in puke1:\n",
    "     print(card)\n",
    "    #会调用__container__方法\n",
    "print((\"7\", \"gagagwer\") in puke1)"
   ]
  }
 ],
 "metadata": {
  "kernelspec": {
   "display_name": "Python 3",
   "language": "python",
   "name": "python3"
  },
  "language_info": {
   "codemirror_mode": {
    "name": "ipython",
    "version": 3
   },
   "file_extension": ".py",
   "mimetype": "text/x-python",
   "name": "python",
   "nbconvert_exporter": "python",
   "pygments_lexer": "ipython3",
   "version": "3.6.7"
  }
 },
 "nbformat": 4,
 "nbformat_minor": 2
}
